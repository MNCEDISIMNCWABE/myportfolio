{
 "cells": [
  {
   "cell_type": "markdown",
   "metadata": {},
   "source": [
    "## Using dynamic programming (DP) to maximize the number of passengers without overlapping trips.\n",
    "\n",
    "- Trips Representation: Each trip is stored as a tuple (Car, Start time, End time, Passengers).\n",
    "- Sorting: Trips are sorted based on their end times to facilitate finding the maximum number of passengers using a dynamic programming approach.\n",
    "- Dynamic Programming Array (dp): Keeps track of the maximum number of passengers achievable up to each trip.\n",
    "- Backtracking: The prev array helps reconstruct the path of selected trips to determine which cars were driven."
   ]
  },
  {
   "cell_type": "code",
   "execution_count": 2,
   "metadata": {},
   "outputs": [
    {
     "name": "stdout",
     "output_type": "stream",
     "text": [
      "The maximum number of passengers: 32\n",
      "The maximum commission possible: R320\n",
      "The cars driven to earn the maximum commission: B, C, D\n"
     ]
    }
   ],
   "source": [
    "from typing import List, Tuple\n",
    "\n",
    "# Defining the trip data as a list of tuples (Car, Start time, End time, Passengers)\n",
    "trips = [\n",
    "    (\"A\", 300, 1600, 21),\n",
    "    (\"B\", 100, 800, 10),\n",
    "    (\"C\", 900, 2100, 20),\n",
    "    (\"D\", 2200, 2400, 2),\n",
    "    (\"E\", 200, 400, 5),\n",
    "    (\"F\", 700, 1200, 7),\n",
    "    (\"G\", 1500, 1900, 10),\n",
    "    (\"H\", 1700, 2400, 10),\n",
    "    (\"I\", 500, 1000, 7),\n",
    "    (\"J\", 1100, 1400, 6),\n",
    "    (\"K\", 0, 600, 8),\n",
    "    (\"L\", 2000, 2300, 3),\n",
    "    (\"M\", 1300, 1800, 12)\n",
    "]\n",
    "\n",
    "# Function to find the last non-conflicting trip\n",
    "def find_last_non_conflicting(trips: List[Tuple[str, int, int, int]], index: int) -> int:\n",
    "    for j in range(index - 1, -1, -1):\n",
    "        if trips[j][2] <= trips[index][1]:\n",
    "            return j\n",
    "    return -1\n",
    "\n",
    "# Function to find the optimal schedule\n",
    "def optimal_schedule(trips: List[Tuple[str, int, int, int]]):\n",
    "    # Sort trips by end time\n",
    "    trips.sort(key=lambda x: x[2])\n",
    "    \n",
    "    # Initialize DP array to store the maximum passengers up to each trip\n",
    "    dp = [0] * len(trips)\n",
    "    prev = [-1] * len(trips)\n",
    "\n",
    "    dp[0] = trips[0][3]\n",
    "\n",
    "    for i in range(1, len(trips)):\n",
    "        max_passengers = trips[i][3]\n",
    "        last_non_conflict = find_last_non_conflicting(trips, i)\n",
    "\n",
    "        if last_non_conflict != -1:\n",
    "            max_passengers += dp[last_non_conflict]\n",
    "            prev[i] = last_non_conflict\n",
    "\n",
    "        dp[i] = max(dp[i - 1], max_passengers)\n",
    "\n",
    "    # Backtrack to find the selected trips\n",
    "    max_passengers = dp[-1]\n",
    "    commission = max_passengers * 10\n",
    "    selected_cars = []\n",
    "    \n",
    "    index = len(trips) - 1\n",
    "    while index >= 0:\n",
    "        if index == 0 or dp[index] != dp[index - 1]:\n",
    "            selected_cars.append(trips[index][0])\n",
    "            index = prev[index]\n",
    "        else:\n",
    "            index -= 1\n",
    "\n",
    "    selected_cars.reverse()\n",
    "    return max_passengers, commission, selected_cars\n",
    "\n",
    "# Calculate the optimal schedule\n",
    "max_passengers, max_commission, cars = optimal_schedule(trips)\n",
    "\n",
    "# Output the results\n",
    "print(f\"The maximum number of passengers: {max_passengers}\")\n",
    "print(f\"The maximum commission possible: R{max_commission}\")\n",
    "print(f\"The cars driven to earn the maximum commission {', '.join(cars)}\")"
   ]
  },
  {
   "cell_type": "code",
   "execution_count": null,
   "metadata": {},
   "outputs": [],
   "source": []
  },
  {
   "cell_type": "code",
   "execution_count": null,
   "metadata": {},
   "outputs": [],
   "source": []
  },
  {
   "cell_type": "code",
   "execution_count": null,
   "metadata": {},
   "outputs": [],
   "source": []
  },
  {
   "cell_type": "code",
   "execution_count": null,
   "metadata": {},
   "outputs": [],
   "source": []
  },
  {
   "cell_type": "code",
   "execution_count": null,
   "metadata": {},
   "outputs": [],
   "source": []
  },
  {
   "cell_type": "code",
   "execution_count": null,
   "metadata": {},
   "outputs": [],
   "source": []
  },
  {
   "cell_type": "code",
   "execution_count": null,
   "metadata": {},
   "outputs": [],
   "source": []
  }
 ],
 "metadata": {
  "kernelspec": {
   "display_name": "Python 3",
   "language": "python",
   "name": "python3"
  },
  "language_info": {
   "codemirror_mode": {
    "name": "ipython",
    "version": 3
   },
   "file_extension": ".py",
   "mimetype": "text/x-python",
   "name": "python",
   "nbconvert_exporter": "python",
   "pygments_lexer": "ipython3",
   "version": "3.11.6"
  }
 },
 "nbformat": 4,
 "nbformat_minor": 2
}
