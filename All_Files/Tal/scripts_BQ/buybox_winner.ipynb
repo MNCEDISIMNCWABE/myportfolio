{
 "cells": [
  {
   "cell_type": "code",
   "execution_count": null,
   "id": "3e070396",
   "metadata": {},
   "outputs": [],
   "source": [
    "SELECT\n",
    "       DISTINCT bb_winner.payload.data.product.product_line_id as PLID,\n",
    "       CASE \n",
    "         WHEN bb_winner.payload.data.product.market_place_listing = true THEN \"Marketplace\"\n",
    "         ELSE \"Retail\"\n",
    "      END AS buybox_winner,\n",
    "      bb_winner.payload.data.product.purchase_price as buybox_winner_price,\n",
    "      p.purchase_price AS Retail_Price,\n",
    "      #bb_winner.payload.data.product.sku_id,\n",
    "      #COUNT(distinct bb_winner.payload.data.product.market_place_listing) AS freq,\n",
    "      DATE(FORMAT_DATE(\"%Y-%m-%d\",DATETIME(bb_winner.timestamp,'Africa/Johannesburg'))) AS Date,\n",
    "      CASE \n",
    "         WHEN bb_winner.payload.data.product.in_stock=true THEN \"Instock\"\n",
    "         ELSE \"LeadTime\"\n",
    "      END AS Marketplace_Instock,\n",
    "      CASE \n",
    "          WHEN p.in_stock=true THEN \"Instock\"\n",
    "          ELSE \"LeadTime\"\n",
    "      END AS Retail_Instock,\n",
    "     bh.bh_division AS Division, bh.bh_reporting_department AS Department, bh.bh_level_1 AS Level1,bh.tsin_title , bh.brand_name AS BrandName\n",
    "  FROM `gcp-takealot.prod_user_tracking.impression_action` AS bb_winner,\n",
    "        `gcp-takealot.prod_user_tracking.impression_action` AS bb_rest,\n",
    "        UNNEST(bb_rest.payload.data.products) p\n",
    "        LEFT JOIN `tal-production-data-bi.tal_dm_product.business_hierarchy` bh\n",
    "             ON bb_winner.payload.data.product.product_line_id = bh.product_line_id\n",
    "  WHERE \n",
    "   -- 'product_details' contexts contain the buybox winner\n",
    "     (bb_winner.payload.event_timestamp) BETWEEN TIMESTAMP_ADD(CURRENT_TIMESTAMP(), INTERVAL -2 HOUR) AND CURRENT_TIMESTAMP() \n",
    "     AND (bb_winner.timestamp) BETWEEN TIMESTAMP_ADD(CURRENT_TIMESTAMP(), INTERVAL -2 HOUR) AND CURRENT_TIMESTAMP() \n",
    "     AND p.product_line_id = bb_winner.payload.data.product.product_line_id\n",
    "     AND (bb_rest.payload.event_timestamp) BETWEEN TIMESTAMP_ADD(CURRENT_TIMESTAMP(), INTERVAL -2 HOUR) AND CURRENT_TIMESTAMP()  \n",
    "     AND (bb_rest.timestamp) BETWEEN TIMESTAMP_ADD(CURRENT_TIMESTAMP(), INTERVAL -2 HOUR) AND CURRENT_TIMESTAMP() \n",
    "    AND bb_winner.payload.context = \"product_details\"\n",
    "    AND bb_rest.payload.context = \"product_details.offers.new\"\n",
    "    AND bb_winner.payload.data.product.market_place_listing IS NOT NULL\n",
    "    #AND bb_winner.payload.data.product.sku_id>0\n",
    "    AND bb_winner.payload.data.product.market_place_listing IN (true)\n",
    "    AND bb_winner.payload.data.product.market_place_listing <> p.market_place_listing\n",
    "    #AND bb_winner.payload.data.product.product_line_id IN (20588517,72175717,97965,4731,130633,28019783,50147364) \n",
    "   GROUP BY \n",
    "       buybox_winner,\n",
    "       Date,\n",
    "       bb_winner.payload.data.product.product_line_id,\n",
    "       Retail_Price,\n",
    "       bb_winner.payload.data.product.purchase_price,\n",
    "       bb_winner.payload.data.product.in_stock,\n",
    "       p.in_stock, bh.bh_division, bh.bh_reporting_department, bh.bh_level_1, bh.brand_name, bh.tsin_title\n"
   ]
  }
 ],
 "metadata": {
  "kernelspec": {
   "display_name": "Python 3 (ipykernel)",
   "language": "python",
   "name": "python3"
  },
  "language_info": {
   "codemirror_mode": {
    "name": "ipython",
    "version": 3
   },
   "file_extension": ".py",
   "mimetype": "text/x-python",
   "name": "python",
   "nbconvert_exporter": "python",
   "pygments_lexer": "ipython3",
   "version": "3.9.12"
  }
 },
 "nbformat": 4,
 "nbformat_minor": 5
}
