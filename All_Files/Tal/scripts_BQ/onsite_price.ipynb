{
 "cells": [
  {
   "cell_type": "code",
   "execution_count": null,
   "id": "c363821a",
   "metadata": {},
   "outputs": [],
   "source": [
    "SELECT\n",
    "       DISTINCT(bb_winner.payload.data.product.product_line_id) as idProductLine,\n",
    "       bh.tsin_id AS idTsin,\n",
    "       MAX(bb_winner.payload.data.product.purchase_price) as On_Site_Price,\n",
    "       MAX(DATETIME(bb_winner.payload.event_timestamp,'Africa/Johannesburg')) AS Time_stamp\n",
    "FROM `gcp-takealot.prod_user_tracking.impression_action` AS bb_winner\n",
    "INNER JOIN `tal-production-data-bi.tal_dm_product.business_hierarchy` bh\n",
    "          ON bh.product_line_id = bb_winner.payload.data.product.product_line_id\n",
    "  WHERE \n",
    "     DATE(bb_winner.payload.event_timestamp) = CURRENT_DATE()\n",
    "     AND DATE(bb_winner.timestamp) = CURRENT_DATE()\n",
    "     AND DATE(bb_winner.timestamp,'Africa/Johannesburg') = CURRENT_DATE()\n",
    "     AND bb_winner.payload.context = \"product_details\"\n",
    "     AND bb_winner.payload.data.product.market_place_listing IS NOT NULL\n",
    "     AND bb_winner.payload.data.product.product_line_id IS NOT NULL\n",
    "     AND bh.tsin_id IS NOT NULL\n",
    "     AND bh.is_unboxed = true\n",
    "     #AND bb_winner.payload.data.product.product_line_id IN (70477000)\n",
    "     #AND bh.tsin_id IN (41261257)\n",
    "   GROUP BY 1,2\n",
    "   #ORDER BY Time_stamp DESC"
   ]
  }
 ],
 "metadata": {
  "kernelspec": {
   "display_name": "Python 3 (ipykernel)",
   "language": "python",
   "name": "python3"
  },
  "language_info": {
   "codemirror_mode": {
    "name": "ipython",
    "version": 3
   },
   "file_extension": ".py",
   "mimetype": "text/x-python",
   "name": "python",
   "nbconvert_exporter": "python",
   "pygments_lexer": "ipython3",
   "version": "3.9.12"
  }
 },
 "nbformat": 4,
 "nbformat_minor": 5
}
