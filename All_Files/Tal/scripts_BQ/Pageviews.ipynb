{
 "cells": [
  {
   "cell_type": "code",
   "execution_count": null,
   "id": "e6c21357",
   "metadata": {},
   "outputs": [],
   "source": [
    "SELECT  bh.bh_division AS Division, bh_reporting_department AS Department, bh_level_1 AS Level1,\n",
    " CASE WHEN x.market_place=true THEN \"Marketplace\" ELSE \"Retail\" END AS SellerType, DATE(x.Day) AS Day, x.YearMonth,\n",
    "CASE\n",
    "   WHEN x.purchase_price >= 1 AND  x.purchase_price <=100 THEN \"1-100\"\n",
    "   WHEN  x.purchase_price >100 AND  x.purchase_price <=500 THEN \"100-500\"\n",
    "\n",
    "   WHEN  x.purchase_price >500 AND  x.purchase_price <=1000 THEN \"500-1000\"\n",
    "\n",
    "   WHEN  x.purchase_price >4500 AND  x.purchase_price <=5000 THEN \"1000-5000\"\n",
    "   WHEN  x.purchase_price >5000 AND  x.purchase_price <=10000 THEN \"5000-10000\"\n",
    "   ELSE \"10000+\"\n",
    "END AS Price_Band, \n",
    "case when in_stock =true THEN \"In_stock\" else \"Lead_Time\" end as in_stock_ind,\n",
    "sum(x.views) as views\n",
    "FROM\n",
    "(\n",
    "SELECT\n",
    "                FORMAT_DATE(\"%Y-%m-%d\",a.timestamp) AS Day,\n",
    "                FORMAT_DATE(\"%Y-%m\",a.timestamp) AS YearMonth,\n",
    "                a.payload.data.product.product_line_id AS idproductline,\n",
    "                a.payload.data.product.sku_id AS sku_id,\n",
    "                a.payload.data.product.in_stock AS in_stock,\n",
    "                a.payload.data.product.lead_time AS leadtime,\n",
    "                a.payload.data.product.market_place_listing AS market_place,\n",
    "                a.payload.data.product.purchase_price,\n",
    "                IF(a.payLOAD.context='product_details' AND a.payLOAD.action='impression',1,0) AS views\n",
    "            FROM `gcp-takealot.prod_user_tracking.impression_action` a\n",
    "            WHERE DATE(a.timestamp) > DATE_SUB(CURRENT_DATE(), INTERVAL 90 DAY)\n",
    "            AND ((a.payload.data.url IS NULL) OR (a.payload.data.url NOT LIKE '%crawler=prisync%'))\n",
    "            AND   a.payload.data.product.product_line_id IS NOT NULL\n",
    "            AND   a.payload.app_id <> 'com.takealot.iphone.dev'\n",
    "            AND   a.payload.device_info NOT LIKE 'Load_Test%'\n",
    "            #AND  a.payload.data.product.product_line_id in (3681)\n",
    "            ) x\n",
    "            LEFT JOIN (SELECT DISTINCT product_line_id,bh_reporting_department,bh_level_1,bh_division\n",
    "            FROM  `tal-production-data-bi.tal_dm_product.business_hierarchy`) bh ON bh.product_line_id = x.idproductline\n",
    "            WHERE YearMonth NOT IN (\"4038-07\",\"4038-08\")\n",
    "            AND bh.bh_division IS NOT NULL\n",
    "            GROUP BY 1,2,3,4,5,6,7,8\n",
    "            ORDER BY Day ASC"
   ]
  }
 ],
 "metadata": {
  "kernelspec": {
   "display_name": "Python 3 (ipykernel)",
   "language": "python",
   "name": "python3"
  },
  "language_info": {
   "codemirror_mode": {
    "name": "ipython",
    "version": 3
   },
   "file_extension": ".py",
   "mimetype": "text/x-python",
   "name": "python",
   "nbconvert_exporter": "python",
   "pygments_lexer": "ipython3",
   "version": "3.9.12"
  }
 },
 "nbformat": 4,
 "nbformat_minor": 5
}
