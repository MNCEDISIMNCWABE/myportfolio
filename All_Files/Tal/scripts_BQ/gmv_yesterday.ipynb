{
 "cells": [
  {
   "cell_type": "code",
   "execution_count": null,
   "id": "4decd458",
   "metadata": {},
   "outputs": [],
   "source": [
    "SELECT  FORMAT_DATE(\"%Y-%m-%d\",order_placed_timestamp) AS Date,\n",
    "        CASE \n",
    "           WHEN bh.is_marketplace=true THEN \"Marketplace\"\n",
    "          ELSE \"Retail\"\n",
    "        END AS SellerType,\n",
    "      ROUND(SUM(order_item_sales),2) AS GMV\n",
    "    FROM `tal-production-data-bi.tal_dm_order.orders_2020_2030` o,\n",
    "    UNNEST(o.order_items) oi\n",
    "    INNER JOIN `tal-production-data-bi.tal_dm_product.business_hierarchy` bh\n",
    "               ON bh.product_id = oi.product_id\n",
    "    WHERE   \n",
    "        DATE(order_placed_timestamp) = DATE_ADD(CURRENT_DATE(), INTERVAL -1 DAY) \n",
    "        AND oi.is_authed_not_return_cancel IS TRUE \n",
    "        AND oi.order_item_status NOT IN ('Return Canceled','Canceled')\n",
    "        #AND oi.order_item_status LIKE 'Shipped'\n",
    "        AND order_authorisation_status IN ('Auth')\n",
    "        AND is_returned = false\n",
    "        AND is_cancelled = false\n",
    "        AND is_voucher = false\n",
    "        AND is_test_customer = false\n",
    "GROUP BY SellerType, Date "
   ]
  }
 ],
 "metadata": {
  "kernelspec": {
   "display_name": "Python 3 (ipykernel)",
   "language": "python",
   "name": "python3"
  },
  "language_info": {
   "codemirror_mode": {
    "name": "ipython",
    "version": 3
   },
   "file_extension": ".py",
   "mimetype": "text/x-python",
   "name": "python",
   "nbconvert_exporter": "python",
   "pygments_lexer": "ipython3",
   "version": "3.9.12"
  }
 },
 "nbformat": 4,
 "nbformat_minor": 5
}
