{
 "cells": [
  {
   "cell_type": "code",
   "execution_count": null,
   "id": "376af0df",
   "metadata": {},
   "outputs": [],
   "source": [
    "WITH bb_rest as (\n",
    "  SELECT product_line_id,market_place_listing,purchase_price,in_stock from `gcp-takealot.prod_user_tracking.impression_action` as bb_rest,\n",
    "  UNNEST(bb_rest.payload.data.products) p\n",
    "  WHERE \n",
    "     (bb_rest.payload.event_timestamp) BETWEEN TIMESTAMP_ADD(CURRENT_TIMESTAMP(), INTERVAL -2 hour) AND CURRENT_TIMESTAMP()\n",
    "     AND (bb_rest.timestamp) BETWEEN TIMESTAMP_ADD(CURRENT_TIMESTAMP(), INTERVAL -2 hour) AND CURRENT_TIMESTAMP()\n",
    "     AND payload.context = \"product_details.offers.new\"\n",
    ")\n",
    "\n",
    "SELECT\n",
    "       DISTINCT bb_winner.payload.data.product.product_line_id as PLID,\n",
    "       CASE\n",
    "         WHEN bb_winner.payload.data.product.market_place_listing = true THEN \"Marketplace\"\n",
    "         ELSE \"Retail\"\n",
    "      END AS buybox_winner,\n",
    "      bb_winner.payload.data.product.purchase_price as buybox_winner_price,\n",
    "      bb_rest.purchase_price AS Retail_Price,\n",
    "      DATE(FORMAT_DATE(\"%Y-%m-%d\",DATETIME(bb_winner.timestamp,'Africa/Johannesburg'))) AS Date,\n",
    "      CASE\n",
    "         WHEN bb_winner.payload.data.product.in_stock=true THEN \"Instock\"\n",
    "         ELSE \"LeadTime\"\n",
    "      END AS Marketplace_Instock,\n",
    "      CASE\n",
    "          WHEN bb_rest.in_stock=true THEN \"Instock\"\n",
    "          ELSE \"LeadTime\"\n",
    "      END AS Retail_Instock,\n",
    "    bh.bh_division AS Division, bh.bh_reporting_department AS Department, bh.bh_level_1 AS Level1,bh.tsin_title , bh.brand_name AS BrandName\n",
    "  FROM `gcp-takealot.prod_user_tracking.impression_action` AS bb_winner\n",
    "        LEFT JOIN `tal-production-data-bi.tal_dm_product.business_hierarchy` bh\n",
    "        ON bb_winner.payload.data.product.product_line_id = bh.product_line_id\n",
    "        JOIN bb_rest ON bb_rest.product_line_id = bh.product_line_id\n",
    "  WHERE\n",
    "     (bb_winner.payload.event_timestamp) BETWEEN TIMESTAMP_ADD(CURRENT_TIMESTAMP(), INTERVAL -2 hour) AND CURRENT_TIMESTAMP()\n",
    "     AND (bb_winner.timestamp) BETWEEN TIMESTAMP_ADD(CURRENT_TIMESTAMP(), INTERVAL -2 hour) AND CURRENT_TIMESTAMP()\n",
    "     \n",
    "    AND bb_rest.product_line_id = bb_winner.payload.data.product.product_line_id\n",
    "    AND bb_winner.payload.context = \"product_details\"\n",
    "    AND bb_winner.payload.data.product.market_place_listing IS NOT NULL\n",
    "    AND bb_winner.payload.data.product.sku_id>0\n",
    "    AND bb_winner.payload.data.product.market_place_listing IN (true)\n",
    "    AND bb_winner.payload.data.product.market_place_listing <> bb_rest.market_place_listing"
   ]
  }
 ],
 "metadata": {
  "kernelspec": {
   "display_name": "Python 3 (ipykernel)",
   "language": "python",
   "name": "python3"
  },
  "language_info": {
   "codemirror_mode": {
    "name": "ipython",
    "version": 3
   },
   "file_extension": ".py",
   "mimetype": "text/x-python",
   "name": "python",
   "nbconvert_exporter": "python",
   "pygments_lexer": "ipython3",
   "version": "3.9.12"
  }
 },
 "nbformat": 4,
 "nbformat_minor": 5
}
