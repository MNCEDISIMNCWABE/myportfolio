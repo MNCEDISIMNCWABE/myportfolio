{
 "cells": [
  {
   "cell_type": "code",
   "execution_count": null,
   "id": "0814f357",
   "metadata": {},
   "outputs": [],
   "source": [
    "SELECT *,\n",
    "CASE WHEN customer_seq > 1 THEN 'Repeat Customer'\n",
    "ELSE 'New Customer'\n",
    "END AS RepeatPurchase\n",
    "FROM (\n",
    "    SELECT  *,\n",
    "    RANK() OVER (PARTITION BY customer_id ORDER BY x.Auth_Date) AS customer_seq\n",
    "    FROM\n",
    "(\n",
    "SELECT  \n",
    "       DISTINCT customer_id,\n",
    "       DATE(o.order_authed_timestamp) AS Auth_Date,\n",
    "        o.order_id,\n",
    "        oi.order_item_sales AS SalesEx,\n",
    "        oi.order_item_quantity AS Units\n",
    "    FROM `tal-production-data-bi.tal_dm_order.orders_2010_2020` o,\n",
    "        UNNEST(o.order_items) oi\n",
    "    WHERE   \n",
    "        DATE(o.order_placed_timestamp) >= \"2019-04-01\" AND DATE(o.order_placed_timestamp) < \"2020-01-01\" \n",
    "        AND DATE(o.order_authed_timestamp) >= \"2019-04-01\" AND DATE(o.order_authed_timestamp) < \"2020-01-01\" \n",
    "        AND o.order_authorisation_status IN ('Auth')\n",
    "        AND o.is_not_return_cancel_in_full IS TRUE\n",
    "        AND o.voucher_sales_percent =0\n",
    "        AND is_test_customer = false\n",
    "        AND o.order_authed_timestamp IS NOT NULL\n",
    "\n",
    "UNION ALL\n",
    "\n",
    "SELECT \n",
    "        DISTINCT customer_id,\n",
    "        DATE(o.order_authed_timestamp) AS Auth_Date,\n",
    "        o.order_id,\n",
    "        oi.order_item_sales AS SalesEx,\n",
    "        oi.order_item_quantity AS Units\n",
    "    FROM `tal-production-data-bi.tal_dm_order.orders_2020_2030` o,\n",
    "        UNNEST(o.order_items) oi\n",
    "    WHERE   \n",
    "        DATE(o.order_placed_timestamp) >= \"2020-01-01\" AND DATE(o.order_placed_timestamp) < \"2022-05-01\" \n",
    "        AND DATE(o.order_authed_timestamp) >= \"2020-01-01\" AND DATE(o.order_authed_timestamp) < \"2022-05-01\" \n",
    "        AND o.order_authorisation_status IN ('Auth')\n",
    "        AND o.is_not_return_cancel_in_full IS TRUE\n",
    "        AND o.voucher_sales_percent =0\n",
    "        AND is_test_customer = false\n",
    "        AND o.order_authed_timestamp IS NOT NULL) x)"
   ]
  }
 ],
 "metadata": {
  "kernelspec": {
   "display_name": "Python 3 (ipykernel)",
   "language": "python",
   "name": "python3"
  },
  "language_info": {
   "codemirror_mode": {
    "name": "ipython",
    "version": 3
   },
   "file_extension": ".py",
   "mimetype": "text/x-python",
   "name": "python",
   "nbconvert_exporter": "python",
   "pygments_lexer": "ipython3",
   "version": "3.9.12"
  }
 },
 "nbformat": 4,
 "nbformat_minor": 5
}
