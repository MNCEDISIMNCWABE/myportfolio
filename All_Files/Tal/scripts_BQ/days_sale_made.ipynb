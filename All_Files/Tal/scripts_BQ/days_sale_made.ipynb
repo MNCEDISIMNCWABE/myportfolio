{
 "cells": [
  {
   "cell_type": "code",
   "execution_count": null,
   "id": "e99c3998",
   "metadata": {},
   "outputs": [],
   "source": [
    "SELECT distinct oi.product_id AS idProduct, \n",
    "SUM(oi.order_item_quantity) AS Qty,\n",
    "COUNT(distinct DATE(order_authed_timestamp)) AS Days_Sale_Made\n",
    "FROM `tal-production-data-bi.tal_dm_order.orders_2020_2030` od,\n",
    "UNNEST(od.order_items) oi\n",
    "WHERE   DATE(order_authed_timestamp) >= \"2022-02-13\" AND  DATE(order_authed_timestamp) < \"2022-03-13\" \n",
    "        AND DATE(order_placed_timestamp) >= \"2022-02-13\" AND DATE(order_placed_timestamp) < \"2022-03-13\"\n",
    "        AND oi.order_item_status NOT IN ('Return Canceled','Canceled')\n",
    "        AND oi.order_item_status LIKE 'Shipped'\n",
    "        AND order_authorisation_status IN ('Auth')\n",
    "        AND is_returned = false\n",
    "        AND is_cancelled = false\n",
    "        AND is_voucher = false\n",
    "        AND is_test_customer = false\n",
    "        AND oi.sold_price IS NOT NULL\n",
    "        #AND oi.product_id=68083412\n",
    "GROUP BY idProduct\n",
    "ORDER BY idProduct DESC"
   ]
  }
 ],
 "metadata": {
  "kernelspec": {
   "display_name": "Python 3 (ipykernel)",
   "language": "python",
   "name": "python3"
  },
  "language_info": {
   "codemirror_mode": {
    "name": "ipython",
    "version": 3
   },
   "file_extension": ".py",
   "mimetype": "text/x-python",
   "name": "python",
   "nbconvert_exporter": "python",
   "pygments_lexer": "ipython3",
   "version": "3.9.12"
  }
 },
 "nbformat": 4,
 "nbformat_minor": 5
}
