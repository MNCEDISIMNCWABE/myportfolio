{
 "cells": [
  {
   "cell_type": "code",
   "execution_count": null,
   "id": "71c128cb",
   "metadata": {},
   "outputs": [],
   "source": [
    "SELECT  \n",
    "ROUND(SUM(oi.order_item_sales),2) AS ACTUAL, \n",
    "FORMAT_DATE(\"%Y-%m-%d\",order_placed_timestamp) AS Date\n",
    "FROM `tal-production-data-bi.tal_dm_order.orders_2020_2030` od,\n",
    "UNNEST(od.order_items) oi\n",
    "WHERE   DATE(order_authed_timestamp) >= \"2020-01-01\" AND  DATE(order_placed_timestamp) < \"2022-03-14\" \n",
    "        AND DATE(order_placed_timestamp) >= \"2020-01-01\" AND DATE(order_placed_timestamp) < \"2022-03-14\"\n",
    "        AND oi.is_authed_not_return_cancel IS TRUE \n",
    "        AND oi.order_item_status NOT IN ('Return Canceled','Canceled')\n",
    "        AND oi.order_item_status LIKE 'Shipped'\n",
    "        AND order_authorisation_status IN ('Auth')\n",
    "        AND is_returned = false\n",
    "        AND is_cancelled = false\n",
    "        AND is_voucher = false\n",
    "        AND is_test_customer = false\n",
    "        AND oi.sold_price IS NOT NULL\n",
    "GROUP BY Date\n",
    "UNION ALL \n",
    "SELECT  \n",
    "ROUND(SUM(oi.order_item_sales),2) AS ACTUAL, \n",
    "FORMAT_DATE(\"%Y-%m-%d\",order_placed_timestamp) AS Date\n",
    "FROM `tal-production-data-bi.tal_dm_order.orders_2010_2020` od,\n",
    "UNNEST(od.order_items) oi\n",
    "WHERE   DATE(order_authed_timestamp) >= \"2018-01-01\" AND  DATE(order_authed_timestamp) < \"2020-01-01\" \n",
    "        AND DATE(order_placed_timestamp) >= \"2018-01-01\" AND DATE(order_placed_timestamp) < \"2020-01-01\"\n",
    "        AND oi.is_authed_not_return_cancel IS TRUE \n",
    "        AND oi.order_item_status NOT IN ('Return Canceled','Canceled')\n",
    "        AND oi.order_item_status LIKE 'Shipped'\n",
    "        AND order_authorisation_status IN ('Auth')\n",
    "        AND is_returned = false\n",
    "        AND is_cancelled = false\n",
    "        AND is_voucher = false\n",
    "        AND is_test_customer = false\n",
    "        AND oi.sold_price IS NOT NULL\n",
    "GROUP BY Date\n"
   ]
  }
 ],
 "metadata": {
  "kernelspec": {
   "display_name": "Python 3 (ipykernel)",
   "language": "python",
   "name": "python3"
  },
  "language_info": {
   "codemirror_mode": {
    "name": "ipython",
    "version": 3
   },
   "file_extension": ".py",
   "mimetype": "text/x-python",
   "name": "python",
   "nbconvert_exporter": "python",
   "pygments_lexer": "ipython3",
   "version": "3.9.12"
  }
 },
 "nbformat": 4,
 "nbformat_minor": 5
}
