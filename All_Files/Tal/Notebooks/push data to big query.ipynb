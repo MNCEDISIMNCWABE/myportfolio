{
 "cells": [
  {
   "cell_type": "code",
   "execution_count": 3,
   "id": "c0299d9f",
   "metadata": {},
   "outputs": [],
   "source": [
    "#Imports\n",
    "import numpy as np\n",
    "import pandas as pd\n",
    "import matplotlib.pyplot as plt\n",
    "from matplotlib.ticker import PercentFormatter\n",
    "import seaborn as sns\n",
    "import datetime as dt\n",
    "import time\n",
    "from datetime import date, timedelta\n",
    "from sklearn.preprocessing import StandardScaler\n",
    "from tqdm import tqdm\n",
    "from scipy.stats import poisson\n",
    "import scipy.stats as stats\n",
    "%matplotlib inline\n",
    "\n",
    "from google.oauth2.service_account import Credentials\n",
    "import google_auth_httplib2\n",
    "import pygsheets\n",
    "import df2gspread as d2g\n",
    "import googleapiclient\n",
    "from googleapiclient  import discovery\n",
    "from httplib2 import Http\n",
    "from oauth2client import file, client, tools\n",
    "from gspread_formatting.dataframe import format_with_dataframe, BasicFormatter\n",
    "from gspread_formatting import Color\n",
    "import logging\n",
    "\n",
    "from oauth2client.service_account import ServiceAccountCredentials\n",
    "from google.oauth2 import service_account\n",
    "import gslides\n",
    "from gslides import (Frame,Presentation,Spreadsheet,Table,Series,Chart)\n",
    "\n",
    "logging.basicConfig(format='%(asctime)s : %(levelname)s : %(message)s', level=logging.ERROR)\n",
    "import warnings\n",
    "warnings.filterwarnings(\"ignore\",category=DeprecationWarning)\n",
    "warnings.simplefilter(action='ignore', category=FutureWarning)\n",
    "warnings.filterwarnings(\"ignore\")\n",
    "\n",
    "import sqlalchemy as db\n",
    "from sqlalchemy import create_engine\n",
    "import mysql.connector\n",
    "import psycopg2"
   ]
  },
  {
   "cell_type": "code",
   "execution_count": 4,
   "id": "bb1a0c9c",
   "metadata": {},
   "outputs": [],
   "source": [
    "# GBQ logging\n",
    "import logging\n",
    "logger = logging.getLogger('pandas_gbq')\n",
    "logger.setLevel(logging.DEBUG)\n",
    "logger.addHandler(logging.StreamHandler())"
   ]
  },
  {
   "cell_type": "code",
   "execution_count": 8,
   "id": "b045d6ed",
   "metadata": {},
   "outputs": [],
   "source": [
    "# GBQ service account connection\n",
    "credentials=Credentials.from_service_account_file('C:/Users/mncedisi.mncwabe/Documents/Connect to BQ/tal-production-data-4390ad039b75.json')"
   ]
  },
  {
   "cell_type": "code",
   "execution_count": 6,
   "id": "0319e68e",
   "metadata": {},
   "outputs": [],
   "source": [
    "# GBQ service account connection\n",
    "cre_marketing=Credentials.from_service_account_file('C:/Users/mncedisi.mncwabe/Downloads/tal-production-marketing-e93d689c8a94.json')"
   ]
  },
  {
   "cell_type": "code",
   "execution_count": 9,
   "id": "bcd1fbb4",
   "metadata": {},
   "outputs": [
    {
     "name": "stderr",
     "output_type": "stream",
     "text": [
      "Requesting query... \n",
      "Requesting query... \n",
      "2022-06-17 12:18:03,466 : DEBUG : Requesting query... \n",
      "Query running...\n",
      "Query running...\n",
      "2022-06-17 12:18:07,762 : DEBUG : Query running...\n",
      "Job ID: 12bb69e4-020c-4044-94fd-db1633af2fbe\n",
      "Job ID: 12bb69e4-020c-4044-94fd-db1633af2fbe\n",
      "2022-06-17 12:18:07,776 : DEBUG : Job ID: 12bb69e4-020c-4044-94fd-db1633af2fbe\n",
      "  Elapsed 14.63 s. Waiting...\n",
      "  Elapsed 14.63 s. Waiting...\n",
      "2022-06-17 12:18:18,097 : INFO :   Elapsed 14.63 s. Waiting...\n",
      "  Elapsed 25.22 s. Waiting...\n",
      "  Elapsed 25.22 s. Waiting...\n",
      "2022-06-17 12:18:28,689 : INFO :   Elapsed 25.22 s. Waiting...\n",
      "  Elapsed 35.33 s. Waiting...\n",
      "  Elapsed 35.33 s. Waiting...\n",
      "2022-06-17 12:18:38,792 : INFO :   Elapsed 35.33 s. Waiting...\n",
      "  Elapsed 45.45 s. Waiting...\n",
      "  Elapsed 45.45 s. Waiting...\n",
      "2022-06-17 12:18:48,919 : INFO :   Elapsed 45.45 s. Waiting...\n",
      "Query done.\n",
      "Processed: 7.2 GB Billed: 7.2 GB\n",
      "Query done.\n",
      "Processed: 7.2 GB Billed: 7.2 GB\n",
      "2022-06-17 12:18:57,353 : DEBUG : Query done.\n",
      "Processed: 7.2 GB Billed: 7.2 GB\n",
      "Standard price: $0.04 USD\n",
      "\n",
      "Standard price: $0.04 USD\n",
      "\n",
      "2022-06-17 12:18:57,353 : DEBUG : Standard price: $0.04 USD\n",
      "\n"
     ]
    },
    {
     "data": {
      "application/vnd.jupyter.widget-view+json": {
       "model_id": "292436ced0294d12a79afc974db1faab",
       "version_major": 2,
       "version_minor": 0
      },
      "text/plain": [
       "Downloading:   0%|          | 0/57413470 [00:00<?, ?rows/s]"
      ]
     },
     "metadata": {},
     "output_type": "display_data"
    },
    {
     "name": "stderr",
     "output_type": "stream",
     "text": [
      "Got 57413470 rows.\n",
      "\n",
      "Got 57413470 rows.\n",
      "\n",
      "2022-06-17 14:28:17,428 : DEBUG : Got 57413470 rows.\n",
      "\n",
      "Total time taken 7813.96 s.\n",
      "Finished at 2022-06-17 14:28:17.\n",
      "Total time taken 7813.96 s.\n",
      "Finished at 2022-06-17 14:28:17.\n",
      "2022-06-17 14:28:17,428 : INFO : Total time taken 7813.96 s.\n",
      "Finished at 2022-06-17 14:28:17.\n"
     ]
    },
    {
     "name": "stdout",
     "output_type": "stream",
     "text": [
      "--- 7814.431211948395 seconds ---\n"
     ]
    }
   ],
   "source": [
    "start_time = time.time()\n",
    "\n",
    "query_no_lvl1 = '''\n",
    "\n",
    "SELECT customer_id, FY, Auth_Date,Division, Department, Level1, Customer_seq,\n",
    "DATE_DIFF(Auth_Date,Lag,DAY) AS Diff, RepeatPurchase\n",
    "FROM (\n",
    "SELECT customer_id, FY, Auth_Date,Division, Department, Level1, Customer_seq,\n",
    " LAG(Auth_Date) OVER (PARTITION BY customer_id ORDER BY  Auth_Date) AS Lag,\n",
    "CASE WHEN customer_seq > 1 THEN 'Repeat Customer'\n",
    "ELSE 'New Customer'\n",
    "END AS RepeatPurchase\n",
    "FROM (\n",
    "    SELECT  *,\n",
    "         CASE WHEN DATE(x.Auth_Date) >= '2019-04-01' AND DATE(x.Auth_Date) < '2020-04-01' THEN \"FY20\"\n",
    "              WHEN DATE(x.Auth_Date) >= '2020-04-01' AND DATE(x.Auth_Date) < '2021-04-01' THEN \"FY21\"\n",
    "              WHEN DATE(x.Auth_Date) >= '2021-04-01' AND DATE(x.Auth_Date) < '2022-04-01' THEN \"FY22\"\n",
    "      END AS FY,\n",
    "    RANK() OVER (PARTITION BY customer_id ORDER BY x.Auth_Date) AS customer_seq\n",
    "    FROM\n",
    "(\n",
    "SELECT  \n",
    "       DISTINCT customer_id,\n",
    "        bh.bh_division AS Division, \n",
    "        bh.bh_reporting_department AS Department,\n",
    "        bh.bh_level_1 AS Level1,\n",
    "       DATE(o.order_authed_timestamp) AS Auth_Date,\n",
    "        o.order_id,\n",
    "        oi.order_item_sales AS SalesEx,\n",
    "        oi.order_item_quantity AS Units\n",
    "    FROM `tal-production-data-bi.tal_dm_order.orders_2010_2020` o,\n",
    "        UNNEST(o.order_items) oi\n",
    "    INNER JOIN `tal-production-data-bi.tal_dm_product.business_hierarchy` bh\n",
    "        ON bh.product_id = oi.product_id\n",
    "    WHERE   \n",
    "        DATE(o.order_placed_timestamp) >= \"2019-04-01\" AND DATE(o.order_placed_timestamp) < \"2020-01-01\" \n",
    "        AND DATE(o.order_authed_timestamp) >= \"2019-04-01\" AND DATE(o.order_authed_timestamp) < \"2020-01-01\" \n",
    "        AND o.order_authorisation_status IN ('Auth')\n",
    "        AND o.is_not_return_cancel_in_full IS TRUE\n",
    "        #AND o.voucher_sales_percent =0\n",
    "        AND is_test_customer = false\n",
    "        AND o.order_authed_timestamp IS NOT NULL\n",
    "\n",
    "UNION ALL\n",
    "\n",
    "SELECT \n",
    "        DISTINCT customer_id,\n",
    "        bh.bh_division AS Division, \n",
    "        bh.bh_reporting_department AS Department,\n",
    "        bh.bh_level_1 AS Level1,\n",
    "        DATE(o.order_authed_timestamp) AS Auth_Date,\n",
    "        o.order_id,\n",
    "        oi.order_item_sales AS SalesEx,\n",
    "        oi.order_item_quantity AS Units\n",
    "    FROM `tal-production-data-bi.tal_dm_order.orders_2020_2030` o,\n",
    "        UNNEST(o.order_items) oi\n",
    "    INNER JOIN `tal-production-data-bi.tal_dm_product.business_hierarchy` bh\n",
    "        ON bh.product_id = oi.product_id\n",
    "    WHERE   \n",
    "        DATE(o.order_placed_timestamp) >= \"2020-01-01\" AND DATE(o.order_placed_timestamp) < \"2022-06-01\" \n",
    "        AND DATE(o.order_authed_timestamp) >= \"2020-01-01\" AND DATE(o.order_authed_timestamp) < \"2022-06-01\" \n",
    "        AND o.order_authorisation_status IN ('Auth')\n",
    "        AND o.is_not_return_cancel_in_full IS TRUE\n",
    "        #AND o.voucher_sales_percent =0\n",
    "        AND is_test_customer = false\n",
    "        AND o.order_authed_timestamp IS NOT NULL) x)\n",
    "WHERE FY IS NOT NULL \n",
    "  #AND customer_id IN (8)\n",
    "GROUP BY 1,2,3,4,5,6,7)\n",
    "'''\n",
    "df_no_lvl1 = pd.read_gbq(query_no_lvl1, project_id='gcp-takealot', dialect='standard', credentials=credentials,progress_bar_type='tqdm_notebook')\n",
    "\n",
    "print(\"--- %s seconds ---\" % (time.time() - start_time))"
   ]
  },
  {
   "cell_type": "code",
   "execution_count": 10,
   "id": "be9b82e4",
   "metadata": {},
   "outputs": [
    {
     "name": "stderr",
     "output_type": "stream",
     "text": [
      "57413470 out of 57413470 rows loaded.\n",
      "57413470 out of 57413470 rows loaded.\n",
      "57413470 out of 57413470 rows loaded.\n",
      "100%|██████████| 1/1 [00:00<?, ?it/s]"
     ]
    },
    {
     "name": "stdout",
     "output_type": "stream",
     "text": [
      "--- 964.6557521820068 seconds ---\n"
     ]
    },
    {
     "name": "stderr",
     "output_type": "stream",
     "text": [
      "\n"
     ]
    }
   ],
   "source": [
    "#df_no_lvl1_binned\n",
    "start_time = time.time()\n",
    "\n",
    "df_no_lvl1.to_gbq(destination_table='tal-production-marketing.rfmd_data.cust_journey_raw',\n",
    "               project_id='tal-bq-job-default',\n",
    "               credentials=cre_marketing,\n",
    "               chunksize=100000,\n",
    "               progress_bar=True,\n",
    "               if_exists='replace')\n",
    "\n",
    "print(\"--- %s seconds ---\" % (time.time() - start_time))"
   ]
  },
  {
   "cell_type": "code",
   "execution_count": null,
   "id": "198c34db",
   "metadata": {},
   "outputs": [],
   "source": []
  }
 ],
 "metadata": {
  "kernelspec": {
   "display_name": "Python 3 (ipykernel)",
   "language": "python",
   "name": "python3"
  },
  "language_info": {
   "codemirror_mode": {
    "name": "ipython",
    "version": 3
   },
   "file_extension": ".py",
   "mimetype": "text/x-python",
   "name": "python",
   "nbconvert_exporter": "python",
   "pygments_lexer": "ipython3",
   "version": "3.9.12"
  }
 },
 "nbformat": 4,
 "nbformat_minor": 5
}
