{
 "cells": [
  {
   "cell_type": "code",
   "execution_count": 1,
   "id": "55a1671c",
   "metadata": {},
   "outputs": [],
   "source": [
    "import pandas as pd\n",
    "import numpy as np\n",
    "from numpy import nan\n",
    "import datetime\n",
    "import requests\n",
    "from IPython.display import JSON\n",
    "import json\n",
    "from pyowm import OWM\n",
    "from pyowm.utils import config\n",
    "from pyowm.utils import timestamps\n",
    "import sqlalchemy\n",
    "import pytz"
   ]
  },
  {
   "cell_type": "code",
   "execution_count": 2,
   "id": "dc9d70b6",
   "metadata": {},
   "outputs": [],
   "source": [
    "OWM_key = \"1b38d77f1df3e06fc0408e34db8ebee7\"\n",
    "city = \"Cape Town\"\n",
    "country = \"ZA\"\n",
    "forecast_intervals = '3h'\n",
    "owm = OWM(OWM_key)\n",
    "mgr = owm.weather_manager()"
   ]
  },
  {
   "cell_type": "code",
   "execution_count": 3,
   "id": "1dab2da8",
   "metadata": {},
   "outputs": [],
   "source": [
    "forecast = mgr.forecast_at_place(city + ',' + country, forecast_intervals)\n",
    "\n",
    "def forecast_extraction(forecast_object): \n",
    "    \"\"\"\n",
    "    Given a forecast object from Open weathor Pyhton API, \n",
    "    return a structured dataframe. \n",
    "\n",
    "    :param: forecast object\n",
    "    :returns: a dataframe with specific weather information\n",
    "    \"\"\"\n",
    "    forecast_df = pd.json_normalize({\n",
    "        'time' : forecast_object.reference_time(timeformat='date'), \n",
    "        'temperature' : forecast_object.temperature(unit='celsius'), \n",
    "        'precipitation_probabily' : forecast_object.precipitation_probability, \n",
    "        'rain' : forecast_object.rain, \n",
    "        'humidity' : forecast_object.humidity, \n",
    "        'status' : forecast_object.status, \n",
    "        'snow' : [nan if forecast_object.snow is None else forecast_object.snow], \n",
    "        'wind' : forecast_object.wind('km_hour')\n",
    "    })\n",
    "\n",
    "    return(forecast_df)\n",
    "\n",
    "weather_forecast = pd.concat([forecast_extraction(weather) for weather in forecast.forecast.weathers])"
   ]
  },
  {
   "cell_type": "code",
   "execution_count": 4,
   "id": "7a24622a",
   "metadata": {},
   "outputs": [],
   "source": [
    "def extract_fields(df):\n",
    "    \"\"\"\n",
    "    Extract specific fields from the weather_forecast DataFrame.\n",
    "    \n",
    "    :param df: Input DataFrame containing weather forecast data.\n",
    "    :return: DataFrame with selected fields.\n",
    "    \"\"\"\n",
    "    selected_fields = df[['time', 'precipitation_probabily', 'humidity', 'status',\n",
    "                          'temperature.temp', 'temperature.temp_min', 'temperature.temp_max',\n",
    "                          'wind.speed', 'rain.3h']]\n",
    "    return selected_fields\n",
    "\n",
    "weather_forecast = extract_fields(weather_forecast)"
   ]
  },
  {
   "cell_type": "code",
   "execution_count": 5,
   "id": "8201e274",
   "metadata": {},
   "outputs": [],
   "source": [
    "def convert_to_sast(df):\n",
    "    \"\"\"\n",
    "    Convert the datetime column from UTC to SAST (South Africa Standard Time).\n",
    "    \n",
    "    :param df: DataFrame with a datetime column in UTC.\n",
    "    :return: DataFrame with the datetime column converted to SAST.\n",
    "    \"\"\"\n",
    "    # Define the SAST time zone\n",
    "    sast_timezone = pytz.timezone('Africa/Johannesburg') \n",
    "    \n",
    "    # Convert the datetime column to SAST\n",
    "    df['time'] = df['time'].dt.tz_convert(sast_timezone)\n",
    "    \n",
    "    return df\n",
    "\n",
    "# Convert the datetime column to SAST\n",
    "weather_forecast = convert_to_sast(weather_forecast)"
   ]
  },
  {
   "cell_type": "code",
   "execution_count": 6,
   "id": "2899dbf5",
   "metadata": {},
   "outputs": [],
   "source": [
    "def rename_columns(df):\n",
    "    \"\"\"\n",
    "    Rename columns in the DataFrame to desired names.\n",
    "    \n",
    "    :param df: Input DataFrame with selected fields.\n",
    "    :return: DataFrame with renamed columns.\n",
    "    \"\"\"\n",
    "    renamed_df = df.rename(columns={\n",
    "        'time': 'date',\n",
    "        'temperature.temp': 'temperature',\n",
    "        'temperature.temp_min': 'min_temp',\n",
    "        'temperature.temp_max': 'max_temp',\n",
    "        'wind.speed': 'wind_speed',\n",
    "        'rain.3h': 'rain_3h'\n",
    "    })\n",
    "    return renamed_df\n",
    "\n",
    "weather_forecast = rename_columns(weather_forecast)"
   ]
  },
  {
   "cell_type": "markdown",
   "id": "912f9a3f",
   "metadata": {},
   "source": [
    "### Ingest the data to MySQL"
   ]
  },
  {
   "cell_type": "code",
   "execution_count": 7,
   "id": "4adf379a",
   "metadata": {},
   "outputs": [],
   "source": [
    "# connection details for the local MySQL database\n",
    "schema = \"weather\"\n",
    "host = \"127.0.0.1\"\n",
    "user = \"root\"\n",
    "password = \"Li7329160_\"\n",
    "port = 3306\n",
    "con = f'mysql+pymysql://{user}:{password}@{host}:{port}/{schema}'"
   ]
  },
  {
   "cell_type": "code",
   "execution_count": 8,
   "id": "7269c210",
   "metadata": {},
   "outputs": [
    {
     "data": {
      "text/plain": [
       "40"
      ]
     },
     "execution_count": 8,
     "metadata": {},
     "output_type": "execute_result"
    }
   ],
   "source": [
    "# send the weather data to the MySQL database\n",
    "weather_forecast.to_sql('weather_data', if_exists = 'append', con = con, index=False)"
   ]
  },
  {
   "cell_type": "code",
   "execution_count": null,
   "id": "d36addf5",
   "metadata": {},
   "outputs": [],
   "source": []
  }
 ],
 "metadata": {
  "kernelspec": {
   "display_name": "Python 3 (ipykernel)",
   "language": "python",
   "name": "python3"
  },
  "language_info": {
   "codemirror_mode": {
    "name": "ipython",
    "version": 3
   },
   "file_extension": ".py",
   "mimetype": "text/x-python",
   "name": "python",
   "nbconvert_exporter": "python",
   "pygments_lexer": "ipython3",
   "version": "3.10.9"
  }
 },
 "nbformat": 4,
 "nbformat_minor": 5
}
