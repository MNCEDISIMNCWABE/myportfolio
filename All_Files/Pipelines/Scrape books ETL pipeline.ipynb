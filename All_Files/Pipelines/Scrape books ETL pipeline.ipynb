{
 "cells": [
  {
   "cell_type": "code",
   "execution_count": 23,
   "id": "2c18d33a",
   "metadata": {},
   "outputs": [],
   "source": [
    "import requests\n",
    "from parsel import Selector\n",
    "import pandas as pd\n",
    "from google.oauth2.service_account import Credentials\n",
    "from oauth2client.service_account import ServiceAccountCredentials"
   ]
  },
  {
   "cell_type": "markdown",
   "id": "354d941a",
   "metadata": {},
   "source": [
    "## Extract"
   ]
  },
  {
   "cell_type": "code",
   "execution_count": 24,
   "id": "54a1a136",
   "metadata": {},
   "outputs": [],
   "source": [
    "def parse_book(book):\n",
    "    '''\n",
    "    Parse the book information\n",
    "    \n",
    "    '''\n",
    "    \n",
    "    title = book.xpath('div/a/img/@alt').get()\n",
    "    price = book.xpath('div/p[@class=\"price_color\"]/text()').get()\n",
    "    instock_status = \"\".join(book.xpath('div/p[@class=\"instock availability\"]/text()').getall())\n",
    "    instock_status = instock_status.strip('\\n').strip()\n",
    "    rating = book.xpath('p[contains(@class, \"star-rating\")]/@class').get().replace(\"star-rating \", \"\")\n",
    "    url = book.xpath('div[@class=\"image_container\"]/a/@href').get()\n",
    "    \n",
    "    return {\n",
    "        'title': title,\n",
    "        'price': price,\n",
    "        'in_stock': instock_status,\n",
    "        'rating': rating,\n",
    "        'url': url\n",
    "    }\n",
    "\n",
    "\n",
    "def scrape_books():\n",
    "    '''\n",
    "    perform scraping\n",
    "    \n",
    "    '''\n",
    "    start_urls = \"http://books.toscrape.com/\"\n",
    "    response = requests.get(start_urls)\n",
    "    selector = Selector(response.text)\n",
    "    books = selector.xpath('//article[@class=\"product_pod\"]')\n",
    "    items = [parse_book(book) for book in books]\n",
    "    \n",
    "    return items"
   ]
  },
  {
   "cell_type": "markdown",
   "id": "a31b8408",
   "metadata": {},
   "source": [
    "## Transform"
   ]
  },
  {
   "cell_type": "code",
   "execution_count": 25,
   "id": "4e2e5d15",
   "metadata": {},
   "outputs": [],
   "source": [
    "def convert_to_df(books_data):\n",
    "    \n",
    "    '''\n",
    "    Converts json format data to dataframe\n",
    "    \n",
    "    '''\n",
    "    \n",
    "    books_data = pd.DataFrame(books_data)\n",
    "    \n",
    "    return books_data\n",
    "\n",
    "\n",
    "def split_price_currency(df):\n",
    "    '''\n",
    "    Split the price column into currency and price (as float).\n",
    "    \n",
    "    '''\n",
    "    df['currency'] = df['price'].str.extract(r'([^\\d]+)')\n",
    "    df['price'] = df['price'].str.extract(r'(\\d+\\.\\d+)').astype(float)\n",
    "    \n",
    "    return df\n",
    "\n",
    "\n",
    "def convert_ratings_to_int(df):\n",
    "    '''\n",
    "    Converts the ratings from text to integer.\n",
    "    \n",
    "    '''\n",
    "    ratings_map = {'One': 1, 'Two': 2, 'Three': 3, 'Four': 4, 'Five': 5}\n",
    "    df['rating'] = df['rating'].map(ratings_map).astype(int)\n",
    "    \n",
    "    return df"
   ]
  },
  {
   "cell_type": "markdown",
   "id": "d241ae0a",
   "metadata": {},
   "source": [
    "## Load"
   ]
  },
  {
   "cell_type": "code",
   "execution_count": 26,
   "id": "1fb5edde",
   "metadata": {},
   "outputs": [],
   "source": [
    "def load_to_bigquery(df, bq_project_id, bq_dataset_id, bq_table_id, google_service_account_file):\n",
    "    \n",
    "    '''\n",
    "    Loads the data to a BQ table\n",
    "    \n",
    "    '''\n",
    "    \n",
    "    destination_table = f\"{bq_project_id}.{bq_dataset_id}.{bq_table_id}\"\n",
    "    df.to_gbq(destination_table=destination_table,\n",
    "              project_id=bq_project_id,\n",
    "              credentials=google_service_account_file,\n",
    "              chunksize=10000, \n",
    "              progress_bar=False,  \n",
    "              if_exists='replace') "
   ]
  },
  {
   "cell_type": "markdown",
   "id": "52e02da2",
   "metadata": {},
   "source": [
    "## Orchastrate the pipeline"
   ]
  },
  {
   "cell_type": "code",
   "execution_count": 27,
   "id": "b89ba77e",
   "metadata": {},
   "outputs": [],
   "source": [
    "bq_project_id = 'bright-arc-328707'\n",
    "bq_dataset_id = 'test'\n",
    "bq_table_id = 'books_data'\n",
    "google_service_account_file = Credentials.from_service_account_file('C:/Users/leemn/OneDrive/Documents/personal google service acount/bright-arc-328707-b5e2d782b48b.json')\n",
    "\n",
    "if __name__ == \"__main__\":\n",
    "    books_data = scrape_books()\n",
    "    books_df = convert_to_df(books_data)\n",
    "    books_df = split_price_currency(books_df)\n",
    "    books_df = convert_ratings_to_int(books_df)\n",
    "    load_to_bigquery(books_df, bq_project_id, bq_dataset_id, bq_table_id, google_service_account_file)"
   ]
  },
  {
   "cell_type": "code",
   "execution_count": null,
   "id": "8764f016",
   "metadata": {},
   "outputs": [],
   "source": []
  }
 ],
 "metadata": {
  "kernelspec": {
   "display_name": "Python 3 (ipykernel)",
   "language": "python",
   "name": "python3"
  },
  "language_info": {
   "codemirror_mode": {
    "name": "ipython",
    "version": 3
   },
   "file_extension": ".py",
   "mimetype": "text/x-python",
   "name": "python",
   "nbconvert_exporter": "python",
   "pygments_lexer": "ipython3",
   "version": "3.10.9"
  }
 },
 "nbformat": 4,
 "nbformat_minor": 5
}
