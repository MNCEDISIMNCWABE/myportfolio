{
 "cells": [
  {
   "cell_type": "code",
   "execution_count": null,
   "id": "0cdc29e2",
   "metadata": {},
   "outputs": [],
   "source": [
    "import streamlit as st\n",
    "import pandas as pd\n",
    "import folium\n",
    "from streamlit_folium import st_folium\n",
    "from model_with_map import cluster_data\n",
    "\n",
    "# Add a title to the app\n",
    "st.title(\"Route Planning App\")\n",
    "\n",
    "# Create a file uploader component in Streamlit\n",
    "file = st.file_uploader(\"Upload a CSV file with orders latitude and longitude fields\")\n",
    "\n",
    "# Add a sidebar to the app\n",
    "st.sidebar.title(\"Input Parameters\")\n",
    "\n",
    "# Accept user input for n_clusters and max_weight\n",
    "n_clusters = st.sidebar.text_input(\"Number of clusters\", value=\"50\")\n",
    "max_weight = st.sidebar.text_input(\"Maximum weight/orders per cluster\", value=\"28\")\n",
    "\n",
    "# If a file is uploaded, cluster the data and display the results\n",
    "if file is not None:\n",
    "    # Convert the input values to integers\n",
    "    n_clusters = int(n_clusters)\n",
    "    max_weight = int(max_weight)\n",
    "\n",
    "    # Call the cluster_data function with the user input arguments\n",
    "    data, m = cluster_data(file, n_clusters, max_weight)\n",
    "    \n",
    "    # Display the folium map\n",
    "    st.write(\"Cluster Map:\")\n",
    "    st_folium(m, width=1000)\n",
    "    \n",
    "    # Display the data with the cluster labels\n",
    "    st.write(\"Clustered Data:\")\n",
    "    st.write(data)\n",
    "    \n",
    "else:\n",
    "    st.write(\"Please upload a file to begin route planning.\")"
   ]
  }
 ],
 "metadata": {
  "kernelspec": {
   "display_name": "Python 3 (ipykernel)",
   "language": "python",
   "name": "python3"
  },
  "language_info": {
   "codemirror_mode": {
    "name": "ipython",
    "version": 3
   },
   "file_extension": ".py",
   "mimetype": "text/x-python",
   "name": "python",
   "nbconvert_exporter": "python",
   "pygments_lexer": "ipython3",
   "version": "3.9.12"
  }
 },
 "nbformat": 4,
 "nbformat_minor": 5
}
