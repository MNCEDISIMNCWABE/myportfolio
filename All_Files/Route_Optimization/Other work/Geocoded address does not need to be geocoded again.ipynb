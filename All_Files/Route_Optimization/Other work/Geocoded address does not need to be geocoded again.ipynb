{
 "cells": [
  {
   "cell_type": "code",
   "execution_count": 2,
   "id": "94c4a151",
   "metadata": {},
   "outputs": [],
   "source": [
    "import geocoder\n",
    "\n",
    "# Create a dictionary to store the results of geocoding requests\n",
    "geocode_cache = {}\n",
    "\n",
    "def get_lat_lng(address):\n",
    "    if address in geocode_cache:\n",
    "        return geocode_cache[address]            # If the address has been geocoded before, return the cached result\n",
    "    else:\n",
    "        result = geocoder.google(address).latlng  # Geocode the address and store the result in the cache\n",
    "        geocode_cache[address] = result\n",
    "        return result"
   ]
  },
  {
   "cell_type": "code",
   "execution_count": 3,
   "id": "64d08249",
   "metadata": {
    "collapsed": true
   },
   "outputs": [
    {
     "ename": "TypeError",
     "evalue": "cannot unpack non-iterable NoneType object",
     "output_type": "error",
     "traceback": [
      "\u001b[1;31m---------------------------------------------------------------------------\u001b[0m",
      "\u001b[1;31mTypeError\u001b[0m                                 Traceback (most recent call last)",
      "Input \u001b[1;32mIn [3]\u001b[0m, in \u001b[0;36m<cell line: 2>\u001b[1;34m()\u001b[0m\n\u001b[0;32m      1\u001b[0m \u001b[38;5;66;03m# Example usage\u001b[39;00m\n\u001b[1;32m----> 2\u001b[0m lat, lng \u001b[38;5;241m=\u001b[39m get_lat_lng(\u001b[38;5;124m\"\u001b[39m\u001b[38;5;124m123 Main Street, Anytown, USA\u001b[39m\u001b[38;5;124m\"\u001b[39m)\n",
      "\u001b[1;31mTypeError\u001b[0m: cannot unpack non-iterable NoneType object"
     ]
    }
   ],
   "source": [
    "# Example usage\n",
    "lat, lng = get_lat_lng(\"123 Main Street, Anytown, USA\")"
   ]
  },
  {
   "cell_type": "markdown",
   "id": "1b9e60a2",
   "metadata": {},
   "source": [
    "This code uses the geocoder library to make geocoding requests to the Google Maps API. It stores the results of these requests in a dictionary (geocode_cache) with the address as the key and the latitude and longitude as the value. When the get_lat_lng function is called with an address, it first checks the cache to see if the address has been geocoded before. If it has, it returns the cached result. If not, it makes a new geocoding request and stores the result in the cache before returning it. This way, the same address will only be geocoded once, saving on API costs."
   ]
  },
  {
   "cell_type": "code",
   "execution_count": 4,
   "id": "fd23f71c",
   "metadata": {},
   "outputs": [],
   "source": [
    "import googlemaps\n",
    "from googlemaps.geocoding import geocode"
   ]
  },
  {
   "cell_type": "code",
   "execution_count": null,
   "id": "d3429432",
   "metadata": {},
   "outputs": [],
   "source": [
    "gmaps = googlemaps.Client(key='YOUR_API_KEY')"
   ]
  },
  {
   "cell_type": "code",
   "execution_count": null,
   "id": "a214c58f",
   "metadata": {},
   "outputs": [],
   "source": [
    "# Initialize an empty dictionary to store previously geocoded addresses\n",
    "geocoded_addresses = {}\n",
    "\n",
    "def geocode_address(address):\n",
    "    # Check if the address has already been geocoded\n",
    "    if address in geocoded_addresses:\n",
    "        # If the address has been geocoded before, return the stored coordinates\n",
    "        return geocoded_addresses[address]\n",
    "    else:\n",
    "        # If the address has not been geocoded before, use the Google Maps API to geocode it\n",
    "        result = geocode(gmaps, address)\n",
    "        if result:\n",
    "            # If the geocoding was successful, store the coordinates in the dictionary and return them\n",
    "            geocoded_addresses[address] = result[0]['geometry']['location']\n",
    "            return result[0]['geometry']['location']\n",
    "        else:\n",
    "            # If the geocoding was not successful, return None\n",
    "            return None\n",
    "\n",
    "# Example usage:\n",
    "coordinates = geocode_address('1600 Amphitheatre Parkway, Mountain View, CA')\n",
    "print(coordinates)  # Output: {'lat': 37.4224082, 'lng': -122.0856086}"
   ]
  },
  {
   "cell_type": "markdown",
   "id": "17d5f7df",
   "metadata": {},
   "source": [
    "This code defines a function geocode_address that takes an address as input and returns the latitude and longitude coordinates for that address. Before attempting to geocode the address, the function checks if it has already been geocoded before by looking up the address in the geocoded_addresses dictionary. If the address has been geocoded before, the function returns the stored coordinates. If the address has not been geocoded before, the function uses the Google Maps API to geocode it and stores the coordinates in the dictionary for future use.\n",
    "\n",
    "This way, you can call the geocode_address function multiple times for the same address without incurring any additional costs from the Google Maps API, as the coordinates will be returned from the dictionary instead of being geocoded again."
   ]
  },
  {
   "cell_type": "code",
   "execution_count": null,
   "id": "86a56bf3",
   "metadata": {},
   "outputs": [],
   "source": []
  }
 ],
 "metadata": {
  "kernelspec": {
   "display_name": "Python 3 (ipykernel)",
   "language": "python",
   "name": "python3"
  },
  "language_info": {
   "codemirror_mode": {
    "name": "ipython",
    "version": 3
   },
   "file_extension": ".py",
   "mimetype": "text/x-python",
   "name": "python",
   "nbconvert_exporter": "python",
   "pygments_lexer": "ipython3",
   "version": "3.9.12"
  }
 },
 "nbformat": 4,
 "nbformat_minor": 5
}
