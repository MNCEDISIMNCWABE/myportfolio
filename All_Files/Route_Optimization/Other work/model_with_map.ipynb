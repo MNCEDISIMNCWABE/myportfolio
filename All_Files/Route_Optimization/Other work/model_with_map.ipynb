{
 "cells": [
  {
   "cell_type": "code",
   "execution_count": null,
   "id": "a7552bf7",
   "metadata": {},
   "outputs": [],
   "source": [
    "import pandas as pd\n",
    "import folium\n",
    "from k_means_constrained import KMeansConstrained\n",
    "\n",
    "def cluster_data(file, n_clusters, max_weight):\n",
    "    # Read the CSV file into a Pandas dataframe\n",
    "    data = pd.read_csv(file)\n",
    "    \n",
    "    if 'Weight' in data.columns:\n",
    "        data = data.loc[data.index.repeat(data['Weight'])].reset_index(drop=True)\n",
    "        data['Weight'] = 1\n",
    "    else:\n",
    "        data['Weight'] = 1\n",
    "\n",
    "    # Apply the KMeansConstrained algorithm to the dataframe\n",
    "    km_cons = KMeansConstrained(n_clusters=n_clusters,\n",
    "                                init='k-means++',\n",
    "                                size_max=max_weight,\n",
    "                                random_state=42,\n",
    "                                n_jobs=-1)\n",
    "    y_predicted = km_cons.fit_predict(data[['longitude', 'latitude']])\n",
    "    \n",
    "    # Add the cluster labels to the dataframe\n",
    "    data['cluster'] = y_predicted + 1\n",
    "    \n",
    "    # Create a list of colors for the clusters\n",
    "    colors = ['red', 'blue', 'green', 'purple', 'orange', 'darkred', 'lightred', 'beige', 'darkblue', 'darkgreen', 'cadetblue', 'darkpurple', 'pink', 'lightblue', 'lightgreen', 'gray', 'black', 'lightgray']\n",
    "    colors *= n_clusters // len(colors) + 1\n",
    "    \n",
    "    # Create a folium map object centered on the mean of the delivery locations\n",
    "    m = folium.Map(location=[data['latitude'].mean(), data['longitude'].mean()], zoom_start=12)\n",
    "    \n",
    "    # Add cluster markers and lines to the map\n",
    "    for i in range(1, n_clusters+1):\n",
    "        cluster_data = data[data['cluster'] == i]\n",
    "        color = colors[i-1]\n",
    "        cluster_points = []\n",
    "        for _, row in cluster_data.iterrows():\n",
    "            # Add marker for each point\n",
    "            folium.Marker(location=[row['latitude'], row['longitude']],\n",
    "                          icon=folium.Icon(color=color),\n",
    "                          popup=f\"Cluster {i}\").add_to(m)\n",
    "            # Add point to list of cluster points\n",
    "            cluster_points.append([row['latitude'], row['longitude']])\n",
    "        # Add polyline connecting the cluster points\n",
    "        folium.PolyLine(locations=cluster_points,\n",
    "                        color=color).add_to(m)\n",
    "    \n",
    "    # Return the dataframe with the cluster labels and the folium map object\n",
    "    return data, m"
   ]
  }
 ],
 "metadata": {
  "kernelspec": {
   "display_name": "Python 3 (ipykernel)",
   "language": "python",
   "name": "python3"
  },
  "language_info": {
   "codemirror_mode": {
    "name": "ipython",
    "version": 3
   },
   "file_extension": ".py",
   "mimetype": "text/x-python",
   "name": "python",
   "nbconvert_exporter": "python",
   "pygments_lexer": "ipython3",
   "version": "3.9.12"
  }
 },
 "nbformat": 4,
 "nbformat_minor": 5
}
