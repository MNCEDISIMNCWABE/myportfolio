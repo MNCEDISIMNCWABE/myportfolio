{
 "cells": [
  {
   "cell_type": "code",
   "execution_count": null,
   "id": "008e6477",
   "metadata": {},
   "outputs": [],
   "source": [
    "function updateMonthlyOrdersSheet() {\n",
    "  // Replace \"123X\" with the actual Google Sheet ID\n",
    "  var sheet = SpreadsheetApp.openById(\"11REv4agFweH_w9JRkXdgI09auXdDeMoJSuvw8iI-Ihc\").getSheetByName(\"Test\");\n",
    "  \n",
    "  // Query to retrieve the data\n",
    "  var query = `WITH\n",
    "orders AS (\n",
    "SELECT\n",
    "client_id,\n",
    "DATE_TRUNC(created_at, MONTH) AS month,\n",
    "COUNT(DISTINCT order_id) AS order_count\n",
    "FROM \\`cb-prod-297913.cb_prod_analytics.cb_receive_trip_orders\\`\n",
    "WHERE created_at >= '2022-11-01'\n",
    "AND NOT REGEXP_CONTAINS(branch.name, r'\\bTest\\b') \n",
    "AND NOT REGEXP_CONTAINS(branch.name, r'\\bLoop\\b')\n",
    "AND NOT REGEXP_CONTAINS(branch.name, r'\\Cowa-bunga\\b')\n",
    "AND NOT REGEXP_CONTAINS(branch.name, r'\\Cowabunga\\b')\n",
    "AND branch.name IS NOT NULL\n",
    "GROUP BY 1, 2\n",
    ")\n",
    "SELECT client_id,\n",
    "SUM(COALESCE(CASE WHEN month = '2022-11-01' THEN order_count ELSE 0 END, 0)) AS Nov2022,\n",
    "SUM(COALESCE(CASE WHEN month = '2022-12-01' THEN order_count ELSE 0 END, 0)) AS Dec2022,\n",
    "SUM(COALESCE(CASE WHEN month = '2023-01-01' THEN order_count ELSE 0 END, 0)) AS Jan2023,\n",
    "SUM(COALESCE(CASE WHEN month = '2023-02-01' THEN order_count ELSE 0 END, 0)) AS Feb2023,\n",
    "SUM(COALESCE(CASE WHEN month = '2023-03-01' THEN order_count ELSE 0 END, 0)) AS Mar2023,\n",
    "SUM(COALESCE(CASE WHEN month = '2023-04-01' THEN order_count ELSE 0 END, 0)) AS Apr2023,\n",
    "SUM(COALESCE(CASE WHEN month = '2023-05-01' THEN order_count ELSE 0 END, 0)) AS May2023,\n",
    "SUM(COALESCE(CASE WHEN month = '2023-06-01' THEN order_count ELSE 0 END, 0)) AS Jun2023,\n",
    "SUM(COALESCE(CASE WHEN month = '2023-07-01' THEN order_count ELSE 0 END, 0)) AS Jul2023,\n",
    "SUM(COALESCE(CASE WHEN month = '2023-08-01' THEN order_count ELSE 0 END, 0)) AS Aug2023,\n",
    "SUM(COALESCE(CASE WHEN month = '2023-09-01' THEN order_count ELSE 0 END, 0)) AS Sep2023,\n",
    "SUM(COALESCE(CASE WHEN month = '2023-10-01' THEN order_count ELSE 0 END, 0)) AS Oct2023,\n",
    "SUM(COALESCE(CASE WHEN month = '2023-11-01' THEN order_count ELSE 0 END, 0)) AS Nov2023,\n",
    "SUM(COALESCE(CASE WHEN month = '2023-12-01' THEN order_count ELSE 0 END, 0)) AS Dec2023\n",
    "FROM orders\n",
    "GROUP BY client_id`;\n",
    "  \n",
    "  // Run the query and retrieve the result\n",
    "  var projectId = \"cb-prod-297913\";\n",
    "  var request = {\n",
    "    query: query,\n",
    "    useLegacySql: false\n",
    "  };\n",
    "  var job = BigQuery.Jobs.query(request, projectId);\n",
    "  var queryResults = BigQuery.Jobs.getQueryResults(projectId, job.jobReference.jobId);\n",
    "  \n",
    "  // Get the data and the column names from the result\n",
    "  var data = queryResults.rows.map(function(row) { return row.f.map(function(cell) { return cell.v; }); });\n",
    "  var columns = queryResults.schema.fields.map(function(field) { return field.name; });\n",
    "  \n",
    "  // Write the data and the column names to the sheet\n",
    "  sheet.clearContents();\n",
    "  sheet.getRange(1, 1, data.length + 1, data[0].length).setValues([columns].concat(data));\n",
    "}\n"
   ]
  }
 ],
 "metadata": {
  "kernelspec": {
   "display_name": "Python 3 (ipykernel)",
   "language": "python",
   "name": "python3"
  },
  "language_info": {
   "codemirror_mode": {
    "name": "ipython",
    "version": 3
   },
   "file_extension": ".py",
   "mimetype": "text/x-python",
   "name": "python",
   "nbconvert_exporter": "python",
   "pygments_lexer": "ipython3",
   "version": "3.9.12"
  }
 },
 "nbformat": 4,
 "nbformat_minor": 5
}
