{
 "cells": [
  {
   "cell_type": "code",
   "execution_count": 4,
   "id": "0880409f",
   "metadata": {},
   "outputs": [],
   "source": [
    "# Import libraries\n",
    "import pandas as pd\n",
    "import io\n",
    "from geopy.geocoders import Nominatim"
   ]
  },
  {
   "cell_type": "code",
   "execution_count": 5,
   "id": "24a56808",
   "metadata": {},
   "outputs": [],
   "source": [
    "# Import Cell Tower file\n",
    "df = pd.read_csv('Cell_Tower.csv')"
   ]
  },
  {
   "cell_type": "code",
   "execution_count": 6,
   "id": "5a6c8a33",
   "metadata": {},
   "outputs": [
    {
     "data": {
      "text/html": [
       "<div>\n",
       "<style scoped>\n",
       "    .dataframe tbody tr th:only-of-type {\n",
       "        vertical-align: middle;\n",
       "    }\n",
       "\n",
       "    .dataframe tbody tr th {\n",
       "        vertical-align: top;\n",
       "    }\n",
       "\n",
       "    .dataframe thead th {\n",
       "        text-align: right;\n",
       "    }\n",
       "</style>\n",
       "<table border=\"1\" class=\"dataframe\">\n",
       "  <thead>\n",
       "    <tr style=\"text-align: right;\">\n",
       "      <th></th>\n",
       "      <th>user_id</th>\n",
       "      <th>lat</th>\n",
       "      <th>lng</th>\n",
       "    </tr>\n",
       "  </thead>\n",
       "  <tbody>\n",
       "    <tr>\n",
       "      <th>0</th>\n",
       "      <td>35539881</td>\n",
       "      <td>-34.063782</td>\n",
       "      <td>18.820499</td>\n",
       "    </tr>\n",
       "    <tr>\n",
       "      <th>1</th>\n",
       "      <td>19603336</td>\n",
       "      <td>-29.191851</td>\n",
       "      <td>27.444849</td>\n",
       "    </tr>\n",
       "    <tr>\n",
       "      <th>2</th>\n",
       "      <td>40292465</td>\n",
       "      <td>-26.950027</td>\n",
       "      <td>28.100788</td>\n",
       "    </tr>\n",
       "    <tr>\n",
       "      <th>3</th>\n",
       "      <td>26428370</td>\n",
       "      <td>-34.081173</td>\n",
       "      <td>23.065119</td>\n",
       "    </tr>\n",
       "    <tr>\n",
       "      <th>4</th>\n",
       "      <td>19829847</td>\n",
       "      <td>-28.773481</td>\n",
       "      <td>20.613968</td>\n",
       "    </tr>\n",
       "  </tbody>\n",
       "</table>\n",
       "</div>"
      ],
      "text/plain": [
       "    user_id        lat        lng\n",
       "0  35539881 -34.063782  18.820499\n",
       "1  19603336 -29.191851  27.444849\n",
       "2  40292465 -26.950027  28.100788\n",
       "3  26428370 -34.081173  23.065119\n",
       "4  19829847 -28.773481  20.613968"
      ]
     },
     "execution_count": 6,
     "metadata": {},
     "output_type": "execute_result"
    }
   ],
   "source": [
    "df.head()"
   ]
  },
  {
   "cell_type": "code",
   "execution_count": 7,
   "id": "ac1a6915",
   "metadata": {},
   "outputs": [
    {
     "name": "stdout",
     "output_type": "stream",
     "text": [
      "         user_id        lat        lng                            city  \\\n",
      "0     35539881.0 -34.063782  18.820499                                   \n",
      "1     19603336.0 -29.191851  27.444849     Mantsopa Local Municipality   \n",
      "2     40292465.0 -26.950027  28.100788  Metsimaholo Local Municipality   \n",
      "3     26428370.0 -34.081173  23.065119       Knysna Local Municipality   \n",
      "4     19829847.0 -28.773481  20.613968   Kai !Garib Local Municipality   \n",
      "...          ...        ...        ...                             ...   \n",
      "6322   4033111.0 -34.414188  19.296463   Overstrand Local Municipality   \n",
      "6323  46073981.0 -26.035767  27.848446  Mogale City Local Municipality   \n",
      "6324  35455566.0 -29.597031  29.957855     Impendle Local Municipality   \n",
      "6325  43203772.0 -25.419594  30.102758   Emakhazeni Local Municipality   \n",
      "6326  46002575.0 -25.664377  30.340513   Emakhazeni Local Municipality   \n",
      "\n",
      "           country  \n",
      "0     South Africa  \n",
      "1     South Africa  \n",
      "2     South Africa  \n",
      "3     South Africa  \n",
      "4     South Africa  \n",
      "...            ...  \n",
      "6322  South Africa  \n",
      "6323  South Africa  \n",
      "6324  South Africa  \n",
      "6325  South Africa  \n",
      "6326  South Africa  \n",
      "\n",
      "[6327 rows x 5 columns]\n"
     ]
    }
   ],
   "source": [
    "# Funtion to get City and Coutry\n",
    "geolocator = Nominatim(user_agent=\"geoapiExercises\")\n",
    "def city_country(row):\n",
    "    coord = f\"{row['lat']}, {row['lng']}\"\n",
    "    location = geolocator.reverse(coord, exactly_one=True)\n",
    "    address = location.raw['address']\n",
    "    city = address.get('city', '')\n",
    "    country = address.get('country', '')\n",
    "    row['city'] = city\n",
    "    row['country'] = country\n",
    "    return row\n",
    "\n",
    "df = df.apply(city_country, axis=1)\n",
    "print(df)"
   ]
  },
  {
   "cell_type": "code",
   "execution_count": 10,
   "id": "b6a1bf67",
   "metadata": {},
   "outputs": [],
   "source": [
    "# export final file to csv\n",
    "df.to_csv('df.csv')"
   ]
  },
  {
   "cell_type": "code",
   "execution_count": null,
   "id": "1c6293c9",
   "metadata": {},
   "outputs": [],
   "source": []
  }
 ],
 "metadata": {
  "kernelspec": {
   "display_name": "Python 3 (ipykernel)",
   "language": "python",
   "name": "python3"
  },
  "language_info": {
   "codemirror_mode": {
    "name": "ipython",
    "version": 3
   },
   "file_extension": ".py",
   "mimetype": "text/x-python",
   "name": "python",
   "nbconvert_exporter": "python",
   "pygments_lexer": "ipython3",
   "version": "3.9.12"
  }
 },
 "nbformat": 4,
 "nbformat_minor": 5
}
