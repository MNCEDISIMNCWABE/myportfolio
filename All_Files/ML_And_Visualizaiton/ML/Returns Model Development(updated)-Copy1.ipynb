{
 "cells": [
  {
   "cell_type": "code",
   "execution_count": 1,
   "id": "0fd5e979",
   "metadata": {},
   "outputs": [
    {
     "data": {
      "text/html": [
       "        <script type=\"text/javascript\">\n",
       "        window.PlotlyConfig = {MathJaxConfig: 'local'};\n",
       "        if (window.MathJax) {MathJax.Hub.Config({SVG: {font: \"STIX-Web\"}});}\n",
       "        if (typeof require !== 'undefined') {\n",
       "        require.undef(\"plotly\");\n",
       "        requirejs.config({\n",
       "            paths: {\n",
       "                'plotly': ['https://cdn.plot.ly/plotly-2.4.2.min']\n",
       "            }\n",
       "        });\n",
       "        require(['plotly'], function(Plotly) {\n",
       "            window._Plotly = Plotly;\n",
       "        });\n",
       "        }\n",
       "        </script>\n",
       "        "
      ]
     },
     "metadata": {},
     "output_type": "display_data"
    }
   ],
   "source": [
    "import time\n",
    "import pymysql\n",
    "import pandas as pd\n",
    "import numpy as np\n",
    "from datetime import datetime as dt\n",
    "import datetime\n",
    "from datetime import date as dtt\n",
    "\n",
    "from sklearn.preprocessing import LabelEncoder,StandardScaler  \n",
    "\n",
    "# libraries for visualization\n",
    "import seaborn as sns\n",
    "import matplotlib.pyplot as plt\n",
    "import plotly\n",
    "import plotly.express as px\n",
    "import plotly.graph_objs as go\n",
    "import cufflinks as cf\n",
    "from plotly.offline import iplot, init_notebook_mode, plot\n",
    "cf.go_offline()\n",
    "\n",
    "import warnings\n",
    "warnings.filterwarnings(\"ignore\")"
   ]
  },
  {
   "cell_type": "code",
   "execution_count": 19,
   "id": "a64dc20f",
   "metadata": {},
   "outputs": [
    {
     "name": "stdout",
     "output_type": "stream",
     "text": [
      "--- 338.89044213294983 seconds ---\n"
     ]
    },
    {
     "data": {
      "text/html": [
       "<div>\n",
       "<style scoped>\n",
       "    .dataframe tbody tr th:only-of-type {\n",
       "        vertical-align: middle;\n",
       "    }\n",
       "\n",
       "    .dataframe tbody tr th {\n",
       "        vertical-align: top;\n",
       "    }\n",
       "\n",
       "    .dataframe thead th {\n",
       "        text-align: right;\n",
       "    }\n",
       "</style>\n",
       "<table border=\"1\" class=\"dataframe\">\n",
       "  <thead>\n",
       "    <tr style=\"text-align: right;\">\n",
       "      <th></th>\n",
       "      <th>idProduct</th>\n",
       "      <th>Units_Returned</th>\n",
       "      <th>Description</th>\n",
       "      <th>Product_Date_Added</th>\n",
       "      <th>Seller_Date_Added</th>\n",
       "    </tr>\n",
       "  </thead>\n",
       "  <tbody>\n",
       "    <tr>\n",
       "      <th>0</th>\n",
       "      <td>111570</td>\n",
       "      <td>2.0</td>\n",
       "      <td>&lt;p&gt;In 1914, a room full of German schoolboys, ...</td>\n",
       "      <td>2015-03-24 00:00:00</td>\n",
       "      <td>2020-07-01 17:40:05</td>\n",
       "    </tr>\n",
       "    <tr>\n",
       "      <th>1</th>\n",
       "      <td>148822</td>\n",
       "      <td>2.0</td>\n",
       "      <td>&lt;p&gt;Drawn from 3,000 years of the history of po...</td>\n",
       "      <td>2015-03-25 00:00:00</td>\n",
       "      <td>2020-07-01 17:40:05</td>\n",
       "    </tr>\n",
       "    <tr>\n",
       "      <th>2</th>\n",
       "      <td>535137</td>\n",
       "      <td>2.0</td>\n",
       "      <td>&lt;p&gt;Aspiring writer Hubbell Gardiner (Robert Re...</td>\n",
       "      <td>2005-08-19 13:15:32</td>\n",
       "      <td>2021-10-22 10:49:33</td>\n",
       "    </tr>\n",
       "    <tr>\n",
       "      <th>3</th>\n",
       "      <td>1973824</td>\n",
       "      <td>1.0</td>\n",
       "      <td>Bittersweet romantic comedy from writer-direct...</td>\n",
       "      <td>2006-07-28 14:24:44</td>\n",
       "      <td>2021-10-22 10:49:33</td>\n",
       "    </tr>\n",
       "    <tr>\n",
       "      <th>4</th>\n",
       "      <td>2071831</td>\n",
       "      <td>2.0</td>\n",
       "      <td>&lt;p&gt;&lt;br&gt;&lt;/p&gt;</td>\n",
       "      <td>2006-09-04 16:20:47</td>\n",
       "      <td>2021-10-22 10:49:33</td>\n",
       "    </tr>\n",
       "  </tbody>\n",
       "</table>\n",
       "</div>"
      ],
      "text/plain": [
       "   idProduct  Units_Returned  \\\n",
       "0     111570             2.0   \n",
       "1     148822             2.0   \n",
       "2     535137             2.0   \n",
       "3    1973824             1.0   \n",
       "4    2071831             2.0   \n",
       "\n",
       "                                         Description  Product_Date_Added  \\\n",
       "0  <p>In 1914, a room full of German schoolboys, ... 2015-03-24 00:00:00   \n",
       "1  <p>Drawn from 3,000 years of the history of po... 2015-03-25 00:00:00   \n",
       "2  <p>Aspiring writer Hubbell Gardiner (Robert Re... 2005-08-19 13:15:32   \n",
       "3  Bittersweet romantic comedy from writer-direct... 2006-07-28 14:24:44   \n",
       "4                                        <p><br></p> 2006-09-04 16:20:47   \n",
       "\n",
       "    Seller_Date_Added  \n",
       "0 2020-07-01 17:40:05  \n",
       "1 2020-07-01 17:40:05  \n",
       "2 2021-10-22 10:49:33  \n",
       "3 2021-10-22 10:49:33  \n",
       "4 2021-10-22 10:49:33  "
      ]
     },
     "execution_count": 19,
     "metadata": {},
     "output_type": "execute_result"
    }
   ],
   "source": [
    "import time\n",
    "import pymysql\n",
    "import pandas as pd\n",
    "\n",
    "start_time = time.time()\n",
    "\n",
    "conn = pymysql.connect(\n",
    "  host=\"cpt-hq-db02-b55.hq.takealot.com\",\n",
    "  user=\"lindani.mncwabe\",\n",
    "  passwd=\"aV3n6MehTad0R\",\n",
    "  database=\"take2\"\n",
    ")\n",
    "\n",
    "mycursor = conn.cursor()\n",
    "\n",
    "mycursor.execute('''\n",
    "\n",
    "select rr.idProduct, sum(rr.QtyAccepted) as Units_Returned, ts.Description, ts.AddedDate as Product_Date_Added,\n",
    "sel.DateAdded as Seller_Date_Added\n",
    "from take2.rrn_returns rr\n",
    "      left join supply_chain.business_hierarchy bh on bh.idProduct = rr.idProduct\n",
    "      left join take2.tsins ts on ts.idTsin = bh.idTsin\n",
    "      left join take2.rrn_return_evaluation_report ev on rr.idRrnReturn = ev.rrn_return_id\n",
    "      left join take2.products p on p.idProduct = rr.idProduct\n",
    "      left join take2.seller_listings sl on bh.idTsin = sl.idTsin\n",
    "      left join take2.sellers sel on sel.idSeller=sl.idSeller\n",
    "where rr.DetailsReason = \"The product is defective or damaged\"\n",
    "and rr.WhenCreated >= '2021-05-02'\n",
    "and rr.QtyAccepted IS NOT NULL\n",
    "#and p.Active =1\n",
    "and ev.evaluation_outcome not in ('decline')\n",
    "group by rr.idProduct\n",
    "\n",
    "''')\n",
    "\n",
    "myresult = mycursor.fetchall()\n",
    "\n",
    "df = pd.read_sql_query(\n",
    "'''\n",
    "\n",
    "select rr.idProduct, sum(rr.QtyAccepted) as Units_Returned, ts.Description, ts.AddedDate as Product_Date_Added,\n",
    "sel.DateAdded as Seller_Date_Added\n",
    "from take2.rrn_returns rr\n",
    "      left join supply_chain.business_hierarchy bh on bh.idProduct = rr.idProduct\n",
    "      left join take2.tsins ts on ts.idTsin = bh.idTsin\n",
    "      left join take2.rrn_return_evaluation_report ev on rr.idRrnReturn = ev.rrn_return_id\n",
    "      left join take2.products p on p.idProduct = rr.idProduct\n",
    "      left join take2.seller_listings sl on bh.idTsin = sl.idTsin\n",
    "      left join take2.sellers sel on sel.idSeller=sl.idSeller\n",
    "where rr.DetailsReason = \"The product is defective or damaged\"\n",
    "and rr.WhenCreated >= '2021-05-02'\n",
    "and rr.QtyAccepted IS NOT NULL\n",
    "#and p.Active =1\n",
    "and ev.evaluation_outcome not in ('decline')\n",
    "group by rr.idProduct\n",
    "\n",
    "''',conn)\n",
    "\n",
    "print(\"--- %s seconds ---\" % (time.time() - start_time))\n",
    "df.head()"
   ]
  },
  {
   "cell_type": "code",
   "execution_count": 5,
   "id": "f4b765e1",
   "metadata": {},
   "outputs": [
    {
     "data": {
      "text/html": [
       "<div>\n",
       "<style scoped>\n",
       "    .dataframe tbody tr th:only-of-type {\n",
       "        vertical-align: middle;\n",
       "    }\n",
       "\n",
       "    .dataframe tbody tr th {\n",
       "        vertical-align: top;\n",
       "    }\n",
       "\n",
       "    .dataframe thead th {\n",
       "        text-align: right;\n",
       "    }\n",
       "</style>\n",
       "<table border=\"1\" class=\"dataframe\">\n",
       "  <thead>\n",
       "    <tr style=\"text-align: right;\">\n",
       "      <th></th>\n",
       "      <th>idProduct</th>\n",
       "      <th>TSIN Title</th>\n",
       "      <th>QTY</th>\n",
       "    </tr>\n",
       "  </thead>\n",
       "  <tbody>\n",
       "    <tr>\n",
       "      <th>0</th>\n",
       "      <td>8</td>\n",
       "      <td>Mad Max: Beyond The Thunderdome (DVD)</td>\n",
       "      <td>10</td>\n",
       "    </tr>\n",
       "    <tr>\n",
       "      <th>1</th>\n",
       "      <td>9</td>\n",
       "      <td>Men Of Honour (DVD)</td>\n",
       "      <td>5</td>\n",
       "    </tr>\n",
       "    <tr>\n",
       "      <th>2</th>\n",
       "      <td>14</td>\n",
       "      <td>Speed 2 (DVD)</td>\n",
       "      <td>19</td>\n",
       "    </tr>\n",
       "    <tr>\n",
       "      <th>3</th>\n",
       "      <td>16</td>\n",
       "      <td>Predator 2 (1990) (DVD)</td>\n",
       "      <td>3</td>\n",
       "    </tr>\n",
       "    <tr>\n",
       "      <th>4</th>\n",
       "      <td>37</td>\n",
       "      <td>Training Day (2001)  (DVD)</td>\n",
       "      <td>3</td>\n",
       "    </tr>\n",
       "  </tbody>\n",
       "</table>\n",
       "</div>"
      ],
      "text/plain": [
       "   idProduct                             TSIN Title  QTY\n",
       "0          8  Mad Max: Beyond The Thunderdome (DVD)   10\n",
       "1          9                    Men Of Honour (DVD)    5\n",
       "2         14                          Speed 2 (DVD)   19\n",
       "3         16                Predator 2 (1990) (DVD)    3\n",
       "4         37             Training Day (2001)  (DVD)    3"
      ]
     },
     "execution_count": 5,
     "metadata": {},
     "output_type": "execute_result"
    }
   ],
   "source": [
    "sales_df = pd.read_excel (r'C:\\Users\\mncedisi.mncwabe\\Documents\\Returns - Model development\\Pre-model\\sales.xlsx')\n",
    "sales_df.head()"
   ]
  },
  {
   "cell_type": "code",
   "execution_count": 20,
   "id": "e6301020",
   "metadata": {},
   "outputs": [
    {
     "data": {
      "text/plain": [
       "(81860, 5)"
      ]
     },
     "execution_count": 20,
     "metadata": {},
     "output_type": "execute_result"
    }
   ],
   "source": [
    "df.shape"
   ]
  },
  {
   "cell_type": "code",
   "execution_count": 21,
   "id": "6d9c15fd",
   "metadata": {},
   "outputs": [
    {
     "data": {
      "text/plain": [
       "(531092, 3)"
      ]
     },
     "execution_count": 21,
     "metadata": {},
     "output_type": "execute_result"
    }
   ],
   "source": [
    "sales_df.shape"
   ]
  },
  {
   "cell_type": "code",
   "execution_count": 22,
   "id": "c068668f",
   "metadata": {},
   "outputs": [],
   "source": [
    "df = pd.merge(sales_df, df, how='left', on=['idProduct'])"
   ]
  },
  {
   "cell_type": "code",
   "execution_count": 23,
   "id": "d33d0d44",
   "metadata": {},
   "outputs": [
    {
     "data": {
      "text/html": [
       "<div>\n",
       "<style scoped>\n",
       "    .dataframe tbody tr th:only-of-type {\n",
       "        vertical-align: middle;\n",
       "    }\n",
       "\n",
       "    .dataframe tbody tr th {\n",
       "        vertical-align: top;\n",
       "    }\n",
       "\n",
       "    .dataframe thead th {\n",
       "        text-align: right;\n",
       "    }\n",
       "</style>\n",
       "<table border=\"1\" class=\"dataframe\">\n",
       "  <thead>\n",
       "    <tr style=\"text-align: right;\">\n",
       "      <th></th>\n",
       "      <th>idProduct</th>\n",
       "      <th>TSIN Title</th>\n",
       "      <th>QTY</th>\n",
       "      <th>Units_Returned</th>\n",
       "      <th>Description</th>\n",
       "      <th>Product_Date_Added</th>\n",
       "      <th>Seller_Date_Added</th>\n",
       "    </tr>\n",
       "  </thead>\n",
       "  <tbody>\n",
       "    <tr>\n",
       "      <th>0</th>\n",
       "      <td>8</td>\n",
       "      <td>Mad Max: Beyond The Thunderdome (DVD)</td>\n",
       "      <td>10</td>\n",
       "      <td>NaN</td>\n",
       "      <td>NaN</td>\n",
       "      <td>NaT</td>\n",
       "      <td>NaT</td>\n",
       "    </tr>\n",
       "    <tr>\n",
       "      <th>1</th>\n",
       "      <td>9</td>\n",
       "      <td>Men Of Honour (DVD)</td>\n",
       "      <td>5</td>\n",
       "      <td>NaN</td>\n",
       "      <td>NaN</td>\n",
       "      <td>NaT</td>\n",
       "      <td>NaT</td>\n",
       "    </tr>\n",
       "    <tr>\n",
       "      <th>2</th>\n",
       "      <td>14</td>\n",
       "      <td>Speed 2 (DVD)</td>\n",
       "      <td>19</td>\n",
       "      <td>NaN</td>\n",
       "      <td>NaN</td>\n",
       "      <td>NaT</td>\n",
       "      <td>NaT</td>\n",
       "    </tr>\n",
       "    <tr>\n",
       "      <th>3</th>\n",
       "      <td>16</td>\n",
       "      <td>Predator 2 (1990) (DVD)</td>\n",
       "      <td>3</td>\n",
       "      <td>NaN</td>\n",
       "      <td>NaN</td>\n",
       "      <td>NaT</td>\n",
       "      <td>NaT</td>\n",
       "    </tr>\n",
       "    <tr>\n",
       "      <th>4</th>\n",
       "      <td>37</td>\n",
       "      <td>Training Day (2001)  (DVD)</td>\n",
       "      <td>3</td>\n",
       "      <td>NaN</td>\n",
       "      <td>NaN</td>\n",
       "      <td>NaT</td>\n",
       "      <td>NaT</td>\n",
       "    </tr>\n",
       "  </tbody>\n",
       "</table>\n",
       "</div>"
      ],
      "text/plain": [
       "   idProduct                             TSIN Title  QTY  Units_Returned  \\\n",
       "0          8  Mad Max: Beyond The Thunderdome (DVD)   10             NaN   \n",
       "1          9                    Men Of Honour (DVD)    5             NaN   \n",
       "2         14                          Speed 2 (DVD)   19             NaN   \n",
       "3         16                Predator 2 (1990) (DVD)    3             NaN   \n",
       "4         37             Training Day (2001)  (DVD)    3             NaN   \n",
       "\n",
       "  Description Product_Date_Added Seller_Date_Added  \n",
       "0         NaN                NaT               NaT  \n",
       "1         NaN                NaT               NaT  \n",
       "2         NaN                NaT               NaT  \n",
       "3         NaN                NaT               NaT  \n",
       "4         NaN                NaT               NaT  "
      ]
     },
     "execution_count": 23,
     "metadata": {},
     "output_type": "execute_result"
    }
   ],
   "source": [
    "df.head()"
   ]
  },
  {
   "cell_type": "code",
   "execution_count": 24,
   "id": "488ebe01",
   "metadata": {},
   "outputs": [
    {
     "name": "stdout",
     "output_type": "stream",
     "text": [
      "<class 'pandas.core.frame.DataFrame'>\n",
      "Int64Index: 531092 entries, 0 to 531091\n",
      "Data columns (total 7 columns):\n",
      " #   Column              Non-Null Count   Dtype         \n",
      "---  ------              --------------   -----         \n",
      " 0   idProduct           531092 non-null  int64         \n",
      " 1   TSIN Title          531092 non-null  object        \n",
      " 2   QTY                 531092 non-null  int64         \n",
      " 3   Units_Returned      64315 non-null   float64       \n",
      " 4   Description         64233 non-null   object        \n",
      " 5   Product_Date_Added  62664 non-null   datetime64[ns]\n",
      " 6   Seller_Date_Added   60066 non-null   datetime64[ns]\n",
      "dtypes: datetime64[ns](2), float64(1), int64(2), object(2)\n",
      "memory usage: 32.4+ MB\n"
     ]
    }
   ],
   "source": [
    "df.info()"
   ]
  },
  {
   "cell_type": "code",
   "execution_count": 11,
   "id": "d5191c89",
   "metadata": {},
   "outputs": [],
   "source": [
    "# create target variable - whether a product was returned or not\n",
    "#df['is_returned'] = np.where((df.Units_Returned.isnull()),'0','1')"
   ]
  },
  {
   "cell_type": "code",
   "execution_count": 25,
   "id": "de162639",
   "metadata": {},
   "outputs": [],
   "source": [
    "df['Units_Returned'] = np.where((df.Units_Returned.isnull()),0,df['Units_Returned'])"
   ]
  },
  {
   "cell_type": "code",
   "execution_count": 26,
   "id": "f573aed3",
   "metadata": {},
   "outputs": [],
   "source": [
    "# create target variable - whether a product was returned or not\n",
    "df['is_returned']=np.where((df['Units_Returned']>=3) & (df['QTY']>=10),1,0)"
   ]
  },
  {
   "cell_type": "code",
   "execution_count": 27,
   "id": "892b82c6",
   "metadata": {},
   "outputs": [],
   "source": [
    "df['return_rate'] = df['Units_Returned']/df['QTY']*100"
   ]
  },
  {
   "cell_type": "code",
   "execution_count": 28,
   "id": "824b87eb",
   "metadata": {},
   "outputs": [
    {
     "data": {
      "text/html": [
       "<div>\n",
       "<style scoped>\n",
       "    .dataframe tbody tr th:only-of-type {\n",
       "        vertical-align: middle;\n",
       "    }\n",
       "\n",
       "    .dataframe tbody tr th {\n",
       "        vertical-align: top;\n",
       "    }\n",
       "\n",
       "    .dataframe thead th {\n",
       "        text-align: right;\n",
       "    }\n",
       "</style>\n",
       "<table border=\"1\" class=\"dataframe\">\n",
       "  <thead>\n",
       "    <tr style=\"text-align: right;\">\n",
       "      <th></th>\n",
       "      <th>idProduct</th>\n",
       "      <th>TSIN Title</th>\n",
       "      <th>QTY</th>\n",
       "      <th>Units_Returned</th>\n",
       "      <th>Description</th>\n",
       "      <th>Product_Date_Added</th>\n",
       "      <th>Seller_Date_Added</th>\n",
       "      <th>is_returned</th>\n",
       "      <th>return_rate</th>\n",
       "    </tr>\n",
       "  </thead>\n",
       "  <tbody>\n",
       "    <tr>\n",
       "      <th>0</th>\n",
       "      <td>8</td>\n",
       "      <td>Mad Max: Beyond The Thunderdome (DVD)</td>\n",
       "      <td>10</td>\n",
       "      <td>0.0</td>\n",
       "      <td>NaN</td>\n",
       "      <td>NaT</td>\n",
       "      <td>NaT</td>\n",
       "      <td>0</td>\n",
       "      <td>0.0</td>\n",
       "    </tr>\n",
       "    <tr>\n",
       "      <th>1</th>\n",
       "      <td>9</td>\n",
       "      <td>Men Of Honour (DVD)</td>\n",
       "      <td>5</td>\n",
       "      <td>0.0</td>\n",
       "      <td>NaN</td>\n",
       "      <td>NaT</td>\n",
       "      <td>NaT</td>\n",
       "      <td>0</td>\n",
       "      <td>0.0</td>\n",
       "    </tr>\n",
       "    <tr>\n",
       "      <th>2</th>\n",
       "      <td>14</td>\n",
       "      <td>Speed 2 (DVD)</td>\n",
       "      <td>19</td>\n",
       "      <td>0.0</td>\n",
       "      <td>NaN</td>\n",
       "      <td>NaT</td>\n",
       "      <td>NaT</td>\n",
       "      <td>0</td>\n",
       "      <td>0.0</td>\n",
       "    </tr>\n",
       "    <tr>\n",
       "      <th>3</th>\n",
       "      <td>16</td>\n",
       "      <td>Predator 2 (1990) (DVD)</td>\n",
       "      <td>3</td>\n",
       "      <td>0.0</td>\n",
       "      <td>NaN</td>\n",
       "      <td>NaT</td>\n",
       "      <td>NaT</td>\n",
       "      <td>0</td>\n",
       "      <td>0.0</td>\n",
       "    </tr>\n",
       "    <tr>\n",
       "      <th>4</th>\n",
       "      <td>37</td>\n",
       "      <td>Training Day (2001)  (DVD)</td>\n",
       "      <td>3</td>\n",
       "      <td>0.0</td>\n",
       "      <td>NaN</td>\n",
       "      <td>NaT</td>\n",
       "      <td>NaT</td>\n",
       "      <td>0</td>\n",
       "      <td>0.0</td>\n",
       "    </tr>\n",
       "  </tbody>\n",
       "</table>\n",
       "</div>"
      ],
      "text/plain": [
       "   idProduct                             TSIN Title  QTY  Units_Returned  \\\n",
       "0          8  Mad Max: Beyond The Thunderdome (DVD)   10             0.0   \n",
       "1          9                    Men Of Honour (DVD)    5             0.0   \n",
       "2         14                          Speed 2 (DVD)   19             0.0   \n",
       "3         16                Predator 2 (1990) (DVD)    3             0.0   \n",
       "4         37             Training Day (2001)  (DVD)    3             0.0   \n",
       "\n",
       "  Description Product_Date_Added Seller_Date_Added  is_returned  return_rate  \n",
       "0         NaN                NaT               NaT            0          0.0  \n",
       "1         NaN                NaT               NaT            0          0.0  \n",
       "2         NaN                NaT               NaT            0          0.0  \n",
       "3         NaN                NaT               NaT            0          0.0  \n",
       "4         NaN                NaT               NaT            0          0.0  "
      ]
     },
     "execution_count": 28,
     "metadata": {},
     "output_type": "execute_result"
    }
   ],
   "source": [
    "df.head()"
   ]
  },
  {
   "cell_type": "code",
   "execution_count": 29,
   "id": "199c60cd",
   "metadata": {},
   "outputs": [
    {
     "data": {
      "text/plain": [
       "Seller_Date_Added     88.690095\n",
       "Product_Date_Added    88.200914\n",
       "Description           87.905485\n",
       "idProduct              0.000000\n",
       "TSIN Title             0.000000\n",
       "QTY                    0.000000\n",
       "Units_Returned         0.000000\n",
       "is_returned            0.000000\n",
       "return_rate            0.000000\n",
       "dtype: float64"
      ]
     },
     "execution_count": 29,
     "metadata": {},
     "output_type": "execute_result"
    }
   ],
   "source": [
    "df.isnull().sum().sort_values(ascending = False)/len(df)*100 "
   ]
  },
  {
   "cell_type": "code",
   "execution_count": 30,
   "id": "e3df792a",
   "metadata": {},
   "outputs": [
    {
     "data": {
      "text/html": [
       "<div>\n",
       "<style scoped>\n",
       "    .dataframe tbody tr th:only-of-type {\n",
       "        vertical-align: middle;\n",
       "    }\n",
       "\n",
       "    .dataframe tbody tr th {\n",
       "        vertical-align: top;\n",
       "    }\n",
       "\n",
       "    .dataframe thead th {\n",
       "        text-align: right;\n",
       "    }\n",
       "</style>\n",
       "<table border=\"1\" class=\"dataframe\">\n",
       "  <thead>\n",
       "    <tr style=\"text-align: right;\">\n",
       "      <th></th>\n",
       "      <th>idProduct</th>\n",
       "      <th>QTY</th>\n",
       "      <th>Units_Returned</th>\n",
       "      <th>is_returned</th>\n",
       "      <th>return_rate</th>\n",
       "    </tr>\n",
       "  </thead>\n",
       "  <tbody>\n",
       "    <tr>\n",
       "      <th>count</th>\n",
       "      <td>5.310920e+05</td>\n",
       "      <td>531092.000000</td>\n",
       "      <td>531092.000000</td>\n",
       "      <td>531092.000000</td>\n",
       "      <td>531092.000000</td>\n",
       "    </tr>\n",
       "    <tr>\n",
       "      <th>mean</th>\n",
       "      <td>8.937405e+07</td>\n",
       "      <td>18.201054</td>\n",
       "      <td>3.457881</td>\n",
       "      <td>0.048491</td>\n",
       "      <td>17.420969</td>\n",
       "    </tr>\n",
       "    <tr>\n",
       "      <th>std</th>\n",
       "      <td>1.846305e+07</td>\n",
       "      <td>165.828346</td>\n",
       "      <td>111.758484</td>\n",
       "      <td>0.214801</td>\n",
       "      <td>222.578344</td>\n",
       "    </tr>\n",
       "    <tr>\n",
       "      <th>min</th>\n",
       "      <td>8.000000e+00</td>\n",
       "      <td>1.000000</td>\n",
       "      <td>0.000000</td>\n",
       "      <td>0.000000</td>\n",
       "      <td>0.000000</td>\n",
       "    </tr>\n",
       "    <tr>\n",
       "      <th>25%</th>\n",
       "      <td>8.392630e+07</td>\n",
       "      <td>1.000000</td>\n",
       "      <td>0.000000</td>\n",
       "      <td>0.000000</td>\n",
       "      <td>0.000000</td>\n",
       "    </tr>\n",
       "    <tr>\n",
       "      <th>50%</th>\n",
       "      <td>9.536033e+07</td>\n",
       "      <td>3.000000</td>\n",
       "      <td>0.000000</td>\n",
       "      <td>0.000000</td>\n",
       "      <td>0.000000</td>\n",
       "    </tr>\n",
       "    <tr>\n",
       "      <th>75%</th>\n",
       "      <td>1.036426e+08</td>\n",
       "      <td>10.000000</td>\n",
       "      <td>0.000000</td>\n",
       "      <td>0.000000</td>\n",
       "      <td>0.000000</td>\n",
       "    </tr>\n",
       "    <tr>\n",
       "      <th>max</th>\n",
       "      <td>1.061392e+08</td>\n",
       "      <td>84499.000000</td>\n",
       "      <td>52722.000000</td>\n",
       "      <td>1.000000</td>\n",
       "      <td>43500.000000</td>\n",
       "    </tr>\n",
       "  </tbody>\n",
       "</table>\n",
       "</div>"
      ],
      "text/plain": [
       "          idProduct            QTY  Units_Returned    is_returned  \\\n",
       "count  5.310920e+05  531092.000000   531092.000000  531092.000000   \n",
       "mean   8.937405e+07      18.201054        3.457881       0.048491   \n",
       "std    1.846305e+07     165.828346      111.758484       0.214801   \n",
       "min    8.000000e+00       1.000000        0.000000       0.000000   \n",
       "25%    8.392630e+07       1.000000        0.000000       0.000000   \n",
       "50%    9.536033e+07       3.000000        0.000000       0.000000   \n",
       "75%    1.036426e+08      10.000000        0.000000       0.000000   \n",
       "max    1.061392e+08   84499.000000    52722.000000       1.000000   \n",
       "\n",
       "         return_rate  \n",
       "count  531092.000000  \n",
       "mean       17.420969  \n",
       "std       222.578344  \n",
       "min         0.000000  \n",
       "25%         0.000000  \n",
       "50%         0.000000  \n",
       "75%         0.000000  \n",
       "max     43500.000000  "
      ]
     },
     "execution_count": 30,
     "metadata": {},
     "output_type": "execute_result"
    }
   ],
   "source": [
    "df.describe()"
   ]
  },
  {
   "cell_type": "code",
   "execution_count": 31,
   "id": "1a2afcb3",
   "metadata": {},
   "outputs": [
    {
     "data": {
      "image/png": "[encoded data removed]",
      "text/plain": [
       "<Figure size 576x432 with 1 Axes>"
      ]
     },
     "metadata": {
      "needs_background": "light"
     },
     "output_type": "display_data"
    }
   ],
   "source": [
    "# check the distribution of the target variable - returned (1) vs not-returned(0)\n",
    "def target(plot, feature):\n",
    "    total = len(feature)\n",
    "    for p in plot.patches:\n",
    "        percentage = '{:.1f}%'.format(100 * p.get_height()/total)\n",
    "        x = p.get_x() + p.get_width() / 2 - 0.05\n",
    "        y = p.get_y() + p.get_height()\n",
    "        plot.annotate(percentage, (x, y), size = 12,ha = 'center', va = 'center', xytext = (0, 10), \n",
    "                                                                        textcoords = 'offset points')\n",
    "    plt.show()\n",
    "\n",
    "plt.figure(figsize=(8, 6))\n",
    "plot = sns.countplot(df['is_returned'])\n",
    "\n",
    "\n",
    "target(plot,df.is_returned)"
   ]
  },
  {
   "cell_type": "code",
   "execution_count": 77,
   "id": "39e65d15",
   "metadata": {},
   "outputs": [],
   "source": [
    "df['Product_Age']=dt.today()-df['Product_Date_Added']\n",
    "df['Product_Age'] = df['Product_Age'].dt.days.astype('int16',errors='ignore')\n",
    "\n",
    "# convert to years\n",
    "df['Product_Age'] = round(df['Product_Age']/365)\n",
    "df['Product_Age'] = df['Product_Age'].astype('int16',errors='ignore')"
   ]
  },
  {
   "cell_type": "code",
   "execution_count": 44,
   "id": "53344172",
   "metadata": {},
   "outputs": [],
   "source": [
    "df['Seller_Age'] = dt.today()-df['Seller_Date_Added']\n",
    "df['Seller_Age'] = df['Seller_Age'].dt.days.astype('int16',errors='ignore')\n",
    "\n",
    "df['Seller_Age'] = round(df['Seller_Age']/365)\n",
    "df['Seller_Age'] = df['Seller_Age'].astype('int16',errors='ignore')"
   ]
  },
  {
   "cell_type": "code",
   "execution_count": 12,
   "id": "fe2d9025",
   "metadata": {},
   "outputs": [],
   "source": [
    "#df2['Customer_Age'] = dt.today()-df2['Customer_Date_Added']\n",
    "\n",
    "#df2['Customer_Age'] = df2['Customer_Age'].dt.days.astype('int16',errors='ignore')\n",
    "\n",
    "#convert to years\n",
    "#df2['Customer_Age'] = df2['Customer_Age']/365\n",
    "#df2['Customer_Age'] = df2['Customer_Age'].astype('int16',errors='ignore')"
   ]
  },
  {
   "cell_type": "code",
   "execution_count": 15,
   "id": "b8ce6fd8",
   "metadata": {},
   "outputs": [],
   "source": [
    "#df2['Seller_Age'] = dt.today()-df2['Seller_Date_Added']\n",
    "#df2['Seller_Age'] = df2['Seller_Age'].dt.days.astype('int16',errors='ignore')\n",
    "\n",
    "# convert to years\n",
    "#df2['Seller_Age'] = df2['Seller_Age']/365\n",
    "#df2['Seller_Age'] = df2['Seller_Age'].astype('int16',errors='ignore')"
   ]
  },
  {
   "cell_type": "code",
   "execution_count": 16,
   "id": "38d730bf",
   "metadata": {},
   "outputs": [],
   "source": [
    "#df2['Waiting_Time']=(pd.to_datetime(df2['DateDelivered']) -pd.to_datetime(df2['OrderDate']))\n",
    "#df2['Waiting_Time'] = df2['Waiting_Time'].dt.days.astype('int16',errors='ignore')"
   ]
  },
  {
   "cell_type": "code",
   "execution_count": 17,
   "id": "8650e214",
   "metadata": {},
   "outputs": [],
   "source": [
    "#df2['Order_Size'] = df2.groupby(['idOrder'])['idProduct'].transform('count')"
   ]
  },
  {
   "cell_type": "code",
   "execution_count": 19,
   "id": "70295f74",
   "metadata": {},
   "outputs": [],
   "source": [
    "#df2['Waiting_Time']=np.where((df2['Waiting_Time']<0),0,df2['Waiting_Time'])"
   ]
  },
  {
   "cell_type": "code",
   "execution_count": 52,
   "id": "b48c264c",
   "metadata": {},
   "outputs": [
    {
     "data": {
      "text/plain": [
       "<AxesSubplot:xlabel='Product_Age', ylabel='Units_Returned'>"
      ]
     },
     "execution_count": 52,
     "metadata": {},
     "output_type": "execute_result"
    },
    {
     "data": {
      "image/png": "[encoded data removed]",
      "text/plain": [
       "<Figure size 432x288 with 1 Axes>"
      ]
     },
     "metadata": {
      "needs_background": "light"
     },
     "output_type": "display_data"
    }
   ],
   "source": [
    "sns.scatterplot(data = df, x = 'Product_Age', y = 'Units_Returned')"
   ]
  },
  {
   "cell_type": "code",
   "execution_count": 53,
   "id": "43f95901",
   "metadata": {},
   "outputs": [
    {
     "data": {
      "text/plain": [
       "<AxesSubplot:xlabel='Seller_Age', ylabel='Units_Returned'>"
      ]
     },
     "execution_count": 53,
     "metadata": {},
     "output_type": "execute_result"
    },
    {
     "data": {
      "image/png": "[encoded data removed]",
      "text/plain": [
       "<Figure size 432x288 with 1 Axes>"
      ]
     },
     "metadata": {
      "needs_background": "light"
     },
     "output_type": "display_data"
    }
   ],
   "source": [
    "sns.scatterplot(data = df, x = 'Seller_Age', y = 'Units_Returned')"
   ]
  },
  {
   "cell_type": "code",
   "execution_count": 24,
   "id": "5db50f39",
   "metadata": {},
   "outputs": [],
   "source": [
    "#target variable (is_returned) is stored as onject type, convert it to int\n",
    "#df2['is_returned']=df2['is_returned'].astype(str).astype(int)"
   ]
  },
  {
   "cell_type": "code",
   "execution_count": 55,
   "id": "686b85a1",
   "metadata": {},
   "outputs": [
    {
     "data": {
      "image/png": "[encoded data removed]",
      "text/plain": [
       "<Figure size 1008x720 with 2 Axes>"
      ]
     },
     "metadata": {
      "needs_background": "light"
     },
     "output_type": "display_data"
    }
   ],
   "source": [
    "plt.figure(figsize = (14,10))\n",
    "\n",
    "sns.heatmap(df.corr(), cmap = plt.cm.RdYlBu_r, vmin = -0.25, annot = True, vmax = 0.6);"
   ]
  },
  {
   "cell_type": "code",
   "execution_count": 61,
   "id": "98972462",
   "metadata": {},
   "outputs": [
    {
     "data": {
      "text/plain": [
       "<seaborn.axisgrid.PairGrid at 0x221226c9ca0>"
      ]
     },
     "execution_count": 61,
     "metadata": {},
     "output_type": "execute_result"
    },
    {
     "data": {
      "image/png": "[encoded data removed]",
      "text/plain": [
       "<Figure size 604.25x540 with 12 Axes>"
      ]
     },
     "metadata": {
      "needs_background": "light"
     },
     "output_type": "display_data"
    }
   ],
   "source": [
    "corr = ['Seller_Age','Product_Age','Units_Returned','is_returned']\n",
    "corr_data = df.loc[:,corr]\n",
    "sns.pairplot(corr_data, hue = 'is_returned')"
   ]
  },
  {
   "cell_type": "code",
   "execution_count": 62,
   "id": "06972d10",
   "metadata": {},
   "outputs": [
    {
     "data": {
      "text/html": [
       "<div>\n",
       "<style scoped>\n",
       "    .dataframe tbody tr th:only-of-type {\n",
       "        vertical-align: middle;\n",
       "    }\n",
       "\n",
       "    .dataframe tbody tr th {\n",
       "        vertical-align: top;\n",
       "    }\n",
       "\n",
       "    .dataframe thead th {\n",
       "        text-align: right;\n",
       "    }\n",
       "</style>\n",
       "<table border=\"1\" class=\"dataframe\">\n",
       "  <thead>\n",
       "    <tr style=\"text-align: right;\">\n",
       "      <th></th>\n",
       "      <th>idProduct</th>\n",
       "      <th>TSIN Title</th>\n",
       "      <th>QTY</th>\n",
       "      <th>Units_Returned</th>\n",
       "      <th>Description</th>\n",
       "      <th>Product_Date_Added</th>\n",
       "      <th>Seller_Date_Added</th>\n",
       "      <th>is_returned</th>\n",
       "      <th>return_rate</th>\n",
       "      <th>Product_Age</th>\n",
       "      <th>Seller_Age</th>\n",
       "      <th>Cleaned_Description</th>\n",
       "    </tr>\n",
       "  </thead>\n",
       "  <tbody>\n",
       "    <tr>\n",
       "      <th>0</th>\n",
       "      <td>8</td>\n",
       "      <td>Mad Max: Beyond The Thunderdome (DVD)</td>\n",
       "      <td>10</td>\n",
       "      <td>0.0</td>\n",
       "      <td>NaN</td>\n",
       "      <td>NaT</td>\n",
       "      <td>NaT</td>\n",
       "      <td>0</td>\n",
       "      <td>0.0</td>\n",
       "      <td>NaN</td>\n",
       "      <td>NaN</td>\n",
       "      <td>nan</td>\n",
       "    </tr>\n",
       "    <tr>\n",
       "      <th>1</th>\n",
       "      <td>9</td>\n",
       "      <td>Men Of Honour (DVD)</td>\n",
       "      <td>5</td>\n",
       "      <td>0.0</td>\n",
       "      <td>NaN</td>\n",
       "      <td>NaT</td>\n",
       "      <td>NaT</td>\n",
       "      <td>0</td>\n",
       "      <td>0.0</td>\n",
       "      <td>NaN</td>\n",
       "      <td>NaN</td>\n",
       "      <td>nan</td>\n",
       "    </tr>\n",
       "    <tr>\n",
       "      <th>2</th>\n",
       "      <td>14</td>\n",
       "      <td>Speed 2 (DVD)</td>\n",
       "      <td>19</td>\n",
       "      <td>0.0</td>\n",
       "      <td>NaN</td>\n",
       "      <td>NaT</td>\n",
       "      <td>NaT</td>\n",
       "      <td>0</td>\n",
       "      <td>0.0</td>\n",
       "      <td>NaN</td>\n",
       "      <td>NaN</td>\n",
       "      <td>nan</td>\n",
       "    </tr>\n",
       "    <tr>\n",
       "      <th>3</th>\n",
       "      <td>16</td>\n",
       "      <td>Predator 2 (1990) (DVD)</td>\n",
       "      <td>3</td>\n",
       "      <td>0.0</td>\n",
       "      <td>NaN</td>\n",
       "      <td>NaT</td>\n",
       "      <td>NaT</td>\n",
       "      <td>0</td>\n",
       "      <td>0.0</td>\n",
       "      <td>NaN</td>\n",
       "      <td>NaN</td>\n",
       "      <td>nan</td>\n",
       "    </tr>\n",
       "    <tr>\n",
       "      <th>4</th>\n",
       "      <td>37</td>\n",
       "      <td>Training Day (2001)  (DVD)</td>\n",
       "      <td>3</td>\n",
       "      <td>0.0</td>\n",
       "      <td>NaN</td>\n",
       "      <td>NaT</td>\n",
       "      <td>NaT</td>\n",
       "      <td>0</td>\n",
       "      <td>0.0</td>\n",
       "      <td>NaN</td>\n",
       "      <td>NaN</td>\n",
       "      <td>nan</td>\n",
       "    </tr>\n",
       "  </tbody>\n",
       "</table>\n",
       "</div>"
      ],
      "text/plain": [
       "   idProduct                             TSIN Title  QTY  Units_Returned  \\\n",
       "0          8  Mad Max: Beyond The Thunderdome (DVD)   10             0.0   \n",
       "1          9                    Men Of Honour (DVD)    5             0.0   \n",
       "2         14                          Speed 2 (DVD)   19             0.0   \n",
       "3         16                Predator 2 (1990) (DVD)    3             0.0   \n",
       "4         37             Training Day (2001)  (DVD)    3             0.0   \n",
       "\n",
       "  Description Product_Date_Added Seller_Date_Added  is_returned  return_rate  \\\n",
       "0         NaN                NaT               NaT            0          0.0   \n",
       "1         NaN                NaT               NaT            0          0.0   \n",
       "2         NaN                NaT               NaT            0          0.0   \n",
       "3         NaN                NaT               NaT            0          0.0   \n",
       "4         NaN                NaT               NaT            0          0.0   \n",
       "\n",
       "   Product_Age  Seller_Age Cleaned_Description  \n",
       "0          NaN         NaN                 nan  \n",
       "1          NaN         NaN                 nan  \n",
       "2          NaN         NaN                 nan  \n",
       "3          NaN         NaN                 nan  \n",
       "4          NaN         NaN                 nan  "
      ]
     },
     "execution_count": 62,
     "metadata": {},
     "output_type": "execute_result"
    }
   ],
   "source": [
    "import re\n",
    "\n",
    "# Define a function to clean the product description column\n",
    "def clean(text):\n",
    "    # Removes all special characters and numericals leaving the alphabets\n",
    "    text = re.sub('[^A-Za-z]+', ' ', str(text))\n",
    "    return text\n",
    "\n",
    "# Cleaning the text in the review column\n",
    "df['Cleaned_Description'] = df['Description'].apply(clean)\n",
    "df.head()"
   ]
  },
  {
   "cell_type": "code",
   "execution_count": 63,
   "id": "6f67bc58",
   "metadata": {},
   "outputs": [],
   "source": [
    "df['Desc_count']= np.where((df.Description.isnull()),0,df['Cleaned_Description'].str.split().str.len())"
   ]
  },
  {
   "cell_type": "code",
   "execution_count": 64,
   "id": "9a811ff8",
   "metadata": {},
   "outputs": [
    {
     "data": {
      "image/png": "[encoded data removed]",
      "text/plain": [
       "<Figure size 432x288 with 2 Axes>"
      ]
     },
     "metadata": {
      "needs_background": "light"
     },
     "output_type": "display_data"
    }
   ],
   "source": [
    "sns.heatmap(df.corr(), cmap = plt.cm.RdYlBu_r, vmin = -0.25, annot = True, vmax = 0.6);"
   ]
  },
  {
   "cell_type": "code",
   "execution_count": 65,
   "id": "8dabb4cc",
   "metadata": {},
   "outputs": [
    {
     "data": {
      "text/plain": [
       "<AxesSubplot:xlabel='Desc_count', ylabel='Units_Returned'>"
      ]
     },
     "execution_count": 65,
     "metadata": {},
     "output_type": "execute_result"
    },
    {
     "data": {
      "image/png": "[encoded data removed]",
      "text/plain": [
       "<Figure size 432x288 with 1 Axes>"
      ]
     },
     "metadata": {
      "needs_background": "light"
     },
     "output_type": "display_data"
    }
   ],
   "source": [
    "sns.scatterplot(data = df, x = 'Desc_count', y = 'Units_Returned')"
   ]
  },
  {
   "cell_type": "code",
   "execution_count": 272,
   "id": "a25b5c57",
   "metadata": {},
   "outputs": [
    {
     "data": {
      "text/plain": [
       "<AxesSubplot:xlabel='Product_Age', ylabel='Units_Returned'>"
      ]
     },
     "execution_count": 272,
     "metadata": {},
     "output_type": "execute_result"
    },
    {
     "data": {
      "image/png": "[encoded data removed]",
      "text/plain": [
       "<Figure size 432x288 with 1 Axes>"
      ]
     },
     "metadata": {
      "needs_background": "light"
     },
     "output_type": "display_data"
    }
   ],
   "source": [
    "sns.scatterplot(data = df, x = 'Product_Age', y = 'Units_Returned')"
   ]
  },
  {
   "cell_type": "code",
   "execution_count": 227,
   "id": "40709549",
   "metadata": {},
   "outputs": [],
   "source": [
    "cols=['idProduct','Product_Age','is_returned','Desc_count','Seller_Age', 'QTY']\n",
    "\n",
    "train_data = df.loc[:,cols]"
   ]
  },
  {
   "cell_type": "code",
   "execution_count": 228,
   "id": "e270724e",
   "metadata": {},
   "outputs": [
    {
     "data": {
      "text/html": [
       "<div>\n",
       "<style scoped>\n",
       "    .dataframe tbody tr th:only-of-type {\n",
       "        vertical-align: middle;\n",
       "    }\n",
       "\n",
       "    .dataframe tbody tr th {\n",
       "        vertical-align: top;\n",
       "    }\n",
       "\n",
       "    .dataframe thead th {\n",
       "        text-align: right;\n",
       "    }\n",
       "</style>\n",
       "<table border=\"1\" class=\"dataframe\">\n",
       "  <thead>\n",
       "    <tr style=\"text-align: right;\">\n",
       "      <th></th>\n",
       "      <th>idProduct</th>\n",
       "      <th>Product_Age</th>\n",
       "      <th>is_returned</th>\n",
       "      <th>Desc_count</th>\n",
       "      <th>Seller_Age</th>\n",
       "      <th>QTY</th>\n",
       "    </tr>\n",
       "  </thead>\n",
       "  <tbody>\n",
       "    <tr>\n",
       "      <th>0</th>\n",
       "      <td>8</td>\n",
       "      <td>NaN</td>\n",
       "      <td>0</td>\n",
       "      <td>0</td>\n",
       "      <td>NaN</td>\n",
       "      <td>10</td>\n",
       "    </tr>\n",
       "    <tr>\n",
       "      <th>1</th>\n",
       "      <td>9</td>\n",
       "      <td>NaN</td>\n",
       "      <td>0</td>\n",
       "      <td>0</td>\n",
       "      <td>NaN</td>\n",
       "      <td>5</td>\n",
       "    </tr>\n",
       "    <tr>\n",
       "      <th>2</th>\n",
       "      <td>14</td>\n",
       "      <td>NaN</td>\n",
       "      <td>0</td>\n",
       "      <td>0</td>\n",
       "      <td>NaN</td>\n",
       "      <td>19</td>\n",
       "    </tr>\n",
       "    <tr>\n",
       "      <th>3</th>\n",
       "      <td>16</td>\n",
       "      <td>NaN</td>\n",
       "      <td>0</td>\n",
       "      <td>0</td>\n",
       "      <td>NaN</td>\n",
       "      <td>3</td>\n",
       "    </tr>\n",
       "    <tr>\n",
       "      <th>4</th>\n",
       "      <td>37</td>\n",
       "      <td>NaN</td>\n",
       "      <td>0</td>\n",
       "      <td>0</td>\n",
       "      <td>NaN</td>\n",
       "      <td>3</td>\n",
       "    </tr>\n",
       "  </tbody>\n",
       "</table>\n",
       "</div>"
      ],
      "text/plain": [
       "   idProduct  Product_Age  is_returned  Desc_count  Seller_Age  QTY\n",
       "0          8          NaN            0           0         NaN   10\n",
       "1          9          NaN            0           0         NaN    5\n",
       "2         14          NaN            0           0         NaN   19\n",
       "3         16          NaN            0           0         NaN    3\n",
       "4         37          NaN            0           0         NaN    3"
      ]
     },
     "execution_count": 228,
     "metadata": {},
     "output_type": "execute_result"
    }
   ],
   "source": [
    "train_data.head()"
   ]
  },
  {
   "cell_type": "code",
   "execution_count": 229,
   "id": "eafae7a6",
   "metadata": {},
   "outputs": [
    {
     "data": {
      "text/plain": [
       "Seller_Age     88.690095\n",
       "Product_Age    88.200914\n",
       "idProduct       0.000000\n",
       "is_returned     0.000000\n",
       "Desc_count      0.000000\n",
       "QTY             0.000000\n",
       "dtype: float64"
      ]
     },
     "execution_count": 229,
     "metadata": {},
     "output_type": "execute_result"
    }
   ],
   "source": [
    "train_data.isnull().sum().sort_values(ascending = False)/len(train_data)*100 "
   ]
  },
  {
   "cell_type": "code",
   "execution_count": 230,
   "id": "f6530596",
   "metadata": {},
   "outputs": [],
   "source": [
    "train_data['Seller_Age'].fillna((train_data['Seller_Age'].mean()), inplace=True)\n",
    "train_data['Product_Age'].fillna((train_data['Product_Age'].mean()), inplace=True)\n",
    "\n",
    "train_data['Seller_Age']  = round(train_data['Seller_Age'])\n",
    "train_data['Product_Age'] = round(train_data['Product_Age'])"
   ]
  },
  {
   "cell_type": "code",
   "execution_count": 231,
   "id": "56317e63",
   "metadata": {},
   "outputs": [
    {
     "data": {
      "text/plain": [
       "idProduct      0.0\n",
       "Product_Age    0.0\n",
       "is_returned    0.0\n",
       "Desc_count     0.0\n",
       "Seller_Age     0.0\n",
       "QTY            0.0\n",
       "dtype: float64"
      ]
     },
     "execution_count": 231,
     "metadata": {},
     "output_type": "execute_result"
    }
   ],
   "source": [
    "train_data.isnull().sum().sort_values(ascending = False)/len(train_data)*100 "
   ]
  },
  {
   "cell_type": "code",
   "execution_count": 232,
   "id": "a96171b8",
   "metadata": {},
   "outputs": [],
   "source": [
    "#le = LabelEncoder()\n",
    "#train_data['PaymentMethod'] = le.fit_transform(train_data['PaymentMethod'])"
   ]
  },
  {
   "cell_type": "code",
   "execution_count": 233,
   "id": "26336310",
   "metadata": {},
   "outputs": [],
   "source": [
    "# one hot encoding\n",
    "#train_data = pd.concat([train_data,pd.get_dummies(train_data['PaymentMethod'], prefix = 'PaymentMethod')], axis=1)"
   ]
  },
  {
   "cell_type": "code",
   "execution_count": 234,
   "id": "f174afcc",
   "metadata": {},
   "outputs": [],
   "source": [
    "#train_data = train_data.drop('PaymentMethod',axis=1)"
   ]
  },
  {
   "cell_type": "code",
   "execution_count": 235,
   "id": "8af3b582",
   "metadata": {},
   "outputs": [
    {
     "data": {
      "text/html": [
       "<div>\n",
       "<style scoped>\n",
       "    .dataframe tbody tr th:only-of-type {\n",
       "        vertical-align: middle;\n",
       "    }\n",
       "\n",
       "    .dataframe tbody tr th {\n",
       "        vertical-align: top;\n",
       "    }\n",
       "\n",
       "    .dataframe thead th {\n",
       "        text-align: right;\n",
       "    }\n",
       "</style>\n",
       "<table border=\"1\" class=\"dataframe\">\n",
       "  <thead>\n",
       "    <tr style=\"text-align: right;\">\n",
       "      <th></th>\n",
       "      <th>idProduct</th>\n",
       "      <th>Product_Age</th>\n",
       "      <th>is_returned</th>\n",
       "      <th>Desc_count</th>\n",
       "      <th>Seller_Age</th>\n",
       "      <th>QTY</th>\n",
       "    </tr>\n",
       "  </thead>\n",
       "  <tbody>\n",
       "    <tr>\n",
       "      <th>0</th>\n",
       "      <td>8</td>\n",
       "      <td>2.0</td>\n",
       "      <td>0</td>\n",
       "      <td>0</td>\n",
       "      <td>0.0</td>\n",
       "      <td>10</td>\n",
       "    </tr>\n",
       "    <tr>\n",
       "      <th>1</th>\n",
       "      <td>9</td>\n",
       "      <td>2.0</td>\n",
       "      <td>0</td>\n",
       "      <td>0</td>\n",
       "      <td>0.0</td>\n",
       "      <td>5</td>\n",
       "    </tr>\n",
       "    <tr>\n",
       "      <th>2</th>\n",
       "      <td>14</td>\n",
       "      <td>2.0</td>\n",
       "      <td>0</td>\n",
       "      <td>0</td>\n",
       "      <td>0.0</td>\n",
       "      <td>19</td>\n",
       "    </tr>\n",
       "    <tr>\n",
       "      <th>3</th>\n",
       "      <td>16</td>\n",
       "      <td>2.0</td>\n",
       "      <td>0</td>\n",
       "      <td>0</td>\n",
       "      <td>0.0</td>\n",
       "      <td>3</td>\n",
       "    </tr>\n",
       "    <tr>\n",
       "      <th>4</th>\n",
       "      <td>37</td>\n",
       "      <td>2.0</td>\n",
       "      <td>0</td>\n",
       "      <td>0</td>\n",
       "      <td>0.0</td>\n",
       "      <td>3</td>\n",
       "    </tr>\n",
       "  </tbody>\n",
       "</table>\n",
       "</div>"
      ],
      "text/plain": [
       "   idProduct  Product_Age  is_returned  Desc_count  Seller_Age  QTY\n",
       "0          8          2.0            0           0         0.0   10\n",
       "1          9          2.0            0           0         0.0    5\n",
       "2         14          2.0            0           0         0.0   19\n",
       "3         16          2.0            0           0         0.0    3\n",
       "4         37          2.0            0           0         0.0    3"
      ]
     },
     "execution_count": 235,
     "metadata": {},
     "output_type": "execute_result"
    }
   ],
   "source": [
    "train_data.head()"
   ]
  },
  {
   "cell_type": "code",
   "execution_count": 236,
   "id": "4d40f5c6",
   "metadata": {},
   "outputs": [
    {
     "data": {
      "text/plain": [
       "(531092, 6)"
      ]
     },
     "execution_count": 236,
     "metadata": {},
     "output_type": "execute_result"
    }
   ],
   "source": [
    "train_data.shape"
   ]
  },
  {
   "cell_type": "code",
   "execution_count": 237,
   "id": "7f771091",
   "metadata": {},
   "outputs": [
    {
     "data": {
      "text/plain": [
       "idProduct       -1.699930\n",
       "Product_Age      5.630544\n",
       "is_returned      4.203997\n",
       "Desc_count       9.932624\n",
       "Seller_Age       6.230335\n",
       "QTY            289.746087\n",
       "dtype: float64"
      ]
     },
     "execution_count": 237,
     "metadata": {},
     "output_type": "execute_result"
    }
   ],
   "source": [
    "train_data.skew()"
   ]
  },
  {
   "cell_type": "code",
   "execution_count": 240,
   "id": "a25c9f9f",
   "metadata": {},
   "outputs": [],
   "source": [
    "main_data = train_data[(train_data['is_returned']==1) | (train_data['is_returned']==0)].sample(frac=0.5)"
   ]
  },
  {
   "cell_type": "code",
   "execution_count": 241,
   "id": "8d7884f6",
   "metadata": {},
   "outputs": [],
   "source": [
    "test_data = train_data[~train_data.isin(main_data)].dropna(how = 'all')"
   ]
  },
  {
   "cell_type": "code",
   "execution_count": 242,
   "id": "49568be0",
   "metadata": {},
   "outputs": [
    {
     "name": "stdout",
     "output_type": "stream",
     "text": [
      "(265546, 6)\n",
      "(265546, 6)\n"
     ]
    }
   ],
   "source": [
    "print(main_df.shape)\n",
    "print(test_df.shape)"
   ]
  },
  {
   "cell_type": "code",
   "execution_count": 243,
   "id": "9bc0d6c1",
   "metadata": {},
   "outputs": [
    {
     "data": {
      "text/html": [
       "<div>\n",
       "<style scoped>\n",
       "    .dataframe tbody tr th:only-of-type {\n",
       "        vertical-align: middle;\n",
       "    }\n",
       "\n",
       "    .dataframe tbody tr th {\n",
       "        vertical-align: top;\n",
       "    }\n",
       "\n",
       "    .dataframe thead th {\n",
       "        text-align: right;\n",
       "    }\n",
       "</style>\n",
       "<table border=\"1\" class=\"dataframe\">\n",
       "  <thead>\n",
       "    <tr style=\"text-align: right;\">\n",
       "      <th></th>\n",
       "      <th>idProduct</th>\n",
       "      <th>Product_Age</th>\n",
       "      <th>is_returned</th>\n",
       "      <th>Desc_count</th>\n",
       "      <th>Seller_Age</th>\n",
       "      <th>QTY</th>\n",
       "    </tr>\n",
       "  </thead>\n",
       "  <tbody>\n",
       "    <tr>\n",
       "      <th>471911</th>\n",
       "      <td>104487528</td>\n",
       "      <td>2.0</td>\n",
       "      <td>0</td>\n",
       "      <td>0</td>\n",
       "      <td>0.0</td>\n",
       "      <td>1</td>\n",
       "    </tr>\n",
       "    <tr>\n",
       "      <th>232167</th>\n",
       "      <td>93709315</td>\n",
       "      <td>2.0</td>\n",
       "      <td>0</td>\n",
       "      <td>0</td>\n",
       "      <td>0.0</td>\n",
       "      <td>1</td>\n",
       "    </tr>\n",
       "    <tr>\n",
       "      <th>209353</th>\n",
       "      <td>93246053</td>\n",
       "      <td>2.0</td>\n",
       "      <td>0</td>\n",
       "      <td>0</td>\n",
       "      <td>0.0</td>\n",
       "      <td>2</td>\n",
       "    </tr>\n",
       "    <tr>\n",
       "      <th>232014</th>\n",
       "      <td>93707080</td>\n",
       "      <td>1.0</td>\n",
       "      <td>1</td>\n",
       "      <td>93</td>\n",
       "      <td>1.0</td>\n",
       "      <td>470</td>\n",
       "    </tr>\n",
       "    <tr>\n",
       "      <th>370691</th>\n",
       "      <td>101584282</td>\n",
       "      <td>2.0</td>\n",
       "      <td>0</td>\n",
       "      <td>0</td>\n",
       "      <td>0.0</td>\n",
       "      <td>3</td>\n",
       "    </tr>\n",
       "  </tbody>\n",
       "</table>\n",
       "</div>"
      ],
      "text/plain": [
       "        idProduct  Product_Age  is_returned  Desc_count  Seller_Age  QTY\n",
       "471911  104487528          2.0            0           0         0.0    1\n",
       "232167   93709315          2.0            0           0         0.0    1\n",
       "209353   93246053          2.0            0           0         0.0    2\n",
       "232014   93707080          1.0            1          93         1.0  470\n",
       "370691  101584282          2.0            0           0         0.0    3"
      ]
     },
     "execution_count": 243,
     "metadata": {},
     "output_type": "execute_result"
    }
   ],
   "source": [
    "main_data.head()"
   ]
  },
  {
   "cell_type": "code",
   "execution_count": 244,
   "id": "da093869",
   "metadata": {},
   "outputs": [
    {
     "data": {
      "text/html": [
       "<div>\n",
       "<style scoped>\n",
       "    .dataframe tbody tr th:only-of-type {\n",
       "        vertical-align: middle;\n",
       "    }\n",
       "\n",
       "    .dataframe tbody tr th {\n",
       "        vertical-align: top;\n",
       "    }\n",
       "\n",
       "    .dataframe thead th {\n",
       "        text-align: right;\n",
       "    }\n",
       "</style>\n",
       "<table border=\"1\" class=\"dataframe\">\n",
       "  <thead>\n",
       "    <tr style=\"text-align: right;\">\n",
       "      <th></th>\n",
       "      <th>idProduct</th>\n",
       "      <th>Product_Age</th>\n",
       "      <th>is_returned</th>\n",
       "      <th>Desc_count</th>\n",
       "      <th>Seller_Age</th>\n",
       "      <th>QTY</th>\n",
       "    </tr>\n",
       "  </thead>\n",
       "  <tbody>\n",
       "    <tr>\n",
       "      <th>1</th>\n",
       "      <td>9.0</td>\n",
       "      <td>2.0</td>\n",
       "      <td>0.0</td>\n",
       "      <td>0.0</td>\n",
       "      <td>0.0</td>\n",
       "      <td>5.0</td>\n",
       "    </tr>\n",
       "    <tr>\n",
       "      <th>2</th>\n",
       "      <td>14.0</td>\n",
       "      <td>2.0</td>\n",
       "      <td>0.0</td>\n",
       "      <td>0.0</td>\n",
       "      <td>0.0</td>\n",
       "      <td>19.0</td>\n",
       "    </tr>\n",
       "    <tr>\n",
       "      <th>3</th>\n",
       "      <td>16.0</td>\n",
       "      <td>2.0</td>\n",
       "      <td>0.0</td>\n",
       "      <td>0.0</td>\n",
       "      <td>0.0</td>\n",
       "      <td>3.0</td>\n",
       "    </tr>\n",
       "    <tr>\n",
       "      <th>4</th>\n",
       "      <td>37.0</td>\n",
       "      <td>2.0</td>\n",
       "      <td>0.0</td>\n",
       "      <td>0.0</td>\n",
       "      <td>0.0</td>\n",
       "      <td>3.0</td>\n",
       "    </tr>\n",
       "    <tr>\n",
       "      <th>5</th>\n",
       "      <td>45.0</td>\n",
       "      <td>2.0</td>\n",
       "      <td>0.0</td>\n",
       "      <td>0.0</td>\n",
       "      <td>0.0</td>\n",
       "      <td>16.0</td>\n",
       "    </tr>\n",
       "  </tbody>\n",
       "</table>\n",
       "</div>"
      ],
      "text/plain": [
       "   idProduct  Product_Age  is_returned  Desc_count  Seller_Age   QTY\n",
       "1        9.0          2.0          0.0         0.0         0.0   5.0\n",
       "2       14.0          2.0          0.0         0.0         0.0  19.0\n",
       "3       16.0          2.0          0.0         0.0         0.0   3.0\n",
       "4       37.0          2.0          0.0         0.0         0.0   3.0\n",
       "5       45.0          2.0          0.0         0.0         0.0  16.0"
      ]
     },
     "execution_count": 244,
     "metadata": {},
     "output_type": "execute_result"
    }
   ],
   "source": [
    "test_data.head()"
   ]
  },
  {
   "cell_type": "code",
   "execution_count": 245,
   "id": "f0f8ffea",
   "metadata": {},
   "outputs": [],
   "source": [
    "# import machine learning libraries that will be used\n",
    "from sklearn.svm import SVC\n",
    "from sklearn.tree import DecisionTreeClassifier\n",
    "from sklearn.ensemble import RandomForestClassifier, AdaBoostClassifier, GradientBoostingClassifier\n",
    "from sklearn.model_selection import train_test_split, GridSearchCV, cross_val_score\n",
    "from sklearn.metrics import roc_auc_score\n",
    "from sklearn.neural_network import MLPClassifier\n",
    "from sklearn.metrics import accuracy_score,roc_auc_score\n",
    "from sklearn.linear_model import LogisticRegression\n",
    "from sklearn.metrics import r2_score, f1_score\n",
    "from sklearn.metrics import mean_squared_error \n",
    "from sklearn.metrics import confusion_matrix, precision_score, plot_confusion_matrix,classification_report\n",
    "from sklearn import metrics\n",
    "from sklearn.preprocessing import MinMaxScaler\n",
    "from sklearn.model_selection import RepeatedStratifiedKFold\n",
    "from sklearn.ensemble import BaggingClassifier\n",
    "from sklearn.metrics import precision_recall_curve\n",
    "\n",
    "from xgboost import XGBClassifier"
   ]
  },
  {
   "cell_type": "code",
   "execution_count": 246,
   "id": "45d48ca9",
   "metadata": {},
   "outputs": [],
   "source": [
    "X = main_data.drop(['is_returned','idProduct'],axis=1)\n",
    "y = main_data['is_returned']"
   ]
  },
  {
   "cell_type": "code",
   "execution_count": 247,
   "id": "64a6f3b6",
   "metadata": {},
   "outputs": [],
   "source": [
    "X_train,X_test,y_train,y_test = train_test_split(X,y,test_size=0.3,random_state=100)"
   ]
  },
  {
   "cell_type": "code",
   "execution_count": 248,
   "id": "9339e39a",
   "metadata": {},
   "outputs": [],
   "source": [
    "#scalar = MinMaxScaler()\n",
    "#X_train = scalar.fit_transform(X_train)\n",
    "#X_test = scalar.transform(X_test)"
   ]
  },
  {
   "cell_type": "code",
   "execution_count": 249,
   "id": "08667863",
   "metadata": {},
   "outputs": [
    {
     "name": "stdout",
     "output_type": "stream",
     "text": [
      "(185882, 4) (185882,)\n",
      "(79664, 4) (79664,)\n"
     ]
    }
   ],
   "source": [
    "print(X_train.shape,y_train.shape)\n",
    "print(X_test.shape,y_test.shape)"
   ]
  },
  {
   "cell_type": "code",
   "execution_count": 308,
   "id": "6fbeb4fa",
   "metadata": {},
   "outputs": [
    {
     "name": "stdout",
     "output_type": "stream",
     "text": [
      "accurary(%): 97.2898674432617\n"
     ]
    }
   ],
   "source": [
    "# Random Forest\n",
    "rf = RandomForestClassifier(n_estimators=100,max_depth=16,criterion='gini',class_weight='balanced',n_jobs=-1\n",
    "                            ,min_samples_split=10,max_leaf_nodes=5,max_features=0.01,bootstrap=True)\n",
    "rf.fit(X_train,y_train)\n",
    "print('accurary(%):',rf.score(X_test,y_test)*100)"
   ]
  },
  {
   "cell_type": "code",
   "execution_count": 309,
   "id": "aece4484",
   "metadata": {},
   "outputs": [],
   "source": [
    "y_pred_train = rf.predict(X_train)\n",
    "\n",
    "y_pred_test = rf.predict(X_test)"
   ]
  },
  {
   "cell_type": "code",
   "execution_count": 310,
   "id": "dae8f73b",
   "metadata": {},
   "outputs": [
    {
     "name": "stdout",
     "output_type": "stream",
     "text": [
      "Training accuracy:  0.9730527969356904\n",
      "Testing accuracy:  0.972898674432617\n"
     ]
    }
   ],
   "source": [
    "print(\"Training accuracy: \", accuracy_score(y_train, y_pred_train))\n",
    "print(\"Testing accuracy: \", accuracy_score(y_test, y_pred_test))"
   ]
  },
  {
   "cell_type": "code",
   "execution_count": 253,
   "id": "689df9dc",
   "metadata": {},
   "outputs": [
    {
     "name": "stdout",
     "output_type": "stream",
     "text": [
      "[14:21:56] WARNING: C:/Users/Administrator/workspace/xgboost-win64_release_1.5.0/src/learner.cc:576: \n",
      "Parameters: { \"bootstrap\", \"class_weight\", \"criterion\", \"max_features\", \"max_leaf_nodes\", \"min_samples_split\", \"verbose\" } might not be used.\n",
      "\n",
      "  This could be a false alarm, with some parameters getting used by language bindings but\n",
      "  then being mistakenly passed down to XGBoost core, or some parameter actually being used\n",
      "  but getting flagged wrongly here. Please open an issue if you find any such cases.\n",
      "\n",
      "\n",
      "[14:21:56] WARNING: C:/Users/Administrator/workspace/xgboost-win64_release_1.5.0/src/learner.cc:1115: Starting in XGBoost 1.3.0, the default evaluation metric used with the objective 'binary:logistic' was changed from 'error' to 'logloss'. Explicitly set eval_metric if you'd like to restore the old behavior.\n",
      "accuracy: 97.54845350471982\n"
     ]
    }
   ],
   "source": [
    "# XGBoost\n",
    "\n",
    "# XGBoost works by correcting the previous mistake done by the model, \n",
    "# it learns from it and its next step improves the performance. \n",
    "# The previous results are rectified and performance is enhanced.\n",
    "# This gets continued until there is no scope of further improvements. \n",
    "# Regularization is the feature that is dominant for this type of predictive algorithm. \n",
    "# It is fast to execute and gives good accuracy. \n",
    "# It has an ability to handle missing values, imbalanced data and prevent overfitting (using learning_rate).\n",
    "\n",
    "xgb = XGBClassifier(n_estimators=100,max_depth=11,learning_rate=0.1,class_weight='balanced',criterion='friedman_mse',\n",
    "                objective = \"binary:logistic\",min_samples_split=10,max_leaf_nodes=42,max_features=0.79,\n",
    "                    bootstrap=False,verbose=0)\n",
    "xgb.fit(X_train,y_train)\n",
    "print('accuracy:',xgb.score(X_test,y_test)*100)"
   ]
  },
  {
   "cell_type": "code",
   "execution_count": 254,
   "id": "b2732e12",
   "metadata": {},
   "outputs": [
    {
     "name": "stdout",
     "output_type": "stream",
     "text": [
      "accuracy: 92.84620405703956\n"
     ]
    }
   ],
   "source": [
    "# Logistic regression\n",
    "lr = LogisticRegression(solver='newton-cg',class_weight='balanced')\n",
    "lr.fit(X_train,y_train)\n",
    "print('accuracy:',lr.score(X_test,y_test)*100)"
   ]
  },
  {
   "cell_type": "code",
   "execution_count": 311,
   "id": "76aade90",
   "metadata": {},
   "outputs": [
    {
     "data": {
      "image/png": "[encoded data removed]",
      "text/plain": [
       "<Figure size 432x288 with 1 Axes>"
      ]
     },
     "metadata": {
      "needs_background": "light"
     },
     "output_type": "display_data"
    }
   ],
   "source": [
    "# Graphical representation of the model's AUC comparison \n",
    "\n",
    "sns.barplot(x=[\"Random Forest\",\"XG Boost\",\"Logistic Regression\"],\n",
    "            y=[roc_auc_score(rf.predict(X_test),y_test),roc_auc_score(xgb.predict(X_test),y_test),\n",
    "               roc_auc_score(lr.predict(X_test),y_test)])\n",
    "plt.ylabel(\"AUC\")\n",
    "plt.title(\"Models' Area Under Curve Score comparison\")\n",
    "plt.show()"
   ]
  },
  {
   "cell_type": "code",
   "execution_count": 312,
   "id": "d00fb7d3",
   "metadata": {},
   "outputs": [
    {
     "data": {
      "image/png": "[encoded data removed]",
      "text/plain": [
       "<Figure size 432x288 with 1 Axes>"
      ]
     },
     "metadata": {
      "needs_background": "light"
     },
     "output_type": "display_data"
    }
   ],
   "source": [
    "# Graphical representation of the model's F-1 Score comparison \n",
    "sns.barplot(x=[\"Random Forest\",\"XG Boost\",\"Logistic Regression\"],\n",
    "            y=[f1_score(rf.predict(X_test),y_test),f1_score(xgb.predict(X_test),y_test),\n",
    "               f1_score(lr.predict(X_test),y_test)])\n",
    "plt.ylabel(\"F-1 Score\")\n",
    "plt.title(\"Models' F-1 Score comparison\")\n",
    "plt.show()"
   ]
  },
  {
   "cell_type": "code",
   "execution_count": 313,
   "id": "daeac95a",
   "metadata": {},
   "outputs": [],
   "source": [
    "y_pred = rf.predict(X_test)"
   ]
  },
  {
   "cell_type": "code",
   "execution_count": 314,
   "id": "ff030a08",
   "metadata": {},
   "outputs": [
    {
     "name": "stdout",
     "output_type": "stream",
     "text": [
      "Precision Score: 63.917698\n"
     ]
    },
    {
     "data": {
      "text/plain": [
       "<Figure size 720x432 with 0 Axes>"
      ]
     },
     "metadata": {},
     "output_type": "display_data"
    },
    {
     "data": {
      "image/png": "[encoded data removed]",
      "text/plain": [
       "<Figure size 432x288 with 2 Axes>"
      ]
     },
     "metadata": {
      "needs_background": "light"
     },
     "output_type": "display_data"
    }
   ],
   "source": [
    "# Evaluate the RF model using Confusion matrix\n",
    "plt.figure(figsize=(10,6))\n",
    "\n",
    "print(\"Precision Score: %f\" % (precision_score(y_test, y_pred) * 100))\n",
    "plot_confusion_matrix(rf, X_test, y_test, cmap=plt.cm.Reds)\n",
    "plt.title(\"Confusion Matrix\")\n",
    "plt.show()"
   ]
  },
  {
   "cell_type": "code",
   "execution_count": 259,
   "id": "86a686a3",
   "metadata": {},
   "outputs": [
    {
     "data": {
      "text/plain": [
       "(185882, 4)"
      ]
     },
     "execution_count": 259,
     "metadata": {},
     "output_type": "execute_result"
    }
   ],
   "source": [
    "X_train.shape"
   ]
  },
  {
   "cell_type": "code",
   "execution_count": 260,
   "id": "e14aa1e6",
   "metadata": {},
   "outputs": [
    {
     "data": {
      "text/plain": [
       "(265546, 6)"
      ]
     },
     "execution_count": 260,
     "metadata": {},
     "output_type": "execute_result"
    }
   ],
   "source": [
    "main_data.shape"
   ]
  },
  {
   "cell_type": "code",
   "execution_count": 261,
   "id": "16aaaf57",
   "metadata": {},
   "outputs": [
    {
     "data": {
      "text/html": [
       "<div>\n",
       "<style scoped>\n",
       "    .dataframe tbody tr th:only-of-type {\n",
       "        vertical-align: middle;\n",
       "    }\n",
       "\n",
       "    .dataframe tbody tr th {\n",
       "        vertical-align: top;\n",
       "    }\n",
       "\n",
       "    .dataframe thead th {\n",
       "        text-align: right;\n",
       "    }\n",
       "</style>\n",
       "<table border=\"1\" class=\"dataframe\">\n",
       "  <thead>\n",
       "    <tr style=\"text-align: right;\">\n",
       "      <th></th>\n",
       "      <th>Predicted Not Returned</th>\n",
       "      <th>Predicted Returned</th>\n",
       "    </tr>\n",
       "  </thead>\n",
       "  <tbody>\n",
       "    <tr>\n",
       "      <th>Not-Returned</th>\n",
       "      <td>73240</td>\n",
       "      <td>2601</td>\n",
       "    </tr>\n",
       "    <tr>\n",
       "      <th>Returned</th>\n",
       "      <td>2</td>\n",
       "      <td>3821</td>\n",
       "    </tr>\n",
       "  </tbody>\n",
       "</table>\n",
       "</div>"
      ],
      "text/plain": [
       "              Predicted Not Returned  Predicted Returned\n",
       "Not-Returned                   73240                2601\n",
       "Returned                           2                3821"
      ]
     },
     "execution_count": 261,
     "metadata": {},
     "output_type": "execute_result"
    }
   ],
   "source": [
    "cm = np.array(confusion_matrix(y_test, y_pred, labels=[0,1]))\n",
    "\n",
    "confusion_mat= pd.DataFrame(cm, index = [\"Not-Returned\", \"Returned\"],\n",
    "                           columns =[\"Predicted Not Returned\", \"Predicted Returned\"])\n",
    "\n",
    "confusion_mat"
   ]
  },
  {
   "cell_type": "code",
   "execution_count": 315,
   "id": "0fcfda2c",
   "metadata": {},
   "outputs": [
    {
     "name": "stdout",
     "output_type": "stream",
     "text": [
      "              precision    recall  f1-score   support\n",
      "\n",
      "           0       1.00      0.97      0.99     75841\n",
      "           1       0.64      1.00      0.78      3823\n",
      "\n",
      "    accuracy                           0.97     79664\n",
      "   macro avg       0.82      0.99      0.88     79664\n",
      "weighted avg       0.98      0.97      0.98     79664\n",
      "\n"
     ]
    }
   ],
   "source": [
    "print(classification_report(y_test, y_pred))"
   ]
  },
  {
   "cell_type": "code",
   "execution_count": 316,
   "id": "11d27d71",
   "metadata": {},
   "outputs": [
    {
     "data": {
      "image/png": "[encoded data removed]",
      "text/plain": [
       "<Figure size 432x288 with 1 Axes>"
      ]
     },
     "metadata": {
      "needs_background": "light"
     },
     "output_type": "display_data"
    }
   ],
   "source": [
    "# ROC CURVE FOR THE RF MODEL\n",
    "probs = rf.predict_proba(X_test)  \n",
    "preds = probs[:,1]\n",
    "fpr, tpr, threshold = metrics.roc_curve(y_test, preds)\n",
    "roc_auc = metrics.auc(fpr, tpr)\n",
    "\n",
    "plt.title('Receiver Operating Characteristic')\n",
    "plt.plot(fpr, tpr, 'b', label = 'AUC = %0.2f' % roc_auc)\n",
    "plt.legend(loc = 'lower right')\n",
    "plt.plot([0, 1], [0, 1],'r--')\n",
    "plt.xlim([0, 1])\n",
    "plt.ylim([0, 1])\n",
    "plt.ylabel('True Positive Rate')\n",
    "plt.xlabel('False Positive Rate')\n",
    "plt.show()"
   ]
  },
  {
   "cell_type": "code",
   "execution_count": 317,
   "id": "5258d5a9",
   "metadata": {},
   "outputs": [],
   "source": [
    "y_score = rf.predict_proba(X_test)[:, 1]"
   ]
  },
  {
   "cell_type": "code",
   "execution_count": 318,
   "id": "18eafea8",
   "metadata": {},
   "outputs": [
    {
     "data": {
      "image/png": "[encoded data removed]",
      "text/plain": [
       "<Figure size 432x288 with 1 Axes>"
      ]
     },
     "metadata": {
      "needs_background": "light"
     },
     "output_type": "display_data"
    }
   ],
   "source": [
    "#calculate precision and recall\n",
    "precision, recall, thresholds = precision_recall_curve(y_test, y_score)\n",
    "\n",
    "#create precision recall curve\n",
    "fig, ax = plt.subplots()\n",
    "ax.plot(recall, precision, color='purple')\n",
    "\n",
    "#add axis labels to plot\n",
    "ax.set_title('Precision-Recall Curve')\n",
    "ax.set_ylabel('Precision')\n",
    "ax.set_xlabel('Recall')\n",
    "\n",
    "#display plot\n",
    "plt.show()"
   ]
  },
  {
   "cell_type": "code",
   "execution_count": 319,
   "id": "018e9b3b",
   "metadata": {},
   "outputs": [
    {
     "data": {
      "image/png": "[encoded data removed]",
      "text/plain": [
       "<Figure size 720x432 with 1 Axes>"
      ]
     },
     "metadata": {
      "needs_background": "light"
     },
     "output_type": "display_data"
    }
   ],
   "source": [
    "# Important features\n",
    "# The feature importances in a random forest indicate the sum of the reduction in Gini Impurity \n",
    "\n",
    "plt.figure(figsize=(10,6))\n",
    "\n",
    "feat_importances = pd.Series(rf.feature_importances_, index=X_train.columns)\n",
    "feat_importances.nsmallest(40).plot(kind='barh')\n",
    "importances = rf.feature_importances_\n",
    "indices = np.argsort(importances)\n",
    "\n",
    "\n",
    "plt.xlabel('Importance')\n",
    "plt.ylabel('Features')\n",
    "plt.title(\"Features that are most important\")\n",
    "plt.show()"
   ]
  },
  {
   "cell_type": "code",
   "execution_count": 267,
   "id": "a0c23e7a",
   "metadata": {},
   "outputs": [
    {
     "data": {
      "image/png": "[encoded data removed]",
      "text/plain": [
       "<Figure size 432x288 with 1 Axes>"
      ]
     },
     "metadata": {
      "needs_background": "light"
     },
     "output_type": "display_data"
    }
   ],
   "source": [
    "ax = sns.distplot(y, hist=False, color=\"r\", label=\"Actual Value\")\n",
    "sns.distplot(y_pred, hist=False, color=\"b\", label=\"Fitted Values\" , ax=ax)\n",
    "plt.title('Actual vs Predicted')\n",
    "plt.show()\n",
    "plt.close()"
   ]
  },
  {
   "cell_type": "code",
   "execution_count": 151,
   "id": "e142eea9",
   "metadata": {},
   "outputs": [
    {
     "data": {
      "image/png": "[encoded data removed]",
      "text/plain": [
       "<Figure size 1800x1080 with 1 Axes>"
      ]
     },
     "metadata": {
      "needs_background": "light"
     },
     "output_type": "display_data"
    }
   ],
   "source": [
    "import pydot\n",
    "# Pull out one tree from the forest\n",
    "Tree = rf.estimators_[5]\n",
    "# Export the image to a dot file\n",
    "from sklearn import tree\n",
    "plt.figure(figsize=(25,15))\n",
    "tree.plot_tree(Tree,filled=True, \n",
    "              rounded=True, \n",
    "              fontsize=14);"
   ]
  },
  {
   "cell_type": "markdown",
   "id": "7f2c7309",
   "metadata": {},
   "source": [
    "### Use the trained model to predict the outcome of the held out set (which we know aleady has a label)"
   ]
  },
  {
   "cell_type": "code",
   "execution_count": 325,
   "id": "b1fa1184",
   "metadata": {},
   "outputs": [],
   "source": [
    "newdata = test_data.drop(['is_returned','idProduct'],axis=1)"
   ]
  },
  {
   "cell_type": "code",
   "execution_count": 326,
   "id": "7b3869b1",
   "metadata": {},
   "outputs": [],
   "source": [
    "new_data_pred = rf.predict(newdata)"
   ]
  },
  {
   "cell_type": "code",
   "execution_count": 327,
   "id": "9b619c94",
   "metadata": {},
   "outputs": [],
   "source": [
    "id_product = test_data.set_index('idProduct')"
   ]
  },
  {
   "cell_type": "code",
   "execution_count": 328,
   "id": "9b62f4a5",
   "metadata": {},
   "outputs": [],
   "source": [
    "product_index = id_product.index"
   ]
  },
  {
   "cell_type": "code",
   "execution_count": 329,
   "id": "0c0e8ab3",
   "metadata": {},
   "outputs": [],
   "source": [
    "predictions_table = {'id_product': product_index, 'return_predicted':new_data_pred, 'return_actual':test_data['is_returned']}\n",
    "predictions = pd.DataFrame(predictions_table)\n",
    "predictions = predictions[['id_product', 'return_predicted','return_actual']]"
   ]
  },
  {
   "cell_type": "code",
   "execution_count": 330,
   "id": "e5a2d593",
   "metadata": {},
   "outputs": [
    {
     "data": {
      "text/html": [
       "<div>\n",
       "<style scoped>\n",
       "    .dataframe tbody tr th:only-of-type {\n",
       "        vertical-align: middle;\n",
       "    }\n",
       "\n",
       "    .dataframe tbody tr th {\n",
       "        vertical-align: top;\n",
       "    }\n",
       "\n",
       "    .dataframe thead th {\n",
       "        text-align: right;\n",
       "    }\n",
       "</style>\n",
       "<table border=\"1\" class=\"dataframe\">\n",
       "  <thead>\n",
       "    <tr style=\"text-align: right;\">\n",
       "      <th></th>\n",
       "      <th>id_product</th>\n",
       "      <th>return_predicted</th>\n",
       "      <th>return_actual</th>\n",
       "    </tr>\n",
       "  </thead>\n",
       "  <tbody>\n",
       "    <tr>\n",
       "      <th>1</th>\n",
       "      <td>9.0</td>\n",
       "      <td>0</td>\n",
       "      <td>0.0</td>\n",
       "    </tr>\n",
       "    <tr>\n",
       "      <th>2</th>\n",
       "      <td>14.0</td>\n",
       "      <td>0</td>\n",
       "      <td>0.0</td>\n",
       "    </tr>\n",
       "    <tr>\n",
       "      <th>3</th>\n",
       "      <td>16.0</td>\n",
       "      <td>0</td>\n",
       "      <td>0.0</td>\n",
       "    </tr>\n",
       "    <tr>\n",
       "      <th>4</th>\n",
       "      <td>37.0</td>\n",
       "      <td>0</td>\n",
       "      <td>0.0</td>\n",
       "    </tr>\n",
       "    <tr>\n",
       "      <th>5</th>\n",
       "      <td>45.0</td>\n",
       "      <td>0</td>\n",
       "      <td>0.0</td>\n",
       "    </tr>\n",
       "  </tbody>\n",
       "</table>\n",
       "</div>"
      ],
      "text/plain": [
       "   id_product  return_predicted  return_actual\n",
       "1         9.0                 0            0.0\n",
       "2        14.0                 0            0.0\n",
       "3        16.0                 0            0.0\n",
       "4        37.0                 0            0.0\n",
       "5        45.0                 0            0.0"
      ]
     },
     "execution_count": 330,
     "metadata": {},
     "output_type": "execute_result"
    }
   ],
   "source": [
    "predictions.head()"
   ]
  },
  {
   "cell_type": "code",
   "execution_count": 266,
   "id": "bc8738e7",
   "metadata": {},
   "outputs": [],
   "source": [
    "predictions.to_csv('predictions.csv')"
   ]
  },
  {
   "cell_type": "code",
   "execution_count": 331,
   "id": "3fccfec3",
   "metadata": {
    "scrolled": true
   },
   "outputs": [
    {
     "name": "stdout",
     "output_type": "stream",
     "text": [
      "Precision Score: 64.493335\n"
     ]
    },
    {
     "data": {
      "text/plain": [
       "<Figure size 720x432 with 0 Axes>"
      ]
     },
     "metadata": {},
     "output_type": "display_data"
    },
    {
     "data": {
      "image/png": "[encoded data removed]",
      "text/plain": [
       "<Figure size 432x288 with 2 Axes>"
      ]
     },
     "metadata": {
      "needs_background": "light"
     },
     "output_type": "display_data"
    }
   ],
   "source": [
    "plt.figure(figsize=(10,6))\n",
    "\n",
    "print(\"Precision Score: %f\" % (precision_score(test_data['is_returned'], new_data_pred) * 100))\n",
    "plot_confusion_matrix(rf, newdata, test_data['is_returned'], cmap=plt.cm.Reds)\n",
    "plt.title(\"Confusion Matrix\")\n",
    "plt.show()"
   ]
  },
  {
   "cell_type": "code",
   "execution_count": 332,
   "id": "966e7995",
   "metadata": {},
   "outputs": [
    {
     "name": "stdout",
     "output_type": "stream",
     "text": [
      "              precision    recall  f1-score   support\n",
      "\n",
      "         0.0       1.00      0.97      0.99    252672\n",
      "         1.0       0.64      1.00      0.78     12874\n",
      "\n",
      "    accuracy                           0.97    265546\n",
      "   macro avg       0.82      0.99      0.88    265546\n",
      "weighted avg       0.98      0.97      0.98    265546\n",
      "\n"
     ]
    }
   ],
   "source": [
    "print(classification_report(test_data['is_returned'], new_data_pred))"
   ]
  },
  {
   "cell_type": "code",
   "execution_count": 333,
   "id": "de4f424f",
   "metadata": {
    "scrolled": true
   },
   "outputs": [
    {
     "data": {
      "image/png": "[encoded data removed]",
      "text/plain": [
       "<Figure size 432x288 with 1 Axes>"
      ]
     },
     "metadata": {
      "needs_background": "light"
     },
     "output_type": "display_data"
    }
   ],
   "source": [
    "# ROC CURVE FOR THE RF MODEL\n",
    "probs = rf.predict_proba(newdata)  \n",
    "preds = probs[:,1]\n",
    "fpr, tpr, threshold = metrics.roc_curve(test_data['is_returned'], new_data_pred)\n",
    "roc_auc = metrics.auc(fpr, tpr)\n",
    "\n",
    "plt.title('Receiver Operating Characteristic')\n",
    "plt.plot(fpr, tpr, 'b', label = 'AUC = %0.2f' % roc_auc)\n",
    "plt.legend(loc = 'lower right')\n",
    "plt.plot([0, 1], [0, 1],'r--')\n",
    "plt.xlim([0, 1])\n",
    "plt.ylim([0, 1])\n",
    "plt.ylabel('True Positive Rate')\n",
    "plt.xlabel('False Positive Rate')\n",
    "plt.show()"
   ]
  },
  {
   "cell_type": "code",
   "execution_count": 277,
   "id": "623b74b7",
   "metadata": {},
   "outputs": [
    {
     "data": {
      "image/png": "[encoded data removed]",
      "text/plain": [
       "<Figure size 432x288 with 1 Axes>"
      ]
     },
     "metadata": {
      "needs_background": "light"
     },
     "output_type": "display_data"
    }
   ],
   "source": [
    "ax = sns.distplot(predictions['return_actual'], hist=False, color=\"r\", label=\"Actual Value\")\n",
    "sns.distplot(predictions['return_predicted'], hist=False, color=\"b\", label=\"Fitted Values\" , ax=ax)\n",
    "plt.title('Actual vs Predicted')\n",
    "plt.show()\n",
    "plt.close()"
   ]
  },
  {
   "cell_type": "code",
   "execution_count": 334,
   "id": "10b7c970",
   "metadata": {},
   "outputs": [
    {
     "data": {
      "text/html": [
       "<div>\n",
       "<style scoped>\n",
       "    .dataframe tbody tr th:only-of-type {\n",
       "        vertical-align: middle;\n",
       "    }\n",
       "\n",
       "    .dataframe tbody tr th {\n",
       "        vertical-align: top;\n",
       "    }\n",
       "\n",
       "    .dataframe thead th {\n",
       "        text-align: right;\n",
       "    }\n",
       "</style>\n",
       "<table border=\"1\" class=\"dataframe\">\n",
       "  <thead>\n",
       "    <tr style=\"text-align: right;\">\n",
       "      <th></th>\n",
       "      <th>idProduct</th>\n",
       "      <th>PD</th>\n",
       "    </tr>\n",
       "  </thead>\n",
       "  <tbody>\n",
       "    <tr>\n",
       "      <th>531087</th>\n",
       "      <td>106136759</td>\n",
       "      <td>0.000902</td>\n",
       "    </tr>\n",
       "    <tr>\n",
       "      <th>531088</th>\n",
       "      <td>106136874</td>\n",
       "      <td>0.385574</td>\n",
       "    </tr>\n",
       "    <tr>\n",
       "      <th>531089</th>\n",
       "      <td>106139088</td>\n",
       "      <td>0.000902</td>\n",
       "    </tr>\n",
       "    <tr>\n",
       "      <th>531090</th>\n",
       "      <td>106139135</td>\n",
       "      <td>0.498929</td>\n",
       "    </tr>\n",
       "    <tr>\n",
       "      <th>531091</th>\n",
       "      <td>106139209</td>\n",
       "      <td>0.000902</td>\n",
       "    </tr>\n",
       "  </tbody>\n",
       "</table>\n",
       "</div>"
      ],
      "text/plain": [
       "        idProduct        PD\n",
       "531087  106136759  0.000902\n",
       "531088  106136874  0.385574\n",
       "531089  106139088  0.000902\n",
       "531090  106139135  0.498929\n",
       "531091  106139209  0.000902"
      ]
     },
     "execution_count": 334,
     "metadata": {},
     "output_type": "execute_result"
    }
   ],
   "source": [
    "train_data['PD'] = rf.predict_proba(train_data[X_train.columns])[:,1]\n",
    "train_data[['idProduct', 'PD']].tail()"
   ]
  },
  {
   "cell_type": "code",
   "execution_count": 335,
   "id": "41090d31",
   "metadata": {},
   "outputs": [
    {
     "data": {
      "text/html": [
       "<div>\n",
       "<style scoped>\n",
       "    .dataframe tbody tr th:only-of-type {\n",
       "        vertical-align: middle;\n",
       "    }\n",
       "\n",
       "    .dataframe tbody tr th {\n",
       "        vertical-align: top;\n",
       "    }\n",
       "\n",
       "    .dataframe thead th {\n",
       "        text-align: right;\n",
       "    }\n",
       "</style>\n",
       "<table border=\"1\" class=\"dataframe\">\n",
       "  <thead>\n",
       "    <tr style=\"text-align: right;\">\n",
       "      <th></th>\n",
       "      <th>idProduct</th>\n",
       "      <th>Product_Age</th>\n",
       "      <th>is_returned</th>\n",
       "      <th>Desc_count</th>\n",
       "      <th>Seller_Age</th>\n",
       "      <th>QTY</th>\n",
       "      <th>PD</th>\n",
       "    </tr>\n",
       "  </thead>\n",
       "  <tbody>\n",
       "    <tr>\n",
       "      <th>0</th>\n",
       "      <td>8</td>\n",
       "      <td>2.0</td>\n",
       "      <td>0</td>\n",
       "      <td>0</td>\n",
       "      <td>0.0</td>\n",
       "      <td>10</td>\n",
       "      <td>0.098648</td>\n",
       "    </tr>\n",
       "    <tr>\n",
       "      <th>1</th>\n",
       "      <td>9</td>\n",
       "      <td>2.0</td>\n",
       "      <td>0</td>\n",
       "      <td>0</td>\n",
       "      <td>0.0</td>\n",
       "      <td>5</td>\n",
       "      <td>0.000902</td>\n",
       "    </tr>\n",
       "    <tr>\n",
       "      <th>2</th>\n",
       "      <td>14</td>\n",
       "      <td>2.0</td>\n",
       "      <td>0</td>\n",
       "      <td>0</td>\n",
       "      <td>0.0</td>\n",
       "      <td>19</td>\n",
       "      <td>0.130740</td>\n",
       "    </tr>\n",
       "    <tr>\n",
       "      <th>3</th>\n",
       "      <td>16</td>\n",
       "      <td>2.0</td>\n",
       "      <td>0</td>\n",
       "      <td>0</td>\n",
       "      <td>0.0</td>\n",
       "      <td>3</td>\n",
       "      <td>0.000902</td>\n",
       "    </tr>\n",
       "    <tr>\n",
       "      <th>4</th>\n",
       "      <td>37</td>\n",
       "      <td>2.0</td>\n",
       "      <td>0</td>\n",
       "      <td>0</td>\n",
       "      <td>0.0</td>\n",
       "      <td>3</td>\n",
       "      <td>0.000902</td>\n",
       "    </tr>\n",
       "  </tbody>\n",
       "</table>\n",
       "</div>"
      ],
      "text/plain": [
       "   idProduct  Product_Age  is_returned  Desc_count  Seller_Age  QTY        PD\n",
       "0          8          2.0            0           0         0.0   10  0.098648\n",
       "1          9          2.0            0           0         0.0    5  0.000902\n",
       "2         14          2.0            0           0         0.0   19  0.130740\n",
       "3         16          2.0            0           0         0.0    3  0.000902\n",
       "4         37          2.0            0           0         0.0    3  0.000902"
      ]
     },
     "execution_count": 335,
     "metadata": {},
     "output_type": "execute_result"
    }
   ],
   "source": [
    "train_data.head()"
   ]
  },
  {
   "cell_type": "code",
   "execution_count": 336,
   "id": "a588c209",
   "metadata": {},
   "outputs": [
    {
     "data": {
      "text/html": [
       "<div>\n",
       "<style scoped>\n",
       "    .dataframe tbody tr th:only-of-type {\n",
       "        vertical-align: middle;\n",
       "    }\n",
       "\n",
       "    .dataframe tbody tr th {\n",
       "        vertical-align: top;\n",
       "    }\n",
       "\n",
       "    .dataframe thead th {\n",
       "        text-align: right;\n",
       "    }\n",
       "</style>\n",
       "<table border=\"1\" class=\"dataframe\">\n",
       "  <thead>\n",
       "    <tr style=\"text-align: right;\">\n",
       "      <th></th>\n",
       "      <th>idProduct</th>\n",
       "      <th>PD</th>\n",
       "    </tr>\n",
       "  </thead>\n",
       "  <tbody>\n",
       "    <tr>\n",
       "      <th>531086</th>\n",
       "      <td>106136571.0</td>\n",
       "      <td>0.000902</td>\n",
       "    </tr>\n",
       "    <tr>\n",
       "      <th>531088</th>\n",
       "      <td>106136874.0</td>\n",
       "      <td>0.385574</td>\n",
       "    </tr>\n",
       "    <tr>\n",
       "      <th>531089</th>\n",
       "      <td>106139088.0</td>\n",
       "      <td>0.000902</td>\n",
       "    </tr>\n",
       "    <tr>\n",
       "      <th>531090</th>\n",
       "      <td>106139135.0</td>\n",
       "      <td>0.498929</td>\n",
       "    </tr>\n",
       "    <tr>\n",
       "      <th>531091</th>\n",
       "      <td>106139209.0</td>\n",
       "      <td>0.000902</td>\n",
       "    </tr>\n",
       "  </tbody>\n",
       "</table>\n",
       "</div>"
      ],
      "text/plain": [
       "          idProduct        PD\n",
       "531086  106136571.0  0.000902\n",
       "531088  106136874.0  0.385574\n",
       "531089  106139088.0  0.000902\n",
       "531090  106139135.0  0.498929\n",
       "531091  106139209.0  0.000902"
      ]
     },
     "execution_count": 336,
     "metadata": {},
     "output_type": "execute_result"
    }
   ],
   "source": [
    "test_data['PD'] = rf.predict_proba(test_data[X_train.columns])[:,1]\n",
    "test_data[['idProduct', 'PD']].tail()"
   ]
  },
  {
   "cell_type": "code",
   "execution_count": 337,
   "id": "d115e965",
   "metadata": {},
   "outputs": [
    {
     "data": {
      "text/html": [
       "<div>\n",
       "<style scoped>\n",
       "    .dataframe tbody tr th:only-of-type {\n",
       "        vertical-align: middle;\n",
       "    }\n",
       "\n",
       "    .dataframe tbody tr th {\n",
       "        vertical-align: top;\n",
       "    }\n",
       "\n",
       "    .dataframe thead th {\n",
       "        text-align: right;\n",
       "    }\n",
       "</style>\n",
       "<table border=\"1\" class=\"dataframe\">\n",
       "  <thead>\n",
       "    <tr style=\"text-align: right;\">\n",
       "      <th></th>\n",
       "      <th>idProduct</th>\n",
       "      <th>Product_Age</th>\n",
       "      <th>is_returned</th>\n",
       "      <th>Desc_count</th>\n",
       "      <th>Seller_Age</th>\n",
       "      <th>QTY</th>\n",
       "      <th>PD</th>\n",
       "    </tr>\n",
       "  </thead>\n",
       "  <tbody>\n",
       "    <tr>\n",
       "      <th>531086</th>\n",
       "      <td>106136571.0</td>\n",
       "      <td>2.0</td>\n",
       "      <td>0.0</td>\n",
       "      <td>0.0</td>\n",
       "      <td>0.0</td>\n",
       "      <td>1.0</td>\n",
       "      <td>0.000902</td>\n",
       "    </tr>\n",
       "    <tr>\n",
       "      <th>531088</th>\n",
       "      <td>106136874.0</td>\n",
       "      <td>1.0</td>\n",
       "      <td>0.0</td>\n",
       "      <td>179.0</td>\n",
       "      <td>0.0</td>\n",
       "      <td>3.0</td>\n",
       "      <td>0.385574</td>\n",
       "    </tr>\n",
       "    <tr>\n",
       "      <th>531089</th>\n",
       "      <td>106139088.0</td>\n",
       "      <td>2.0</td>\n",
       "      <td>0.0</td>\n",
       "      <td>0.0</td>\n",
       "      <td>0.0</td>\n",
       "      <td>1.0</td>\n",
       "      <td>0.000902</td>\n",
       "    </tr>\n",
       "    <tr>\n",
       "      <th>531090</th>\n",
       "      <td>106139135.0</td>\n",
       "      <td>2.0</td>\n",
       "      <td>0.0</td>\n",
       "      <td>55.0</td>\n",
       "      <td>1.0</td>\n",
       "      <td>1.0</td>\n",
       "      <td>0.498929</td>\n",
       "    </tr>\n",
       "    <tr>\n",
       "      <th>531091</th>\n",
       "      <td>106139209.0</td>\n",
       "      <td>2.0</td>\n",
       "      <td>0.0</td>\n",
       "      <td>0.0</td>\n",
       "      <td>0.0</td>\n",
       "      <td>1.0</td>\n",
       "      <td>0.000902</td>\n",
       "    </tr>\n",
       "  </tbody>\n",
       "</table>\n",
       "</div>"
      ],
      "text/plain": [
       "          idProduct  Product_Age  is_returned  Desc_count  Seller_Age  QTY  \\\n",
       "531086  106136571.0          2.0          0.0         0.0         0.0  1.0   \n",
       "531088  106136874.0          1.0          0.0       179.0         0.0  3.0   \n",
       "531089  106139088.0          2.0          0.0         0.0         0.0  1.0   \n",
       "531090  106139135.0          2.0          0.0        55.0         1.0  1.0   \n",
       "531091  106139209.0          2.0          0.0         0.0         0.0  1.0   \n",
       "\n",
       "              PD  \n",
       "531086  0.000902  \n",
       "531088  0.385574  \n",
       "531089  0.000902  \n",
       "531090  0.498929  \n",
       "531091  0.000902  "
      ]
     },
     "execution_count": 337,
     "metadata": {},
     "output_type": "execute_result"
    }
   ],
   "source": [
    "test_data.tail()"
   ]
  },
  {
   "cell_type": "code",
   "execution_count": 340,
   "id": "2b014b03",
   "metadata": {},
   "outputs": [
    {
     "name": "stdout",
     "output_type": "stream",
     "text": [
      "\u001b[1m This product id has a 38.39% chance of being returned\n"
     ]
    }
   ],
   "source": [
    "# new_data - Product_Age, Desc_count, Seller_Age, QTY_sold\n",
    "\n",
    "pred_test = np.array([0,150,0,2]).reshape(1, -1)\n",
    "new_pred = rf.predict_proba(pred_test)[:,1][0]\n",
    "print(\"\\033[1m This product id has a {:.2%}\".format(new_pred), \"chance of being returned\")"
   ]
  },
  {
   "cell_type": "code",
   "execution_count": null,
   "id": "61bdaac9",
   "metadata": {},
   "outputs": [],
   "source": []
  }
 ],
 "metadata": {
  "kernelspec": {
   "display_name": "Python 3 (ipykernel)",
   "language": "python",
   "name": "python3"
  },
  "language_info": {
   "codemirror_mode": {
    "name": "ipython",
    "version": 3
   },
   "file_extension": ".py",
   "mimetype": "text/x-python",
   "name": "python",
   "nbconvert_exporter": "python",
   "pygments_lexer": "ipython3",
   "version": "3.9.12"
  }
 },
 "nbformat": 4,
 "nbformat_minor": 5
}
