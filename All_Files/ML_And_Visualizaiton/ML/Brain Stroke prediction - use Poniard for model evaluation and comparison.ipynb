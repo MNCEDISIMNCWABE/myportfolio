{
 "cells": [
  {
   "cell_type": "code",
   "execution_count": 45,
   "id": "bba23077",
   "metadata": {},
   "outputs": [
    {
     "data": {
      "text/html": [
       "        <script type=\"text/javascript\">\n",
       "        window.PlotlyConfig = {MathJaxConfig: 'local'};\n",
       "        if (window.MathJax) {MathJax.Hub.Config({SVG: {font: \"STIX-Web\"}});}\n",
       "        if (typeof require !== 'undefined') {\n",
       "        require.undef(\"plotly\");\n",
       "        requirejs.config({\n",
       "            paths: {\n",
       "                'plotly': ['https://cdn.plot.ly/plotly-2.9.0.min']\n",
       "            }\n",
       "        });\n",
       "        require(['plotly'], function(Plotly) {\n",
       "            window._Plotly = Plotly;\n",
       "        });\n",
       "        }\n",
       "        </script>\n",
       "        "
      ]
     },
     "metadata": {},
     "output_type": "display_data"
    }
   ],
   "source": [
    "# Import required libraries \n",
    "import pandas as pd\n",
    "import numpy as np\n",
    "# For encoding categorical variables\n",
    "from sklearn.preprocessing import LabelEncoder,StandardScaler  \n",
    "import imblearn\n",
    "from imblearn.over_sampling import SMOTE\n",
    "import json\n",
    "import requests\n",
    "\n",
    "# libraries for visualization\n",
    "import seaborn as sns\n",
    "import matplotlib.pyplot as plt\n",
    "import plotly\n",
    "import plotly.express as px\n",
    "import plotly.graph_objs as go\n",
    "import cufflinks as cf\n",
    "from plotly.offline import iplot, init_notebook_mode, plot\n",
    "cf.go_offline()\n",
    "\n",
    "# import machine learning libraries \n",
    "from sklearn.svm import SVC\n",
    "from sklearn.tree import DecisionTreeClassifier\n",
    "from xgboost import XGBClassifier\n",
    "from sklearn.linear_model import LogisticRegression\n",
    "from sklearn.ensemble import RandomForestClassifier\n",
    "from sklearn.neural_network import MLPClassifier\n",
    "from sklearn.datasets import fetch_openml\n",
    "from sklearn.neighbors import KNeighborsClassifier\n",
    "from poniard import PoniardClassifier\n",
    "from sklearn.model_selection import train_test_split, GridSearchCV, cross_val_score\n",
    "from sklearn.model_selection import RandomizedSearchCV\n",
    "from sklearn.metrics import roc_auc_score\n",
    "from sklearn.metrics import accuracy_score,roc_auc_score\n",
    "from sklearn.metrics import r2_score\n",
    "from sklearn.metrics import mean_squared_error \n",
    "from sklearn.metrics import confusion_matrix, precision_score, plot_confusion_matrix,classification_report\n",
    "from sklearn import metrics\n",
    "\n",
    "import warnings\n",
    "warnings.filterwarnings(\"ignore\")"
   ]
  },
  {
   "cell_type": "code",
   "execution_count": 2,
   "id": "a1a34843",
   "metadata": {},
   "outputs": [
    {
     "data": {
      "text/html": [
       "<div>\n",
       "<style scoped>\n",
       "    .dataframe tbody tr th:only-of-type {\n",
       "        vertical-align: middle;\n",
       "    }\n",
       "\n",
       "    .dataframe tbody tr th {\n",
       "        vertical-align: top;\n",
       "    }\n",
       "\n",
       "    .dataframe thead th {\n",
       "        text-align: right;\n",
       "    }\n",
       "</style>\n",
       "<table border=\"1\" class=\"dataframe\">\n",
       "  <thead>\n",
       "    <tr style=\"text-align: right;\">\n",
       "      <th></th>\n",
       "      <th>gender</th>\n",
       "      <th>age</th>\n",
       "      <th>hypertension</th>\n",
       "      <th>heart_disease</th>\n",
       "      <th>ever_married</th>\n",
       "      <th>work_type</th>\n",
       "      <th>Residence_type</th>\n",
       "      <th>avg_glucose_level</th>\n",
       "      <th>bmi</th>\n",
       "      <th>smoking_status</th>\n",
       "      <th>stroke</th>\n",
       "    </tr>\n",
       "  </thead>\n",
       "  <tbody>\n",
       "    <tr>\n",
       "      <th>0</th>\n",
       "      <td>Female</td>\n",
       "      <td>61.0</td>\n",
       "      <td>0</td>\n",
       "      <td>0</td>\n",
       "      <td>Yes</td>\n",
       "      <td>Self-employed</td>\n",
       "      <td>Rural</td>\n",
       "      <td>202.21</td>\n",
       "      <td>31.555602</td>\n",
       "      <td>never smoked</td>\n",
       "      <td>1</td>\n",
       "    </tr>\n",
       "    <tr>\n",
       "      <th>1</th>\n",
       "      <td>Female</td>\n",
       "      <td>59.0</td>\n",
       "      <td>0</td>\n",
       "      <td>0</td>\n",
       "      <td>Yes</td>\n",
       "      <td>Private</td>\n",
       "      <td>Rural</td>\n",
       "      <td>76.15</td>\n",
       "      <td>30.242937</td>\n",
       "      <td>Unknown</td>\n",
       "      <td>1</td>\n",
       "    </tr>\n",
       "    <tr>\n",
       "      <th>2</th>\n",
       "      <td>Male</td>\n",
       "      <td>78.0</td>\n",
       "      <td>0</td>\n",
       "      <td>1</td>\n",
       "      <td>Yes</td>\n",
       "      <td>Private</td>\n",
       "      <td>Urban</td>\n",
       "      <td>219.84</td>\n",
       "      <td>30.698951</td>\n",
       "      <td>Unknown</td>\n",
       "      <td>1</td>\n",
       "    </tr>\n",
       "    <tr>\n",
       "      <th>3</th>\n",
       "      <td>Male</td>\n",
       "      <td>57.0</td>\n",
       "      <td>0</td>\n",
       "      <td>1</td>\n",
       "      <td>No</td>\n",
       "      <td>Govt_job</td>\n",
       "      <td>Urban</td>\n",
       "      <td>217.08</td>\n",
       "      <td>33.808410</td>\n",
       "      <td>Unknown</td>\n",
       "      <td>1</td>\n",
       "    </tr>\n",
       "    <tr>\n",
       "      <th>4</th>\n",
       "      <td>Male</td>\n",
       "      <td>58.0</td>\n",
       "      <td>0</td>\n",
       "      <td>0</td>\n",
       "      <td>Yes</td>\n",
       "      <td>Private</td>\n",
       "      <td>Rural</td>\n",
       "      <td>189.84</td>\n",
       "      <td>31.378534</td>\n",
       "      <td>Unknown</td>\n",
       "      <td>1</td>\n",
       "    </tr>\n",
       "  </tbody>\n",
       "</table>\n",
       "</div>"
      ],
      "text/plain": [
       "   gender   age  hypertension  heart_disease ever_married      work_type  \\\n",
       "0  Female  61.0             0              0          Yes  Self-employed   \n",
       "1  Female  59.0             0              0          Yes        Private   \n",
       "2    Male  78.0             0              1          Yes        Private   \n",
       "3    Male  57.0             0              1           No       Govt_job   \n",
       "4    Male  58.0             0              0          Yes        Private   \n",
       "\n",
       "  Residence_type  avg_glucose_level        bmi smoking_status  stroke  \n",
       "0          Rural             202.21  31.555602   never smoked       1  \n",
       "1          Rural              76.15  30.242937        Unknown       1  \n",
       "2          Urban             219.84  30.698951        Unknown       1  \n",
       "3          Urban             217.08  33.808410        Unknown       1  \n",
       "4          Rural             189.84  31.378534        Unknown       1  "
      ]
     },
     "execution_count": 2,
     "metadata": {},
     "output_type": "execute_result"
    }
   ],
   "source": [
    "data = pd.read_csv('C:/Users/leemn/Downloads/full_filled_stroke_data.csv')\n",
    "data.head()"
   ]
  },
  {
   "cell_type": "code",
   "execution_count": 3,
   "id": "8fa26f73",
   "metadata": {},
   "outputs": [
    {
     "data": {
      "text/plain": [
       "(201, 11)"
      ]
     },
     "execution_count": 3,
     "metadata": {},
     "output_type": "execute_result"
    }
   ],
   "source": [
    "data.shape"
   ]
  },
  {
   "cell_type": "code",
   "execution_count": 4,
   "id": "a55bea98",
   "metadata": {},
   "outputs": [
    {
     "data": {
      "text/plain": [
       "gender               0.0\n",
       "age                  0.0\n",
       "hypertension         0.0\n",
       "heart_disease        0.0\n",
       "ever_married         0.0\n",
       "work_type            0.0\n",
       "Residence_type       0.0\n",
       "avg_glucose_level    0.0\n",
       "bmi                  0.0\n",
       "smoking_status       0.0\n",
       "stroke               0.0\n",
       "dtype: float64"
      ]
     },
     "execution_count": 4,
     "metadata": {},
     "output_type": "execute_result"
    }
   ],
   "source": [
    "data.isnull().sum()/len(data)*100"
   ]
  },
  {
   "cell_type": "code",
   "execution_count": 5,
   "id": "0e8c724b",
   "metadata": {},
   "outputs": [
    {
     "data": {
      "image/png": "[encoded data removed]",
      "text/plain": [
       "<Figure size 576x432 with 1 Axes>"
      ]
     },
     "metadata": {
      "needs_background": "light"
     },
     "output_type": "display_data"
    }
   ],
   "source": [
    "def target(plot, feature):\n",
    "    total = len(feature)\n",
    "    for p in plot.patches:\n",
    "        percentage = '{:.1f}%'.format(100 * p.get_height()/total)\n",
    "        x = p.get_x() + p.get_width() / 2 - 0.05\n",
    "        y = p.get_y() + p.get_height()\n",
    "        plot.annotate(percentage, (x, y), size = 12,ha = 'center', va = 'center', xytext = (0, 10), \n",
    "                                                                      textcoords = 'offset points')\n",
    "\n",
    "plt.show()\n",
    "\n",
    "plt.figure(figsize=(8, 6))\n",
    "plt.title(\"Distribution of Stroke\",fontsize=17)\n",
    "plot = sns.countplot(data['stroke'])\n",
    "\n",
    "target(plot,data.stroke)"
   ]
  },
  {
   "cell_type": "code",
   "execution_count": 6,
   "id": "318255a6",
   "metadata": {},
   "outputs": [],
   "source": [
    "# seperate categorical and continous variables for further visualization\n",
    "categorical_val = []\n",
    "continous_val = []\n",
    "for column in data.columns:\n",
    "    if len(data[column].unique()) <= 13:\n",
    "        categorical_val.append(column)\n",
    "    else:\n",
    "        continous_val.append(column)"
   ]
  },
  {
   "cell_type": "code",
   "execution_count": 7,
   "id": "700d1b72",
   "metadata": {},
   "outputs": [
    {
     "data": {
      "text/plain": [
       "(['age', 'avg_glucose_level', 'bmi'],\n",
       " ['gender',\n",
       "  'hypertension',\n",
       "  'heart_disease',\n",
       "  'ever_married',\n",
       "  'work_type',\n",
       "  'Residence_type',\n",
       "  'smoking_status',\n",
       "  'stroke'])"
      ]
     },
     "execution_count": 7,
     "metadata": {},
     "output_type": "execute_result"
    }
   ],
   "source": [
    "continous_val, categorical_val"
   ]
  },
  {
   "cell_type": "code",
   "execution_count": 8,
   "id": "3a8285cb",
   "metadata": {},
   "outputs": [
    {
     "data": {
      "image/png": "[encoded data removed]",
      "text/plain": [
       "<Figure size 1872x1728 with 8 Axes>"
      ]
     },
     "metadata": {
      "needs_background": "light"
     },
     "output_type": "display_data"
    }
   ],
   "source": [
    "# Target vs. Categorical features\n",
    "\n",
    "plt.figure(figsize=(26, 24))\n",
    "\n",
    "for i, column in enumerate(categorical_val, 1):\n",
    "    plt.subplot(5, 3, i)\n",
    "    data[data[\"stroke\"] == 0][column].hist(bins=20, color='blue', label='Have Brain Stroke = NO', alpha=0.6)\n",
    "    data[data[\"stroke\"] == 1][column].hist(bins=20, color='red', label='Have Brain Stroke = YES', alpha=0.6)\n",
    "    plt.legend()\n",
    "    plt.xlabel(column)\n",
    "    plt.xticks(rotation=49, ha='right',fontsize=10)"
   ]
  },
  {
   "cell_type": "code",
   "execution_count": 9,
   "id": "eae922c7",
   "metadata": {},
   "outputs": [
    {
     "data": {
      "image/png": "[encoded data removed]",
      "text/plain": [
       "<Figure size 1440x1440 with 3 Axes>"
      ]
     },
     "metadata": {
      "needs_background": "light"
     },
     "output_type": "display_data"
    }
   ],
   "source": [
    "# Target vs. Continuous features\n",
    "\n",
    "plt.figure(figsize=(20, 20))\n",
    "\n",
    "for i, column in enumerate(continous_val, 1):\n",
    "    plt.subplot(5, 3, i)\n",
    "    data[data[\"stroke\"] == 0][column].hist(bins=20, color='blue', label='Have Brain Stroke = NO', alpha=0.6)\n",
    "    data[data[\"stroke\"] == 1][column].hist(bins=20, color='red', label='Have Brain Stroke = YES', alpha=0.6)\n",
    "    plt.legend()\n",
    "    plt.xlabel(column)"
   ]
  },
  {
   "cell_type": "markdown",
   "id": "e0122ebc",
   "metadata": {},
   "source": [
    "- It looks like married people are candidates for stroke but in fact the stroke cases are strongly correlated with Age. Majority of unmarried people are less than 40 years old and therefore with low risk of stroke\n",
    "- People who smoke are also candidates for stroke\n",
    "- There's a high risk of stroke for people with BMI higher than 27.5 and glucose level lower than 150"
   ]
  },
  {
   "cell_type": "code",
   "execution_count": 10,
   "id": "8ab8bcd0",
   "metadata": {},
   "outputs": [
    {
     "data": {
      "image/png": "[encoded data removed]",
      "text/plain": [
       "<Figure size 576x432 with 2 Axes>"
      ]
     },
     "metadata": {
      "needs_background": "light"
     },
     "output_type": "display_data"
    }
   ],
   "source": [
    "plt.figure(figsize = (8,6))\n",
    "\n",
    "sns.heatmap(data.corr(), cmap = plt.cm.RdYlBu_r, vmin = -0.25, annot = True, vmax = 0.6);"
   ]
  },
  {
   "cell_type": "code",
   "execution_count": 11,
   "id": "9dd7866f",
   "metadata": {},
   "outputs": [
    {
     "data": {
      "image/png": "[encoded data removed]",
      "text/plain": [
       "<Figure size 864x576 with 4 Axes>"
      ]
     },
     "metadata": {},
     "output_type": "display_data"
    }
   ],
   "source": [
    "sns.set(style=\"darkgrid\")\n",
    "fig, axs = plt.subplots(2, 2, figsize=(12, 8))\n",
    "\n",
    "sns.histplot(data=data, x=\"bmi\", kde=True, color=\"skyblue\",ax=axs[0, 0])\n",
    "sns.histplot(data=data, x=\"age\", kde=True, color=\"olive\",ax=axs[0, 1])\n",
    "sns.histplot(data=data, x=\"avg_glucose_level\", kde=True, color=\"teal\",ax=axs[1, 0])\n",
    "plt.tick_params(labelcolor='none');"
   ]
  },
  {
   "cell_type": "code",
   "execution_count": 12,
   "id": "b2353754",
   "metadata": {},
   "outputs": [
    {
     "data": {
      "text/plain": [
       "Text(0.5, 1.0, 'power 2 of age')"
      ]
     },
     "execution_count": 12,
     "metadata": {},
     "output_type": "execute_result"
    },
    {
     "data": {
      "image/png": "[encoded data removed]",
      "text/plain": [
       "<Figure size 936x576 with 6 Axes>"
      ]
     },
     "metadata": {},
     "output_type": "display_data"
    }
   ],
   "source": [
    "# transform numeric variables to reduce skewness\n",
    "fig, ax = plt.subplots(3,2, figsize = (13,8), tight_layout = True)\n",
    "\n",
    "sns.kdeplot(data['avg_glucose_level'], multiple = 'stack', ax = ax[0][0], palette = 'Set1')\n",
    "ax[0][0].set_title('avg_glucose_level')\n",
    "sns.kdeplot(np.log(data['avg_glucose_level']), multiple = 'stack', ax = ax[0][1], palette = 'Set1')\n",
    "ax[0][1].set_title('Log of avg_glucose_level')\n",
    "                   \n",
    "sns.kdeplot(data['bmi'], multiple = 'stack', ax = ax[1][0], palette = 'Set1')\n",
    "ax[1][0].set_title('bmi')\n",
    "sns.kdeplot(np.log(data['bmi']), multiple = 'stack', ax = ax[1][1], palette = 'Set1')\n",
    "ax[1][1].set_title('Log of bmi')\n",
    "\n",
    "sns.kdeplot(data['age'], multiple = 'stack', ax = ax[2][0], palette = 'Set1')\n",
    "ax[2][0].set_title('age')\n",
    "sns.kdeplot(np.power(data['age'],2), multiple = 'stack', ax = ax[2][1])\n",
    "ax[2][1].set_title('power 2 of age')"
   ]
  },
  {
   "cell_type": "code",
   "execution_count": 13,
   "id": "9cbbf84f",
   "metadata": {},
   "outputs": [],
   "source": [
    "# perform transformations\n",
    "data['avg_glucose_level'] = np.log(data['avg_glucose_level'])\n",
    "data['bmi'] = np.log(data['bmi'])\n",
    "data['age'] = np.power(data['age'],2)"
   ]
  },
  {
   "cell_type": "code",
   "execution_count": 14,
   "id": "9444f84b",
   "metadata": {},
   "outputs": [
    {
     "data": {
      "text/html": [
       "<div>\n",
       "<style scoped>\n",
       "    .dataframe tbody tr th:only-of-type {\n",
       "        vertical-align: middle;\n",
       "    }\n",
       "\n",
       "    .dataframe tbody tr th {\n",
       "        vertical-align: top;\n",
       "    }\n",
       "\n",
       "    .dataframe thead th {\n",
       "        text-align: right;\n",
       "    }\n",
       "</style>\n",
       "<table border=\"1\" class=\"dataframe\">\n",
       "  <thead>\n",
       "    <tr style=\"text-align: right;\">\n",
       "      <th></th>\n",
       "      <th>age</th>\n",
       "      <th>avg_glucose_level</th>\n",
       "      <th>bmi</th>\n",
       "      <th>stroke</th>\n",
       "      <th>gender_Female</th>\n",
       "      <th>gender_Male</th>\n",
       "      <th>hypertension_0</th>\n",
       "      <th>hypertension_1</th>\n",
       "      <th>heart_disease_0</th>\n",
       "      <th>heart_disease_1</th>\n",
       "      <th>...</th>\n",
       "      <th>work_type_Govt_job</th>\n",
       "      <th>work_type_Private</th>\n",
       "      <th>work_type_Self-employed</th>\n",
       "      <th>work_type_children</th>\n",
       "      <th>Residence_type_Rural</th>\n",
       "      <th>Residence_type_Urban</th>\n",
       "      <th>smoking_status_Unknown</th>\n",
       "      <th>smoking_status_formerly smoked</th>\n",
       "      <th>smoking_status_never smoked</th>\n",
       "      <th>smoking_status_smokes</th>\n",
       "    </tr>\n",
       "  </thead>\n",
       "  <tbody>\n",
       "    <tr>\n",
       "      <th>0</th>\n",
       "      <td>3721.0</td>\n",
       "      <td>5.309307</td>\n",
       "      <td>3.451751</td>\n",
       "      <td>1</td>\n",
       "      <td>1</td>\n",
       "      <td>0</td>\n",
       "      <td>1</td>\n",
       "      <td>0</td>\n",
       "      <td>1</td>\n",
       "      <td>0</td>\n",
       "      <td>...</td>\n",
       "      <td>0</td>\n",
       "      <td>0</td>\n",
       "      <td>1</td>\n",
       "      <td>0</td>\n",
       "      <td>1</td>\n",
       "      <td>0</td>\n",
       "      <td>0</td>\n",
       "      <td>0</td>\n",
       "      <td>1</td>\n",
       "      <td>0</td>\n",
       "    </tr>\n",
       "    <tr>\n",
       "      <th>1</th>\n",
       "      <td>3481.0</td>\n",
       "      <td>4.332705</td>\n",
       "      <td>3.409263</td>\n",
       "      <td>1</td>\n",
       "      <td>1</td>\n",
       "      <td>0</td>\n",
       "      <td>1</td>\n",
       "      <td>0</td>\n",
       "      <td>1</td>\n",
       "      <td>0</td>\n",
       "      <td>...</td>\n",
       "      <td>0</td>\n",
       "      <td>1</td>\n",
       "      <td>0</td>\n",
       "      <td>0</td>\n",
       "      <td>1</td>\n",
       "      <td>0</td>\n",
       "      <td>1</td>\n",
       "      <td>0</td>\n",
       "      <td>0</td>\n",
       "      <td>0</td>\n",
       "    </tr>\n",
       "    <tr>\n",
       "      <th>2</th>\n",
       "      <td>6084.0</td>\n",
       "      <td>5.392900</td>\n",
       "      <td>3.424228</td>\n",
       "      <td>1</td>\n",
       "      <td>0</td>\n",
       "      <td>1</td>\n",
       "      <td>1</td>\n",
       "      <td>0</td>\n",
       "      <td>0</td>\n",
       "      <td>1</td>\n",
       "      <td>...</td>\n",
       "      <td>0</td>\n",
       "      <td>1</td>\n",
       "      <td>0</td>\n",
       "      <td>0</td>\n",
       "      <td>0</td>\n",
       "      <td>1</td>\n",
       "      <td>1</td>\n",
       "      <td>0</td>\n",
       "      <td>0</td>\n",
       "      <td>0</td>\n",
       "    </tr>\n",
       "    <tr>\n",
       "      <th>3</th>\n",
       "      <td>3249.0</td>\n",
       "      <td>5.380266</td>\n",
       "      <td>3.520710</td>\n",
       "      <td>1</td>\n",
       "      <td>0</td>\n",
       "      <td>1</td>\n",
       "      <td>1</td>\n",
       "      <td>0</td>\n",
       "      <td>0</td>\n",
       "      <td>1</td>\n",
       "      <td>...</td>\n",
       "      <td>1</td>\n",
       "      <td>0</td>\n",
       "      <td>0</td>\n",
       "      <td>0</td>\n",
       "      <td>0</td>\n",
       "      <td>1</td>\n",
       "      <td>1</td>\n",
       "      <td>0</td>\n",
       "      <td>0</td>\n",
       "      <td>0</td>\n",
       "    </tr>\n",
       "    <tr>\n",
       "      <th>4</th>\n",
       "      <td>3364.0</td>\n",
       "      <td>5.246182</td>\n",
       "      <td>3.446124</td>\n",
       "      <td>1</td>\n",
       "      <td>0</td>\n",
       "      <td>1</td>\n",
       "      <td>1</td>\n",
       "      <td>0</td>\n",
       "      <td>1</td>\n",
       "      <td>0</td>\n",
       "      <td>...</td>\n",
       "      <td>0</td>\n",
       "      <td>1</td>\n",
       "      <td>0</td>\n",
       "      <td>0</td>\n",
       "      <td>1</td>\n",
       "      <td>0</td>\n",
       "      <td>1</td>\n",
       "      <td>0</td>\n",
       "      <td>0</td>\n",
       "      <td>0</td>\n",
       "    </tr>\n",
       "  </tbody>\n",
       "</table>\n",
       "<p>5 rows × 22 columns</p>\n",
       "</div>"
      ],
      "text/plain": [
       "      age  avg_glucose_level       bmi  stroke  gender_Female  gender_Male  \\\n",
       "0  3721.0           5.309307  3.451751       1              1            0   \n",
       "1  3481.0           4.332705  3.409263       1              1            0   \n",
       "2  6084.0           5.392900  3.424228       1              0            1   \n",
       "3  3249.0           5.380266  3.520710       1              0            1   \n",
       "4  3364.0           5.246182  3.446124       1              0            1   \n",
       "\n",
       "   hypertension_0  hypertension_1  heart_disease_0  heart_disease_1  ...  \\\n",
       "0               1               0                1                0  ...   \n",
       "1               1               0                1                0  ...   \n",
       "2               1               0                0                1  ...   \n",
       "3               1               0                0                1  ...   \n",
       "4               1               0                1                0  ...   \n",
       "\n",
       "   work_type_Govt_job  work_type_Private  work_type_Self-employed  \\\n",
       "0                   0                  0                        1   \n",
       "1                   0                  1                        0   \n",
       "2                   0                  1                        0   \n",
       "3                   1                  0                        0   \n",
       "4                   0                  1                        0   \n",
       "\n",
       "   work_type_children  Residence_type_Rural  Residence_type_Urban  \\\n",
       "0                   0                     1                     0   \n",
       "1                   0                     1                     0   \n",
       "2                   0                     0                     1   \n",
       "3                   0                     0                     1   \n",
       "4                   0                     1                     0   \n",
       "\n",
       "   smoking_status_Unknown  smoking_status_formerly smoked  \\\n",
       "0                       0                               0   \n",
       "1                       1                               0   \n",
       "2                       1                               0   \n",
       "3                       1                               0   \n",
       "4                       1                               0   \n",
       "\n",
       "   smoking_status_never smoked  smoking_status_smokes  \n",
       "0                            1                      0  \n",
       "1                            0                      0  \n",
       "2                            0                      0  \n",
       "3                            0                      0  \n",
       "4                            0                      0  \n",
       "\n",
       "[5 rows x 22 columns]"
      ]
     },
     "execution_count": 14,
     "metadata": {},
     "output_type": "execute_result"
    }
   ],
   "source": [
    "# One-hot encoding for categorical variables\n",
    "unwanted = {'stroke'}\n",
    " \n",
    "categorical_val = [ele for ele in categorical_val if ele not in unwanted]\n",
    "\n",
    "df = pd.get_dummies(data, columns = categorical_val)\n",
    "df.head()"
   ]
  },
  {
   "cell_type": "code",
   "execution_count": 15,
   "id": "d7373a2c",
   "metadata": {},
   "outputs": [],
   "source": [
    "X = df.drop('stroke',axis = 1) \n",
    "y = df['stroke']   "
   ]
  },
  {
   "cell_type": "code",
   "execution_count": 16,
   "id": "d6e4dd56",
   "metadata": {},
   "outputs": [],
   "source": [
    "# apply oversampling since the target feature is imbalanced\n",
    "oversample = SMOTE()\n",
    "X_sampled, y_sampled = oversample.fit_resample(X, y)"
   ]
  },
  {
   "cell_type": "code",
   "execution_count": 22,
   "id": "b770b52e",
   "metadata": {},
   "outputs": [],
   "source": [
    "# Split data - 70% Train and 30% Test\n",
    "X_train,X_test,y_train,y_test = train_test_split(X_sampled,y_sampled,test_size=0.3,random_state=100,stratify=y_sampled)"
   ]
  },
  {
   "cell_type": "code",
   "execution_count": 23,
   "id": "5c018daa",
   "metadata": {},
   "outputs": [
    {
     "name": "stdout",
     "output_type": "stream",
     "text": [
      "(225, 21) (225,)\n",
      "(97, 21) (97,)\n"
     ]
    }
   ],
   "source": [
    "print(X_train.shape, y_train.shape)\n",
    "print(X_test.shape, y_test.shape)"
   ]
  },
  {
   "cell_type": "code",
   "execution_count": 26,
   "id": "e5d129eb",
   "metadata": {},
   "outputs": [
    {
     "name": "stdout",
     "output_type": "stream",
     "text": [
      "Target info\n",
      "-----------\n",
      "Type: binary\n",
      "Shape: (225,)\n",
      "Unique values: 2\n",
      "\n",
      "Main metric\n",
      "-----------\n",
      "roc_auc\n",
      "\n",
      "Thresholds\n",
      "----------\n",
      "Minimum unique values to consider a feature numeric: 22\n",
      "Minimum unique values to consider a categorical high cardinality: 20\n",
      "\n",
      "Inferred feature types\n",
      "----------------------\n"
     ]
    },
    {
     "data": {
      "text/html": [
       "<table border=\"1\" class=\"dataframe\">\n",
       "  <thead>\n",
       "    <tr style=\"text-align: right;\">\n",
       "      <th></th>\n",
       "      <th>numeric</th>\n",
       "      <th>categorical_high</th>\n",
       "      <th>categorical_low</th>\n",
       "      <th>datetime</th>\n",
       "    </tr>\n",
       "  </thead>\n",
       "  <tbody>\n",
       "    <tr>\n",
       "      <th>0</th>\n",
       "      <td>age</td>\n",
       "      <td></td>\n",
       "      <td>gender_Female</td>\n",
       "      <td></td>\n",
       "    </tr>\n",
       "    <tr>\n",
       "      <th>1</th>\n",
       "      <td>avg_glucose_level</td>\n",
       "      <td></td>\n",
       "      <td>gender_Male</td>\n",
       "      <td></td>\n",
       "    </tr>\n",
       "    <tr>\n",
       "      <th>2</th>\n",
       "      <td>bmi</td>\n",
       "      <td></td>\n",
       "      <td>hypertension_0</td>\n",
       "      <td></td>\n",
       "    </tr>\n",
       "    <tr>\n",
       "      <th>3</th>\n",
       "      <td></td>\n",
       "      <td></td>\n",
       "      <td>hypertension_1</td>\n",
       "      <td></td>\n",
       "    </tr>\n",
       "    <tr>\n",
       "      <th>4</th>\n",
       "      <td></td>\n",
       "      <td></td>\n",
       "      <td>heart_disease_0</td>\n",
       "      <td></td>\n",
       "    </tr>\n",
       "    <tr>\n",
       "      <th>5</th>\n",
       "      <td></td>\n",
       "      <td></td>\n",
       "      <td>heart_disease_1</td>\n",
       "      <td></td>\n",
       "    </tr>\n",
       "    <tr>\n",
       "      <th>6</th>\n",
       "      <td></td>\n",
       "      <td></td>\n",
       "      <td>ever_married_No</td>\n",
       "      <td></td>\n",
       "    </tr>\n",
       "    <tr>\n",
       "      <th>7</th>\n",
       "      <td></td>\n",
       "      <td></td>\n",
       "      <td>ever_married_Yes</td>\n",
       "      <td></td>\n",
       "    </tr>\n",
       "    <tr>\n",
       "      <th>8</th>\n",
       "      <td></td>\n",
       "      <td></td>\n",
       "      <td>work_type_Govt_job</td>\n",
       "      <td></td>\n",
       "    </tr>\n",
       "    <tr>\n",
       "      <th>9</th>\n",
       "      <td></td>\n",
       "      <td></td>\n",
       "      <td>work_type_Private</td>\n",
       "      <td></td>\n",
       "    </tr>\n",
       "    <tr>\n",
       "      <th>10</th>\n",
       "      <td></td>\n",
       "      <td></td>\n",
       "      <td>work_type_Self-employed</td>\n",
       "      <td></td>\n",
       "    </tr>\n",
       "    <tr>\n",
       "      <th>11</th>\n",
       "      <td></td>\n",
       "      <td></td>\n",
       "      <td>work_type_children</td>\n",
       "      <td></td>\n",
       "    </tr>\n",
       "    <tr>\n",
       "      <th>12</th>\n",
       "      <td></td>\n",
       "      <td></td>\n",
       "      <td>Residence_type_Rural</td>\n",
       "      <td></td>\n",
       "    </tr>\n",
       "    <tr>\n",
       "      <th>13</th>\n",
       "      <td></td>\n",
       "      <td></td>\n",
       "      <td>Residence_type_Urban</td>\n",
       "      <td></td>\n",
       "    </tr>\n",
       "    <tr>\n",
       "      <th>14</th>\n",
       "      <td></td>\n",
       "      <td></td>\n",
       "      <td>smoking_status_Unknown</td>\n",
       "      <td></td>\n",
       "    </tr>\n",
       "    <tr>\n",
       "      <th>15</th>\n",
       "      <td></td>\n",
       "      <td></td>\n",
       "      <td>smoking_status_formerly smoked</td>\n",
       "      <td></td>\n",
       "    </tr>\n",
       "    <tr>\n",
       "      <th>16</th>\n",
       "      <td></td>\n",
       "      <td></td>\n",
       "      <td>smoking_status_never smoked</td>\n",
       "      <td></td>\n",
       "    </tr>\n",
       "    <tr>\n",
       "      <th>17</th>\n",
       "      <td></td>\n",
       "      <td></td>\n",
       "      <td>smoking_status_smokes</td>\n",
       "      <td></td>\n",
       "    </tr>\n",
       "  </tbody>\n",
       "</table>"
      ],
      "text/plain": [
       "<IPython.core.display.HTML object>"
      ]
     },
     "metadata": {},
     "output_type": "display_data"
    },
    {
     "name": "stdout",
     "output_type": "stream",
     "text": [
      "\n",
      "\n"
     ]
    },
    {
     "name": "stderr",
     "output_type": "stream",
     "text": [
      "Completed: 100%|██████████| 9/9 [00:04<00:00,  2.22it/s]                     \n"
     ]
    },
    {
     "data": {
      "text/html": [
       "<div>\n",
       "<style scoped>\n",
       "    .dataframe tbody tr th:only-of-type {\n",
       "        vertical-align: middle;\n",
       "    }\n",
       "\n",
       "    .dataframe tbody tr th {\n",
       "        vertical-align: top;\n",
       "    }\n",
       "\n",
       "    .dataframe thead th {\n",
       "        text-align: right;\n",
       "    }\n",
       "</style>\n",
       "<table border=\"1\" class=\"dataframe\">\n",
       "  <thead>\n",
       "    <tr style=\"text-align: right;\">\n",
       "      <th></th>\n",
       "      <th>test_roc_auc</th>\n",
       "      <th>train_roc_auc</th>\n",
       "      <th>test_accuracy</th>\n",
       "      <th>train_accuracy</th>\n",
       "      <th>test_precision</th>\n",
       "      <th>train_precision</th>\n",
       "      <th>test_recall</th>\n",
       "      <th>train_recall</th>\n",
       "      <th>test_f1</th>\n",
       "      <th>train_f1</th>\n",
       "      <th>fit_time</th>\n",
       "      <th>score_time</th>\n",
       "    </tr>\n",
       "  </thead>\n",
       "  <tbody>\n",
       "    <tr>\n",
       "      <th>RandomForestClassifier</th>\n",
       "      <td>0.942095</td>\n",
       "      <td>1.000000</td>\n",
       "      <td>0.884444</td>\n",
       "      <td>1.000000</td>\n",
       "      <td>0.899979</td>\n",
       "      <td>1.000000</td>\n",
       "      <td>0.867194</td>\n",
       "      <td>1.000000</td>\n",
       "      <td>0.882127</td>\n",
       "      <td>1.000000</td>\n",
       "      <td>0.127673</td>\n",
       "      <td>0.039187</td>\n",
       "    </tr>\n",
       "    <tr>\n",
       "      <th>LogisticRegression</th>\n",
       "      <td>0.936364</td>\n",
       "      <td>0.969530</td>\n",
       "      <td>0.862222</td>\n",
       "      <td>0.898889</td>\n",
       "      <td>0.873593</td>\n",
       "      <td>0.911692</td>\n",
       "      <td>0.849407</td>\n",
       "      <td>0.884957</td>\n",
       "      <td>0.860887</td>\n",
       "      <td>0.897934</td>\n",
       "      <td>0.015973</td>\n",
       "      <td>0.012399</td>\n",
       "    </tr>\n",
       "    <tr>\n",
       "      <th>LinearSVC</th>\n",
       "      <td>0.935968</td>\n",
       "      <td>0.972838</td>\n",
       "      <td>0.875556</td>\n",
       "      <td>0.904444</td>\n",
       "      <td>0.892539</td>\n",
       "      <td>0.925870</td>\n",
       "      <td>0.858498</td>\n",
       "      <td>0.880537</td>\n",
       "      <td>0.873466</td>\n",
       "      <td>0.902529</td>\n",
       "      <td>0.012599</td>\n",
       "      <td>0.012747</td>\n",
       "    </tr>\n",
       "    <tr>\n",
       "      <th>XGBClassifier</th>\n",
       "      <td>0.934190</td>\n",
       "      <td>1.000000</td>\n",
       "      <td>0.840000</td>\n",
       "      <td>1.000000</td>\n",
       "      <td>0.830065</td>\n",
       "      <td>1.000000</td>\n",
       "      <td>0.858103</td>\n",
       "      <td>1.000000</td>\n",
       "      <td>0.842698</td>\n",
       "      <td>1.000000</td>\n",
       "      <td>0.066994</td>\n",
       "      <td>0.016712</td>\n",
       "    </tr>\n",
       "    <tr>\n",
       "      <th>HistGradientBoostingClassifier</th>\n",
       "      <td>0.917194</td>\n",
       "      <td>0.999914</td>\n",
       "      <td>0.840000</td>\n",
       "      <td>0.992222</td>\n",
       "      <td>0.843427</td>\n",
       "      <td>0.997753</td>\n",
       "      <td>0.841107</td>\n",
       "      <td>0.986716</td>\n",
       "      <td>0.841925</td>\n",
       "      <td>0.992203</td>\n",
       "      <td>0.094676</td>\n",
       "      <td>0.014481</td>\n",
       "    </tr>\n",
       "    <tr>\n",
       "      <th>KNeighborsClassifier</th>\n",
       "      <td>0.912451</td>\n",
       "      <td>0.972777</td>\n",
       "      <td>0.826667</td>\n",
       "      <td>0.905556</td>\n",
       "      <td>0.774099</td>\n",
       "      <td>0.865798</td>\n",
       "      <td>0.928458</td>\n",
       "      <td>0.962320</td>\n",
       "      <td>0.843094</td>\n",
       "      <td>0.911222</td>\n",
       "      <td>0.017250</td>\n",
       "      <td>0.071082</td>\n",
       "    </tr>\n",
       "    <tr>\n",
       "      <th>GaussianNB</th>\n",
       "      <td>0.898024</td>\n",
       "      <td>0.936022</td>\n",
       "      <td>0.808889</td>\n",
       "      <td>0.824444</td>\n",
       "      <td>0.779837</td>\n",
       "      <td>0.784270</td>\n",
       "      <td>0.893676</td>\n",
       "      <td>0.917924</td>\n",
       "      <td>0.827190</td>\n",
       "      <td>0.842097</td>\n",
       "      <td>0.016265</td>\n",
       "      <td>0.008467</td>\n",
       "    </tr>\n",
       "    <tr>\n",
       "      <th>DecisionTreeClassifier</th>\n",
       "      <td>0.817391</td>\n",
       "      <td>1.000000</td>\n",
       "      <td>0.817778</td>\n",
       "      <td>1.000000</td>\n",
       "      <td>0.835598</td>\n",
       "      <td>1.000000</td>\n",
       "      <td>0.796443</td>\n",
       "      <td>1.000000</td>\n",
       "      <td>0.814007</td>\n",
       "      <td>1.000000</td>\n",
       "      <td>0.015951</td>\n",
       "      <td>0.009595</td>\n",
       "    </tr>\n",
       "    <tr>\n",
       "      <th>DummyClassifier</th>\n",
       "      <td>0.500000</td>\n",
       "      <td>0.500000</td>\n",
       "      <td>0.488889</td>\n",
       "      <td>0.502222</td>\n",
       "      <td>0.195556</td>\n",
       "      <td>0.202222</td>\n",
       "      <td>0.400000</td>\n",
       "      <td>0.400000</td>\n",
       "      <td>0.262687</td>\n",
       "      <td>0.268635</td>\n",
       "      <td>0.010702</td>\n",
       "      <td>0.011042</td>\n",
       "    </tr>\n",
       "  </tbody>\n",
       "</table>\n",
       "</div>"
      ],
      "text/plain": [
       "                                test_roc_auc  train_roc_auc  test_accuracy  \\\n",
       "RandomForestClassifier              0.942095       1.000000       0.884444   \n",
       "LogisticRegression                  0.936364       0.969530       0.862222   \n",
       "LinearSVC                           0.935968       0.972838       0.875556   \n",
       "XGBClassifier                       0.934190       1.000000       0.840000   \n",
       "HistGradientBoostingClassifier      0.917194       0.999914       0.840000   \n",
       "KNeighborsClassifier                0.912451       0.972777       0.826667   \n",
       "GaussianNB                          0.898024       0.936022       0.808889   \n",
       "DecisionTreeClassifier              0.817391       1.000000       0.817778   \n",
       "DummyClassifier                     0.500000       0.500000       0.488889   \n",
       "\n",
       "                                train_accuracy  test_precision  \\\n",
       "RandomForestClassifier                1.000000        0.899979   \n",
       "LogisticRegression                    0.898889        0.873593   \n",
       "LinearSVC                             0.904444        0.892539   \n",
       "XGBClassifier                         1.000000        0.830065   \n",
       "HistGradientBoostingClassifier        0.992222        0.843427   \n",
       "KNeighborsClassifier                  0.905556        0.774099   \n",
       "GaussianNB                            0.824444        0.779837   \n",
       "DecisionTreeClassifier                1.000000        0.835598   \n",
       "DummyClassifier                       0.502222        0.195556   \n",
       "\n",
       "                                train_precision  test_recall  train_recall  \\\n",
       "RandomForestClassifier                 1.000000     0.867194      1.000000   \n",
       "LogisticRegression                     0.911692     0.849407      0.884957   \n",
       "LinearSVC                              0.925870     0.858498      0.880537   \n",
       "XGBClassifier                          1.000000     0.858103      1.000000   \n",
       "HistGradientBoostingClassifier         0.997753     0.841107      0.986716   \n",
       "KNeighborsClassifier                   0.865798     0.928458      0.962320   \n",
       "GaussianNB                             0.784270     0.893676      0.917924   \n",
       "DecisionTreeClassifier                 1.000000     0.796443      1.000000   \n",
       "DummyClassifier                        0.202222     0.400000      0.400000   \n",
       "\n",
       "                                 test_f1  train_f1  fit_time  score_time  \n",
       "RandomForestClassifier          0.882127  1.000000  0.127673    0.039187  \n",
       "LogisticRegression              0.860887  0.897934  0.015973    0.012399  \n",
       "LinearSVC                       0.873466  0.902529  0.012599    0.012747  \n",
       "XGBClassifier                   0.842698  1.000000  0.066994    0.016712  \n",
       "HistGradientBoostingClassifier  0.841925  0.992203  0.094676    0.014481  \n",
       "KNeighborsClassifier            0.843094  0.911222  0.017250    0.071082  \n",
       "GaussianNB                      0.827190  0.842097  0.016265    0.008467  \n",
       "DecisionTreeClassifier          0.814007  1.000000  0.015951    0.009595  \n",
       "DummyClassifier                 0.262687  0.268635  0.010702    0.011042  "
      ]
     },
     "execution_count": 26,
     "metadata": {},
     "output_type": "execute_result"
    }
   ],
   "source": [
    "# use poniard\n",
    "pnd = PoniardClassifier(random_state=0)\n",
    "pnd.setup(X_train, y_train)\n",
    "pnd.fit()\n",
    "pnd.show_results()"
   ]
  },
  {
   "cell_type": "code",
   "execution_count": 28,
   "id": "9d6143b5",
   "metadata": {},
   "outputs": [
    {
     "data": {
      "application/vnd.plotly.v1+json": {
       "config": {
        "plotlyServerURL": "https://plot.ly"
       },
       "data": [
        {
         "alignmentgroup": "True",
         "boxpoints": "all",
         "fillcolor": "rgba(255,255,255,0)",
         "hoveron": "points",
         "hovertemplate": "Type=Fold<br>Metric=test_roc_auc<br>Score=%{x}<br>Model=%{y}<extra></extra>",
         "legendgroup": "Fold",
         "line": {
          "color": "rgba(255,255,255,0)"
         },
         "marker": {
          "color": "rgb(127, 60, 141)"
         },
         "name": "Fold",
         "offsetgroup": "Fold",
         "orientation": "v",
         "pointpos": 0,
         "showlegend": true,
         "type": "box",
         "x": [
          0.9308300395256917,
          0.9229249011857708,
          0.9347826086956521,
          0.9683794466403162,
          0.924901185770751,
          0.8339920948616601,
          0.841897233201581,
          0.8952569169960474,
          0.9723320158102766,
          0.9466403162055336,
          0.9011857707509882,
          0.9367588932806324,
          0.9407114624505929,
          0.9664031620553359,
          0.9347826086956522,
          0.8932806324110673,
          0.8221343873517786,
          0.9713438735177865,
          0.9634387351778656,
          0.9120553359683794,
          0.866600790513834,
          0.8201581027667986,
          0.8438735177865612,
          0.7776679841897233,
          0.7786561264822134,
          0.9199604743083005,
          0.9357707509881424,
          0.9703557312252965,
          0.9535573122529645,
          0.9308300395256917,
          0.9150197628458497,
          0.9337944664031621,
          0.942687747035573,
          0.9150197628458497,
          0.8794466403162055,
          0.9308300395256918,
          0.900197628458498,
          0.9802371541501975,
          0.9268774703557312,
          0.932806324110672
         ],
         "x0": " ",
         "xaxis": "x",
         "y": [
          "LogisticRegression",
          "LogisticRegression",
          "LogisticRegression",
          "LogisticRegression",
          "LogisticRegression",
          "GaussianNB",
          "GaussianNB",
          "GaussianNB",
          "GaussianNB",
          "GaussianNB",
          "LinearSVC",
          "LinearSVC",
          "LinearSVC",
          "LinearSVC",
          "LinearSVC",
          "KNeighbors",
          "KNeighbors",
          "KNeighbors",
          "KNeighbors",
          "KNeighbors",
          "DecisionTree",
          "DecisionTree",
          "DecisionTree",
          "DecisionTree",
          "DecisionTree",
          "RandomForest",
          "RandomForest",
          "RandomForest",
          "RandomForest",
          "RandomForest",
          "HistGradientBoosting",
          "HistGradientBoosting",
          "HistGradientBoosting",
          "HistGradientBoosting",
          "HistGradientBoosting",
          "XGB",
          "XGB",
          "XGB",
          "XGB",
          "XGB"
         ],
         "y0": " ",
         "yaxis": "y"
        },
        {
         "alignmentgroup": "True",
         "boxpoints": "all",
         "fillcolor": "rgba(255,255,255,0)",
         "hoveron": "points",
         "hovertemplate": "Type=Fold<br>Metric=test_accuracy<br>Score=%{x}<br>Model=%{y}<extra></extra>",
         "legendgroup": "Fold",
         "line": {
          "color": "rgba(255,255,255,0)"
         },
         "marker": {
          "color": "rgb(127, 60, 141)"
         },
         "name": "Fold",
         "offsetgroup": "Fold",
         "orientation": "v",
         "pointpos": 0,
         "showlegend": false,
         "type": "box",
         "x": [
          0.8444444444444444,
          0.8666666666666667,
          0.8888888888888888,
          0.8666666666666667,
          0.8444444444444444,
          0.6888888888888889,
          0.7111111111111111,
          0.8222222222222222,
          0.8888888888888888,
          0.9333333333333333,
          0.8444444444444444,
          0.9111111111111111,
          0.8888888888888888,
          0.8666666666666667,
          0.8666666666666667,
          0.8222222222222222,
          0.7555555555555555,
          0.8444444444444444,
          0.8666666666666667,
          0.8444444444444444,
          0.8666666666666667,
          0.8222222222222222,
          0.8444444444444444,
          0.7777777777777778,
          0.7777777777777778,
          0.8444444444444444,
          0.8888888888888888,
          0.9111111111111111,
          0.9333333333333333,
          0.8444444444444444,
          0.8888888888888888,
          0.8888888888888888,
          0.8444444444444444,
          0.8,
          0.7777777777777778,
          0.8222222222222222,
          0.8,
          0.8888888888888888,
          0.8666666666666667,
          0.8222222222222222
         ],
         "x0": " ",
         "xaxis": "x2",
         "y": [
          "LogisticRegression",
          "LogisticRegression",
          "LogisticRegression",
          "LogisticRegression",
          "LogisticRegression",
          "GaussianNB",
          "GaussianNB",
          "GaussianNB",
          "GaussianNB",
          "GaussianNB",
          "LinearSVC",
          "LinearSVC",
          "LinearSVC",
          "LinearSVC",
          "LinearSVC",
          "KNeighbors",
          "KNeighbors",
          "KNeighbors",
          "KNeighbors",
          "KNeighbors",
          "DecisionTree",
          "DecisionTree",
          "DecisionTree",
          "DecisionTree",
          "DecisionTree",
          "RandomForest",
          "RandomForest",
          "RandomForest",
          "RandomForest",
          "RandomForest",
          "HistGradientBoosting",
          "HistGradientBoosting",
          "HistGradientBoosting",
          "HistGradientBoosting",
          "HistGradientBoosting",
          "XGB",
          "XGB",
          "XGB",
          "XGB",
          "XGB"
         ],
         "y0": " ",
         "yaxis": "y2"
        },
        {
         "alignmentgroup": "True",
         "boxpoints": "all",
         "fillcolor": "rgba(255,255,255,0)",
         "hoveron": "points",
         "hovertemplate": "Type=Fold<br>Metric=test_precision<br>Score=%{x}<br>Model=%{y}<extra></extra>",
         "legendgroup": "Fold",
         "line": {
          "color": "rgba(255,255,255,0)"
         },
         "marker": {
          "color": "rgb(127, 60, 141)"
         },
         "name": "Fold",
         "offsetgroup": "Fold",
         "orientation": "v",
         "pointpos": 0,
         "showlegend": false,
         "type": "box",
         "x": [
          0.8571428571428571,
          0.8636363636363636,
          0.9090909090909091,
          0.9047619047619048,
          0.8333333333333334,
          0.6428571428571429,
          0.6363636363636364,
          0.8571428571428571,
          0.8461538461538461,
          0.9166666666666666,
          0.8571428571428571,
          0.9090909090909091,
          0.9090909090909091,
          0.9473684210526315,
          0.84,
          0.7916666666666666,
          0.6896551724137931,
          0.7666666666666667,
          0.8148148148148148,
          0.8076923076923077,
          0.8636363636363636,
          0.8888888888888888,
          0.8333333333333334,
          0.782608695652174,
          0.8095238095238095,
          0.8260869565217391,
          0.9047619047619048,
          0.9523809523809523,
          0.9166666666666666,
          0.9,
          0.9047619047619048,
          0.9047619047619048,
          0.8333333333333334,
          0.7916666666666666,
          0.782608695652174,
          0.8181818181818182,
          0.76,
          0.875,
          0.84,
          0.8571428571428571
         ],
         "x0": " ",
         "xaxis": "x3",
         "y": [
          "LogisticRegression",
          "LogisticRegression",
          "LogisticRegression",
          "LogisticRegression",
          "LogisticRegression",
          "GaussianNB",
          "GaussianNB",
          "GaussianNB",
          "GaussianNB",
          "GaussianNB",
          "LinearSVC",
          "LinearSVC",
          "LinearSVC",
          "LinearSVC",
          "LinearSVC",
          "KNeighbors",
          "KNeighbors",
          "KNeighbors",
          "KNeighbors",
          "KNeighbors",
          "DecisionTree",
          "DecisionTree",
          "DecisionTree",
          "DecisionTree",
          "DecisionTree",
          "RandomForest",
          "RandomForest",
          "RandomForest",
          "RandomForest",
          "RandomForest",
          "HistGradientBoosting",
          "HistGradientBoosting",
          "HistGradientBoosting",
          "HistGradientBoosting",
          "HistGradientBoosting",
          "XGB",
          "XGB",
          "XGB",
          "XGB",
          "XGB"
         ],
         "y0": " ",
         "yaxis": "y3"
        },
        {
         "alignmentgroup": "True",
         "boxpoints": "all",
         "fillcolor": "rgba(255,255,255,0)",
         "hoveron": "points",
         "hovertemplate": "Type=Fold<br>Metric=test_recall<br>Score=%{x}<br>Model=%{y}<extra></extra>",
         "legendgroup": "Fold",
         "line": {
          "color": "rgba(255,255,255,0)"
         },
         "marker": {
          "color": "rgb(127, 60, 141)"
         },
         "name": "Fold",
         "offsetgroup": "Fold",
         "orientation": "v",
         "pointpos": 0,
         "showlegend": false,
         "type": "box",
         "x": [
          0.8181818181818182,
          0.8636363636363636,
          0.8695652173913043,
          0.8260869565217391,
          0.8695652173913043,
          0.8181818181818182,
          0.9545454545454546,
          0.782608695652174,
          0.9565217391304348,
          0.9565217391304348,
          0.8181818181818182,
          0.9090909090909091,
          0.8695652173913043,
          0.782608695652174,
          0.9130434782608695,
          0.8636363636363636,
          0.9090909090909091,
          1,
          0.9565217391304348,
          0.9130434782608695,
          0.8636363636363636,
          0.7272727272727273,
          0.8695652173913043,
          0.782608695652174,
          0.7391304347826086,
          0.8636363636363636,
          0.8636363636363636,
          0.8695652173913043,
          0.9565217391304348,
          0.782608695652174,
          0.8636363636363636,
          0.8636363636363636,
          0.8695652173913043,
          0.8260869565217391,
          0.782608695652174,
          0.8181818181818182,
          0.8636363636363636,
          0.9130434782608695,
          0.9130434782608695,
          0.782608695652174
         ],
         "x0": " ",
         "xaxis": "x4",
         "y": [
          "LogisticRegression",
          "LogisticRegression",
          "LogisticRegression",
          "LogisticRegression",
          "LogisticRegression",
          "GaussianNB",
          "GaussianNB",
          "GaussianNB",
          "GaussianNB",
          "GaussianNB",
          "LinearSVC",
          "LinearSVC",
          "LinearSVC",
          "LinearSVC",
          "LinearSVC",
          "KNeighbors",
          "KNeighbors",
          "KNeighbors",
          "KNeighbors",
          "KNeighbors",
          "DecisionTree",
          "DecisionTree",
          "DecisionTree",
          "DecisionTree",
          "DecisionTree",
          "RandomForest",
          "RandomForest",
          "RandomForest",
          "RandomForest",
          "RandomForest",
          "HistGradientBoosting",
          "HistGradientBoosting",
          "HistGradientBoosting",
          "HistGradientBoosting",
          "HistGradientBoosting",
          "XGB",
          "XGB",
          "XGB",
          "XGB",
          "XGB"
         ],
         "y0": " ",
         "yaxis": "y4"
        },
        {
         "alignmentgroup": "True",
         "boxpoints": "all",
         "fillcolor": "rgba(255,255,255,0)",
         "hoveron": "points",
         "hovertemplate": "Type=Fold<br>Metric=test_f1<br>Score=%{x}<br>Model=%{y}<extra></extra>",
         "legendgroup": "Fold",
         "line": {
          "color": "rgba(255,255,255,0)"
         },
         "marker": {
          "color": "rgb(127, 60, 141)"
         },
         "name": "Fold",
         "offsetgroup": "Fold",
         "orientation": "v",
         "pointpos": 0,
         "showlegend": false,
         "type": "box",
         "x": [
          0.8372093023255814,
          0.8636363636363636,
          0.888888888888889,
          0.8636363636363636,
          0.851063829787234,
          0.7200000000000001,
          0.7636363636363637,
          0.8181818181818182,
          0.8979591836734695,
          0.9361702127659574,
          0.8372093023255814,
          0.9090909090909091,
          0.888888888888889,
          0.8571428571428571,
          0.8749999999999999,
          0.8260869565217391,
          0.7843137254901961,
          0.8679245283018869,
          0.8800000000000001,
          0.8571428571428572,
          0.8636363636363636,
          0.7999999999999999,
          0.851063829787234,
          0.782608695652174,
          0.7727272727272727,
          0.8444444444444444,
          0.8837209302325582,
          0.909090909090909,
          0.9361702127659574,
          0.8372093023255814,
          0.8837209302325582,
          0.8837209302325582,
          0.851063829787234,
          0.8085106382978724,
          0.782608695652174,
          0.8181818181818182,
          0.8085106382978724,
          0.8936170212765957,
          0.8749999999999999,
          0.8181818181818182
         ],
         "x0": " ",
         "xaxis": "x5",
         "y": [
          "LogisticRegression",
          "LogisticRegression",
          "LogisticRegression",
          "LogisticRegression",
          "LogisticRegression",
          "GaussianNB",
          "GaussianNB",
          "GaussianNB",
          "GaussianNB",
          "GaussianNB",
          "LinearSVC",
          "LinearSVC",
          "LinearSVC",
          "LinearSVC",
          "LinearSVC",
          "KNeighbors",
          "KNeighbors",
          "KNeighbors",
          "KNeighbors",
          "KNeighbors",
          "DecisionTree",
          "DecisionTree",
          "DecisionTree",
          "DecisionTree",
          "DecisionTree",
          "RandomForest",
          "RandomForest",
          "RandomForest",
          "RandomForest",
          "RandomForest",
          "HistGradientBoosting",
          "HistGradientBoosting",
          "HistGradientBoosting",
          "HistGradientBoosting",
          "HistGradientBoosting",
          "XGB",
          "XGB",
          "XGB",
          "XGB",
          "XGB"
         ],
         "y0": " ",
         "yaxis": "y5"
        },
        {
         "alignmentgroup": "True",
         "boxpoints": "all",
         "fillcolor": "rgba(255,255,255,0)",
         "hoveron": "points",
         "hovertemplate": "Type=Mean<br>Metric=test_roc_auc<br>Score=%{x}<br>Model=%{y}<extra></extra>",
         "legendgroup": "Mean",
         "line": {
          "color": "rgba(255,255,255,0)"
         },
         "marker": {
          "color": "rgb(17, 165, 121)"
         },
         "name": "Mean",
         "offsetgroup": "Mean",
         "orientation": "v",
         "pointpos": 0,
         "showlegend": true,
         "type": "box",
         "x": [
          0.8173913043478261,
          0.8980237154150197,
          0.917193675889328,
          0.9124505928853754,
          0.9359683794466402,
          0.9363636363636363,
          0.942094861660079,
          0.9341897233201581
         ],
         "x0": " ",
         "xaxis": "x",
         "y": [
          "DecisionTree",
          "GaussianNB",
          "HistGradientBoosting",
          "KNeighbors",
          "LinearSVC",
          "LogisticRegression",
          "RandomForest",
          "XGB"
         ],
         "y0": " ",
         "yaxis": "y"
        },
        {
         "alignmentgroup": "True",
         "boxpoints": "all",
         "fillcolor": "rgba(255,255,255,0)",
         "hoveron": "points",
         "hovertemplate": "Type=Mean<br>Metric=test_accuracy<br>Score=%{x}<br>Model=%{y}<extra></extra>",
         "legendgroup": "Mean",
         "line": {
          "color": "rgba(255,255,255,0)"
         },
         "marker": {
          "color": "rgb(17, 165, 121)"
         },
         "name": "Mean",
         "offsetgroup": "Mean",
         "orientation": "v",
         "pointpos": 0,
         "showlegend": false,
         "type": "box",
         "x": [
          0.8177777777777777,
          0.8088888888888889,
          0.8400000000000001,
          0.8266666666666665,
          0.8755555555555556,
          0.8622222222222222,
          0.8844444444444444,
          0.8400000000000001
         ],
         "x0": " ",
         "xaxis": "x2",
         "y": [
          "DecisionTree",
          "GaussianNB",
          "HistGradientBoosting",
          "KNeighbors",
          "LinearSVC",
          "LogisticRegression",
          "RandomForest",
          "XGB"
         ],
         "y0": " ",
         "yaxis": "y2"
        },
        {
         "alignmentgroup": "True",
         "boxpoints": "all",
         "fillcolor": "rgba(255,255,255,0)",
         "hoveron": "points",
         "hovertemplate": "Type=Mean<br>Metric=test_precision<br>Score=%{x}<br>Model=%{y}<extra></extra>",
         "legendgroup": "Mean",
         "line": {
          "color": "rgba(255,255,255,0)"
         },
         "marker": {
          "color": "rgb(17, 165, 121)"
         },
         "name": "Mean",
         "offsetgroup": "Mean",
         "orientation": "v",
         "pointpos": 0,
         "showlegend": false,
         "type": "box",
         "x": [
          0.8355982182069139,
          0.7798368298368298,
          0.8434265010351967,
          0.7740991256508497,
          0.8925386192754614,
          0.8735930735930735,
          0.8999792960662525,
          0.830064935064935
         ],
         "x0": " ",
         "xaxis": "x3",
         "y": [
          "DecisionTree",
          "GaussianNB",
          "HistGradientBoosting",
          "KNeighbors",
          "LinearSVC",
          "LogisticRegression",
          "RandomForest",
          "XGB"
         ],
         "y0": " ",
         "yaxis": "y3"
        },
        {
         "alignmentgroup": "True",
         "boxpoints": "all",
         "fillcolor": "rgba(255,255,255,0)",
         "hoveron": "points",
         "hovertemplate": "Type=Mean<br>Metric=test_recall<br>Score=%{x}<br>Model=%{y}<extra></extra>",
         "legendgroup": "Mean",
         "line": {
          "color": "rgba(255,255,255,0)"
         },
         "marker": {
          "color": "rgb(17, 165, 121)"
         },
         "name": "Mean",
         "offsetgroup": "Mean",
         "orientation": "v",
         "pointpos": 0,
         "showlegend": false,
         "type": "box",
         "x": [
          0.7964426877470355,
          0.8936758893280633,
          0.8411067193675891,
          0.9284584980237153,
          0.8584980237154151,
          0.849407114624506,
          0.8671936758893282,
          0.8581027667984189
         ],
         "x0": " ",
         "xaxis": "x4",
         "y": [
          "DecisionTree",
          "GaussianNB",
          "HistGradientBoosting",
          "KNeighbors",
          "LinearSVC",
          "LogisticRegression",
          "RandomForest",
          "XGB"
         ],
         "y0": " ",
         "yaxis": "y4"
        },
        {
         "alignmentgroup": "True",
         "boxpoints": "all",
         "fillcolor": "rgba(255,255,255,0)",
         "hoveron": "points",
         "hovertemplate": "Type=Mean<br>Metric=test_f1<br>Score=%{x}<br>Model=%{y}<extra></extra>",
         "legendgroup": "Mean",
         "line": {
          "color": "rgba(255,255,255,0)"
         },
         "marker": {
          "color": "rgb(17, 165, 121)"
         },
         "name": "Mean",
         "offsetgroup": "Mean",
         "orientation": "v",
         "pointpos": 0,
         "showlegend": false,
         "type": "box",
         "x": [
          0.8140072323606088,
          0.8271895156515218,
          0.8419250048404793,
          0.8430936134913359,
          0.8734663914896472,
          0.8608869496548864,
          0.8821271597718899,
          0.8426982591876209
         ],
         "x0": " ",
         "xaxis": "x5",
         "y": [
          "DecisionTree",
          "GaussianNB",
          "HistGradientBoosting",
          "KNeighbors",
          "LinearSVC",
          "LogisticRegression",
          "RandomForest",
          "XGB"
         ],
         "y0": " ",
         "yaxis": "y5"
        }
       ],
       "layout": {
        "annotations": [
         {
          "font": {},
          "showarrow": false,
          "text": "Metric=test_roc_auc",
          "x": 0.09200000000000001,
          "xanchor": "center",
          "xref": "paper",
          "y": 1,
          "yanchor": "bottom",
          "yref": "paper"
         },
         {
          "font": {},
          "showarrow": false,
          "text": "Metric=test_accuracy",
          "x": 0.29600000000000004,
          "xanchor": "center",
          "xref": "paper",
          "y": 1,
          "yanchor": "bottom",
          "yref": "paper"
         },
         {
          "font": {},
          "showarrow": false,
          "text": "Metric=test_precision",
          "x": 0.5,
          "xanchor": "center",
          "xref": "paper",
          "y": 1,
          "yanchor": "bottom",
          "yref": "paper"
         },
         {
          "font": {},
          "showarrow": false,
          "text": "Metric=test_recall",
          "x": 0.7040000000000002,
          "xanchor": "center",
          "xref": "paper",
          "y": 1,
          "yanchor": "bottom",
          "yref": "paper"
         },
         {
          "font": {},
          "showarrow": false,
          "text": "Metric=test_f1",
          "x": 0.908,
          "xanchor": "center",
          "xref": "paper",
          "y": 1,
          "yanchor": "bottom",
          "yref": "paper"
         }
        ],
        "boxmode": "group",
        "height": 800,
        "legend": {
         "title": {
          "text": "Type"
         },
         "tracegroupgap": 0
        },
        "template": {
         "data": {
          "bar": [
           {
            "error_x": {
             "color": "#2a3f5f"
            },
            "error_y": {
             "color": "#2a3f5f"
            },
            "marker": {
             "line": {
              "color": "white",
              "width": 0.5
             },
             "pattern": {
              "fillmode": "overlay",
              "size": 10,
              "solidity": 0.2
             }
            },
            "type": "bar"
           }
          ],
          "barpolar": [
           {
            "marker": {
             "line": {
              "color": "white",
              "width": 0.5
             },
             "pattern": {
              "fillmode": "overlay",
              "size": 10,
              "solidity": 0.2
             }
            },
            "type": "barpolar"
           }
          ],
          "carpet": [
           {
            "aaxis": {
             "endlinecolor": "#2a3f5f",
             "gridcolor": "#C8D4E3",
             "linecolor": "#C8D4E3",
             "minorgridcolor": "#C8D4E3",
             "startlinecolor": "#2a3f5f"
            },
            "baxis": {
             "endlinecolor": "#2a3f5f",
             "gridcolor": "#C8D4E3",
             "linecolor": "#C8D4E3",
             "minorgridcolor": "#C8D4E3",
             "startlinecolor": "#2a3f5f"
            },
            "type": "carpet"
           }
          ],
          "choropleth": [
           {
            "colorbar": {
             "outlinewidth": 0,
             "ticks": ""
            },
            "type": "choropleth"
           }
          ],
          "contour": [
           {
            "colorbar": {
             "outlinewidth": 0,
             "ticks": ""
            },
            "colorscale": [
             [
              0,
              "#0d0887"
             ],
             [
              0.1111111111111111,
              "#46039f"
             ],
             [
              0.2222222222222222,
              "#7201a8"
             ],
             [
              0.3333333333333333,
              "#9c179e"
             ],
             [
              0.4444444444444444,
              "#bd3786"
             ],
             [
              0.5555555555555556,
              "#d8576b"
             ],
             [
              0.6666666666666666,
              "#ed7953"
             ],
             [
              0.7777777777777778,
              "#fb9f3a"
             ],
             [
              0.8888888888888888,
              "#fdca26"
             ],
             [
              1,
              "#f0f921"
             ]
            ],
            "type": "contour"
           }
          ],
          "contourcarpet": [
           {
            "colorbar": {
             "outlinewidth": 0,
             "ticks": ""
            },
            "type": "contourcarpet"
           }
          ],
          "heatmap": [
           {
            "colorbar": {
             "outlinewidth": 0,
             "ticks": ""
            },
            "colorscale": [
             [
              0,
              "#0d0887"
             ],
             [
              0.1111111111111111,
              "#46039f"
             ],
             [
              0.2222222222222222,
              "#7201a8"
             ],
             [
              0.3333333333333333,
              "#9c179e"
             ],
             [
              0.4444444444444444,
              "#bd3786"
             ],
             [
              0.5555555555555556,
              "#d8576b"
             ],
             [
              0.6666666666666666,
              "#ed7953"
             ],
             [
              0.7777777777777778,
              "#fb9f3a"
             ],
             [
              0.8888888888888888,
              "#fdca26"
             ],
             [
              1,
              "#f0f921"
             ]
            ],
            "type": "heatmap"
           }
          ],
          "heatmapgl": [
           {
            "colorbar": {
             "outlinewidth": 0,
             "ticks": ""
            },
            "colorscale": [
             [
              0,
              "#0d0887"
             ],
             [
              0.1111111111111111,
              "#46039f"
             ],
             [
              0.2222222222222222,
              "#7201a8"
             ],
             [
              0.3333333333333333,
              "#9c179e"
             ],
             [
              0.4444444444444444,
              "#bd3786"
             ],
             [
              0.5555555555555556,
              "#d8576b"
             ],
             [
              0.6666666666666666,
              "#ed7953"
             ],
             [
              0.7777777777777778,
              "#fb9f3a"
             ],
             [
              0.8888888888888888,
              "#fdca26"
             ],
             [
              1,
              "#f0f921"
             ]
            ],
            "type": "heatmapgl"
           }
          ],
          "histogram": [
           {
            "marker": {
             "pattern": {
              "fillmode": "overlay",
              "size": 10,
              "solidity": 0.2
             }
            },
            "type": "histogram"
           }
          ],
          "histogram2d": [
           {
            "colorbar": {
             "outlinewidth": 0,
             "ticks": ""
            },
            "colorscale": [
             [
              0,
              "#0d0887"
             ],
             [
              0.1111111111111111,
              "#46039f"
             ],
             [
              0.2222222222222222,
              "#7201a8"
             ],
             [
              0.3333333333333333,
              "#9c179e"
             ],
             [
              0.4444444444444444,
              "#bd3786"
             ],
             [
              0.5555555555555556,
              "#d8576b"
             ],
             [
              0.6666666666666666,
              "#ed7953"
             ],
             [
              0.7777777777777778,
              "#fb9f3a"
             ],
             [
              0.8888888888888888,
              "#fdca26"
             ],
             [
              1,
              "#f0f921"
             ]
            ],
            "type": "histogram2d"
           }
          ],
          "histogram2dcontour": [
           {
            "colorbar": {
             "outlinewidth": 0,
             "ticks": ""
            },
            "colorscale": [
             [
              0,
              "#0d0887"
             ],
             [
              0.1111111111111111,
              "#46039f"
             ],
             [
              0.2222222222222222,
              "#7201a8"
             ],
             [
              0.3333333333333333,
              "#9c179e"
             ],
             [
              0.4444444444444444,
              "#bd3786"
             ],
             [
              0.5555555555555556,
              "#d8576b"
             ],
             [
              0.6666666666666666,
              "#ed7953"
             ],
             [
              0.7777777777777778,
              "#fb9f3a"
             ],
             [
              0.8888888888888888,
              "#fdca26"
             ],
             [
              1,
              "#f0f921"
             ]
            ],
            "type": "histogram2dcontour"
           }
          ],
          "mesh3d": [
           {
            "colorbar": {
             "outlinewidth": 0,
             "ticks": ""
            },
            "type": "mesh3d"
           }
          ],
          "parcoords": [
           {
            "line": {
             "colorbar": {
              "outlinewidth": 0,
              "ticks": ""
             }
            },
            "type": "parcoords"
           }
          ],
          "pie": [
           {
            "automargin": true,
            "type": "pie"
           }
          ],
          "scatter": [
           {
            "marker": {
             "colorbar": {
              "outlinewidth": 0,
              "ticks": ""
             }
            },
            "type": "scatter"
           }
          ],
          "scatter3d": [
           {
            "line": {
             "colorbar": {
              "outlinewidth": 0,
              "ticks": ""
             }
            },
            "marker": {
             "colorbar": {
              "outlinewidth": 0,
              "ticks": ""
             }
            },
            "type": "scatter3d"
           }
          ],
          "scattercarpet": [
           {
            "marker": {
             "colorbar": {
              "outlinewidth": 0,
              "ticks": ""
             }
            },
            "type": "scattercarpet"
           }
          ],
          "scattergeo": [
           {
            "marker": {
             "colorbar": {
              "outlinewidth": 0,
              "ticks": ""
             }
            },
            "type": "scattergeo"
           }
          ],
          "scattergl": [
           {
            "marker": {
             "colorbar": {
              "outlinewidth": 0,
              "ticks": ""
             }
            },
            "type": "scattergl"
           }
          ],
          "scattermapbox": [
           {
            "marker": {
             "colorbar": {
              "outlinewidth": 0,
              "ticks": ""
             }
            },
            "type": "scattermapbox"
           }
          ],
          "scatterpolar": [
           {
            "marker": {
             "colorbar": {
              "outlinewidth": 0,
              "ticks": ""
             }
            },
            "type": "scatterpolar"
           }
          ],
          "scatterpolargl": [
           {
            "marker": {
             "colorbar": {
              "outlinewidth": 0,
              "ticks": ""
             }
            },
            "type": "scatterpolargl"
           }
          ],
          "scatterternary": [
           {
            "marker": {
             "colorbar": {
              "outlinewidth": 0,
              "ticks": ""
             }
            },
            "type": "scatterternary"
           }
          ],
          "surface": [
           {
            "colorbar": {
             "outlinewidth": 0,
             "ticks": ""
            },
            "colorscale": [
             [
              0,
              "#0d0887"
             ],
             [
              0.1111111111111111,
              "#46039f"
             ],
             [
              0.2222222222222222,
              "#7201a8"
             ],
             [
              0.3333333333333333,
              "#9c179e"
             ],
             [
              0.4444444444444444,
              "#bd3786"
             ],
             [
              0.5555555555555556,
              "#d8576b"
             ],
             [
              0.6666666666666666,
              "#ed7953"
             ],
             [
              0.7777777777777778,
              "#fb9f3a"
             ],
             [
              0.8888888888888888,
              "#fdca26"
             ],
             [
              1,
              "#f0f921"
             ]
            ],
            "type": "surface"
           }
          ],
          "table": [
           {
            "cells": {
             "fill": {
              "color": "#EBF0F8"
             },
             "line": {
              "color": "white"
             }
            },
            "header": {
             "fill": {
              "color": "#C8D4E3"
             },
             "line": {
              "color": "white"
             }
            },
            "type": "table"
           }
          ]
         },
         "layout": {
          "annotationdefaults": {
           "arrowcolor": "#2a3f5f",
           "arrowhead": 0,
           "arrowwidth": 1
          },
          "autotypenumbers": "strict",
          "coloraxis": {
           "colorbar": {
            "outlinewidth": 0,
            "ticks": ""
           }
          },
          "colorscale": {
           "diverging": [
            [
             0,
             "#8e0152"
            ],
            [
             0.1,
             "#c51b7d"
            ],
            [
             0.2,
             "#de77ae"
            ],
            [
             0.3,
             "#f1b6da"
            ],
            [
             0.4,
             "#fde0ef"
            ],
            [
             0.5,
             "#f7f7f7"
            ],
            [
             0.6,
             "#e6f5d0"
            ],
            [
             0.7,
             "#b8e186"
            ],
            [
             0.8,
             "#7fbc41"
            ],
            [
             0.9,
             "#4d9221"
            ],
            [
             1,
             "#276419"
            ]
           ],
           "sequential": [
            [
             0,
             "#0d0887"
            ],
            [
             0.1111111111111111,
             "#46039f"
            ],
            [
             0.2222222222222222,
             "#7201a8"
            ],
            [
             0.3333333333333333,
             "#9c179e"
            ],
            [
             0.4444444444444444,
             "#bd3786"
            ],
            [
             0.5555555555555556,
             "#d8576b"
            ],
            [
             0.6666666666666666,
             "#ed7953"
            ],
            [
             0.7777777777777778,
             "#fb9f3a"
            ],
            [
             0.8888888888888888,
             "#fdca26"
            ],
            [
             1,
             "#f0f921"
            ]
           ],
           "sequentialminus": [
            [
             0,
             "#0d0887"
            ],
            [
             0.1111111111111111,
             "#46039f"
            ],
            [
             0.2222222222222222,
             "#7201a8"
            ],
            [
             0.3333333333333333,
             "#9c179e"
            ],
            [
             0.4444444444444444,
             "#bd3786"
            ],
            [
             0.5555555555555556,
             "#d8576b"
            ],
            [
             0.6666666666666666,
             "#ed7953"
            ],
            [
             0.7777777777777778,
             "#fb9f3a"
            ],
            [
             0.8888888888888888,
             "#fdca26"
            ],
            [
             1,
             "#f0f921"
            ]
           ]
          },
          "colorway": [
           "#636efa",
           "#EF553B",
           "#00cc96",
           "#ab63fa",
           "#FFA15A",
           "#19d3f3",
           "#FF6692",
           "#B6E880",
           "#FF97FF",
           "#FECB52"
          ],
          "font": {
           "color": "#8C8C8C"
          },
          "geo": {
           "bgcolor": "white",
           "lakecolor": "white",
           "landcolor": "white",
           "showlakes": true,
           "showland": true,
           "subunitcolor": "#C8D4E3"
          },
          "hoverlabel": {
           "align": "left"
          },
          "hovermode": "closest",
          "legend": {
           "orientation": "h",
           "x": 0,
           "xanchor": "left",
           "y": -0.2,
           "yanchor": "top"
          },
          "mapbox": {
           "style": "light"
          },
          "margin": {
           "l": 20,
           "r": 20
          },
          "paper_bgcolor": "white",
          "plot_bgcolor": "white",
          "polar": {
           "angularaxis": {
            "gridcolor": "#EBF0F8",
            "linecolor": "#EBF0F8",
            "ticks": ""
           },
           "bgcolor": "white",
           "radialaxis": {
            "gridcolor": "#EBF0F8",
            "linecolor": "#EBF0F8",
            "ticks": ""
           }
          },
          "scene": {
           "xaxis": {
            "backgroundcolor": "white",
            "gridcolor": "#DFE8F3",
            "gridwidth": 2,
            "linecolor": "#EBF0F8",
            "showbackground": true,
            "ticks": "",
            "zerolinecolor": "#EBF0F8"
           },
           "yaxis": {
            "backgroundcolor": "white",
            "gridcolor": "#DFE8F3",
            "gridwidth": 2,
            "linecolor": "#EBF0F8",
            "showbackground": true,
            "ticks": "",
            "zerolinecolor": "#EBF0F8"
           },
           "zaxis": {
            "backgroundcolor": "white",
            "gridcolor": "#DFE8F3",
            "gridwidth": 2,
            "linecolor": "#EBF0F8",
            "showbackground": true,
            "ticks": "",
            "zerolinecolor": "#EBF0F8"
           }
          },
          "shapedefaults": {
           "line": {
            "color": "#2a3f5f"
           }
          },
          "ternary": {
           "aaxis": {
            "gridcolor": "#DFE8F3",
            "linecolor": "#A2B1C6",
            "ticks": ""
           },
           "baxis": {
            "gridcolor": "#DFE8F3",
            "linecolor": "#A2B1C6",
            "ticks": ""
           },
           "bgcolor": "white",
           "caxis": {
            "gridcolor": "#DFE8F3",
            "linecolor": "#A2B1C6",
            "ticks": ""
           }
          },
          "title": {
           "x": 0.05
          },
          "xaxis": {
           "automargin": true,
           "gridcolor": "#EBF0F8",
           "linecolor": "#EBF0F8",
           "ticks": "",
           "title": {
            "standoff": 15
           },
           "zerolinecolor": "#EBF0F8",
           "zerolinewidth": 2
          },
          "yaxis": {
           "automargin": true,
           "gridcolor": "#EBF0F8",
           "linecolor": "#EBF0F8",
           "ticks": "",
           "title": {
            "standoff": 15
           },
           "zerolinecolor": "#EBF0F8",
           "zerolinewidth": 2
          }
         }
        },
        "title": {
         "text": "Model scores"
        },
        "xaxis": {
         "anchor": "y",
         "domain": [
          0,
          0.18400000000000002
         ],
         "title": {
          "text": "Score"
         }
        },
        "xaxis2": {
         "anchor": "y2",
         "domain": [
          0.20400000000000001,
          0.388
         ],
         "title": {
          "text": "Score"
         }
        },
        "xaxis3": {
         "anchor": "y3",
         "domain": [
          0.40800000000000003,
          0.5920000000000001
         ],
         "title": {
          "text": "Score"
         }
        },
        "xaxis4": {
         "anchor": "y4",
         "domain": [
          0.6120000000000001,
          0.7960000000000002
         ],
         "title": {
          "text": "Score"
         }
        },
        "xaxis5": {
         "anchor": "y5",
         "domain": [
          0.8160000000000001,
          1
         ],
         "title": {
          "text": "Score"
         }
        },
        "yaxis": {
         "anchor": "x",
         "domain": [
          0,
          1
         ],
         "title": {
          "text": ""
         }
        },
        "yaxis2": {
         "anchor": "x2",
         "domain": [
          0,
          1
         ],
         "matches": "y",
         "showticklabels": false
        },
        "yaxis3": {
         "anchor": "x3",
         "domain": [
          0,
          1
         ],
         "matches": "y",
         "showticklabels": false
        },
        "yaxis4": {
         "anchor": "x4",
         "domain": [
          0,
          1
         ],
         "matches": "y",
         "showticklabels": false
        },
        "yaxis5": {
         "anchor": "x5",
         "domain": [
          0,
          1
         ],
         "matches": "y",
         "showticklabels": false
        }
       }
      },
      "text/html": [
       "<div>                            <div id=\"6769d675-cbed-4f4f-95b8-d643d425c0f2\" class=\"plotly-graph-div\" style=\"height:800px; width:100%;\"></div>            <script type=\"text/javascript\">                require([\"plotly\"], function(Plotly) {                    window.PLOTLYENV=window.PLOTLYENV || {};                                    if (document.getElementById(\"6769d675-cbed-4f4f-95b8-d643d425c0f2\")) {                    Plotly.newPlot(                        \"6769d675-cbed-4f4f-95b8-d643d425c0f2\",                        [{\"alignmentgroup\":\"True\",\"boxpoints\":\"all\",\"fillcolor\":\"rgba(255,255,255,0)\",\"hoveron\":\"points\",\"hovertemplate\":\"Type=Fold<br>Metric=test_roc_auc<br>Score=%{x}<br>Model=%{y}<extra></extra>\",\"legendgroup\":\"Fold\",\"line\":{\"color\":\"rgba(255,255,255,0)\"},\"marker\":{\"color\":\"rgb(127, 60, 141)\"},\"name\":\"Fold\",\"offsetgroup\":\"Fold\",\"orientation\":\"v\",\"pointpos\":0,\"showlegend\":true,\"x\":[0.9308300395256917,0.9229249011857708,0.9347826086956521,0.9683794466403162,0.924901185770751,0.8339920948616601,0.841897233201581,0.8952569169960474,0.9723320158102766,0.9466403162055336,0.9011857707509882,0.9367588932806324,0.9407114624505929,0.9664031620553359,0.9347826086956522,0.8932806324110673,0.8221343873517786,0.9713438735177865,0.9634387351778656,0.9120553359683794,0.866600790513834,0.8201581027667986,0.8438735177865612,0.7776679841897233,0.7786561264822134,0.9199604743083005,0.9357707509881424,0.9703557312252965,0.9535573122529645,0.9308300395256917,0.9150197628458497,0.9337944664031621,0.942687747035573,0.9150197628458497,0.8794466403162055,0.9308300395256918,0.900197628458498,0.9802371541501975,0.9268774703557312,0.932806324110672],\"x0\":\" \",\"xaxis\":\"x\",\"y\":[\"LogisticRegression\",\"LogisticRegression\",\"LogisticRegression\",\"LogisticRegression\",\"LogisticRegression\",\"GaussianNB\",\"GaussianNB\",\"GaussianNB\",\"GaussianNB\",\"GaussianNB\",\"LinearSVC\",\"LinearSVC\",\"LinearSVC\",\"LinearSVC\",\"LinearSVC\",\"KNeighbors\",\"KNeighbors\",\"KNeighbors\",\"KNeighbors\",\"KNeighbors\",\"DecisionTree\",\"DecisionTree\",\"DecisionTree\",\"DecisionTree\",\"DecisionTree\",\"RandomForest\",\"RandomForest\",\"RandomForest\",\"RandomForest\",\"RandomForest\",\"HistGradientBoosting\",\"HistGradientBoosting\",\"HistGradientBoosting\",\"HistGradientBoosting\",\"HistGradientBoosting\",\"XGB\",\"XGB\",\"XGB\",\"XGB\",\"XGB\"],\"y0\":\" \",\"yaxis\":\"y\",\"type\":\"box\"},{\"alignmentgroup\":\"True\",\"boxpoints\":\"all\",\"fillcolor\":\"rgba(255,255,255,0)\",\"hoveron\":\"points\",\"hovertemplate\":\"Type=Fold<br>Metric=test_accuracy<br>Score=%{x}<br>Model=%{y}<extra></extra>\",\"legendgroup\":\"Fold\",\"line\":{\"color\":\"rgba(255,255,255,0)\"},\"marker\":{\"color\":\"rgb(127, 60, 141)\"},\"name\":\"Fold\",\"offsetgroup\":\"Fold\",\"orientation\":\"v\",\"pointpos\":0,\"showlegend\":false,\"x\":[0.8444444444444444,0.8666666666666667,0.8888888888888888,0.8666666666666667,0.8444444444444444,0.6888888888888889,0.7111111111111111,0.8222222222222222,0.8888888888888888,0.9333333333333333,0.8444444444444444,0.9111111111111111,0.8888888888888888,0.8666666666666667,0.8666666666666667,0.8222222222222222,0.7555555555555555,0.8444444444444444,0.8666666666666667,0.8444444444444444,0.8666666666666667,0.8222222222222222,0.8444444444444444,0.7777777777777778,0.7777777777777778,0.8444444444444444,0.8888888888888888,0.9111111111111111,0.9333333333333333,0.8444444444444444,0.8888888888888888,0.8888888888888888,0.8444444444444444,0.8,0.7777777777777778,0.8222222222222222,0.8,0.8888888888888888,0.8666666666666667,0.8222222222222222],\"x0\":\" \",\"xaxis\":\"x2\",\"y\":[\"LogisticRegression\",\"LogisticRegression\",\"LogisticRegression\",\"LogisticRegression\",\"LogisticRegression\",\"GaussianNB\",\"GaussianNB\",\"GaussianNB\",\"GaussianNB\",\"GaussianNB\",\"LinearSVC\",\"LinearSVC\",\"LinearSVC\",\"LinearSVC\",\"LinearSVC\",\"KNeighbors\",\"KNeighbors\",\"KNeighbors\",\"KNeighbors\",\"KNeighbors\",\"DecisionTree\",\"DecisionTree\",\"DecisionTree\",\"DecisionTree\",\"DecisionTree\",\"RandomForest\",\"RandomForest\",\"RandomForest\",\"RandomForest\",\"RandomForest\",\"HistGradientBoosting\",\"HistGradientBoosting\",\"HistGradientBoosting\",\"HistGradientBoosting\",\"HistGradientBoosting\",\"XGB\",\"XGB\",\"XGB\",\"XGB\",\"XGB\"],\"y0\":\" \",\"yaxis\":\"y2\",\"type\":\"box\"},{\"alignmentgroup\":\"True\",\"boxpoints\":\"all\",\"fillcolor\":\"rgba(255,255,255,0)\",\"hoveron\":\"points\",\"hovertemplate\":\"Type=Fold<br>Metric=test_precision<br>Score=%{x}<br>Model=%{y}<extra></extra>\",\"legendgroup\":\"Fold\",\"line\":{\"color\":\"rgba(255,255,255,0)\"},\"marker\":{\"color\":\"rgb(127, 60, 141)\"},\"name\":\"Fold\",\"offsetgroup\":\"Fold\",\"orientation\":\"v\",\"pointpos\":0,\"showlegend\":false,\"x\":[0.8571428571428571,0.8636363636363636,0.9090909090909091,0.9047619047619048,0.8333333333333334,0.6428571428571429,0.6363636363636364,0.8571428571428571,0.8461538461538461,0.9166666666666666,0.8571428571428571,0.9090909090909091,0.9090909090909091,0.9473684210526315,0.84,0.7916666666666666,0.6896551724137931,0.7666666666666667,0.8148148148148148,0.8076923076923077,0.8636363636363636,0.8888888888888888,0.8333333333333334,0.782608695652174,0.8095238095238095,0.8260869565217391,0.9047619047619048,0.9523809523809523,0.9166666666666666,0.9,0.9047619047619048,0.9047619047619048,0.8333333333333334,0.7916666666666666,0.782608695652174,0.8181818181818182,0.76,0.875,0.84,0.8571428571428571],\"x0\":\" \",\"xaxis\":\"x3\",\"y\":[\"LogisticRegression\",\"LogisticRegression\",\"LogisticRegression\",\"LogisticRegression\",\"LogisticRegression\",\"GaussianNB\",\"GaussianNB\",\"GaussianNB\",\"GaussianNB\",\"GaussianNB\",\"LinearSVC\",\"LinearSVC\",\"LinearSVC\",\"LinearSVC\",\"LinearSVC\",\"KNeighbors\",\"KNeighbors\",\"KNeighbors\",\"KNeighbors\",\"KNeighbors\",\"DecisionTree\",\"DecisionTree\",\"DecisionTree\",\"DecisionTree\",\"DecisionTree\",\"RandomForest\",\"RandomForest\",\"RandomForest\",\"RandomForest\",\"RandomForest\",\"HistGradientBoosting\",\"HistGradientBoosting\",\"HistGradientBoosting\",\"HistGradientBoosting\",\"HistGradientBoosting\",\"XGB\",\"XGB\",\"XGB\",\"XGB\",\"XGB\"],\"y0\":\" \",\"yaxis\":\"y3\",\"type\":\"box\"},{\"alignmentgroup\":\"True\",\"boxpoints\":\"all\",\"fillcolor\":\"rgba(255,255,255,0)\",\"hoveron\":\"points\",\"hovertemplate\":\"Type=Fold<br>Metric=test_recall<br>Score=%{x}<br>Model=%{y}<extra></extra>\",\"legendgroup\":\"Fold\",\"line\":{\"color\":\"rgba(255,255,255,0)\"},\"marker\":{\"color\":\"rgb(127, 60, 141)\"},\"name\":\"Fold\",\"offsetgroup\":\"Fold\",\"orientation\":\"v\",\"pointpos\":0,\"showlegend\":false,\"x\":[0.8181818181818182,0.8636363636363636,0.8695652173913043,0.8260869565217391,0.8695652173913043,0.8181818181818182,0.9545454545454546,0.782608695652174,0.9565217391304348,0.9565217391304348,0.8181818181818182,0.9090909090909091,0.8695652173913043,0.782608695652174,0.9130434782608695,0.8636363636363636,0.9090909090909091,1.0,0.9565217391304348,0.9130434782608695,0.8636363636363636,0.7272727272727273,0.8695652173913043,0.782608695652174,0.7391304347826086,0.8636363636363636,0.8636363636363636,0.8695652173913043,0.9565217391304348,0.782608695652174,0.8636363636363636,0.8636363636363636,0.8695652173913043,0.8260869565217391,0.782608695652174,0.8181818181818182,0.8636363636363636,0.9130434782608695,0.9130434782608695,0.782608695652174],\"x0\":\" \",\"xaxis\":\"x4\",\"y\":[\"LogisticRegression\",\"LogisticRegression\",\"LogisticRegression\",\"LogisticRegression\",\"LogisticRegression\",\"GaussianNB\",\"GaussianNB\",\"GaussianNB\",\"GaussianNB\",\"GaussianNB\",\"LinearSVC\",\"LinearSVC\",\"LinearSVC\",\"LinearSVC\",\"LinearSVC\",\"KNeighbors\",\"KNeighbors\",\"KNeighbors\",\"KNeighbors\",\"KNeighbors\",\"DecisionTree\",\"DecisionTree\",\"DecisionTree\",\"DecisionTree\",\"DecisionTree\",\"RandomForest\",\"RandomForest\",\"RandomForest\",\"RandomForest\",\"RandomForest\",\"HistGradientBoosting\",\"HistGradientBoosting\",\"HistGradientBoosting\",\"HistGradientBoosting\",\"HistGradientBoosting\",\"XGB\",\"XGB\",\"XGB\",\"XGB\",\"XGB\"],\"y0\":\" \",\"yaxis\":\"y4\",\"type\":\"box\"},{\"alignmentgroup\":\"True\",\"boxpoints\":\"all\",\"fillcolor\":\"rgba(255,255,255,0)\",\"hoveron\":\"points\",\"hovertemplate\":\"Type=Fold<br>Metric=test_f1<br>Score=%{x}<br>Model=%{y}<extra></extra>\",\"legendgroup\":\"Fold\",\"line\":{\"color\":\"rgba(255,255,255,0)\"},\"marker\":{\"color\":\"rgb(127, 60, 141)\"},\"name\":\"Fold\",\"offsetgroup\":\"Fold\",\"orientation\":\"v\",\"pointpos\":0,\"showlegend\":false,\"x\":[0.8372093023255814,0.8636363636363636,0.888888888888889,0.8636363636363636,0.851063829787234,0.7200000000000001,0.7636363636363637,0.8181818181818182,0.8979591836734695,0.9361702127659574,0.8372093023255814,0.9090909090909091,0.888888888888889,0.8571428571428571,0.8749999999999999,0.8260869565217391,0.7843137254901961,0.8679245283018869,0.8800000000000001,0.8571428571428572,0.8636363636363636,0.7999999999999999,0.851063829787234,0.782608695652174,0.7727272727272727,0.8444444444444444,0.8837209302325582,0.909090909090909,0.9361702127659574,0.8372093023255814,0.8837209302325582,0.8837209302325582,0.851063829787234,0.8085106382978724,0.782608695652174,0.8181818181818182,0.8085106382978724,0.8936170212765957,0.8749999999999999,0.8181818181818182],\"x0\":\" \",\"xaxis\":\"x5\",\"y\":[\"LogisticRegression\",\"LogisticRegression\",\"LogisticRegression\",\"LogisticRegression\",\"LogisticRegression\",\"GaussianNB\",\"GaussianNB\",\"GaussianNB\",\"GaussianNB\",\"GaussianNB\",\"LinearSVC\",\"LinearSVC\",\"LinearSVC\",\"LinearSVC\",\"LinearSVC\",\"KNeighbors\",\"KNeighbors\",\"KNeighbors\",\"KNeighbors\",\"KNeighbors\",\"DecisionTree\",\"DecisionTree\",\"DecisionTree\",\"DecisionTree\",\"DecisionTree\",\"RandomForest\",\"RandomForest\",\"RandomForest\",\"RandomForest\",\"RandomForest\",\"HistGradientBoosting\",\"HistGradientBoosting\",\"HistGradientBoosting\",\"HistGradientBoosting\",\"HistGradientBoosting\",\"XGB\",\"XGB\",\"XGB\",\"XGB\",\"XGB\"],\"y0\":\" \",\"yaxis\":\"y5\",\"type\":\"box\"},{\"alignmentgroup\":\"True\",\"boxpoints\":\"all\",\"fillcolor\":\"rgba(255,255,255,0)\",\"hoveron\":\"points\",\"hovertemplate\":\"Type=Mean<br>Metric=test_roc_auc<br>Score=%{x}<br>Model=%{y}<extra></extra>\",\"legendgroup\":\"Mean\",\"line\":{\"color\":\"rgba(255,255,255,0)\"},\"marker\":{\"color\":\"rgb(17, 165, 121)\"},\"name\":\"Mean\",\"offsetgroup\":\"Mean\",\"orientation\":\"v\",\"pointpos\":0,\"showlegend\":true,\"x\":[0.8173913043478261,0.8980237154150197,0.917193675889328,0.9124505928853754,0.9359683794466402,0.9363636363636363,0.942094861660079,0.9341897233201581],\"x0\":\" \",\"xaxis\":\"x\",\"y\":[\"DecisionTree\",\"GaussianNB\",\"HistGradientBoosting\",\"KNeighbors\",\"LinearSVC\",\"LogisticRegression\",\"RandomForest\",\"XGB\"],\"y0\":\" \",\"yaxis\":\"y\",\"type\":\"box\"},{\"alignmentgroup\":\"True\",\"boxpoints\":\"all\",\"fillcolor\":\"rgba(255,255,255,0)\",\"hoveron\":\"points\",\"hovertemplate\":\"Type=Mean<br>Metric=test_accuracy<br>Score=%{x}<br>Model=%{y}<extra></extra>\",\"legendgroup\":\"Mean\",\"line\":{\"color\":\"rgba(255,255,255,0)\"},\"marker\":{\"color\":\"rgb(17, 165, 121)\"},\"name\":\"Mean\",\"offsetgroup\":\"Mean\",\"orientation\":\"v\",\"pointpos\":0,\"showlegend\":false,\"x\":[0.8177777777777777,0.8088888888888889,0.8400000000000001,0.8266666666666665,0.8755555555555556,0.8622222222222222,0.8844444444444444,0.8400000000000001],\"x0\":\" \",\"xaxis\":\"x2\",\"y\":[\"DecisionTree\",\"GaussianNB\",\"HistGradientBoosting\",\"KNeighbors\",\"LinearSVC\",\"LogisticRegression\",\"RandomForest\",\"XGB\"],\"y0\":\" \",\"yaxis\":\"y2\",\"type\":\"box\"},{\"alignmentgroup\":\"True\",\"boxpoints\":\"all\",\"fillcolor\":\"rgba(255,255,255,0)\",\"hoveron\":\"points\",\"hovertemplate\":\"Type=Mean<br>Metric=test_precision<br>Score=%{x}<br>Model=%{y}<extra></extra>\",\"legendgroup\":\"Mean\",\"line\":{\"color\":\"rgba(255,255,255,0)\"},\"marker\":{\"color\":\"rgb(17, 165, 121)\"},\"name\":\"Mean\",\"offsetgroup\":\"Mean\",\"orientation\":\"v\",\"pointpos\":0,\"showlegend\":false,\"x\":[0.8355982182069139,0.7798368298368298,0.8434265010351967,0.7740991256508497,0.8925386192754614,0.8735930735930735,0.8999792960662525,0.830064935064935],\"x0\":\" \",\"xaxis\":\"x3\",\"y\":[\"DecisionTree\",\"GaussianNB\",\"HistGradientBoosting\",\"KNeighbors\",\"LinearSVC\",\"LogisticRegression\",\"RandomForest\",\"XGB\"],\"y0\":\" \",\"yaxis\":\"y3\",\"type\":\"box\"},{\"alignmentgroup\":\"True\",\"boxpoints\":\"all\",\"fillcolor\":\"rgba(255,255,255,0)\",\"hoveron\":\"points\",\"hovertemplate\":\"Type=Mean<br>Metric=test_recall<br>Score=%{x}<br>Model=%{y}<extra></extra>\",\"legendgroup\":\"Mean\",\"line\":{\"color\":\"rgba(255,255,255,0)\"},\"marker\":{\"color\":\"rgb(17, 165, 121)\"},\"name\":\"Mean\",\"offsetgroup\":\"Mean\",\"orientation\":\"v\",\"pointpos\":0,\"showlegend\":false,\"x\":[0.7964426877470355,0.8936758893280633,0.8411067193675891,0.9284584980237153,0.8584980237154151,0.849407114624506,0.8671936758893282,0.8581027667984189],\"x0\":\" \",\"xaxis\":\"x4\",\"y\":[\"DecisionTree\",\"GaussianNB\",\"HistGradientBoosting\",\"KNeighbors\",\"LinearSVC\",\"LogisticRegression\",\"RandomForest\",\"XGB\"],\"y0\":\" \",\"yaxis\":\"y4\",\"type\":\"box\"},{\"alignmentgroup\":\"True\",\"boxpoints\":\"all\",\"fillcolor\":\"rgba(255,255,255,0)\",\"hoveron\":\"points\",\"hovertemplate\":\"Type=Mean<br>Metric=test_f1<br>Score=%{x}<br>Model=%{y}<extra></extra>\",\"legendgroup\":\"Mean\",\"line\":{\"color\":\"rgba(255,255,255,0)\"},\"marker\":{\"color\":\"rgb(17, 165, 121)\"},\"name\":\"Mean\",\"offsetgroup\":\"Mean\",\"orientation\":\"v\",\"pointpos\":0,\"showlegend\":false,\"x\":[0.8140072323606088,0.8271895156515218,0.8419250048404793,0.8430936134913359,0.8734663914896472,0.8608869496548864,0.8821271597718899,0.8426982591876209],\"x0\":\" \",\"xaxis\":\"x5\",\"y\":[\"DecisionTree\",\"GaussianNB\",\"HistGradientBoosting\",\"KNeighbors\",\"LinearSVC\",\"LogisticRegression\",\"RandomForest\",\"XGB\"],\"y0\":\" \",\"yaxis\":\"y5\",\"type\":\"box\"}],                        {\"template\":{\"data\":{\"bar\":[{\"error_x\":{\"color\":\"#2a3f5f\"},\"error_y\":{\"color\":\"#2a3f5f\"},\"marker\":{\"line\":{\"color\":\"white\",\"width\":0.5},\"pattern\":{\"fillmode\":\"overlay\",\"size\":10,\"solidity\":0.2}},\"type\":\"bar\"}],\"barpolar\":[{\"marker\":{\"line\":{\"color\":\"white\",\"width\":0.5},\"pattern\":{\"fillmode\":\"overlay\",\"size\":10,\"solidity\":0.2}},\"type\":\"barpolar\"}],\"carpet\":[{\"aaxis\":{\"endlinecolor\":\"#2a3f5f\",\"gridcolor\":\"#C8D4E3\",\"linecolor\":\"#C8D4E3\",\"minorgridcolor\":\"#C8D4E3\",\"startlinecolor\":\"#2a3f5f\"},\"baxis\":{\"endlinecolor\":\"#2a3f5f\",\"gridcolor\":\"#C8D4E3\",\"linecolor\":\"#C8D4E3\",\"minorgridcolor\":\"#C8D4E3\",\"startlinecolor\":\"#2a3f5f\"},\"type\":\"carpet\"}],\"choropleth\":[{\"colorbar\":{\"outlinewidth\":0,\"ticks\":\"\"},\"type\":\"choropleth\"}],\"contour\":[{\"colorbar\":{\"outlinewidth\":0,\"ticks\":\"\"},\"colorscale\":[[0.0,\"#0d0887\"],[0.1111111111111111,\"#46039f\"],[0.2222222222222222,\"#7201a8\"],[0.3333333333333333,\"#9c179e\"],[0.4444444444444444,\"#bd3786\"],[0.5555555555555556,\"#d8576b\"],[0.6666666666666666,\"#ed7953\"],[0.7777777777777778,\"#fb9f3a\"],[0.8888888888888888,\"#fdca26\"],[1.0,\"#f0f921\"]],\"type\":\"contour\"}],\"contourcarpet\":[{\"colorbar\":{\"outlinewidth\":0,\"ticks\":\"\"},\"type\":\"contourcarpet\"}],\"heatmap\":[{\"colorbar\":{\"outlinewidth\":0,\"ticks\":\"\"},\"colorscale\":[[0.0,\"#0d0887\"],[0.1111111111111111,\"#46039f\"],[0.2222222222222222,\"#7201a8\"],[0.3333333333333333,\"#9c179e\"],[0.4444444444444444,\"#bd3786\"],[0.5555555555555556,\"#d8576b\"],[0.6666666666666666,\"#ed7953\"],[0.7777777777777778,\"#fb9f3a\"],[0.8888888888888888,\"#fdca26\"],[1.0,\"#f0f921\"]],\"type\":\"heatmap\"}],\"heatmapgl\":[{\"colorbar\":{\"outlinewidth\":0,\"ticks\":\"\"},\"colorscale\":[[0.0,\"#0d0887\"],[0.1111111111111111,\"#46039f\"],[0.2222222222222222,\"#7201a8\"],[0.3333333333333333,\"#9c179e\"],[0.4444444444444444,\"#bd3786\"],[0.5555555555555556,\"#d8576b\"],[0.6666666666666666,\"#ed7953\"],[0.7777777777777778,\"#fb9f3a\"],[0.8888888888888888,\"#fdca26\"],[1.0,\"#f0f921\"]],\"type\":\"heatmapgl\"}],\"histogram\":[{\"marker\":{\"pattern\":{\"fillmode\":\"overlay\",\"size\":10,\"solidity\":0.2}},\"type\":\"histogram\"}],\"histogram2d\":[{\"colorbar\":{\"outlinewidth\":0,\"ticks\":\"\"},\"colorscale\":[[0.0,\"#0d0887\"],[0.1111111111111111,\"#46039f\"],[0.2222222222222222,\"#7201a8\"],[0.3333333333333333,\"#9c179e\"],[0.4444444444444444,\"#bd3786\"],[0.5555555555555556,\"#d8576b\"],[0.6666666666666666,\"#ed7953\"],[0.7777777777777778,\"#fb9f3a\"],[0.8888888888888888,\"#fdca26\"],[1.0,\"#f0f921\"]],\"type\":\"histogram2d\"}],\"histogram2dcontour\":[{\"colorbar\":{\"outlinewidth\":0,\"ticks\":\"\"},\"colorscale\":[[0.0,\"#0d0887\"],[0.1111111111111111,\"#46039f\"],[0.2222222222222222,\"#7201a8\"],[0.3333333333333333,\"#9c179e\"],[0.4444444444444444,\"#bd3786\"],[0.5555555555555556,\"#d8576b\"],[0.6666666666666666,\"#ed7953\"],[0.7777777777777778,\"#fb9f3a\"],[0.8888888888888888,\"#fdca26\"],[1.0,\"#f0f921\"]],\"type\":\"histogram2dcontour\"}],\"mesh3d\":[{\"colorbar\":{\"outlinewidth\":0,\"ticks\":\"\"},\"type\":\"mesh3d\"}],\"parcoords\":[{\"line\":{\"colorbar\":{\"outlinewidth\":0,\"ticks\":\"\"}},\"type\":\"parcoords\"}],\"pie\":[{\"automargin\":true,\"type\":\"pie\"}],\"scatter\":[{\"marker\":{\"colorbar\":{\"outlinewidth\":0,\"ticks\":\"\"}},\"type\":\"scatter\"}],\"scatter3d\":[{\"line\":{\"colorbar\":{\"outlinewidth\":0,\"ticks\":\"\"}},\"marker\":{\"colorbar\":{\"outlinewidth\":0,\"ticks\":\"\"}},\"type\":\"scatter3d\"}],\"scattercarpet\":[{\"marker\":{\"colorbar\":{\"outlinewidth\":0,\"ticks\":\"\"}},\"type\":\"scattercarpet\"}],\"scattergeo\":[{\"marker\":{\"colorbar\":{\"outlinewidth\":0,\"ticks\":\"\"}},\"type\":\"scattergeo\"}],\"scattergl\":[{\"marker\":{\"colorbar\":{\"outlinewidth\":0,\"ticks\":\"\"}},\"type\":\"scattergl\"}],\"scattermapbox\":[{\"marker\":{\"colorbar\":{\"outlinewidth\":0,\"ticks\":\"\"}},\"type\":\"scattermapbox\"}],\"scatterpolar\":[{\"marker\":{\"colorbar\":{\"outlinewidth\":0,\"ticks\":\"\"}},\"type\":\"scatterpolar\"}],\"scatterpolargl\":[{\"marker\":{\"colorbar\":{\"outlinewidth\":0,\"ticks\":\"\"}},\"type\":\"scatterpolargl\"}],\"scatterternary\":[{\"marker\":{\"colorbar\":{\"outlinewidth\":0,\"ticks\":\"\"}},\"type\":\"scatterternary\"}],\"surface\":[{\"colorbar\":{\"outlinewidth\":0,\"ticks\":\"\"},\"colorscale\":[[0.0,\"#0d0887\"],[0.1111111111111111,\"#46039f\"],[0.2222222222222222,\"#7201a8\"],[0.3333333333333333,\"#9c179e\"],[0.4444444444444444,\"#bd3786\"],[0.5555555555555556,\"#d8576b\"],[0.6666666666666666,\"#ed7953\"],[0.7777777777777778,\"#fb9f3a\"],[0.8888888888888888,\"#fdca26\"],[1.0,\"#f0f921\"]],\"type\":\"surface\"}],\"table\":[{\"cells\":{\"fill\":{\"color\":\"#EBF0F8\"},\"line\":{\"color\":\"white\"}},\"header\":{\"fill\":{\"color\":\"#C8D4E3\"},\"line\":{\"color\":\"white\"}},\"type\":\"table\"}]},\"layout\":{\"annotationdefaults\":{\"arrowcolor\":\"#2a3f5f\",\"arrowhead\":0,\"arrowwidth\":1},\"autotypenumbers\":\"strict\",\"coloraxis\":{\"colorbar\":{\"outlinewidth\":0,\"ticks\":\"\"}},\"colorscale\":{\"diverging\":[[0,\"#8e0152\"],[0.1,\"#c51b7d\"],[0.2,\"#de77ae\"],[0.3,\"#f1b6da\"],[0.4,\"#fde0ef\"],[0.5,\"#f7f7f7\"],[0.6,\"#e6f5d0\"],[0.7,\"#b8e186\"],[0.8,\"#7fbc41\"],[0.9,\"#4d9221\"],[1,\"#276419\"]],\"sequential\":[[0.0,\"#0d0887\"],[0.1111111111111111,\"#46039f\"],[0.2222222222222222,\"#7201a8\"],[0.3333333333333333,\"#9c179e\"],[0.4444444444444444,\"#bd3786\"],[0.5555555555555556,\"#d8576b\"],[0.6666666666666666,\"#ed7953\"],[0.7777777777777778,\"#fb9f3a\"],[0.8888888888888888,\"#fdca26\"],[1.0,\"#f0f921\"]],\"sequentialminus\":[[0.0,\"#0d0887\"],[0.1111111111111111,\"#46039f\"],[0.2222222222222222,\"#7201a8\"],[0.3333333333333333,\"#9c179e\"],[0.4444444444444444,\"#bd3786\"],[0.5555555555555556,\"#d8576b\"],[0.6666666666666666,\"#ed7953\"],[0.7777777777777778,\"#fb9f3a\"],[0.8888888888888888,\"#fdca26\"],[1.0,\"#f0f921\"]]},\"colorway\":[\"#636efa\",\"#EF553B\",\"#00cc96\",\"#ab63fa\",\"#FFA15A\",\"#19d3f3\",\"#FF6692\",\"#B6E880\",\"#FF97FF\",\"#FECB52\"],\"font\":{\"color\":\"#8C8C8C\"},\"geo\":{\"bgcolor\":\"white\",\"lakecolor\":\"white\",\"landcolor\":\"white\",\"showlakes\":true,\"showland\":true,\"subunitcolor\":\"#C8D4E3\"},\"hoverlabel\":{\"align\":\"left\"},\"hovermode\":\"closest\",\"mapbox\":{\"style\":\"light\"},\"paper_bgcolor\":\"white\",\"plot_bgcolor\":\"white\",\"polar\":{\"angularaxis\":{\"gridcolor\":\"#EBF0F8\",\"linecolor\":\"#EBF0F8\",\"ticks\":\"\"},\"bgcolor\":\"white\",\"radialaxis\":{\"gridcolor\":\"#EBF0F8\",\"linecolor\":\"#EBF0F8\",\"ticks\":\"\"}},\"scene\":{\"xaxis\":{\"backgroundcolor\":\"white\",\"gridcolor\":\"#DFE8F3\",\"gridwidth\":2,\"linecolor\":\"#EBF0F8\",\"showbackground\":true,\"ticks\":\"\",\"zerolinecolor\":\"#EBF0F8\"},\"yaxis\":{\"backgroundcolor\":\"white\",\"gridcolor\":\"#DFE8F3\",\"gridwidth\":2,\"linecolor\":\"#EBF0F8\",\"showbackground\":true,\"ticks\":\"\",\"zerolinecolor\":\"#EBF0F8\"},\"zaxis\":{\"backgroundcolor\":\"white\",\"gridcolor\":\"#DFE8F3\",\"gridwidth\":2,\"linecolor\":\"#EBF0F8\",\"showbackground\":true,\"ticks\":\"\",\"zerolinecolor\":\"#EBF0F8\"}},\"shapedefaults\":{\"line\":{\"color\":\"#2a3f5f\"}},\"ternary\":{\"aaxis\":{\"gridcolor\":\"#DFE8F3\",\"linecolor\":\"#A2B1C6\",\"ticks\":\"\"},\"baxis\":{\"gridcolor\":\"#DFE8F3\",\"linecolor\":\"#A2B1C6\",\"ticks\":\"\"},\"bgcolor\":\"white\",\"caxis\":{\"gridcolor\":\"#DFE8F3\",\"linecolor\":\"#A2B1C6\",\"ticks\":\"\"}},\"title\":{\"x\":0.05},\"xaxis\":{\"automargin\":true,\"gridcolor\":\"#EBF0F8\",\"linecolor\":\"#EBF0F8\",\"ticks\":\"\",\"title\":{\"standoff\":15},\"zerolinecolor\":\"#EBF0F8\",\"zerolinewidth\":2},\"yaxis\":{\"automargin\":true,\"gridcolor\":\"#EBF0F8\",\"linecolor\":\"#EBF0F8\",\"ticks\":\"\",\"title\":{\"standoff\":15},\"zerolinecolor\":\"#EBF0F8\",\"zerolinewidth\":2},\"margin\":{\"l\":20,\"r\":20},\"legend\":{\"yanchor\":\"top\",\"y\":-0.2,\"xanchor\":\"left\",\"x\":0.0,\"orientation\":\"h\"}}},\"xaxis\":{\"anchor\":\"y\",\"domain\":[0.0,0.18400000000000002],\"title\":{\"text\":\"Score\"}},\"yaxis\":{\"anchor\":\"x\",\"domain\":[0.0,1.0],\"title\":{\"text\":\"\"}},\"xaxis2\":{\"anchor\":\"y2\",\"domain\":[0.20400000000000001,0.388],\"title\":{\"text\":\"Score\"}},\"yaxis2\":{\"anchor\":\"x2\",\"domain\":[0.0,1.0],\"matches\":\"y\",\"showticklabels\":false},\"xaxis3\":{\"anchor\":\"y3\",\"domain\":[0.40800000000000003,0.5920000000000001],\"title\":{\"text\":\"Score\"}},\"yaxis3\":{\"anchor\":\"x3\",\"domain\":[0.0,1.0],\"matches\":\"y\",\"showticklabels\":false},\"xaxis4\":{\"anchor\":\"y4\",\"domain\":[0.6120000000000001,0.7960000000000002],\"title\":{\"text\":\"Score\"}},\"yaxis4\":{\"anchor\":\"x4\",\"domain\":[0.0,1.0],\"matches\":\"y\",\"showticklabels\":false},\"xaxis5\":{\"anchor\":\"y5\",\"domain\":[0.8160000000000001,1.0],\"title\":{\"text\":\"Score\"}},\"yaxis5\":{\"anchor\":\"x5\",\"domain\":[0.0,1.0],\"matches\":\"y\",\"showticklabels\":false},\"annotations\":[{\"font\":{},\"showarrow\":false,\"text\":\"Metric=test_roc_auc\",\"x\":0.09200000000000001,\"xanchor\":\"center\",\"xref\":\"paper\",\"y\":1.0,\"yanchor\":\"bottom\",\"yref\":\"paper\"},{\"font\":{},\"showarrow\":false,\"text\":\"Metric=test_accuracy\",\"x\":0.29600000000000004,\"xanchor\":\"center\",\"xref\":\"paper\",\"y\":1.0,\"yanchor\":\"bottom\",\"yref\":\"paper\"},{\"font\":{},\"showarrow\":false,\"text\":\"Metric=test_precision\",\"x\":0.5,\"xanchor\":\"center\",\"xref\":\"paper\",\"y\":1.0,\"yanchor\":\"bottom\",\"yref\":\"paper\"},{\"font\":{},\"showarrow\":false,\"text\":\"Metric=test_recall\",\"x\":0.7040000000000002,\"xanchor\":\"center\",\"xref\":\"paper\",\"y\":1.0,\"yanchor\":\"bottom\",\"yref\":\"paper\"},{\"font\":{},\"showarrow\":false,\"text\":\"Metric=test_f1\",\"x\":0.908,\"xanchor\":\"center\",\"xref\":\"paper\",\"y\":1.0,\"yanchor\":\"bottom\",\"yref\":\"paper\"}],\"legend\":{\"title\":{\"text\":\"Type\"},\"tracegroupgap\":0},\"title\":{\"text\":\"Model scores\"},\"boxmode\":\"group\",\"height\":800},                        {\"responsive\": true}                    ).then(function(){\n",
       "                            \n",
       "var gd = document.getElementById('6769d675-cbed-4f4f-95b8-d643d425c0f2');\n",
       "var x = new MutationObserver(function (mutations, observer) {{\n",
       "        var display = window.getComputedStyle(gd).display;\n",
       "        if (!display || display === 'none') {{\n",
       "            console.log([gd, 'removed!']);\n",
       "            Plotly.purge(gd);\n",
       "            observer.disconnect();\n",
       "        }}\n",
       "}});\n",
       "\n",
       "// Listen for the removal of the full notebook cells\n",
       "var notebookContainer = gd.closest('#notebook-container');\n",
       "if (notebookContainer) {{\n",
       "    x.observe(notebookContainer, {childList: true});\n",
       "}}\n",
       "\n",
       "// Listen for the clearing of the current output cell\n",
       "var outputEl = gd.closest('.output');\n",
       "if (outputEl) {{\n",
       "    x.observe(outputEl, {childList: true});\n",
       "}}\n",
       "\n",
       "                        })                };                });            </script>        </div>"
      ]
     },
     "metadata": {},
     "output_type": "display_data"
    }
   ],
   "source": [
    "pnd.plot.metrics()"
   ]
  },
  {
   "cell_type": "code",
   "execution_count": 40,
   "id": "efc3aec9",
   "metadata": {},
   "outputs": [
    {
     "name": "stderr",
     "output_type": "stream",
     "text": [
      "Completed: 100%|██████████| 1/1 [00:00<00:00,  1.41it/s]     \n"
     ]
    },
    {
     "data": {
      "application/vnd.plotly.v1+json": {
       "config": {
        "plotlyServerURL": "https://plot.ly"
       },
       "data": [
        {
         "coloraxis": "coloraxis",
         "hovertemplate": "Predicted: %{x}<br>Ground truth: %{y}<br>Count: %{z}<extra></extra>",
         "name": "0",
         "texttemplate": "%{z}",
         "type": "heatmap",
         "xaxis": "x",
         "yaxis": "y",
         "z": [
          [
           101,
           11
          ],
          [
           15,
           98
          ]
         ]
        }
       ],
       "layout": {
        "coloraxis": {
         "colorbar": {
          "title": {
           "text": "Count"
          }
         },
         "colorscale": [
          [
           0,
           "rgb(247,251,255)"
          ],
          [
           0.125,
           "rgb(222,235,247)"
          ],
          [
           0.25,
           "rgb(198,219,239)"
          ],
          [
           0.375,
           "rgb(158,202,225)"
          ],
          [
           0.5,
           "rgb(107,174,214)"
          ],
          [
           0.625,
           "rgb(66,146,198)"
          ],
          [
           0.75,
           "rgb(33,113,181)"
          ],
          [
           0.875,
           "rgb(8,81,156)"
          ],
          [
           1,
           "rgb(8,48,107)"
          ]
         ],
         "showscale": false
        },
        "template": {
         "data": {
          "bar": [
           {
            "error_x": {
             "color": "#2a3f5f"
            },
            "error_y": {
             "color": "#2a3f5f"
            },
            "marker": {
             "line": {
              "color": "white",
              "width": 0.5
             },
             "pattern": {
              "fillmode": "overlay",
              "size": 10,
              "solidity": 0.2
             }
            },
            "type": "bar"
           }
          ],
          "barpolar": [
           {
            "marker": {
             "line": {
              "color": "white",
              "width": 0.5
             },
             "pattern": {
              "fillmode": "overlay",
              "size": 10,
              "solidity": 0.2
             }
            },
            "type": "barpolar"
           }
          ],
          "carpet": [
           {
            "aaxis": {
             "endlinecolor": "#2a3f5f",
             "gridcolor": "#C8D4E3",
             "linecolor": "#C8D4E3",
             "minorgridcolor": "#C8D4E3",
             "startlinecolor": "#2a3f5f"
            },
            "baxis": {
             "endlinecolor": "#2a3f5f",
             "gridcolor": "#C8D4E3",
             "linecolor": "#C8D4E3",
             "minorgridcolor": "#C8D4E3",
             "startlinecolor": "#2a3f5f"
            },
            "type": "carpet"
           }
          ],
          "choropleth": [
           {
            "colorbar": {
             "outlinewidth": 0,
             "ticks": ""
            },
            "type": "choropleth"
           }
          ],
          "contour": [
           {
            "colorbar": {
             "outlinewidth": 0,
             "ticks": ""
            },
            "colorscale": [
             [
              0,
              "#0d0887"
             ],
             [
              0.1111111111111111,
              "#46039f"
             ],
             [
              0.2222222222222222,
              "#7201a8"
             ],
             [
              0.3333333333333333,
              "#9c179e"
             ],
             [
              0.4444444444444444,
              "#bd3786"
             ],
             [
              0.5555555555555556,
              "#d8576b"
             ],
             [
              0.6666666666666666,
              "#ed7953"
             ],
             [
              0.7777777777777778,
              "#fb9f3a"
             ],
             [
              0.8888888888888888,
              "#fdca26"
             ],
             [
              1,
              "#f0f921"
             ]
            ],
            "type": "contour"
           }
          ],
          "contourcarpet": [
           {
            "colorbar": {
             "outlinewidth": 0,
             "ticks": ""
            },
            "type": "contourcarpet"
           }
          ],
          "heatmap": [
           {
            "colorbar": {
             "outlinewidth": 0,
             "ticks": ""
            },
            "colorscale": [
             [
              0,
              "#0d0887"
             ],
             [
              0.1111111111111111,
              "#46039f"
             ],
             [
              0.2222222222222222,
              "#7201a8"
             ],
             [
              0.3333333333333333,
              "#9c179e"
             ],
             [
              0.4444444444444444,
              "#bd3786"
             ],
             [
              0.5555555555555556,
              "#d8576b"
             ],
             [
              0.6666666666666666,
              "#ed7953"
             ],
             [
              0.7777777777777778,
              "#fb9f3a"
             ],
             [
              0.8888888888888888,
              "#fdca26"
             ],
             [
              1,
              "#f0f921"
             ]
            ],
            "type": "heatmap"
           }
          ],
          "heatmapgl": [
           {
            "colorbar": {
             "outlinewidth": 0,
             "ticks": ""
            },
            "colorscale": [
             [
              0,
              "#0d0887"
             ],
             [
              0.1111111111111111,
              "#46039f"
             ],
             [
              0.2222222222222222,
              "#7201a8"
             ],
             [
              0.3333333333333333,
              "#9c179e"
             ],
             [
              0.4444444444444444,
              "#bd3786"
             ],
             [
              0.5555555555555556,
              "#d8576b"
             ],
             [
              0.6666666666666666,
              "#ed7953"
             ],
             [
              0.7777777777777778,
              "#fb9f3a"
             ],
             [
              0.8888888888888888,
              "#fdca26"
             ],
             [
              1,
              "#f0f921"
             ]
            ],
            "type": "heatmapgl"
           }
          ],
          "histogram": [
           {
            "marker": {
             "pattern": {
              "fillmode": "overlay",
              "size": 10,
              "solidity": 0.2
             }
            },
            "type": "histogram"
           }
          ],
          "histogram2d": [
           {
            "colorbar": {
             "outlinewidth": 0,
             "ticks": ""
            },
            "colorscale": [
             [
              0,
              "#0d0887"
             ],
             [
              0.1111111111111111,
              "#46039f"
             ],
             [
              0.2222222222222222,
              "#7201a8"
             ],
             [
              0.3333333333333333,
              "#9c179e"
             ],
             [
              0.4444444444444444,
              "#bd3786"
             ],
             [
              0.5555555555555556,
              "#d8576b"
             ],
             [
              0.6666666666666666,
              "#ed7953"
             ],
             [
              0.7777777777777778,
              "#fb9f3a"
             ],
             [
              0.8888888888888888,
              "#fdca26"
             ],
             [
              1,
              "#f0f921"
             ]
            ],
            "type": "histogram2d"
           }
          ],
          "histogram2dcontour": [
           {
            "colorbar": {
             "outlinewidth": 0,
             "ticks": ""
            },
            "colorscale": [
             [
              0,
              "#0d0887"
             ],
             [
              0.1111111111111111,
              "#46039f"
             ],
             [
              0.2222222222222222,
              "#7201a8"
             ],
             [
              0.3333333333333333,
              "#9c179e"
             ],
             [
              0.4444444444444444,
              "#bd3786"
             ],
             [
              0.5555555555555556,
              "#d8576b"
             ],
             [
              0.6666666666666666,
              "#ed7953"
             ],
             [
              0.7777777777777778,
              "#fb9f3a"
             ],
             [
              0.8888888888888888,
              "#fdca26"
             ],
             [
              1,
              "#f0f921"
             ]
            ],
            "type": "histogram2dcontour"
           }
          ],
          "mesh3d": [
           {
            "colorbar": {
             "outlinewidth": 0,
             "ticks": ""
            },
            "type": "mesh3d"
           }
          ],
          "parcoords": [
           {
            "line": {
             "colorbar": {
              "outlinewidth": 0,
              "ticks": ""
             }
            },
            "type": "parcoords"
           }
          ],
          "pie": [
           {
            "automargin": true,
            "type": "pie"
           }
          ],
          "scatter": [
           {
            "marker": {
             "colorbar": {
              "outlinewidth": 0,
              "ticks": ""
             }
            },
            "type": "scatter"
           }
          ],
          "scatter3d": [
           {
            "line": {
             "colorbar": {
              "outlinewidth": 0,
              "ticks": ""
             }
            },
            "marker": {
             "colorbar": {
              "outlinewidth": 0,
              "ticks": ""
             }
            },
            "type": "scatter3d"
           }
          ],
          "scattercarpet": [
           {
            "marker": {
             "colorbar": {
              "outlinewidth": 0,
              "ticks": ""
             }
            },
            "type": "scattercarpet"
           }
          ],
          "scattergeo": [
           {
            "marker": {
             "colorbar": {
              "outlinewidth": 0,
              "ticks": ""
             }
            },
            "type": "scattergeo"
           }
          ],
          "scattergl": [
           {
            "marker": {
             "colorbar": {
              "outlinewidth": 0,
              "ticks": ""
             }
            },
            "type": "scattergl"
           }
          ],
          "scattermapbox": [
           {
            "marker": {
             "colorbar": {
              "outlinewidth": 0,
              "ticks": ""
             }
            },
            "type": "scattermapbox"
           }
          ],
          "scatterpolar": [
           {
            "marker": {
             "colorbar": {
              "outlinewidth": 0,
              "ticks": ""
             }
            },
            "type": "scatterpolar"
           }
          ],
          "scatterpolargl": [
           {
            "marker": {
             "colorbar": {
              "outlinewidth": 0,
              "ticks": ""
             }
            },
            "type": "scatterpolargl"
           }
          ],
          "scatterternary": [
           {
            "marker": {
             "colorbar": {
              "outlinewidth": 0,
              "ticks": ""
             }
            },
            "type": "scatterternary"
           }
          ],
          "surface": [
           {
            "colorbar": {
             "outlinewidth": 0,
             "ticks": ""
            },
            "colorscale": [
             [
              0,
              "#0d0887"
             ],
             [
              0.1111111111111111,
              "#46039f"
             ],
             [
              0.2222222222222222,
              "#7201a8"
             ],
             [
              0.3333333333333333,
              "#9c179e"
             ],
             [
              0.4444444444444444,
              "#bd3786"
             ],
             [
              0.5555555555555556,
              "#d8576b"
             ],
             [
              0.6666666666666666,
              "#ed7953"
             ],
             [
              0.7777777777777778,
              "#fb9f3a"
             ],
             [
              0.8888888888888888,
              "#fdca26"
             ],
             [
              1,
              "#f0f921"
             ]
            ],
            "type": "surface"
           }
          ],
          "table": [
           {
            "cells": {
             "fill": {
              "color": "#EBF0F8"
             },
             "line": {
              "color": "white"
             }
            },
            "header": {
             "fill": {
              "color": "#C8D4E3"
             },
             "line": {
              "color": "white"
             }
            },
            "type": "table"
           }
          ]
         },
         "layout": {
          "annotationdefaults": {
           "arrowcolor": "#2a3f5f",
           "arrowhead": 0,
           "arrowwidth": 1
          },
          "autotypenumbers": "strict",
          "coloraxis": {
           "colorbar": {
            "outlinewidth": 0,
            "ticks": ""
           }
          },
          "colorscale": {
           "diverging": [
            [
             0,
             "#8e0152"
            ],
            [
             0.1,
             "#c51b7d"
            ],
            [
             0.2,
             "#de77ae"
            ],
            [
             0.3,
             "#f1b6da"
            ],
            [
             0.4,
             "#fde0ef"
            ],
            [
             0.5,
             "#f7f7f7"
            ],
            [
             0.6,
             "#e6f5d0"
            ],
            [
             0.7,
             "#b8e186"
            ],
            [
             0.8,
             "#7fbc41"
            ],
            [
             0.9,
             "#4d9221"
            ],
            [
             1,
             "#276419"
            ]
           ],
           "sequential": [
            [
             0,
             "#0d0887"
            ],
            [
             0.1111111111111111,
             "#46039f"
            ],
            [
             0.2222222222222222,
             "#7201a8"
            ],
            [
             0.3333333333333333,
             "#9c179e"
            ],
            [
             0.4444444444444444,
             "#bd3786"
            ],
            [
             0.5555555555555556,
             "#d8576b"
            ],
            [
             0.6666666666666666,
             "#ed7953"
            ],
            [
             0.7777777777777778,
             "#fb9f3a"
            ],
            [
             0.8888888888888888,
             "#fdca26"
            ],
            [
             1,
             "#f0f921"
            ]
           ],
           "sequentialminus": [
            [
             0,
             "#0d0887"
            ],
            [
             0.1111111111111111,
             "#46039f"
            ],
            [
             0.2222222222222222,
             "#7201a8"
            ],
            [
             0.3333333333333333,
             "#9c179e"
            ],
            [
             0.4444444444444444,
             "#bd3786"
            ],
            [
             0.5555555555555556,
             "#d8576b"
            ],
            [
             0.6666666666666666,
             "#ed7953"
            ],
            [
             0.7777777777777778,
             "#fb9f3a"
            ],
            [
             0.8888888888888888,
             "#fdca26"
            ],
            [
             1,
             "#f0f921"
            ]
           ]
          },
          "colorway": [
           "#636efa",
           "#EF553B",
           "#00cc96",
           "#ab63fa",
           "#FFA15A",
           "#19d3f3",
           "#FF6692",
           "#B6E880",
           "#FF97FF",
           "#FECB52"
          ],
          "font": {
           "color": "#8C8C8C"
          },
          "geo": {
           "bgcolor": "white",
           "lakecolor": "white",
           "landcolor": "white",
           "showlakes": true,
           "showland": true,
           "subunitcolor": "#C8D4E3"
          },
          "hoverlabel": {
           "align": "left"
          },
          "hovermode": "closest",
          "legend": {
           "orientation": "h",
           "x": 0,
           "xanchor": "left",
           "y": -0.2,
           "yanchor": "top"
          },
          "mapbox": {
           "style": "light"
          },
          "margin": {
           "l": 20,
           "r": 20
          },
          "paper_bgcolor": "white",
          "plot_bgcolor": "white",
          "polar": {
           "angularaxis": {
            "gridcolor": "#EBF0F8",
            "linecolor": "#EBF0F8",
            "ticks": ""
           },
           "bgcolor": "white",
           "radialaxis": {
            "gridcolor": "#EBF0F8",
            "linecolor": "#EBF0F8",
            "ticks": ""
           }
          },
          "scene": {
           "xaxis": {
            "backgroundcolor": "white",
            "gridcolor": "#DFE8F3",
            "gridwidth": 2,
            "linecolor": "#EBF0F8",
            "showbackground": true,
            "ticks": "",
            "zerolinecolor": "#EBF0F8"
           },
           "yaxis": {
            "backgroundcolor": "white",
            "gridcolor": "#DFE8F3",
            "gridwidth": 2,
            "linecolor": "#EBF0F8",
            "showbackground": true,
            "ticks": "",
            "zerolinecolor": "#EBF0F8"
           },
           "zaxis": {
            "backgroundcolor": "white",
            "gridcolor": "#DFE8F3",
            "gridwidth": 2,
            "linecolor": "#EBF0F8",
            "showbackground": true,
            "ticks": "",
            "zerolinecolor": "#EBF0F8"
           }
          },
          "shapedefaults": {
           "line": {
            "color": "#2a3f5f"
           }
          },
          "ternary": {
           "aaxis": {
            "gridcolor": "#DFE8F3",
            "linecolor": "#A2B1C6",
            "ticks": ""
           },
           "baxis": {
            "gridcolor": "#DFE8F3",
            "linecolor": "#A2B1C6",
            "ticks": ""
           },
           "bgcolor": "white",
           "caxis": {
            "gridcolor": "#DFE8F3",
            "linecolor": "#A2B1C6",
            "ticks": ""
           }
          },
          "title": {
           "x": 0.05
          },
          "xaxis": {
           "automargin": true,
           "gridcolor": "#EBF0F8",
           "linecolor": "#EBF0F8",
           "ticks": "",
           "title": {
            "standoff": 15
           },
           "zerolinecolor": "#EBF0F8",
           "zerolinewidth": 2
          },
          "yaxis": {
           "automargin": true,
           "gridcolor": "#EBF0F8",
           "linecolor": "#EBF0F8",
           "ticks": "",
           "title": {
            "standoff": 15
           },
           "zerolinecolor": "#EBF0F8",
           "zerolinewidth": 2
          }
         }
        },
        "title": {
         "text": "Confusion matrix with cross-validated predictions"
        },
        "xaxis": {
         "anchor": "y",
         "constrain": "domain",
         "domain": [
          0,
          1
         ],
         "nticks": 3,
         "scaleanchor": "y",
         "title": {
          "text": "Predicted"
         }
        },
        "yaxis": {
         "anchor": "x",
         "autorange": "reversed",
         "constrain": "domain",
         "domain": [
          0,
          1
         ],
         "nticks": 3,
         "title": {
          "text": "Ground truth"
         }
        }
       }
      },
      "text/html": [
       "<div>                            <div id=\"161341a4-220d-431d-b437-9a64e3659784\" class=\"plotly-graph-div\" style=\"height:525px; width:100%;\"></div>            <script type=\"text/javascript\">                require([\"plotly\"], function(Plotly) {                    window.PLOTLYENV=window.PLOTLYENV || {};                                    if (document.getElementById(\"161341a4-220d-431d-b437-9a64e3659784\")) {                    Plotly.newPlot(                        \"161341a4-220d-431d-b437-9a64e3659784\",                        [{\"coloraxis\":\"coloraxis\",\"name\":\"0\",\"texttemplate\":\"%{z}\",\"z\":[[101,11],[15,98]],\"type\":\"heatmap\",\"xaxis\":\"x\",\"yaxis\":\"y\",\"hovertemplate\":\"Predicted: %{x}<br>Ground truth: %{y}<br>Count: %{z}<extra></extra>\"}],                        {\"template\":{\"data\":{\"bar\":[{\"error_x\":{\"color\":\"#2a3f5f\"},\"error_y\":{\"color\":\"#2a3f5f\"},\"marker\":{\"line\":{\"color\":\"white\",\"width\":0.5},\"pattern\":{\"fillmode\":\"overlay\",\"size\":10,\"solidity\":0.2}},\"type\":\"bar\"}],\"barpolar\":[{\"marker\":{\"line\":{\"color\":\"white\",\"width\":0.5},\"pattern\":{\"fillmode\":\"overlay\",\"size\":10,\"solidity\":0.2}},\"type\":\"barpolar\"}],\"carpet\":[{\"aaxis\":{\"endlinecolor\":\"#2a3f5f\",\"gridcolor\":\"#C8D4E3\",\"linecolor\":\"#C8D4E3\",\"minorgridcolor\":\"#C8D4E3\",\"startlinecolor\":\"#2a3f5f\"},\"baxis\":{\"endlinecolor\":\"#2a3f5f\",\"gridcolor\":\"#C8D4E3\",\"linecolor\":\"#C8D4E3\",\"minorgridcolor\":\"#C8D4E3\",\"startlinecolor\":\"#2a3f5f\"},\"type\":\"carpet\"}],\"choropleth\":[{\"colorbar\":{\"outlinewidth\":0,\"ticks\":\"\"},\"type\":\"choropleth\"}],\"contour\":[{\"colorbar\":{\"outlinewidth\":0,\"ticks\":\"\"},\"colorscale\":[[0.0,\"#0d0887\"],[0.1111111111111111,\"#46039f\"],[0.2222222222222222,\"#7201a8\"],[0.3333333333333333,\"#9c179e\"],[0.4444444444444444,\"#bd3786\"],[0.5555555555555556,\"#d8576b\"],[0.6666666666666666,\"#ed7953\"],[0.7777777777777778,\"#fb9f3a\"],[0.8888888888888888,\"#fdca26\"],[1.0,\"#f0f921\"]],\"type\":\"contour\"}],\"contourcarpet\":[{\"colorbar\":{\"outlinewidth\":0,\"ticks\":\"\"},\"type\":\"contourcarpet\"}],\"heatmap\":[{\"colorbar\":{\"outlinewidth\":0,\"ticks\":\"\"},\"colorscale\":[[0.0,\"#0d0887\"],[0.1111111111111111,\"#46039f\"],[0.2222222222222222,\"#7201a8\"],[0.3333333333333333,\"#9c179e\"],[0.4444444444444444,\"#bd3786\"],[0.5555555555555556,\"#d8576b\"],[0.6666666666666666,\"#ed7953\"],[0.7777777777777778,\"#fb9f3a\"],[0.8888888888888888,\"#fdca26\"],[1.0,\"#f0f921\"]],\"type\":\"heatmap\"}],\"heatmapgl\":[{\"colorbar\":{\"outlinewidth\":0,\"ticks\":\"\"},\"colorscale\":[[0.0,\"#0d0887\"],[0.1111111111111111,\"#46039f\"],[0.2222222222222222,\"#7201a8\"],[0.3333333333333333,\"#9c179e\"],[0.4444444444444444,\"#bd3786\"],[0.5555555555555556,\"#d8576b\"],[0.6666666666666666,\"#ed7953\"],[0.7777777777777778,\"#fb9f3a\"],[0.8888888888888888,\"#fdca26\"],[1.0,\"#f0f921\"]],\"type\":\"heatmapgl\"}],\"histogram\":[{\"marker\":{\"pattern\":{\"fillmode\":\"overlay\",\"size\":10,\"solidity\":0.2}},\"type\":\"histogram\"}],\"histogram2d\":[{\"colorbar\":{\"outlinewidth\":0,\"ticks\":\"\"},\"colorscale\":[[0.0,\"#0d0887\"],[0.1111111111111111,\"#46039f\"],[0.2222222222222222,\"#7201a8\"],[0.3333333333333333,\"#9c179e\"],[0.4444444444444444,\"#bd3786\"],[0.5555555555555556,\"#d8576b\"],[0.6666666666666666,\"#ed7953\"],[0.7777777777777778,\"#fb9f3a\"],[0.8888888888888888,\"#fdca26\"],[1.0,\"#f0f921\"]],\"type\":\"histogram2d\"}],\"histogram2dcontour\":[{\"colorbar\":{\"outlinewidth\":0,\"ticks\":\"\"},\"colorscale\":[[0.0,\"#0d0887\"],[0.1111111111111111,\"#46039f\"],[0.2222222222222222,\"#7201a8\"],[0.3333333333333333,\"#9c179e\"],[0.4444444444444444,\"#bd3786\"],[0.5555555555555556,\"#d8576b\"],[0.6666666666666666,\"#ed7953\"],[0.7777777777777778,\"#fb9f3a\"],[0.8888888888888888,\"#fdca26\"],[1.0,\"#f0f921\"]],\"type\":\"histogram2dcontour\"}],\"mesh3d\":[{\"colorbar\":{\"outlinewidth\":0,\"ticks\":\"\"},\"type\":\"mesh3d\"}],\"parcoords\":[{\"line\":{\"colorbar\":{\"outlinewidth\":0,\"ticks\":\"\"}},\"type\":\"parcoords\"}],\"pie\":[{\"automargin\":true,\"type\":\"pie\"}],\"scatter\":[{\"marker\":{\"colorbar\":{\"outlinewidth\":0,\"ticks\":\"\"}},\"type\":\"scatter\"}],\"scatter3d\":[{\"line\":{\"colorbar\":{\"outlinewidth\":0,\"ticks\":\"\"}},\"marker\":{\"colorbar\":{\"outlinewidth\":0,\"ticks\":\"\"}},\"type\":\"scatter3d\"}],\"scattercarpet\":[{\"marker\":{\"colorbar\":{\"outlinewidth\":0,\"ticks\":\"\"}},\"type\":\"scattercarpet\"}],\"scattergeo\":[{\"marker\":{\"colorbar\":{\"outlinewidth\":0,\"ticks\":\"\"}},\"type\":\"scattergeo\"}],\"scattergl\":[{\"marker\":{\"colorbar\":{\"outlinewidth\":0,\"ticks\":\"\"}},\"type\":\"scattergl\"}],\"scattermapbox\":[{\"marker\":{\"colorbar\":{\"outlinewidth\":0,\"ticks\":\"\"}},\"type\":\"scattermapbox\"}],\"scatterpolar\":[{\"marker\":{\"colorbar\":{\"outlinewidth\":0,\"ticks\":\"\"}},\"type\":\"scatterpolar\"}],\"scatterpolargl\":[{\"marker\":{\"colorbar\":{\"outlinewidth\":0,\"ticks\":\"\"}},\"type\":\"scatterpolargl\"}],\"scatterternary\":[{\"marker\":{\"colorbar\":{\"outlinewidth\":0,\"ticks\":\"\"}},\"type\":\"scatterternary\"}],\"surface\":[{\"colorbar\":{\"outlinewidth\":0,\"ticks\":\"\"},\"colorscale\":[[0.0,\"#0d0887\"],[0.1111111111111111,\"#46039f\"],[0.2222222222222222,\"#7201a8\"],[0.3333333333333333,\"#9c179e\"],[0.4444444444444444,\"#bd3786\"],[0.5555555555555556,\"#d8576b\"],[0.6666666666666666,\"#ed7953\"],[0.7777777777777778,\"#fb9f3a\"],[0.8888888888888888,\"#fdca26\"],[1.0,\"#f0f921\"]],\"type\":\"surface\"}],\"table\":[{\"cells\":{\"fill\":{\"color\":\"#EBF0F8\"},\"line\":{\"color\":\"white\"}},\"header\":{\"fill\":{\"color\":\"#C8D4E3\"},\"line\":{\"color\":\"white\"}},\"type\":\"table\"}]},\"layout\":{\"annotationdefaults\":{\"arrowcolor\":\"#2a3f5f\",\"arrowhead\":0,\"arrowwidth\":1},\"autotypenumbers\":\"strict\",\"coloraxis\":{\"colorbar\":{\"outlinewidth\":0,\"ticks\":\"\"}},\"colorscale\":{\"diverging\":[[0,\"#8e0152\"],[0.1,\"#c51b7d\"],[0.2,\"#de77ae\"],[0.3,\"#f1b6da\"],[0.4,\"#fde0ef\"],[0.5,\"#f7f7f7\"],[0.6,\"#e6f5d0\"],[0.7,\"#b8e186\"],[0.8,\"#7fbc41\"],[0.9,\"#4d9221\"],[1,\"#276419\"]],\"sequential\":[[0.0,\"#0d0887\"],[0.1111111111111111,\"#46039f\"],[0.2222222222222222,\"#7201a8\"],[0.3333333333333333,\"#9c179e\"],[0.4444444444444444,\"#bd3786\"],[0.5555555555555556,\"#d8576b\"],[0.6666666666666666,\"#ed7953\"],[0.7777777777777778,\"#fb9f3a\"],[0.8888888888888888,\"#fdca26\"],[1.0,\"#f0f921\"]],\"sequentialminus\":[[0.0,\"#0d0887\"],[0.1111111111111111,\"#46039f\"],[0.2222222222222222,\"#7201a8\"],[0.3333333333333333,\"#9c179e\"],[0.4444444444444444,\"#bd3786\"],[0.5555555555555556,\"#d8576b\"],[0.6666666666666666,\"#ed7953\"],[0.7777777777777778,\"#fb9f3a\"],[0.8888888888888888,\"#fdca26\"],[1.0,\"#f0f921\"]]},\"colorway\":[\"#636efa\",\"#EF553B\",\"#00cc96\",\"#ab63fa\",\"#FFA15A\",\"#19d3f3\",\"#FF6692\",\"#B6E880\",\"#FF97FF\",\"#FECB52\"],\"font\":{\"color\":\"#8C8C8C\"},\"geo\":{\"bgcolor\":\"white\",\"lakecolor\":\"white\",\"landcolor\":\"white\",\"showlakes\":true,\"showland\":true,\"subunitcolor\":\"#C8D4E3\"},\"hoverlabel\":{\"align\":\"left\"},\"hovermode\":\"closest\",\"mapbox\":{\"style\":\"light\"},\"paper_bgcolor\":\"white\",\"plot_bgcolor\":\"white\",\"polar\":{\"angularaxis\":{\"gridcolor\":\"#EBF0F8\",\"linecolor\":\"#EBF0F8\",\"ticks\":\"\"},\"bgcolor\":\"white\",\"radialaxis\":{\"gridcolor\":\"#EBF0F8\",\"linecolor\":\"#EBF0F8\",\"ticks\":\"\"}},\"scene\":{\"xaxis\":{\"backgroundcolor\":\"white\",\"gridcolor\":\"#DFE8F3\",\"gridwidth\":2,\"linecolor\":\"#EBF0F8\",\"showbackground\":true,\"ticks\":\"\",\"zerolinecolor\":\"#EBF0F8\"},\"yaxis\":{\"backgroundcolor\":\"white\",\"gridcolor\":\"#DFE8F3\",\"gridwidth\":2,\"linecolor\":\"#EBF0F8\",\"showbackground\":true,\"ticks\":\"\",\"zerolinecolor\":\"#EBF0F8\"},\"zaxis\":{\"backgroundcolor\":\"white\",\"gridcolor\":\"#DFE8F3\",\"gridwidth\":2,\"linecolor\":\"#EBF0F8\",\"showbackground\":true,\"ticks\":\"\",\"zerolinecolor\":\"#EBF0F8\"}},\"shapedefaults\":{\"line\":{\"color\":\"#2a3f5f\"}},\"ternary\":{\"aaxis\":{\"gridcolor\":\"#DFE8F3\",\"linecolor\":\"#A2B1C6\",\"ticks\":\"\"},\"baxis\":{\"gridcolor\":\"#DFE8F3\",\"linecolor\":\"#A2B1C6\",\"ticks\":\"\"},\"bgcolor\":\"white\",\"caxis\":{\"gridcolor\":\"#DFE8F3\",\"linecolor\":\"#A2B1C6\",\"ticks\":\"\"}},\"title\":{\"x\":0.05},\"xaxis\":{\"automargin\":true,\"gridcolor\":\"#EBF0F8\",\"linecolor\":\"#EBF0F8\",\"ticks\":\"\",\"title\":{\"standoff\":15},\"zerolinecolor\":\"#EBF0F8\",\"zerolinewidth\":2},\"yaxis\":{\"automargin\":true,\"gridcolor\":\"#EBF0F8\",\"linecolor\":\"#EBF0F8\",\"ticks\":\"\",\"title\":{\"standoff\":15},\"zerolinecolor\":\"#EBF0F8\",\"zerolinewidth\":2},\"margin\":{\"l\":20,\"r\":20},\"legend\":{\"yanchor\":\"top\",\"y\":-0.2,\"xanchor\":\"left\",\"x\":0.0,\"orientation\":\"h\"}}},\"xaxis\":{\"anchor\":\"y\",\"domain\":[0.0,1.0],\"scaleanchor\":\"y\",\"constrain\":\"domain\",\"title\":{\"text\":\"Predicted\"},\"nticks\":3},\"yaxis\":{\"anchor\":\"x\",\"domain\":[0.0,1.0],\"autorange\":\"reversed\",\"constrain\":\"domain\",\"title\":{\"text\":\"Ground truth\"},\"nticks\":3},\"coloraxis\":{\"colorbar\":{\"title\":{\"text\":\"Count\"}},\"colorscale\":[[0.0,\"rgb(247,251,255)\"],[0.125,\"rgb(222,235,247)\"],[0.25,\"rgb(198,219,239)\"],[0.375,\"rgb(158,202,225)\"],[0.5,\"rgb(107,174,214)\"],[0.625,\"rgb(66,146,198)\"],[0.75,\"rgb(33,113,181)\"],[0.875,\"rgb(8,81,156)\"],[1.0,\"rgb(8,48,107)\"]],\"showscale\":false},\"title\":{\"text\":\"Confusion matrix with cross-validated predictions\"}},                        {\"responsive\": true}                    ).then(function(){\n",
       "                            \n",
       "var gd = document.getElementById('161341a4-220d-431d-b437-9a64e3659784');\n",
       "var x = new MutationObserver(function (mutations, observer) {{\n",
       "        var display = window.getComputedStyle(gd).display;\n",
       "        if (!display || display === 'none') {{\n",
       "            console.log([gd, 'removed!']);\n",
       "            Plotly.purge(gd);\n",
       "            observer.disconnect();\n",
       "        }}\n",
       "}});\n",
       "\n",
       "// Listen for the removal of the full notebook cells\n",
       "var notebookContainer = gd.closest('#notebook-container');\n",
       "if (notebookContainer) {{\n",
       "    x.observe(notebookContainer, {childList: true});\n",
       "}}\n",
       "\n",
       "// Listen for the clearing of the current output cell\n",
       "var outputEl = gd.closest('.output');\n",
       "if (outputEl) {{\n",
       "    x.observe(outputEl, {childList: true});\n",
       "}}\n",
       "\n",
       "                        })                };                });            </script>        </div>"
      ]
     },
     "metadata": {},
     "output_type": "display_data"
    }
   ],
   "source": [
    "# confusion matrix\n",
    "predictions = pnd.predict(estimator_names=[\"RandomForestClassifier\"])\n",
    "pnd.plot.confusion_matrix(\"RandomForestClassifier\")"
   ]
  },
  {
   "cell_type": "code",
   "execution_count": 33,
   "id": "b4626314",
   "metadata": {},
   "outputs": [
    {
     "name": "stderr",
     "output_type": "stream",
     "text": [
      "Completed: 100%|██████████| 6/6 [00:02<00:00,  2.97it/s]                     \n"
     ]
    },
    {
     "data": {
      "application/vnd.plotly.v1+json": {
       "config": {
        "plotlyServerURL": "https://plot.ly"
       },
       "data": [
        {
         "customdata": [
          [
           "XGBClassifier | AUC: 0.93",
           "XGBClassifier",
           0.9304282553729457
          ],
          [
           "XGBClassifier | AUC: 0.93",
           "XGBClassifier",
           0.9304282553729457
          ],
          [
           "XGBClassifier | AUC: 0.93",
           "XGBClassifier",
           0.9304282553729457
          ],
          [
           "XGBClassifier | AUC: 0.93",
           "XGBClassifier",
           0.9304282553729457
          ],
          [
           "XGBClassifier | AUC: 0.93",
           "XGBClassifier",
           0.9304282553729457
          ],
          [
           "XGBClassifier | AUC: 0.93",
           "XGBClassifier",
           0.9304282553729457
          ],
          [
           "XGBClassifier | AUC: 0.93",
           "XGBClassifier",
           0.9304282553729457
          ],
          [
           "XGBClassifier | AUC: 0.93",
           "XGBClassifier",
           0.9304282553729457
          ],
          [
           "XGBClassifier | AUC: 0.93",
           "XGBClassifier",
           0.9304282553729457
          ],
          [
           "XGBClassifier | AUC: 0.93",
           "XGBClassifier",
           0.9304282553729457
          ],
          [
           "XGBClassifier | AUC: 0.93",
           "XGBClassifier",
           0.9304282553729457
          ],
          [
           "XGBClassifier | AUC: 0.93",
           "XGBClassifier",
           0.9304282553729457
          ],
          [
           "XGBClassifier | AUC: 0.93",
           "XGBClassifier",
           0.9304282553729457
          ],
          [
           "XGBClassifier | AUC: 0.93",
           "XGBClassifier",
           0.9304282553729457
          ],
          [
           "XGBClassifier | AUC: 0.93",
           "XGBClassifier",
           0.9304282553729457
          ],
          [
           "XGBClassifier | AUC: 0.93",
           "XGBClassifier",
           0.9304282553729457
          ],
          [
           "XGBClassifier | AUC: 0.93",
           "XGBClassifier",
           0.9304282553729457
          ],
          [
           "XGBClassifier | AUC: 0.93",
           "XGBClassifier",
           0.9304282553729457
          ],
          [
           "XGBClassifier | AUC: 0.93",
           "XGBClassifier",
           0.9304282553729457
          ],
          [
           "XGBClassifier | AUC: 0.93",
           "XGBClassifier",
           0.9304282553729457
          ],
          [
           "XGBClassifier | AUC: 0.93",
           "XGBClassifier",
           0.9304282553729457
          ],
          [
           "XGBClassifier | AUC: 0.93",
           "XGBClassifier",
           0.9304282553729457
          ],
          [
           "XGBClassifier | AUC: 0.93",
           "XGBClassifier",
           0.9304282553729457
          ],
          [
           "XGBClassifier | AUC: 0.93",
           "XGBClassifier",
           0.9304282553729457
          ],
          [
           "XGBClassifier | AUC: 0.93",
           "XGBClassifier",
           0.9304282553729457
          ],
          [
           "XGBClassifier | AUC: 0.93",
           "XGBClassifier",
           0.9304282553729457
          ],
          [
           "XGBClassifier | AUC: 0.93",
           "XGBClassifier",
           0.9304282553729457
          ],
          [
           "XGBClassifier | AUC: 0.93",
           "XGBClassifier",
           0.9304282553729457
          ],
          [
           "XGBClassifier | AUC: 0.93",
           "XGBClassifier",
           0.9304282553729457
          ],
          [
           "XGBClassifier | AUC: 0.93",
           "XGBClassifier",
           0.9304282553729457
          ],
          [
           "XGBClassifier | AUC: 0.93",
           "XGBClassifier",
           0.9304282553729457
          ],
          [
           "XGBClassifier | AUC: 0.93",
           "XGBClassifier",
           0.9304282553729457
          ],
          [
           "XGBClassifier | AUC: 0.93",
           "XGBClassifier",
           0.9304282553729457
          ],
          [
           "XGBClassifier | AUC: 0.93",
           "XGBClassifier",
           0.9304282553729457
          ],
          [
           "XGBClassifier | AUC: 0.93",
           "XGBClassifier",
           0.9304282553729457
          ],
          [
           "XGBClassifier | AUC: 0.93",
           "XGBClassifier",
           0.9304282553729457
          ],
          [
           "XGBClassifier | AUC: 0.93",
           "XGBClassifier",
           0.9304282553729457
          ],
          [
           "XGBClassifier | AUC: 0.93",
           "XGBClassifier",
           0.9304282553729457
          ],
          [
           "XGBClassifier | AUC: 0.93",
           "XGBClassifier",
           0.9304282553729457
          ],
          [
           "XGBClassifier | AUC: 0.93",
           "XGBClassifier",
           0.9304282553729457
          ],
          [
           "XGBClassifier | AUC: 0.93",
           "XGBClassifier",
           0.9304282553729457
          ],
          [
           "XGBClassifier | AUC: 0.93",
           "XGBClassifier",
           0.9304282553729457
          ],
          [
           "XGBClassifier | AUC: 0.93",
           "XGBClassifier",
           0.9304282553729457
          ],
          [
           "XGBClassifier | AUC: 0.93",
           "XGBClassifier",
           0.9304282553729457
          ],
          [
           "XGBClassifier | AUC: 0.93",
           "XGBClassifier",
           0.9304282553729457
          ],
          [
           "XGBClassifier | AUC: 0.93",
           "XGBClassifier",
           0.9304282553729457
          ],
          [
           "XGBClassifier | AUC: 0.93",
           "XGBClassifier",
           0.9304282553729457
          ],
          [
           "XGBClassifier | AUC: 0.93",
           "XGBClassifier",
           0.9304282553729457
          ],
          [
           "XGBClassifier | AUC: 0.93",
           "XGBClassifier",
           0.9304282553729457
          ],
          [
           "XGBClassifier | AUC: 0.93",
           "XGBClassifier",
           0.9304282553729457
          ],
          [
           "XGBClassifier | AUC: 0.93",
           "XGBClassifier",
           0.9304282553729457
          ],
          [
           "XGBClassifier | AUC: 0.93",
           "XGBClassifier",
           0.9304282553729457
          ],
          [
           "XGBClassifier | AUC: 0.93",
           "XGBClassifier",
           0.9304282553729457
          ],
          [
           "XGBClassifier | AUC: 0.93",
           "XGBClassifier",
           0.9304282553729457
          ],
          [
           "XGBClassifier | AUC: 0.93",
           "XGBClassifier",
           0.9304282553729457
          ]
         ],
         "hovertemplate": "False positive rate=%{x:.2f}<br>True positive rate=%{y:.2f}<br>Estimator=%{customdata[1]}<br>AUC=%{customdata[2]:.2f}<extra></extra>",
         "legendgroup": "XGBClassifier | AUC: 0.93",
         "line": {
          "color": "rgb(127, 60, 141)",
          "dash": "solid"
         },
         "marker": {
          "symbol": "circle"
         },
         "mode": "lines",
         "name": "XGBClassifier | AUC: 0.93",
         "orientation": "v",
         "showlegend": true,
         "type": "scatter",
         "x": [
          0,
          0,
          0,
          0,
          0.008928571428571428,
          0.008928571428571428,
          0.017857142857142856,
          0.017857142857142856,
          0.026785714285714284,
          0.026785714285714284,
          0.044642857142857144,
          0.044642857142857144,
          0.0625,
          0.0625,
          0.08035714285714286,
          0.08035714285714286,
          0.10714285714285714,
          0.10714285714285714,
          0.11607142857142858,
          0.11607142857142858,
          0.125,
          0.125,
          0.16071428571428573,
          0.16071428571428573,
          0.16964285714285715,
          0.16964285714285715,
          0.21428571428571427,
          0.21428571428571427,
          0.22321428571428573,
          0.22321428571428573,
          0.23214285714285715,
          0.23214285714285715,
          0.24107142857142858,
          0.24107142857142858,
          0.25,
          0.25,
          0.26785714285714285,
          0.26785714285714285,
          0.39285714285714285,
          0.39285714285714285,
          0.45535714285714285,
          0.45535714285714285,
          0.4732142857142857,
          0.4732142857142857,
          0.48214285714285715,
          0.48214285714285715,
          0.5089285714285714,
          0.5089285714285714,
          0.5803571428571429,
          0.5803571428571429,
          0.6160714285714286,
          0.6160714285714286,
          0.8660714285714286,
          0.875,
          1
         ],
         "xaxis": "x",
         "y": [
          0,
          0.008849557522123894,
          0.584070796460177,
          0.6017699115044248,
          0.6017699115044248,
          0.6106194690265486,
          0.6106194690265486,
          0.7168141592920354,
          0.7168141592920354,
          0.7610619469026548,
          0.7610619469026548,
          0.7699115044247787,
          0.7699115044247787,
          0.7787610619469026,
          0.7787610619469026,
          0.8053097345132744,
          0.8053097345132744,
          0.8141592920353983,
          0.8141592920353983,
          0.8230088495575221,
          0.8230088495575221,
          0.831858407079646,
          0.831858407079646,
          0.8407079646017699,
          0.8407079646017699,
          0.8584070796460177,
          0.8584070796460177,
          0.8672566371681416,
          0.8672566371681416,
          0.8761061946902655,
          0.8761061946902655,
          0.8849557522123894,
          0.8849557522123894,
          0.8938053097345132,
          0.8938053097345132,
          0.9203539823008849,
          0.9203539823008849,
          0.9292035398230089,
          0.9292035398230089,
          0.9380530973451328,
          0.9380530973451328,
          0.9469026548672567,
          0.9469026548672567,
          0.9557522123893806,
          0.9557522123893806,
          0.9646017699115044,
          0.9646017699115044,
          0.9734513274336283,
          0.9734513274336283,
          0.9823008849557522,
          0.9823008849557522,
          0.9911504424778761,
          0.9911504424778761,
          1,
          1
         ],
         "yaxis": "y"
        },
        {
         "customdata": [
          [
           "HistGradientBoostingClassifier | AUC: 0.92",
           "HistGradientBoostingClassifier",
           0.9193663084702907
          ],
          [
           "HistGradientBoostingClassifier | AUC: 0.92",
           "HistGradientBoostingClassifier",
           0.9193663084702907
          ],
          [
           "HistGradientBoostingClassifier | AUC: 0.92",
           "HistGradientBoostingClassifier",
           0.9193663084702907
          ],
          [
           "HistGradientBoostingClassifier | AUC: 0.92",
           "HistGradientBoostingClassifier",
           0.9193663084702907
          ],
          [
           "HistGradientBoostingClassifier | AUC: 0.92",
           "HistGradientBoostingClassifier",
           0.9193663084702907
          ],
          [
           "HistGradientBoostingClassifier | AUC: 0.92",
           "HistGradientBoostingClassifier",
           0.9193663084702907
          ],
          [
           "HistGradientBoostingClassifier | AUC: 0.92",
           "HistGradientBoostingClassifier",
           0.9193663084702907
          ],
          [
           "HistGradientBoostingClassifier | AUC: 0.92",
           "HistGradientBoostingClassifier",
           0.9193663084702907
          ],
          [
           "HistGradientBoostingClassifier | AUC: 0.92",
           "HistGradientBoostingClassifier",
           0.9193663084702907
          ],
          [
           "HistGradientBoostingClassifier | AUC: 0.92",
           "HistGradientBoostingClassifier",
           0.9193663084702907
          ],
          [
           "HistGradientBoostingClassifier | AUC: 0.92",
           "HistGradientBoostingClassifier",
           0.9193663084702907
          ],
          [
           "HistGradientBoostingClassifier | AUC: 0.92",
           "HistGradientBoostingClassifier",
           0.9193663084702907
          ],
          [
           "HistGradientBoostingClassifier | AUC: 0.92",
           "HistGradientBoostingClassifier",
           0.9193663084702907
          ],
          [
           "HistGradientBoostingClassifier | AUC: 0.92",
           "HistGradientBoostingClassifier",
           0.9193663084702907
          ],
          [
           "HistGradientBoostingClassifier | AUC: 0.92",
           "HistGradientBoostingClassifier",
           0.9193663084702907
          ],
          [
           "HistGradientBoostingClassifier | AUC: 0.92",
           "HistGradientBoostingClassifier",
           0.9193663084702907
          ],
          [
           "HistGradientBoostingClassifier | AUC: 0.92",
           "HistGradientBoostingClassifier",
           0.9193663084702907
          ],
          [
           "HistGradientBoostingClassifier | AUC: 0.92",
           "HistGradientBoostingClassifier",
           0.9193663084702907
          ],
          [
           "HistGradientBoostingClassifier | AUC: 0.92",
           "HistGradientBoostingClassifier",
           0.9193663084702907
          ],
          [
           "HistGradientBoostingClassifier | AUC: 0.92",
           "HistGradientBoostingClassifier",
           0.9193663084702907
          ],
          [
           "HistGradientBoostingClassifier | AUC: 0.92",
           "HistGradientBoostingClassifier",
           0.9193663084702907
          ],
          [
           "HistGradientBoostingClassifier | AUC: 0.92",
           "HistGradientBoostingClassifier",
           0.9193663084702907
          ],
          [
           "HistGradientBoostingClassifier | AUC: 0.92",
           "HistGradientBoostingClassifier",
           0.9193663084702907
          ],
          [
           "HistGradientBoostingClassifier | AUC: 0.92",
           "HistGradientBoostingClassifier",
           0.9193663084702907
          ],
          [
           "HistGradientBoostingClassifier | AUC: 0.92",
           "HistGradientBoostingClassifier",
           0.9193663084702907
          ],
          [
           "HistGradientBoostingClassifier | AUC: 0.92",
           "HistGradientBoostingClassifier",
           0.9193663084702907
          ],
          [
           "HistGradientBoostingClassifier | AUC: 0.92",
           "HistGradientBoostingClassifier",
           0.9193663084702907
          ],
          [
           "HistGradientBoostingClassifier | AUC: 0.92",
           "HistGradientBoostingClassifier",
           0.9193663084702907
          ],
          [
           "HistGradientBoostingClassifier | AUC: 0.92",
           "HistGradientBoostingClassifier",
           0.9193663084702907
          ],
          [
           "HistGradientBoostingClassifier | AUC: 0.92",
           "HistGradientBoostingClassifier",
           0.9193663084702907
          ],
          [
           "HistGradientBoostingClassifier | AUC: 0.92",
           "HistGradientBoostingClassifier",
           0.9193663084702907
          ],
          [
           "HistGradientBoostingClassifier | AUC: 0.92",
           "HistGradientBoostingClassifier",
           0.9193663084702907
          ],
          [
           "HistGradientBoostingClassifier | AUC: 0.92",
           "HistGradientBoostingClassifier",
           0.9193663084702907
          ],
          [
           "HistGradientBoostingClassifier | AUC: 0.92",
           "HistGradientBoostingClassifier",
           0.9193663084702907
          ],
          [
           "HistGradientBoostingClassifier | AUC: 0.92",
           "HistGradientBoostingClassifier",
           0.9193663084702907
          ],
          [
           "HistGradientBoostingClassifier | AUC: 0.92",
           "HistGradientBoostingClassifier",
           0.9193663084702907
          ],
          [
           "HistGradientBoostingClassifier | AUC: 0.92",
           "HistGradientBoostingClassifier",
           0.9193663084702907
          ],
          [
           "HistGradientBoostingClassifier | AUC: 0.92",
           "HistGradientBoostingClassifier",
           0.9193663084702907
          ],
          [
           "HistGradientBoostingClassifier | AUC: 0.92",
           "HistGradientBoostingClassifier",
           0.9193663084702907
          ],
          [
           "HistGradientBoostingClassifier | AUC: 0.92",
           "HistGradientBoostingClassifier",
           0.9193663084702907
          ],
          [
           "HistGradientBoostingClassifier | AUC: 0.92",
           "HistGradientBoostingClassifier",
           0.9193663084702907
          ],
          [
           "HistGradientBoostingClassifier | AUC: 0.92",
           "HistGradientBoostingClassifier",
           0.9193663084702907
          ],
          [
           "HistGradientBoostingClassifier | AUC: 0.92",
           "HistGradientBoostingClassifier",
           0.9193663084702907
          ],
          [
           "HistGradientBoostingClassifier | AUC: 0.92",
           "HistGradientBoostingClassifier",
           0.9193663084702907
          ],
          [
           "HistGradientBoostingClassifier | AUC: 0.92",
           "HistGradientBoostingClassifier",
           0.9193663084702907
          ],
          [
           "HistGradientBoostingClassifier | AUC: 0.92",
           "HistGradientBoostingClassifier",
           0.9193663084702907
          ]
         ],
         "hovertemplate": "False positive rate=%{x:.2f}<br>True positive rate=%{y:.2f}<br>Estimator=%{customdata[1]}<br>AUC=%{customdata[2]:.2f}<extra></extra>",
         "legendgroup": "HistGradientBoostingClassifier | AUC: 0.92",
         "line": {
          "color": "rgb(17, 165, 121)",
          "dash": "solid"
         },
         "marker": {
          "symbol": "circle"
         },
         "mode": "lines",
         "name": "HistGradientBoostingClassifier | AUC: 0.92",
         "orientation": "v",
         "showlegend": true,
         "type": "scatter",
         "x": [
          0,
          0,
          0,
          0.008928571428571428,
          0.008928571428571428,
          0.026785714285714284,
          0.026785714285714284,
          0.026785714285714284,
          0.03571428571428571,
          0.03571428571428571,
          0.044642857142857144,
          0.044642857142857144,
          0.07142857142857142,
          0.07142857142857142,
          0.08928571428571429,
          0.08928571428571429,
          0.10714285714285714,
          0.10714285714285714,
          0.16071428571428573,
          0.16071428571428573,
          0.16071428571428573,
          0.2857142857142857,
          0.2857142857142857,
          0.30357142857142855,
          0.30357142857142855,
          0.3125,
          0.3125,
          0.3482142857142857,
          0.3482142857142857,
          0.4375,
          0.4375,
          0.4732142857142857,
          0.4732142857142857,
          0.49107142857142855,
          0.49107142857142855,
          0.5,
          0.5,
          0.6517857142857143,
          0.6517857142857143,
          0.6696428571428571,
          0.6696428571428571,
          0.7946428571428571,
          0.8035714285714286,
          0.9196428571428571,
          0.9196428571428571,
          1
         ],
         "xaxis": "x",
         "y": [
          0,
          0.008849557522123894,
          0.45132743362831856,
          0.45132743362831856,
          0.5398230088495575,
          0.5398230088495575,
          0.6902654867256637,
          0.7079646017699115,
          0.7079646017699115,
          0.7345132743362832,
          0.7345132743362832,
          0.7876106194690266,
          0.7876106194690266,
          0.8053097345132744,
          0.8053097345132744,
          0.831858407079646,
          0.831858407079646,
          0.8407079646017699,
          0.8407079646017699,
          0.8584070796460177,
          0.8672566371681416,
          0.8672566371681416,
          0.8849557522123894,
          0.8849557522123894,
          0.8938053097345132,
          0.8938053097345132,
          0.911504424778761,
          0.911504424778761,
          0.9292035398230089,
          0.9292035398230089,
          0.9380530973451328,
          0.9380530973451328,
          0.9469026548672567,
          0.9469026548672567,
          0.9557522123893806,
          0.9557522123893806,
          0.9646017699115044,
          0.9646017699115044,
          0.9734513274336283,
          0.9734513274336283,
          0.9823008849557522,
          0.9823008849557522,
          0.9911504424778761,
          0.9911504424778761,
          1,
          1
         ],
         "yaxis": "y"
        },
        {
         "customdata": [
          [
           "KNeighborsClassifier | AUC: 0.91",
           "KNeighborsClassifier",
           0.906052465233881
          ],
          [
           "KNeighborsClassifier | AUC: 0.91",
           "KNeighborsClassifier",
           0.906052465233881
          ],
          [
           "KNeighborsClassifier | AUC: 0.91",
           "KNeighborsClassifier",
           0.906052465233881
          ],
          [
           "KNeighborsClassifier | AUC: 0.91",
           "KNeighborsClassifier",
           0.906052465233881
          ],
          [
           "KNeighborsClassifier | AUC: 0.91",
           "KNeighborsClassifier",
           0.906052465233881
          ],
          [
           "KNeighborsClassifier | AUC: 0.91",
           "KNeighborsClassifier",
           0.906052465233881
          ],
          [
           "KNeighborsClassifier | AUC: 0.91",
           "KNeighborsClassifier",
           0.906052465233881
          ]
         ],
         "hovertemplate": "False positive rate=%{x:.2f}<br>True positive rate=%{y:.2f}<br>Estimator=%{customdata[1]}<br>AUC=%{customdata[2]:.2f}<extra></extra>",
         "legendgroup": "KNeighborsClassifier | AUC: 0.91",
         "line": {
          "color": "rgb(57, 105, 172)",
          "dash": "solid"
         },
         "marker": {
          "symbol": "circle"
         },
         "mode": "lines",
         "name": "KNeighborsClassifier | AUC: 0.91",
         "orientation": "v",
         "showlegend": true,
         "type": "scatter",
         "x": [
          0,
          0.044642857142857144,
          0.13392857142857142,
          0.2767857142857143,
          0.4732142857142857,
          0.6339285714285714,
          1
         ],
         "xaxis": "x",
         "y": [
          0,
          0.6194690265486725,
          0.8407079646017699,
          0.9292035398230089,
          0.9646017699115044,
          0.9646017699115044,
          1
         ],
         "yaxis": "y"
        },
        {
         "customdata": [
          [
           "LogisticRegression | AUC: 0.94",
           "LogisticRegression",
           0.9362357774968394
          ],
          [
           "LogisticRegression | AUC: 0.94",
           "LogisticRegression",
           0.9362357774968394
          ],
          [
           "LogisticRegression | AUC: 0.94",
           "LogisticRegression",
           0.9362357774968394
          ],
          [
           "LogisticRegression | AUC: 0.94",
           "LogisticRegression",
           0.9362357774968394
          ],
          [
           "LogisticRegression | AUC: 0.94",
           "LogisticRegression",
           0.9362357774968394
          ],
          [
           "LogisticRegression | AUC: 0.94",
           "LogisticRegression",
           0.9362357774968394
          ],
          [
           "LogisticRegression | AUC: 0.94",
           "LogisticRegression",
           0.9362357774968394
          ],
          [
           "LogisticRegression | AUC: 0.94",
           "LogisticRegression",
           0.9362357774968394
          ],
          [
           "LogisticRegression | AUC: 0.94",
           "LogisticRegression",
           0.9362357774968394
          ],
          [
           "LogisticRegression | AUC: 0.94",
           "LogisticRegression",
           0.9362357774968394
          ],
          [
           "LogisticRegression | AUC: 0.94",
           "LogisticRegression",
           0.9362357774968394
          ],
          [
           "LogisticRegression | AUC: 0.94",
           "LogisticRegression",
           0.9362357774968394
          ],
          [
           "LogisticRegression | AUC: 0.94",
           "LogisticRegression",
           0.9362357774968394
          ],
          [
           "LogisticRegression | AUC: 0.94",
           "LogisticRegression",
           0.9362357774968394
          ],
          [
           "LogisticRegression | AUC: 0.94",
           "LogisticRegression",
           0.9362357774968394
          ],
          [
           "LogisticRegression | AUC: 0.94",
           "LogisticRegression",
           0.9362357774968394
          ],
          [
           "LogisticRegression | AUC: 0.94",
           "LogisticRegression",
           0.9362357774968394
          ],
          [
           "LogisticRegression | AUC: 0.94",
           "LogisticRegression",
           0.9362357774968394
          ],
          [
           "LogisticRegression | AUC: 0.94",
           "LogisticRegression",
           0.9362357774968394
          ],
          [
           "LogisticRegression | AUC: 0.94",
           "LogisticRegression",
           0.9362357774968394
          ],
          [
           "LogisticRegression | AUC: 0.94",
           "LogisticRegression",
           0.9362357774968394
          ],
          [
           "LogisticRegression | AUC: 0.94",
           "LogisticRegression",
           0.9362357774968394
          ],
          [
           "LogisticRegression | AUC: 0.94",
           "LogisticRegression",
           0.9362357774968394
          ],
          [
           "LogisticRegression | AUC: 0.94",
           "LogisticRegression",
           0.9362357774968394
          ],
          [
           "LogisticRegression | AUC: 0.94",
           "LogisticRegression",
           0.9362357774968394
          ],
          [
           "LogisticRegression | AUC: 0.94",
           "LogisticRegression",
           0.9362357774968394
          ],
          [
           "LogisticRegression | AUC: 0.94",
           "LogisticRegression",
           0.9362357774968394
          ],
          [
           "LogisticRegression | AUC: 0.94",
           "LogisticRegression",
           0.9362357774968394
          ],
          [
           "LogisticRegression | AUC: 0.94",
           "LogisticRegression",
           0.9362357774968394
          ],
          [
           "LogisticRegression | AUC: 0.94",
           "LogisticRegression",
           0.9362357774968394
          ],
          [
           "LogisticRegression | AUC: 0.94",
           "LogisticRegression",
           0.9362357774968394
          ],
          [
           "LogisticRegression | AUC: 0.94",
           "LogisticRegression",
           0.9362357774968394
          ],
          [
           "LogisticRegression | AUC: 0.94",
           "LogisticRegression",
           0.9362357774968394
          ],
          [
           "LogisticRegression | AUC: 0.94",
           "LogisticRegression",
           0.9362357774968394
          ],
          [
           "LogisticRegression | AUC: 0.94",
           "LogisticRegression",
           0.9362357774968394
          ],
          [
           "LogisticRegression | AUC: 0.94",
           "LogisticRegression",
           0.9362357774968394
          ],
          [
           "LogisticRegression | AUC: 0.94",
           "LogisticRegression",
           0.9362357774968394
          ],
          [
           "LogisticRegression | AUC: 0.94",
           "LogisticRegression",
           0.9362357774968394
          ],
          [
           "LogisticRegression | AUC: 0.94",
           "LogisticRegression",
           0.9362357774968394
          ],
          [
           "LogisticRegression | AUC: 0.94",
           "LogisticRegression",
           0.9362357774968394
          ],
          [
           "LogisticRegression | AUC: 0.94",
           "LogisticRegression",
           0.9362357774968394
          ],
          [
           "LogisticRegression | AUC: 0.94",
           "LogisticRegression",
           0.9362357774968394
          ],
          [
           "LogisticRegression | AUC: 0.94",
           "LogisticRegression",
           0.9362357774968394
          ],
          [
           "LogisticRegression | AUC: 0.94",
           "LogisticRegression",
           0.9362357774968394
          ],
          [
           "LogisticRegression | AUC: 0.94",
           "LogisticRegression",
           0.9362357774968394
          ],
          [
           "LogisticRegression | AUC: 0.94",
           "LogisticRegression",
           0.9362357774968394
          ],
          [
           "LogisticRegression | AUC: 0.94",
           "LogisticRegression",
           0.9362357774968394
          ],
          [
           "LogisticRegression | AUC: 0.94",
           "LogisticRegression",
           0.9362357774968394
          ]
         ],
         "hovertemplate": "False positive rate=%{x:.2f}<br>True positive rate=%{y:.2f}<br>Estimator=%{customdata[1]}<br>AUC=%{customdata[2]:.2f}<extra></extra>",
         "legendgroup": "LogisticRegression | AUC: 0.94",
         "line": {
          "color": "rgb(242, 183, 1)",
          "dash": "solid"
         },
         "marker": {
          "symbol": "circle"
         },
         "mode": "lines",
         "name": "LogisticRegression | AUC: 0.94",
         "orientation": "v",
         "showlegend": true,
         "type": "scatter",
         "x": [
          0,
          0,
          0,
          0.008928571428571428,
          0.008928571428571428,
          0.017857142857142856,
          0.017857142857142856,
          0.03571428571428571,
          0.03571428571428571,
          0.044642857142857144,
          0.044642857142857144,
          0.0625,
          0.0625,
          0.08035714285714286,
          0.08035714285714286,
          0.09821428571428571,
          0.09821428571428571,
          0.10714285714285714,
          0.10714285714285714,
          0.125,
          0.125,
          0.13392857142857142,
          0.13392857142857142,
          0.16964285714285715,
          0.16964285714285715,
          0.20535714285714285,
          0.20535714285714285,
          0.21428571428571427,
          0.21428571428571427,
          0.25,
          0.25,
          0.2857142857142857,
          0.2857142857142857,
          0.375,
          0.375,
          0.38392857142857145,
          0.38392857142857145,
          0.4017857142857143,
          0.4017857142857143,
          0.4642857142857143,
          0.4642857142857143,
          0.6071428571428571,
          0.6071428571428571,
          0.6696428571428571,
          0.6696428571428571,
          0.9821428571428571,
          0.9821428571428571,
          1
         ],
         "xaxis": "x",
         "y": [
          0,
          0.008849557522123894,
          0.6814159292035398,
          0.6814159292035398,
          0.7079646017699115,
          0.7079646017699115,
          0.7168141592920354,
          0.7168141592920354,
          0.7699115044247787,
          0.7699115044247787,
          0.7964601769911505,
          0.7964601769911505,
          0.8053097345132744,
          0.8053097345132744,
          0.8141592920353983,
          0.8141592920353983,
          0.8230088495575221,
          0.8230088495575221,
          0.831858407079646,
          0.831858407079646,
          0.8495575221238938,
          0.8495575221238938,
          0.8672566371681416,
          0.8672566371681416,
          0.8761061946902655,
          0.8761061946902655,
          0.8849557522123894,
          0.8849557522123894,
          0.8938053097345132,
          0.8938053097345132,
          0.911504424778761,
          0.911504424778761,
          0.9292035398230089,
          0.9292035398230089,
          0.9380530973451328,
          0.9380530973451328,
          0.9469026548672567,
          0.9469026548672567,
          0.9646017699115044,
          0.9646017699115044,
          0.9734513274336283,
          0.9734513274336283,
          0.9823008849557522,
          0.9823008849557522,
          0.9911504424778761,
          0.9911504424778761,
          1,
          1
         ],
         "yaxis": "y"
        },
        {
         "customdata": [
          [
           "RandomForestClassifier | AUC: 0.94",
           "RandomForestClassifier",
           0.9395938685208596
          ],
          [
           "RandomForestClassifier | AUC: 0.94",
           "RandomForestClassifier",
           0.9395938685208596
          ],
          [
           "RandomForestClassifier | AUC: 0.94",
           "RandomForestClassifier",
           0.9395938685208596
          ],
          [
           "RandomForestClassifier | AUC: 0.94",
           "RandomForestClassifier",
           0.9395938685208596
          ],
          [
           "RandomForestClassifier | AUC: 0.94",
           "RandomForestClassifier",
           0.9395938685208596
          ],
          [
           "RandomForestClassifier | AUC: 0.94",
           "RandomForestClassifier",
           0.9395938685208596
          ],
          [
           "RandomForestClassifier | AUC: 0.94",
           "RandomForestClassifier",
           0.9395938685208596
          ],
          [
           "RandomForestClassifier | AUC: 0.94",
           "RandomForestClassifier",
           0.9395938685208596
          ],
          [
           "RandomForestClassifier | AUC: 0.94",
           "RandomForestClassifier",
           0.9395938685208596
          ],
          [
           "RandomForestClassifier | AUC: 0.94",
           "RandomForestClassifier",
           0.9395938685208596
          ],
          [
           "RandomForestClassifier | AUC: 0.94",
           "RandomForestClassifier",
           0.9395938685208596
          ],
          [
           "RandomForestClassifier | AUC: 0.94",
           "RandomForestClassifier",
           0.9395938685208596
          ],
          [
           "RandomForestClassifier | AUC: 0.94",
           "RandomForestClassifier",
           0.9395938685208596
          ],
          [
           "RandomForestClassifier | AUC: 0.94",
           "RandomForestClassifier",
           0.9395938685208596
          ],
          [
           "RandomForestClassifier | AUC: 0.94",
           "RandomForestClassifier",
           0.9395938685208596
          ],
          [
           "RandomForestClassifier | AUC: 0.94",
           "RandomForestClassifier",
           0.9395938685208596
          ],
          [
           "RandomForestClassifier | AUC: 0.94",
           "RandomForestClassifier",
           0.9395938685208596
          ],
          [
           "RandomForestClassifier | AUC: 0.94",
           "RandomForestClassifier",
           0.9395938685208596
          ],
          [
           "RandomForestClassifier | AUC: 0.94",
           "RandomForestClassifier",
           0.9395938685208596
          ],
          [
           "RandomForestClassifier | AUC: 0.94",
           "RandomForestClassifier",
           0.9395938685208596
          ],
          [
           "RandomForestClassifier | AUC: 0.94",
           "RandomForestClassifier",
           0.9395938685208596
          ],
          [
           "RandomForestClassifier | AUC: 0.94",
           "RandomForestClassifier",
           0.9395938685208596
          ],
          [
           "RandomForestClassifier | AUC: 0.94",
           "RandomForestClassifier",
           0.9395938685208596
          ],
          [
           "RandomForestClassifier | AUC: 0.94",
           "RandomForestClassifier",
           0.9395938685208596
          ],
          [
           "RandomForestClassifier | AUC: 0.94",
           "RandomForestClassifier",
           0.9395938685208596
          ],
          [
           "RandomForestClassifier | AUC: 0.94",
           "RandomForestClassifier",
           0.9395938685208596
          ],
          [
           "RandomForestClassifier | AUC: 0.94",
           "RandomForestClassifier",
           0.9395938685208596
          ],
          [
           "RandomForestClassifier | AUC: 0.94",
           "RandomForestClassifier",
           0.9395938685208596
          ],
          [
           "RandomForestClassifier | AUC: 0.94",
           "RandomForestClassifier",
           0.9395938685208596
          ],
          [
           "RandomForestClassifier | AUC: 0.94",
           "RandomForestClassifier",
           0.9395938685208596
          ],
          [
           "RandomForestClassifier | AUC: 0.94",
           "RandomForestClassifier",
           0.9395938685208596
          ],
          [
           "RandomForestClassifier | AUC: 0.94",
           "RandomForestClassifier",
           0.9395938685208596
          ],
          [
           "RandomForestClassifier | AUC: 0.94",
           "RandomForestClassifier",
           0.9395938685208596
          ],
          [
           "RandomForestClassifier | AUC: 0.94",
           "RandomForestClassifier",
           0.9395938685208596
          ],
          [
           "RandomForestClassifier | AUC: 0.94",
           "RandomForestClassifier",
           0.9395938685208596
          ],
          [
           "RandomForestClassifier | AUC: 0.94",
           "RandomForestClassifier",
           0.9395938685208596
          ],
          [
           "RandomForestClassifier | AUC: 0.94",
           "RandomForestClassifier",
           0.9395938685208596
          ],
          [
           "RandomForestClassifier | AUC: 0.94",
           "RandomForestClassifier",
           0.9395938685208596
          ],
          [
           "RandomForestClassifier | AUC: 0.94",
           "RandomForestClassifier",
           0.9395938685208596
          ],
          [
           "RandomForestClassifier | AUC: 0.94",
           "RandomForestClassifier",
           0.9395938685208596
          ],
          [
           "RandomForestClassifier | AUC: 0.94",
           "RandomForestClassifier",
           0.9395938685208596
          ],
          [
           "RandomForestClassifier | AUC: 0.94",
           "RandomForestClassifier",
           0.9395938685208596
          ],
          [
           "RandomForestClassifier | AUC: 0.94",
           "RandomForestClassifier",
           0.9395938685208596
          ],
          [
           "RandomForestClassifier | AUC: 0.94",
           "RandomForestClassifier",
           0.9395938685208596
          ],
          [
           "RandomForestClassifier | AUC: 0.94",
           "RandomForestClassifier",
           0.9395938685208596
          ],
          [
           "RandomForestClassifier | AUC: 0.94",
           "RandomForestClassifier",
           0.9395938685208596
          ],
          [
           "RandomForestClassifier | AUC: 0.94",
           "RandomForestClassifier",
           0.9395938685208596
          ],
          [
           "RandomForestClassifier | AUC: 0.94",
           "RandomForestClassifier",
           0.9395938685208596
          ],
          [
           "RandomForestClassifier | AUC: 0.94",
           "RandomForestClassifier",
           0.9395938685208596
          ],
          [
           "RandomForestClassifier | AUC: 0.94",
           "RandomForestClassifier",
           0.9395938685208596
          ],
          [
           "RandomForestClassifier | AUC: 0.94",
           "RandomForestClassifier",
           0.9395938685208596
          ],
          [
           "RandomForestClassifier | AUC: 0.94",
           "RandomForestClassifier",
           0.9395938685208596
          ],
          [
           "RandomForestClassifier | AUC: 0.94",
           "RandomForestClassifier",
           0.9395938685208596
          ],
          [
           "RandomForestClassifier | AUC: 0.94",
           "RandomForestClassifier",
           0.9395938685208596
          ],
          [
           "RandomForestClassifier | AUC: 0.94",
           "RandomForestClassifier",
           0.9395938685208596
          ],
          [
           "RandomForestClassifier | AUC: 0.94",
           "RandomForestClassifier",
           0.9395938685208596
          ],
          [
           "RandomForestClassifier | AUC: 0.94",
           "RandomForestClassifier",
           0.9395938685208596
          ],
          [
           "RandomForestClassifier | AUC: 0.94",
           "RandomForestClassifier",
           0.9395938685208596
          ],
          [
           "RandomForestClassifier | AUC: 0.94",
           "RandomForestClassifier",
           0.9395938685208596
          ],
          [
           "RandomForestClassifier | AUC: 0.94",
           "RandomForestClassifier",
           0.9395938685208596
          ],
          [
           "RandomForestClassifier | AUC: 0.94",
           "RandomForestClassifier",
           0.9395938685208596
          ],
          [
           "RandomForestClassifier | AUC: 0.94",
           "RandomForestClassifier",
           0.9395938685208596
          ],
          [
           "RandomForestClassifier | AUC: 0.94",
           "RandomForestClassifier",
           0.9395938685208596
          ],
          [
           "RandomForestClassifier | AUC: 0.94",
           "RandomForestClassifier",
           0.9395938685208596
          ],
          [
           "RandomForestClassifier | AUC: 0.94",
           "RandomForestClassifier",
           0.9395938685208596
          ],
          [
           "RandomForestClassifier | AUC: 0.94",
           "RandomForestClassifier",
           0.9395938685208596
          ],
          [
           "RandomForestClassifier | AUC: 0.94",
           "RandomForestClassifier",
           0.9395938685208596
          ],
          [
           "RandomForestClassifier | AUC: 0.94",
           "RandomForestClassifier",
           0.9395938685208596
          ],
          [
           "RandomForestClassifier | AUC: 0.94",
           "RandomForestClassifier",
           0.9395938685208596
          ],
          [
           "RandomForestClassifier | AUC: 0.94",
           "RandomForestClassifier",
           0.9395938685208596
          ],
          [
           "RandomForestClassifier | AUC: 0.94",
           "RandomForestClassifier",
           0.9395938685208596
          ],
          [
           "RandomForestClassifier | AUC: 0.94",
           "RandomForestClassifier",
           0.9395938685208596
          ]
         ],
         "hovertemplate": "False positive rate=%{x:.2f}<br>True positive rate=%{y:.2f}<br>Estimator=%{customdata[1]}<br>AUC=%{customdata[2]:.2f}<extra></extra>",
         "legendgroup": "RandomForestClassifier | AUC: 0.94",
         "line": {
          "color": "rgb(231, 63, 116)",
          "dash": "solid"
         },
         "marker": {
          "symbol": "circle"
         },
         "mode": "lines",
         "name": "RandomForestClassifier | AUC: 0.94",
         "orientation": "v",
         "showlegend": true,
         "type": "scatter",
         "x": [
          0,
          0,
          0,
          0,
          0,
          0,
          0,
          0,
          0,
          0,
          0,
          0,
          0,
          0,
          0,
          0.008928571428571428,
          0.008928571428571428,
          0.017857142857142856,
          0.017857142857142856,
          0.017857142857142856,
          0.017857142857142856,
          0.017857142857142856,
          0.017857142857142856,
          0.026785714285714284,
          0.026785714285714284,
          0.03571428571428571,
          0.05357142857142857,
          0.05357142857142857,
          0.0625,
          0.0625,
          0.08035714285714286,
          0.08035714285714286,
          0.09821428571428571,
          0.09821428571428571,
          0.11607142857142858,
          0.125,
          0.14285714285714285,
          0.16071428571428573,
          0.1875,
          0.22321428571428573,
          0.23214285714285715,
          0.24107142857142858,
          0.2767857142857143,
          0.2767857142857143,
          0.29464285714285715,
          0.29464285714285715,
          0.3125,
          0.33035714285714285,
          0.3392857142857143,
          0.35714285714285715,
          0.4017857142857143,
          0.4375,
          0.44642857142857145,
          0.4642857142857143,
          0.49107142857142855,
          0.5,
          0.5267857142857143,
          0.5446428571428571,
          0.5625,
          0.5982142857142857,
          0.625,
          0.6428571428571429,
          0.6696428571428571,
          0.6875,
          0.7321428571428571,
          0.7678571428571429,
          0.8214285714285714,
          0.875,
          0.9017857142857143,
          0.9375,
          0.9910714285714286,
          1
         ],
         "xaxis": "x",
         "y": [
          0,
          0.02654867256637168,
          0.061946902654867256,
          0.10619469026548672,
          0.1592920353982301,
          0.22123893805309736,
          0.23893805309734514,
          0.3185840707964602,
          0.3805309734513274,
          0.4247787610619469,
          0.4778761061946903,
          0.5221238938053098,
          0.5398230088495575,
          0.5575221238938053,
          0.5752212389380531,
          0.584070796460177,
          0.6194690265486725,
          0.6460176991150443,
          0.6637168141592921,
          0.6991150442477876,
          0.7256637168141593,
          0.7433628318584071,
          0.7699115044247787,
          0.7787610619469026,
          0.7876106194690266,
          0.7876106194690266,
          0.7964601769911505,
          0.8053097345132744,
          0.8141592920353983,
          0.8230088495575221,
          0.8407079646017699,
          0.8495575221238938,
          0.8584070796460177,
          0.8672566371681416,
          0.8761061946902655,
          0.8849557522123894,
          0.8849557522123894,
          0.8849557522123894,
          0.8938053097345132,
          0.8938053097345132,
          0.9026548672566371,
          0.9026548672566371,
          0.9026548672566371,
          0.9203539823008849,
          0.9380530973451328,
          0.9469026548672567,
          0.9469026548672567,
          0.9557522123893806,
          0.9557522123893806,
          0.9557522123893806,
          0.9557522123893806,
          0.9557522123893806,
          0.9557522123893806,
          0.9557522123893806,
          0.9646017699115044,
          0.9646017699115044,
          0.9646017699115044,
          0.9646017699115044,
          0.9734513274336283,
          0.9734513274336283,
          0.9734513274336283,
          0.9734513274336283,
          0.9734513274336283,
          0.9823008849557522,
          0.9823008849557522,
          0.9823008849557522,
          0.9823008849557522,
          0.9911504424778761,
          1,
          1,
          1,
          1
         ],
         "yaxis": "y"
        },
        {
         "customdata": [
          [
           "DecisionTreeClassifier | AUC: 0.82",
           "DecisionTreeClassifier",
           0.8178729456384324
          ],
          [
           "DecisionTreeClassifier | AUC: 0.82",
           "DecisionTreeClassifier",
           0.8178729456384324
          ],
          [
           "DecisionTreeClassifier | AUC: 0.82",
           "DecisionTreeClassifier",
           0.8178729456384324
          ]
         ],
         "hovertemplate": "False positive rate=%{x:.2f}<br>True positive rate=%{y:.2f}<br>Estimator=%{customdata[1]}<br>AUC=%{customdata[2]:.2f}<extra></extra>",
         "legendgroup": "DecisionTreeClassifier | AUC: 0.82",
         "line": {
          "color": "rgb(128, 186, 90)",
          "dash": "solid"
         },
         "marker": {
          "symbol": "circle"
         },
         "mode": "lines",
         "name": "DecisionTreeClassifier | AUC: 0.82",
         "orientation": "v",
         "showlegend": true,
         "type": "scatter",
         "x": [
          0,
          0.16071428571428573,
          1
         ],
         "xaxis": "x",
         "y": [
          0,
          0.7964601769911505,
          1
         ],
         "yaxis": "y"
        }
       ],
       "layout": {
        "legend": {
         "title": {
          "text": "Estimator_AUC"
         },
         "tracegroupgap": 0
        },
        "shapes": [
         {
          "line": {
           "dash": "dash"
          },
          "type": "line",
          "x0": 0,
          "x1": 1,
          "xref": "x",
          "y0": 0,
          "y1": 1,
          "yref": "y"
         }
        ],
        "template": {
         "data": {
          "bar": [
           {
            "error_x": {
             "color": "#2a3f5f"
            },
            "error_y": {
             "color": "#2a3f5f"
            },
            "marker": {
             "line": {
              "color": "white",
              "width": 0.5
             },
             "pattern": {
              "fillmode": "overlay",
              "size": 10,
              "solidity": 0.2
             }
            },
            "type": "bar"
           }
          ],
          "barpolar": [
           {
            "marker": {
             "line": {
              "color": "white",
              "width": 0.5
             },
             "pattern": {
              "fillmode": "overlay",
              "size": 10,
              "solidity": 0.2
             }
            },
            "type": "barpolar"
           }
          ],
          "carpet": [
           {
            "aaxis": {
             "endlinecolor": "#2a3f5f",
             "gridcolor": "#C8D4E3",
             "linecolor": "#C8D4E3",
             "minorgridcolor": "#C8D4E3",
             "startlinecolor": "#2a3f5f"
            },
            "baxis": {
             "endlinecolor": "#2a3f5f",
             "gridcolor": "#C8D4E3",
             "linecolor": "#C8D4E3",
             "minorgridcolor": "#C8D4E3",
             "startlinecolor": "#2a3f5f"
            },
            "type": "carpet"
           }
          ],
          "choropleth": [
           {
            "colorbar": {
             "outlinewidth": 0,
             "ticks": ""
            },
            "type": "choropleth"
           }
          ],
          "contour": [
           {
            "colorbar": {
             "outlinewidth": 0,
             "ticks": ""
            },
            "colorscale": [
             [
              0,
              "#0d0887"
             ],
             [
              0.1111111111111111,
              "#46039f"
             ],
             [
              0.2222222222222222,
              "#7201a8"
             ],
             [
              0.3333333333333333,
              "#9c179e"
             ],
             [
              0.4444444444444444,
              "#bd3786"
             ],
             [
              0.5555555555555556,
              "#d8576b"
             ],
             [
              0.6666666666666666,
              "#ed7953"
             ],
             [
              0.7777777777777778,
              "#fb9f3a"
             ],
             [
              0.8888888888888888,
              "#fdca26"
             ],
             [
              1,
              "#f0f921"
             ]
            ],
            "type": "contour"
           }
          ],
          "contourcarpet": [
           {
            "colorbar": {
             "outlinewidth": 0,
             "ticks": ""
            },
            "type": "contourcarpet"
           }
          ],
          "heatmap": [
           {
            "colorbar": {
             "outlinewidth": 0,
             "ticks": ""
            },
            "colorscale": [
             [
              0,
              "#0d0887"
             ],
             [
              0.1111111111111111,
              "#46039f"
             ],
             [
              0.2222222222222222,
              "#7201a8"
             ],
             [
              0.3333333333333333,
              "#9c179e"
             ],
             [
              0.4444444444444444,
              "#bd3786"
             ],
             [
              0.5555555555555556,
              "#d8576b"
             ],
             [
              0.6666666666666666,
              "#ed7953"
             ],
             [
              0.7777777777777778,
              "#fb9f3a"
             ],
             [
              0.8888888888888888,
              "#fdca26"
             ],
             [
              1,
              "#f0f921"
             ]
            ],
            "type": "heatmap"
           }
          ],
          "heatmapgl": [
           {
            "colorbar": {
             "outlinewidth": 0,
             "ticks": ""
            },
            "colorscale": [
             [
              0,
              "#0d0887"
             ],
             [
              0.1111111111111111,
              "#46039f"
             ],
             [
              0.2222222222222222,
              "#7201a8"
             ],
             [
              0.3333333333333333,
              "#9c179e"
             ],
             [
              0.4444444444444444,
              "#bd3786"
             ],
             [
              0.5555555555555556,
              "#d8576b"
             ],
             [
              0.6666666666666666,
              "#ed7953"
             ],
             [
              0.7777777777777778,
              "#fb9f3a"
             ],
             [
              0.8888888888888888,
              "#fdca26"
             ],
             [
              1,
              "#f0f921"
             ]
            ],
            "type": "heatmapgl"
           }
          ],
          "histogram": [
           {
            "marker": {
             "pattern": {
              "fillmode": "overlay",
              "size": 10,
              "solidity": 0.2
             }
            },
            "type": "histogram"
           }
          ],
          "histogram2d": [
           {
            "colorbar": {
             "outlinewidth": 0,
             "ticks": ""
            },
            "colorscale": [
             [
              0,
              "#0d0887"
             ],
             [
              0.1111111111111111,
              "#46039f"
             ],
             [
              0.2222222222222222,
              "#7201a8"
             ],
             [
              0.3333333333333333,
              "#9c179e"
             ],
             [
              0.4444444444444444,
              "#bd3786"
             ],
             [
              0.5555555555555556,
              "#d8576b"
             ],
             [
              0.6666666666666666,
              "#ed7953"
             ],
             [
              0.7777777777777778,
              "#fb9f3a"
             ],
             [
              0.8888888888888888,
              "#fdca26"
             ],
             [
              1,
              "#f0f921"
             ]
            ],
            "type": "histogram2d"
           }
          ],
          "histogram2dcontour": [
           {
            "colorbar": {
             "outlinewidth": 0,
             "ticks": ""
            },
            "colorscale": [
             [
              0,
              "#0d0887"
             ],
             [
              0.1111111111111111,
              "#46039f"
             ],
             [
              0.2222222222222222,
              "#7201a8"
             ],
             [
              0.3333333333333333,
              "#9c179e"
             ],
             [
              0.4444444444444444,
              "#bd3786"
             ],
             [
              0.5555555555555556,
              "#d8576b"
             ],
             [
              0.6666666666666666,
              "#ed7953"
             ],
             [
              0.7777777777777778,
              "#fb9f3a"
             ],
             [
              0.8888888888888888,
              "#fdca26"
             ],
             [
              1,
              "#f0f921"
             ]
            ],
            "type": "histogram2dcontour"
           }
          ],
          "mesh3d": [
           {
            "colorbar": {
             "outlinewidth": 0,
             "ticks": ""
            },
            "type": "mesh3d"
           }
          ],
          "parcoords": [
           {
            "line": {
             "colorbar": {
              "outlinewidth": 0,
              "ticks": ""
             }
            },
            "type": "parcoords"
           }
          ],
          "pie": [
           {
            "automargin": true,
            "type": "pie"
           }
          ],
          "scatter": [
           {
            "marker": {
             "colorbar": {
              "outlinewidth": 0,
              "ticks": ""
             }
            },
            "type": "scatter"
           }
          ],
          "scatter3d": [
           {
            "line": {
             "colorbar": {
              "outlinewidth": 0,
              "ticks": ""
             }
            },
            "marker": {
             "colorbar": {
              "outlinewidth": 0,
              "ticks": ""
             }
            },
            "type": "scatter3d"
           }
          ],
          "scattercarpet": [
           {
            "marker": {
             "colorbar": {
              "outlinewidth": 0,
              "ticks": ""
             }
            },
            "type": "scattercarpet"
           }
          ],
          "scattergeo": [
           {
            "marker": {
             "colorbar": {
              "outlinewidth": 0,
              "ticks": ""
             }
            },
            "type": "scattergeo"
           }
          ],
          "scattergl": [
           {
            "marker": {
             "colorbar": {
              "outlinewidth": 0,
              "ticks": ""
             }
            },
            "type": "scattergl"
           }
          ],
          "scattermapbox": [
           {
            "marker": {
             "colorbar": {
              "outlinewidth": 0,
              "ticks": ""
             }
            },
            "type": "scattermapbox"
           }
          ],
          "scatterpolar": [
           {
            "marker": {
             "colorbar": {
              "outlinewidth": 0,
              "ticks": ""
             }
            },
            "type": "scatterpolar"
           }
          ],
          "scatterpolargl": [
           {
            "marker": {
             "colorbar": {
              "outlinewidth": 0,
              "ticks": ""
             }
            },
            "type": "scatterpolargl"
           }
          ],
          "scatterternary": [
           {
            "marker": {
             "colorbar": {
              "outlinewidth": 0,
              "ticks": ""
             }
            },
            "type": "scatterternary"
           }
          ],
          "surface": [
           {
            "colorbar": {
             "outlinewidth": 0,
             "ticks": ""
            },
            "colorscale": [
             [
              0,
              "#0d0887"
             ],
             [
              0.1111111111111111,
              "#46039f"
             ],
             [
              0.2222222222222222,
              "#7201a8"
             ],
             [
              0.3333333333333333,
              "#9c179e"
             ],
             [
              0.4444444444444444,
              "#bd3786"
             ],
             [
              0.5555555555555556,
              "#d8576b"
             ],
             [
              0.6666666666666666,
              "#ed7953"
             ],
             [
              0.7777777777777778,
              "#fb9f3a"
             ],
             [
              0.8888888888888888,
              "#fdca26"
             ],
             [
              1,
              "#f0f921"
             ]
            ],
            "type": "surface"
           }
          ],
          "table": [
           {
            "cells": {
             "fill": {
              "color": "#EBF0F8"
             },
             "line": {
              "color": "white"
             }
            },
            "header": {
             "fill": {
              "color": "#C8D4E3"
             },
             "line": {
              "color": "white"
             }
            },
            "type": "table"
           }
          ]
         },
         "layout": {
          "annotationdefaults": {
           "arrowcolor": "#2a3f5f",
           "arrowhead": 0,
           "arrowwidth": 1
          },
          "autotypenumbers": "strict",
          "coloraxis": {
           "colorbar": {
            "outlinewidth": 0,
            "ticks": ""
           }
          },
          "colorscale": {
           "diverging": [
            [
             0,
             "#8e0152"
            ],
            [
             0.1,
             "#c51b7d"
            ],
            [
             0.2,
             "#de77ae"
            ],
            [
             0.3,
             "#f1b6da"
            ],
            [
             0.4,
             "#fde0ef"
            ],
            [
             0.5,
             "#f7f7f7"
            ],
            [
             0.6,
             "#e6f5d0"
            ],
            [
             0.7,
             "#b8e186"
            ],
            [
             0.8,
             "#7fbc41"
            ],
            [
             0.9,
             "#4d9221"
            ],
            [
             1,
             "#276419"
            ]
           ],
           "sequential": [
            [
             0,
             "#0d0887"
            ],
            [
             0.1111111111111111,
             "#46039f"
            ],
            [
             0.2222222222222222,
             "#7201a8"
            ],
            [
             0.3333333333333333,
             "#9c179e"
            ],
            [
             0.4444444444444444,
             "#bd3786"
            ],
            [
             0.5555555555555556,
             "#d8576b"
            ],
            [
             0.6666666666666666,
             "#ed7953"
            ],
            [
             0.7777777777777778,
             "#fb9f3a"
            ],
            [
             0.8888888888888888,
             "#fdca26"
            ],
            [
             1,
             "#f0f921"
            ]
           ],
           "sequentialminus": [
            [
             0,
             "#0d0887"
            ],
            [
             0.1111111111111111,
             "#46039f"
            ],
            [
             0.2222222222222222,
             "#7201a8"
            ],
            [
             0.3333333333333333,
             "#9c179e"
            ],
            [
             0.4444444444444444,
             "#bd3786"
            ],
            [
             0.5555555555555556,
             "#d8576b"
            ],
            [
             0.6666666666666666,
             "#ed7953"
            ],
            [
             0.7777777777777778,
             "#fb9f3a"
            ],
            [
             0.8888888888888888,
             "#fdca26"
            ],
            [
             1,
             "#f0f921"
            ]
           ]
          },
          "colorway": [
           "#636efa",
           "#EF553B",
           "#00cc96",
           "#ab63fa",
           "#FFA15A",
           "#19d3f3",
           "#FF6692",
           "#B6E880",
           "#FF97FF",
           "#FECB52"
          ],
          "font": {
           "color": "#8C8C8C"
          },
          "geo": {
           "bgcolor": "white",
           "lakecolor": "white",
           "landcolor": "white",
           "showlakes": true,
           "showland": true,
           "subunitcolor": "#C8D4E3"
          },
          "hoverlabel": {
           "align": "left"
          },
          "hovermode": "closest",
          "legend": {
           "orientation": "h",
           "x": 0,
           "xanchor": "left",
           "y": -0.2,
           "yanchor": "top"
          },
          "mapbox": {
           "style": "light"
          },
          "margin": {
           "l": 20,
           "r": 20
          },
          "paper_bgcolor": "white",
          "plot_bgcolor": "white",
          "polar": {
           "angularaxis": {
            "gridcolor": "#EBF0F8",
            "linecolor": "#EBF0F8",
            "ticks": ""
           },
           "bgcolor": "white",
           "radialaxis": {
            "gridcolor": "#EBF0F8",
            "linecolor": "#EBF0F8",
            "ticks": ""
           }
          },
          "scene": {
           "xaxis": {
            "backgroundcolor": "white",
            "gridcolor": "#DFE8F3",
            "gridwidth": 2,
            "linecolor": "#EBF0F8",
            "showbackground": true,
            "ticks": "",
            "zerolinecolor": "#EBF0F8"
           },
           "yaxis": {
            "backgroundcolor": "white",
            "gridcolor": "#DFE8F3",
            "gridwidth": 2,
            "linecolor": "#EBF0F8",
            "showbackground": true,
            "ticks": "",
            "zerolinecolor": "#EBF0F8"
           },
           "zaxis": {
            "backgroundcolor": "white",
            "gridcolor": "#DFE8F3",
            "gridwidth": 2,
            "linecolor": "#EBF0F8",
            "showbackground": true,
            "ticks": "",
            "zerolinecolor": "#EBF0F8"
           }
          },
          "shapedefaults": {
           "line": {
            "color": "#2a3f5f"
           }
          },
          "ternary": {
           "aaxis": {
            "gridcolor": "#DFE8F3",
            "linecolor": "#A2B1C6",
            "ticks": ""
           },
           "baxis": {
            "gridcolor": "#DFE8F3",
            "linecolor": "#A2B1C6",
            "ticks": ""
           },
           "bgcolor": "white",
           "caxis": {
            "gridcolor": "#DFE8F3",
            "linecolor": "#A2B1C6",
            "ticks": ""
           }
          },
          "title": {
           "x": 0.05
          },
          "xaxis": {
           "automargin": true,
           "gridcolor": "#EBF0F8",
           "linecolor": "#EBF0F8",
           "ticks": "",
           "title": {
            "standoff": 15
           },
           "zerolinecolor": "#EBF0F8",
           "zerolinewidth": 2
          },
          "yaxis": {
           "automargin": true,
           "gridcolor": "#EBF0F8",
           "linecolor": "#EBF0F8",
           "ticks": "",
           "title": {
            "standoff": 15
           },
           "zerolinecolor": "#EBF0F8",
           "zerolinewidth": 2
          }
         }
        },
        "title": {
         "text": "ROC curve with cross-validated predictions"
        },
        "xaxis": {
         "anchor": "y",
         "domain": [
          0,
          1
         ],
         "title": {
          "text": "False positive rate"
         }
        },
        "yaxis": {
         "anchor": "x",
         "domain": [
          0,
          1
         ],
         "title": {
          "text": "True positive rate"
         }
        }
       }
      },
      "text/html": [
       "<div>                            <div id=\"796a86ce-28f7-48b7-b8ad-88d905165c6c\" class=\"plotly-graph-div\" style=\"height:525px; width:100%;\"></div>            <script type=\"text/javascript\">                require([\"plotly\"], function(Plotly) {                    window.PLOTLYENV=window.PLOTLYENV || {};                                    if (document.getElementById(\"796a86ce-28f7-48b7-b8ad-88d905165c6c\")) {                    Plotly.newPlot(                        \"796a86ce-28f7-48b7-b8ad-88d905165c6c\",                        [{\"customdata\":[[\"XGBClassifier | AUC: 0.93\",\"XGBClassifier\",0.9304282553729457],[\"XGBClassifier | AUC: 0.93\",\"XGBClassifier\",0.9304282553729457],[\"XGBClassifier | AUC: 0.93\",\"XGBClassifier\",0.9304282553729457],[\"XGBClassifier | AUC: 0.93\",\"XGBClassifier\",0.9304282553729457],[\"XGBClassifier | AUC: 0.93\",\"XGBClassifier\",0.9304282553729457],[\"XGBClassifier | AUC: 0.93\",\"XGBClassifier\",0.9304282553729457],[\"XGBClassifier | AUC: 0.93\",\"XGBClassifier\",0.9304282553729457],[\"XGBClassifier | AUC: 0.93\",\"XGBClassifier\",0.9304282553729457],[\"XGBClassifier | AUC: 0.93\",\"XGBClassifier\",0.9304282553729457],[\"XGBClassifier | AUC: 0.93\",\"XGBClassifier\",0.9304282553729457],[\"XGBClassifier | AUC: 0.93\",\"XGBClassifier\",0.9304282553729457],[\"XGBClassifier | AUC: 0.93\",\"XGBClassifier\",0.9304282553729457],[\"XGBClassifier | AUC: 0.93\",\"XGBClassifier\",0.9304282553729457],[\"XGBClassifier | AUC: 0.93\",\"XGBClassifier\",0.9304282553729457],[\"XGBClassifier | AUC: 0.93\",\"XGBClassifier\",0.9304282553729457],[\"XGBClassifier | AUC: 0.93\",\"XGBClassifier\",0.9304282553729457],[\"XGBClassifier | AUC: 0.93\",\"XGBClassifier\",0.9304282553729457],[\"XGBClassifier | AUC: 0.93\",\"XGBClassifier\",0.9304282553729457],[\"XGBClassifier | AUC: 0.93\",\"XGBClassifier\",0.9304282553729457],[\"XGBClassifier | AUC: 0.93\",\"XGBClassifier\",0.9304282553729457],[\"XGBClassifier | AUC: 0.93\",\"XGBClassifier\",0.9304282553729457],[\"XGBClassifier | AUC: 0.93\",\"XGBClassifier\",0.9304282553729457],[\"XGBClassifier | AUC: 0.93\",\"XGBClassifier\",0.9304282553729457],[\"XGBClassifier | AUC: 0.93\",\"XGBClassifier\",0.9304282553729457],[\"XGBClassifier | AUC: 0.93\",\"XGBClassifier\",0.9304282553729457],[\"XGBClassifier | AUC: 0.93\",\"XGBClassifier\",0.9304282553729457],[\"XGBClassifier | AUC: 0.93\",\"XGBClassifier\",0.9304282553729457],[\"XGBClassifier | AUC: 0.93\",\"XGBClassifier\",0.9304282553729457],[\"XGBClassifier | AUC: 0.93\",\"XGBClassifier\",0.9304282553729457],[\"XGBClassifier | AUC: 0.93\",\"XGBClassifier\",0.9304282553729457],[\"XGBClassifier | AUC: 0.93\",\"XGBClassifier\",0.9304282553729457],[\"XGBClassifier | AUC: 0.93\",\"XGBClassifier\",0.9304282553729457],[\"XGBClassifier | AUC: 0.93\",\"XGBClassifier\",0.9304282553729457],[\"XGBClassifier | AUC: 0.93\",\"XGBClassifier\",0.9304282553729457],[\"XGBClassifier | AUC: 0.93\",\"XGBClassifier\",0.9304282553729457],[\"XGBClassifier | AUC: 0.93\",\"XGBClassifier\",0.9304282553729457],[\"XGBClassifier | AUC: 0.93\",\"XGBClassifier\",0.9304282553729457],[\"XGBClassifier | AUC: 0.93\",\"XGBClassifier\",0.9304282553729457],[\"XGBClassifier | AUC: 0.93\",\"XGBClassifier\",0.9304282553729457],[\"XGBClassifier | AUC: 0.93\",\"XGBClassifier\",0.9304282553729457],[\"XGBClassifier | AUC: 0.93\",\"XGBClassifier\",0.9304282553729457],[\"XGBClassifier | AUC: 0.93\",\"XGBClassifier\",0.9304282553729457],[\"XGBClassifier | AUC: 0.93\",\"XGBClassifier\",0.9304282553729457],[\"XGBClassifier | AUC: 0.93\",\"XGBClassifier\",0.9304282553729457],[\"XGBClassifier | AUC: 0.93\",\"XGBClassifier\",0.9304282553729457],[\"XGBClassifier | AUC: 0.93\",\"XGBClassifier\",0.9304282553729457],[\"XGBClassifier | AUC: 0.93\",\"XGBClassifier\",0.9304282553729457],[\"XGBClassifier | AUC: 0.93\",\"XGBClassifier\",0.9304282553729457],[\"XGBClassifier | AUC: 0.93\",\"XGBClassifier\",0.9304282553729457],[\"XGBClassifier | AUC: 0.93\",\"XGBClassifier\",0.9304282553729457],[\"XGBClassifier | AUC: 0.93\",\"XGBClassifier\",0.9304282553729457],[\"XGBClassifier | AUC: 0.93\",\"XGBClassifier\",0.9304282553729457],[\"XGBClassifier | AUC: 0.93\",\"XGBClassifier\",0.9304282553729457],[\"XGBClassifier | AUC: 0.93\",\"XGBClassifier\",0.9304282553729457],[\"XGBClassifier | AUC: 0.93\",\"XGBClassifier\",0.9304282553729457]],\"hovertemplate\":\"False positive rate=%{x:.2f}<br>True positive rate=%{y:.2f}<br>Estimator=%{customdata[1]}<br>AUC=%{customdata[2]:.2f}<extra></extra>\",\"legendgroup\":\"XGBClassifier | AUC: 0.93\",\"line\":{\"color\":\"rgb(127, 60, 141)\",\"dash\":\"solid\"},\"marker\":{\"symbol\":\"circle\"},\"mode\":\"lines\",\"name\":\"XGBClassifier | AUC: 0.93\",\"orientation\":\"v\",\"showlegend\":true,\"x\":[0.0,0.0,0.0,0.0,0.008928571428571428,0.008928571428571428,0.017857142857142856,0.017857142857142856,0.026785714285714284,0.026785714285714284,0.044642857142857144,0.044642857142857144,0.0625,0.0625,0.08035714285714286,0.08035714285714286,0.10714285714285714,0.10714285714285714,0.11607142857142858,0.11607142857142858,0.125,0.125,0.16071428571428573,0.16071428571428573,0.16964285714285715,0.16964285714285715,0.21428571428571427,0.21428571428571427,0.22321428571428573,0.22321428571428573,0.23214285714285715,0.23214285714285715,0.24107142857142858,0.24107142857142858,0.25,0.25,0.26785714285714285,0.26785714285714285,0.39285714285714285,0.39285714285714285,0.45535714285714285,0.45535714285714285,0.4732142857142857,0.4732142857142857,0.48214285714285715,0.48214285714285715,0.5089285714285714,0.5089285714285714,0.5803571428571429,0.5803571428571429,0.6160714285714286,0.6160714285714286,0.8660714285714286,0.875,1.0],\"xaxis\":\"x\",\"y\":[0.0,0.008849557522123894,0.584070796460177,0.6017699115044248,0.6017699115044248,0.6106194690265486,0.6106194690265486,0.7168141592920354,0.7168141592920354,0.7610619469026548,0.7610619469026548,0.7699115044247787,0.7699115044247787,0.7787610619469026,0.7787610619469026,0.8053097345132744,0.8053097345132744,0.8141592920353983,0.8141592920353983,0.8230088495575221,0.8230088495575221,0.831858407079646,0.831858407079646,0.8407079646017699,0.8407079646017699,0.8584070796460177,0.8584070796460177,0.8672566371681416,0.8672566371681416,0.8761061946902655,0.8761061946902655,0.8849557522123894,0.8849557522123894,0.8938053097345132,0.8938053097345132,0.9203539823008849,0.9203539823008849,0.9292035398230089,0.9292035398230089,0.9380530973451328,0.9380530973451328,0.9469026548672567,0.9469026548672567,0.9557522123893806,0.9557522123893806,0.9646017699115044,0.9646017699115044,0.9734513274336283,0.9734513274336283,0.9823008849557522,0.9823008849557522,0.9911504424778761,0.9911504424778761,1.0,1.0],\"yaxis\":\"y\",\"type\":\"scatter\"},{\"customdata\":[[\"HistGradientBoostingClassifier | AUC: 0.92\",\"HistGradientBoostingClassifier\",0.9193663084702907],[\"HistGradientBoostingClassifier | AUC: 0.92\",\"HistGradientBoostingClassifier\",0.9193663084702907],[\"HistGradientBoostingClassifier | AUC: 0.92\",\"HistGradientBoostingClassifier\",0.9193663084702907],[\"HistGradientBoostingClassifier | AUC: 0.92\",\"HistGradientBoostingClassifier\",0.9193663084702907],[\"HistGradientBoostingClassifier | AUC: 0.92\",\"HistGradientBoostingClassifier\",0.9193663084702907],[\"HistGradientBoostingClassifier | AUC: 0.92\",\"HistGradientBoostingClassifier\",0.9193663084702907],[\"HistGradientBoostingClassifier | AUC: 0.92\",\"HistGradientBoostingClassifier\",0.9193663084702907],[\"HistGradientBoostingClassifier | AUC: 0.92\",\"HistGradientBoostingClassifier\",0.9193663084702907],[\"HistGradientBoostingClassifier | AUC: 0.92\",\"HistGradientBoostingClassifier\",0.9193663084702907],[\"HistGradientBoostingClassifier | AUC: 0.92\",\"HistGradientBoostingClassifier\",0.9193663084702907],[\"HistGradientBoostingClassifier | AUC: 0.92\",\"HistGradientBoostingClassifier\",0.9193663084702907],[\"HistGradientBoostingClassifier | AUC: 0.92\",\"HistGradientBoostingClassifier\",0.9193663084702907],[\"HistGradientBoostingClassifier | AUC: 0.92\",\"HistGradientBoostingClassifier\",0.9193663084702907],[\"HistGradientBoostingClassifier | AUC: 0.92\",\"HistGradientBoostingClassifier\",0.9193663084702907],[\"HistGradientBoostingClassifier | AUC: 0.92\",\"HistGradientBoostingClassifier\",0.9193663084702907],[\"HistGradientBoostingClassifier | AUC: 0.92\",\"HistGradientBoostingClassifier\",0.9193663084702907],[\"HistGradientBoostingClassifier | AUC: 0.92\",\"HistGradientBoostingClassifier\",0.9193663084702907],[\"HistGradientBoostingClassifier | AUC: 0.92\",\"HistGradientBoostingClassifier\",0.9193663084702907],[\"HistGradientBoostingClassifier | AUC: 0.92\",\"HistGradientBoostingClassifier\",0.9193663084702907],[\"HistGradientBoostingClassifier | AUC: 0.92\",\"HistGradientBoostingClassifier\",0.9193663084702907],[\"HistGradientBoostingClassifier | AUC: 0.92\",\"HistGradientBoostingClassifier\",0.9193663084702907],[\"HistGradientBoostingClassifier | AUC: 0.92\",\"HistGradientBoostingClassifier\",0.9193663084702907],[\"HistGradientBoostingClassifier | AUC: 0.92\",\"HistGradientBoostingClassifier\",0.9193663084702907],[\"HistGradientBoostingClassifier | AUC: 0.92\",\"HistGradientBoostingClassifier\",0.9193663084702907],[\"HistGradientBoostingClassifier | AUC: 0.92\",\"HistGradientBoostingClassifier\",0.9193663084702907],[\"HistGradientBoostingClassifier | AUC: 0.92\",\"HistGradientBoostingClassifier\",0.9193663084702907],[\"HistGradientBoostingClassifier | AUC: 0.92\",\"HistGradientBoostingClassifier\",0.9193663084702907],[\"HistGradientBoostingClassifier | AUC: 0.92\",\"HistGradientBoostingClassifier\",0.9193663084702907],[\"HistGradientBoostingClassifier | AUC: 0.92\",\"HistGradientBoostingClassifier\",0.9193663084702907],[\"HistGradientBoostingClassifier | AUC: 0.92\",\"HistGradientBoostingClassifier\",0.9193663084702907],[\"HistGradientBoostingClassifier | AUC: 0.92\",\"HistGradientBoostingClassifier\",0.9193663084702907],[\"HistGradientBoostingClassifier | AUC: 0.92\",\"HistGradientBoostingClassifier\",0.9193663084702907],[\"HistGradientBoostingClassifier | AUC: 0.92\",\"HistGradientBoostingClassifier\",0.9193663084702907],[\"HistGradientBoostingClassifier | AUC: 0.92\",\"HistGradientBoostingClassifier\",0.9193663084702907],[\"HistGradientBoostingClassifier | AUC: 0.92\",\"HistGradientBoostingClassifier\",0.9193663084702907],[\"HistGradientBoostingClassifier | AUC: 0.92\",\"HistGradientBoostingClassifier\",0.9193663084702907],[\"HistGradientBoostingClassifier | AUC: 0.92\",\"HistGradientBoostingClassifier\",0.9193663084702907],[\"HistGradientBoostingClassifier | AUC: 0.92\",\"HistGradientBoostingClassifier\",0.9193663084702907],[\"HistGradientBoostingClassifier | AUC: 0.92\",\"HistGradientBoostingClassifier\",0.9193663084702907],[\"HistGradientBoostingClassifier | AUC: 0.92\",\"HistGradientBoostingClassifier\",0.9193663084702907],[\"HistGradientBoostingClassifier | AUC: 0.92\",\"HistGradientBoostingClassifier\",0.9193663084702907],[\"HistGradientBoostingClassifier | AUC: 0.92\",\"HistGradientBoostingClassifier\",0.9193663084702907],[\"HistGradientBoostingClassifier | AUC: 0.92\",\"HistGradientBoostingClassifier\",0.9193663084702907],[\"HistGradientBoostingClassifier | AUC: 0.92\",\"HistGradientBoostingClassifier\",0.9193663084702907],[\"HistGradientBoostingClassifier | AUC: 0.92\",\"HistGradientBoostingClassifier\",0.9193663084702907],[\"HistGradientBoostingClassifier | AUC: 0.92\",\"HistGradientBoostingClassifier\",0.9193663084702907]],\"hovertemplate\":\"False positive rate=%{x:.2f}<br>True positive rate=%{y:.2f}<br>Estimator=%{customdata[1]}<br>AUC=%{customdata[2]:.2f}<extra></extra>\",\"legendgroup\":\"HistGradientBoostingClassifier | AUC: 0.92\",\"line\":{\"color\":\"rgb(17, 165, 121)\",\"dash\":\"solid\"},\"marker\":{\"symbol\":\"circle\"},\"mode\":\"lines\",\"name\":\"HistGradientBoostingClassifier | AUC: 0.92\",\"orientation\":\"v\",\"showlegend\":true,\"x\":[0.0,0.0,0.0,0.008928571428571428,0.008928571428571428,0.026785714285714284,0.026785714285714284,0.026785714285714284,0.03571428571428571,0.03571428571428571,0.044642857142857144,0.044642857142857144,0.07142857142857142,0.07142857142857142,0.08928571428571429,0.08928571428571429,0.10714285714285714,0.10714285714285714,0.16071428571428573,0.16071428571428573,0.16071428571428573,0.2857142857142857,0.2857142857142857,0.30357142857142855,0.30357142857142855,0.3125,0.3125,0.3482142857142857,0.3482142857142857,0.4375,0.4375,0.4732142857142857,0.4732142857142857,0.49107142857142855,0.49107142857142855,0.5,0.5,0.6517857142857143,0.6517857142857143,0.6696428571428571,0.6696428571428571,0.7946428571428571,0.8035714285714286,0.9196428571428571,0.9196428571428571,1.0],\"xaxis\":\"x\",\"y\":[0.0,0.008849557522123894,0.45132743362831856,0.45132743362831856,0.5398230088495575,0.5398230088495575,0.6902654867256637,0.7079646017699115,0.7079646017699115,0.7345132743362832,0.7345132743362832,0.7876106194690266,0.7876106194690266,0.8053097345132744,0.8053097345132744,0.831858407079646,0.831858407079646,0.8407079646017699,0.8407079646017699,0.8584070796460177,0.8672566371681416,0.8672566371681416,0.8849557522123894,0.8849557522123894,0.8938053097345132,0.8938053097345132,0.911504424778761,0.911504424778761,0.9292035398230089,0.9292035398230089,0.9380530973451328,0.9380530973451328,0.9469026548672567,0.9469026548672567,0.9557522123893806,0.9557522123893806,0.9646017699115044,0.9646017699115044,0.9734513274336283,0.9734513274336283,0.9823008849557522,0.9823008849557522,0.9911504424778761,0.9911504424778761,1.0,1.0],\"yaxis\":\"y\",\"type\":\"scatter\"},{\"customdata\":[[\"KNeighborsClassifier | AUC: 0.91\",\"KNeighborsClassifier\",0.906052465233881],[\"KNeighborsClassifier | AUC: 0.91\",\"KNeighborsClassifier\",0.906052465233881],[\"KNeighborsClassifier | AUC: 0.91\",\"KNeighborsClassifier\",0.906052465233881],[\"KNeighborsClassifier | AUC: 0.91\",\"KNeighborsClassifier\",0.906052465233881],[\"KNeighborsClassifier | AUC: 0.91\",\"KNeighborsClassifier\",0.906052465233881],[\"KNeighborsClassifier | AUC: 0.91\",\"KNeighborsClassifier\",0.906052465233881],[\"KNeighborsClassifier | AUC: 0.91\",\"KNeighborsClassifier\",0.906052465233881]],\"hovertemplate\":\"False positive rate=%{x:.2f}<br>True positive rate=%{y:.2f}<br>Estimator=%{customdata[1]}<br>AUC=%{customdata[2]:.2f}<extra></extra>\",\"legendgroup\":\"KNeighborsClassifier | AUC: 0.91\",\"line\":{\"color\":\"rgb(57, 105, 172)\",\"dash\":\"solid\"},\"marker\":{\"symbol\":\"circle\"},\"mode\":\"lines\",\"name\":\"KNeighborsClassifier | AUC: 0.91\",\"orientation\":\"v\",\"showlegend\":true,\"x\":[0.0,0.044642857142857144,0.13392857142857142,0.2767857142857143,0.4732142857142857,0.6339285714285714,1.0],\"xaxis\":\"x\",\"y\":[0.0,0.6194690265486725,0.8407079646017699,0.9292035398230089,0.9646017699115044,0.9646017699115044,1.0],\"yaxis\":\"y\",\"type\":\"scatter\"},{\"customdata\":[[\"LogisticRegression | AUC: 0.94\",\"LogisticRegression\",0.9362357774968394],[\"LogisticRegression | AUC: 0.94\",\"LogisticRegression\",0.9362357774968394],[\"LogisticRegression | AUC: 0.94\",\"LogisticRegression\",0.9362357774968394],[\"LogisticRegression | AUC: 0.94\",\"LogisticRegression\",0.9362357774968394],[\"LogisticRegression | AUC: 0.94\",\"LogisticRegression\",0.9362357774968394],[\"LogisticRegression | AUC: 0.94\",\"LogisticRegression\",0.9362357774968394],[\"LogisticRegression | AUC: 0.94\",\"LogisticRegression\",0.9362357774968394],[\"LogisticRegression | AUC: 0.94\",\"LogisticRegression\",0.9362357774968394],[\"LogisticRegression | AUC: 0.94\",\"LogisticRegression\",0.9362357774968394],[\"LogisticRegression | AUC: 0.94\",\"LogisticRegression\",0.9362357774968394],[\"LogisticRegression | AUC: 0.94\",\"LogisticRegression\",0.9362357774968394],[\"LogisticRegression | AUC: 0.94\",\"LogisticRegression\",0.9362357774968394],[\"LogisticRegression | AUC: 0.94\",\"LogisticRegression\",0.9362357774968394],[\"LogisticRegression | AUC: 0.94\",\"LogisticRegression\",0.9362357774968394],[\"LogisticRegression | AUC: 0.94\",\"LogisticRegression\",0.9362357774968394],[\"LogisticRegression | AUC: 0.94\",\"LogisticRegression\",0.9362357774968394],[\"LogisticRegression | AUC: 0.94\",\"LogisticRegression\",0.9362357774968394],[\"LogisticRegression | AUC: 0.94\",\"LogisticRegression\",0.9362357774968394],[\"LogisticRegression | AUC: 0.94\",\"LogisticRegression\",0.9362357774968394],[\"LogisticRegression | AUC: 0.94\",\"LogisticRegression\",0.9362357774968394],[\"LogisticRegression | AUC: 0.94\",\"LogisticRegression\",0.9362357774968394],[\"LogisticRegression | AUC: 0.94\",\"LogisticRegression\",0.9362357774968394],[\"LogisticRegression | AUC: 0.94\",\"LogisticRegression\",0.9362357774968394],[\"LogisticRegression | AUC: 0.94\",\"LogisticRegression\",0.9362357774968394],[\"LogisticRegression | AUC: 0.94\",\"LogisticRegression\",0.9362357774968394],[\"LogisticRegression | AUC: 0.94\",\"LogisticRegression\",0.9362357774968394],[\"LogisticRegression | AUC: 0.94\",\"LogisticRegression\",0.9362357774968394],[\"LogisticRegression | AUC: 0.94\",\"LogisticRegression\",0.9362357774968394],[\"LogisticRegression | AUC: 0.94\",\"LogisticRegression\",0.9362357774968394],[\"LogisticRegression | AUC: 0.94\",\"LogisticRegression\",0.9362357774968394],[\"LogisticRegression | AUC: 0.94\",\"LogisticRegression\",0.9362357774968394],[\"LogisticRegression | AUC: 0.94\",\"LogisticRegression\",0.9362357774968394],[\"LogisticRegression | AUC: 0.94\",\"LogisticRegression\",0.9362357774968394],[\"LogisticRegression | AUC: 0.94\",\"LogisticRegression\",0.9362357774968394],[\"LogisticRegression | AUC: 0.94\",\"LogisticRegression\",0.9362357774968394],[\"LogisticRegression | AUC: 0.94\",\"LogisticRegression\",0.9362357774968394],[\"LogisticRegression | AUC: 0.94\",\"LogisticRegression\",0.9362357774968394],[\"LogisticRegression | AUC: 0.94\",\"LogisticRegression\",0.9362357774968394],[\"LogisticRegression | AUC: 0.94\",\"LogisticRegression\",0.9362357774968394],[\"LogisticRegression | AUC: 0.94\",\"LogisticRegression\",0.9362357774968394],[\"LogisticRegression | AUC: 0.94\",\"LogisticRegression\",0.9362357774968394],[\"LogisticRegression | AUC: 0.94\",\"LogisticRegression\",0.9362357774968394],[\"LogisticRegression | AUC: 0.94\",\"LogisticRegression\",0.9362357774968394],[\"LogisticRegression | AUC: 0.94\",\"LogisticRegression\",0.9362357774968394],[\"LogisticRegression | AUC: 0.94\",\"LogisticRegression\",0.9362357774968394],[\"LogisticRegression | AUC: 0.94\",\"LogisticRegression\",0.9362357774968394],[\"LogisticRegression | AUC: 0.94\",\"LogisticRegression\",0.9362357774968394],[\"LogisticRegression | AUC: 0.94\",\"LogisticRegression\",0.9362357774968394]],\"hovertemplate\":\"False positive rate=%{x:.2f}<br>True positive rate=%{y:.2f}<br>Estimator=%{customdata[1]}<br>AUC=%{customdata[2]:.2f}<extra></extra>\",\"legendgroup\":\"LogisticRegression | AUC: 0.94\",\"line\":{\"color\":\"rgb(242, 183, 1)\",\"dash\":\"solid\"},\"marker\":{\"symbol\":\"circle\"},\"mode\":\"lines\",\"name\":\"LogisticRegression | AUC: 0.94\",\"orientation\":\"v\",\"showlegend\":true,\"x\":[0.0,0.0,0.0,0.008928571428571428,0.008928571428571428,0.017857142857142856,0.017857142857142856,0.03571428571428571,0.03571428571428571,0.044642857142857144,0.044642857142857144,0.0625,0.0625,0.08035714285714286,0.08035714285714286,0.09821428571428571,0.09821428571428571,0.10714285714285714,0.10714285714285714,0.125,0.125,0.13392857142857142,0.13392857142857142,0.16964285714285715,0.16964285714285715,0.20535714285714285,0.20535714285714285,0.21428571428571427,0.21428571428571427,0.25,0.25,0.2857142857142857,0.2857142857142857,0.375,0.375,0.38392857142857145,0.38392857142857145,0.4017857142857143,0.4017857142857143,0.4642857142857143,0.4642857142857143,0.6071428571428571,0.6071428571428571,0.6696428571428571,0.6696428571428571,0.9821428571428571,0.9821428571428571,1.0],\"xaxis\":\"x\",\"y\":[0.0,0.008849557522123894,0.6814159292035398,0.6814159292035398,0.7079646017699115,0.7079646017699115,0.7168141592920354,0.7168141592920354,0.7699115044247787,0.7699115044247787,0.7964601769911505,0.7964601769911505,0.8053097345132744,0.8053097345132744,0.8141592920353983,0.8141592920353983,0.8230088495575221,0.8230088495575221,0.831858407079646,0.831858407079646,0.8495575221238938,0.8495575221238938,0.8672566371681416,0.8672566371681416,0.8761061946902655,0.8761061946902655,0.8849557522123894,0.8849557522123894,0.8938053097345132,0.8938053097345132,0.911504424778761,0.911504424778761,0.9292035398230089,0.9292035398230089,0.9380530973451328,0.9380530973451328,0.9469026548672567,0.9469026548672567,0.9646017699115044,0.9646017699115044,0.9734513274336283,0.9734513274336283,0.9823008849557522,0.9823008849557522,0.9911504424778761,0.9911504424778761,1.0,1.0],\"yaxis\":\"y\",\"type\":\"scatter\"},{\"customdata\":[[\"RandomForestClassifier | AUC: 0.94\",\"RandomForestClassifier\",0.9395938685208596],[\"RandomForestClassifier | AUC: 0.94\",\"RandomForestClassifier\",0.9395938685208596],[\"RandomForestClassifier | AUC: 0.94\",\"RandomForestClassifier\",0.9395938685208596],[\"RandomForestClassifier | AUC: 0.94\",\"RandomForestClassifier\",0.9395938685208596],[\"RandomForestClassifier | AUC: 0.94\",\"RandomForestClassifier\",0.9395938685208596],[\"RandomForestClassifier | AUC: 0.94\",\"RandomForestClassifier\",0.9395938685208596],[\"RandomForestClassifier | AUC: 0.94\",\"RandomForestClassifier\",0.9395938685208596],[\"RandomForestClassifier | AUC: 0.94\",\"RandomForestClassifier\",0.9395938685208596],[\"RandomForestClassifier | AUC: 0.94\",\"RandomForestClassifier\",0.9395938685208596],[\"RandomForestClassifier | AUC: 0.94\",\"RandomForestClassifier\",0.9395938685208596],[\"RandomForestClassifier | AUC: 0.94\",\"RandomForestClassifier\",0.9395938685208596],[\"RandomForestClassifier | AUC: 0.94\",\"RandomForestClassifier\",0.9395938685208596],[\"RandomForestClassifier | AUC: 0.94\",\"RandomForestClassifier\",0.9395938685208596],[\"RandomForestClassifier | AUC: 0.94\",\"RandomForestClassifier\",0.9395938685208596],[\"RandomForestClassifier | AUC: 0.94\",\"RandomForestClassifier\",0.9395938685208596],[\"RandomForestClassifier | AUC: 0.94\",\"RandomForestClassifier\",0.9395938685208596],[\"RandomForestClassifier | AUC: 0.94\",\"RandomForestClassifier\",0.9395938685208596],[\"RandomForestClassifier | AUC: 0.94\",\"RandomForestClassifier\",0.9395938685208596],[\"RandomForestClassifier | AUC: 0.94\",\"RandomForestClassifier\",0.9395938685208596],[\"RandomForestClassifier | AUC: 0.94\",\"RandomForestClassifier\",0.9395938685208596],[\"RandomForestClassifier | AUC: 0.94\",\"RandomForestClassifier\",0.9395938685208596],[\"RandomForestClassifier | AUC: 0.94\",\"RandomForestClassifier\",0.9395938685208596],[\"RandomForestClassifier | AUC: 0.94\",\"RandomForestClassifier\",0.9395938685208596],[\"RandomForestClassifier | AUC: 0.94\",\"RandomForestClassifier\",0.9395938685208596],[\"RandomForestClassifier | AUC: 0.94\",\"RandomForestClassifier\",0.9395938685208596],[\"RandomForestClassifier | AUC: 0.94\",\"RandomForestClassifier\",0.9395938685208596],[\"RandomForestClassifier | AUC: 0.94\",\"RandomForestClassifier\",0.9395938685208596],[\"RandomForestClassifier | AUC: 0.94\",\"RandomForestClassifier\",0.9395938685208596],[\"RandomForestClassifier | AUC: 0.94\",\"RandomForestClassifier\",0.9395938685208596],[\"RandomForestClassifier | AUC: 0.94\",\"RandomForestClassifier\",0.9395938685208596],[\"RandomForestClassifier | AUC: 0.94\",\"RandomForestClassifier\",0.9395938685208596],[\"RandomForestClassifier | AUC: 0.94\",\"RandomForestClassifier\",0.9395938685208596],[\"RandomForestClassifier | AUC: 0.94\",\"RandomForestClassifier\",0.9395938685208596],[\"RandomForestClassifier | AUC: 0.94\",\"RandomForestClassifier\",0.9395938685208596],[\"RandomForestClassifier | AUC: 0.94\",\"RandomForestClassifier\",0.9395938685208596],[\"RandomForestClassifier | AUC: 0.94\",\"RandomForestClassifier\",0.9395938685208596],[\"RandomForestClassifier | AUC: 0.94\",\"RandomForestClassifier\",0.9395938685208596],[\"RandomForestClassifier | AUC: 0.94\",\"RandomForestClassifier\",0.9395938685208596],[\"RandomForestClassifier | AUC: 0.94\",\"RandomForestClassifier\",0.9395938685208596],[\"RandomForestClassifier | AUC: 0.94\",\"RandomForestClassifier\",0.9395938685208596],[\"RandomForestClassifier | AUC: 0.94\",\"RandomForestClassifier\",0.9395938685208596],[\"RandomForestClassifier | AUC: 0.94\",\"RandomForestClassifier\",0.9395938685208596],[\"RandomForestClassifier | AUC: 0.94\",\"RandomForestClassifier\",0.9395938685208596],[\"RandomForestClassifier | AUC: 0.94\",\"RandomForestClassifier\",0.9395938685208596],[\"RandomForestClassifier | AUC: 0.94\",\"RandomForestClassifier\",0.9395938685208596],[\"RandomForestClassifier | AUC: 0.94\",\"RandomForestClassifier\",0.9395938685208596],[\"RandomForestClassifier | AUC: 0.94\",\"RandomForestClassifier\",0.9395938685208596],[\"RandomForestClassifier | AUC: 0.94\",\"RandomForestClassifier\",0.9395938685208596],[\"RandomForestClassifier | AUC: 0.94\",\"RandomForestClassifier\",0.9395938685208596],[\"RandomForestClassifier | AUC: 0.94\",\"RandomForestClassifier\",0.9395938685208596],[\"RandomForestClassifier | AUC: 0.94\",\"RandomForestClassifier\",0.9395938685208596],[\"RandomForestClassifier | AUC: 0.94\",\"RandomForestClassifier\",0.9395938685208596],[\"RandomForestClassifier | AUC: 0.94\",\"RandomForestClassifier\",0.9395938685208596],[\"RandomForestClassifier | AUC: 0.94\",\"RandomForestClassifier\",0.9395938685208596],[\"RandomForestClassifier | AUC: 0.94\",\"RandomForestClassifier\",0.9395938685208596],[\"RandomForestClassifier | AUC: 0.94\",\"RandomForestClassifier\",0.9395938685208596],[\"RandomForestClassifier | AUC: 0.94\",\"RandomForestClassifier\",0.9395938685208596],[\"RandomForestClassifier | AUC: 0.94\",\"RandomForestClassifier\",0.9395938685208596],[\"RandomForestClassifier | AUC: 0.94\",\"RandomForestClassifier\",0.9395938685208596],[\"RandomForestClassifier | AUC: 0.94\",\"RandomForestClassifier\",0.9395938685208596],[\"RandomForestClassifier | AUC: 0.94\",\"RandomForestClassifier\",0.9395938685208596],[\"RandomForestClassifier | AUC: 0.94\",\"RandomForestClassifier\",0.9395938685208596],[\"RandomForestClassifier | AUC: 0.94\",\"RandomForestClassifier\",0.9395938685208596],[\"RandomForestClassifier | AUC: 0.94\",\"RandomForestClassifier\",0.9395938685208596],[\"RandomForestClassifier | AUC: 0.94\",\"RandomForestClassifier\",0.9395938685208596],[\"RandomForestClassifier | AUC: 0.94\",\"RandomForestClassifier\",0.9395938685208596],[\"RandomForestClassifier | AUC: 0.94\",\"RandomForestClassifier\",0.9395938685208596],[\"RandomForestClassifier | AUC: 0.94\",\"RandomForestClassifier\",0.9395938685208596],[\"RandomForestClassifier | AUC: 0.94\",\"RandomForestClassifier\",0.9395938685208596],[\"RandomForestClassifier | AUC: 0.94\",\"RandomForestClassifier\",0.9395938685208596],[\"RandomForestClassifier | AUC: 0.94\",\"RandomForestClassifier\",0.9395938685208596],[\"RandomForestClassifier | AUC: 0.94\",\"RandomForestClassifier\",0.9395938685208596]],\"hovertemplate\":\"False positive rate=%{x:.2f}<br>True positive rate=%{y:.2f}<br>Estimator=%{customdata[1]}<br>AUC=%{customdata[2]:.2f}<extra></extra>\",\"legendgroup\":\"RandomForestClassifier | AUC: 0.94\",\"line\":{\"color\":\"rgb(231, 63, 116)\",\"dash\":\"solid\"},\"marker\":{\"symbol\":\"circle\"},\"mode\":\"lines\",\"name\":\"RandomForestClassifier | AUC: 0.94\",\"orientation\":\"v\",\"showlegend\":true,\"x\":[0.0,0.0,0.0,0.0,0.0,0.0,0.0,0.0,0.0,0.0,0.0,0.0,0.0,0.0,0.0,0.008928571428571428,0.008928571428571428,0.017857142857142856,0.017857142857142856,0.017857142857142856,0.017857142857142856,0.017857142857142856,0.017857142857142856,0.026785714285714284,0.026785714285714284,0.03571428571428571,0.05357142857142857,0.05357142857142857,0.0625,0.0625,0.08035714285714286,0.08035714285714286,0.09821428571428571,0.09821428571428571,0.11607142857142858,0.125,0.14285714285714285,0.16071428571428573,0.1875,0.22321428571428573,0.23214285714285715,0.24107142857142858,0.2767857142857143,0.2767857142857143,0.29464285714285715,0.29464285714285715,0.3125,0.33035714285714285,0.3392857142857143,0.35714285714285715,0.4017857142857143,0.4375,0.44642857142857145,0.4642857142857143,0.49107142857142855,0.5,0.5267857142857143,0.5446428571428571,0.5625,0.5982142857142857,0.625,0.6428571428571429,0.6696428571428571,0.6875,0.7321428571428571,0.7678571428571429,0.8214285714285714,0.875,0.9017857142857143,0.9375,0.9910714285714286,1.0],\"xaxis\":\"x\",\"y\":[0.0,0.02654867256637168,0.061946902654867256,0.10619469026548672,0.1592920353982301,0.22123893805309736,0.23893805309734514,0.3185840707964602,0.3805309734513274,0.4247787610619469,0.4778761061946903,0.5221238938053098,0.5398230088495575,0.5575221238938053,0.5752212389380531,0.584070796460177,0.6194690265486725,0.6460176991150443,0.6637168141592921,0.6991150442477876,0.7256637168141593,0.7433628318584071,0.7699115044247787,0.7787610619469026,0.7876106194690266,0.7876106194690266,0.7964601769911505,0.8053097345132744,0.8141592920353983,0.8230088495575221,0.8407079646017699,0.8495575221238938,0.8584070796460177,0.8672566371681416,0.8761061946902655,0.8849557522123894,0.8849557522123894,0.8849557522123894,0.8938053097345132,0.8938053097345132,0.9026548672566371,0.9026548672566371,0.9026548672566371,0.9203539823008849,0.9380530973451328,0.9469026548672567,0.9469026548672567,0.9557522123893806,0.9557522123893806,0.9557522123893806,0.9557522123893806,0.9557522123893806,0.9557522123893806,0.9557522123893806,0.9646017699115044,0.9646017699115044,0.9646017699115044,0.9646017699115044,0.9734513274336283,0.9734513274336283,0.9734513274336283,0.9734513274336283,0.9734513274336283,0.9823008849557522,0.9823008849557522,0.9823008849557522,0.9823008849557522,0.9911504424778761,1.0,1.0,1.0,1.0],\"yaxis\":\"y\",\"type\":\"scatter\"},{\"customdata\":[[\"DecisionTreeClassifier | AUC: 0.82\",\"DecisionTreeClassifier\",0.8178729456384324],[\"DecisionTreeClassifier | AUC: 0.82\",\"DecisionTreeClassifier\",0.8178729456384324],[\"DecisionTreeClassifier | AUC: 0.82\",\"DecisionTreeClassifier\",0.8178729456384324]],\"hovertemplate\":\"False positive rate=%{x:.2f}<br>True positive rate=%{y:.2f}<br>Estimator=%{customdata[1]}<br>AUC=%{customdata[2]:.2f}<extra></extra>\",\"legendgroup\":\"DecisionTreeClassifier | AUC: 0.82\",\"line\":{\"color\":\"rgb(128, 186, 90)\",\"dash\":\"solid\"},\"marker\":{\"symbol\":\"circle\"},\"mode\":\"lines\",\"name\":\"DecisionTreeClassifier | AUC: 0.82\",\"orientation\":\"v\",\"showlegend\":true,\"x\":[0.0,0.16071428571428573,1.0],\"xaxis\":\"x\",\"y\":[0.0,0.7964601769911505,1.0],\"yaxis\":\"y\",\"type\":\"scatter\"}],                        {\"template\":{\"data\":{\"bar\":[{\"error_x\":{\"color\":\"#2a3f5f\"},\"error_y\":{\"color\":\"#2a3f5f\"},\"marker\":{\"line\":{\"color\":\"white\",\"width\":0.5},\"pattern\":{\"fillmode\":\"overlay\",\"size\":10,\"solidity\":0.2}},\"type\":\"bar\"}],\"barpolar\":[{\"marker\":{\"line\":{\"color\":\"white\",\"width\":0.5},\"pattern\":{\"fillmode\":\"overlay\",\"size\":10,\"solidity\":0.2}},\"type\":\"barpolar\"}],\"carpet\":[{\"aaxis\":{\"endlinecolor\":\"#2a3f5f\",\"gridcolor\":\"#C8D4E3\",\"linecolor\":\"#C8D4E3\",\"minorgridcolor\":\"#C8D4E3\",\"startlinecolor\":\"#2a3f5f\"},\"baxis\":{\"endlinecolor\":\"#2a3f5f\",\"gridcolor\":\"#C8D4E3\",\"linecolor\":\"#C8D4E3\",\"minorgridcolor\":\"#C8D4E3\",\"startlinecolor\":\"#2a3f5f\"},\"type\":\"carpet\"}],\"choropleth\":[{\"colorbar\":{\"outlinewidth\":0,\"ticks\":\"\"},\"type\":\"choropleth\"}],\"contour\":[{\"colorbar\":{\"outlinewidth\":0,\"ticks\":\"\"},\"colorscale\":[[0.0,\"#0d0887\"],[0.1111111111111111,\"#46039f\"],[0.2222222222222222,\"#7201a8\"],[0.3333333333333333,\"#9c179e\"],[0.4444444444444444,\"#bd3786\"],[0.5555555555555556,\"#d8576b\"],[0.6666666666666666,\"#ed7953\"],[0.7777777777777778,\"#fb9f3a\"],[0.8888888888888888,\"#fdca26\"],[1.0,\"#f0f921\"]],\"type\":\"contour\"}],\"contourcarpet\":[{\"colorbar\":{\"outlinewidth\":0,\"ticks\":\"\"},\"type\":\"contourcarpet\"}],\"heatmap\":[{\"colorbar\":{\"outlinewidth\":0,\"ticks\":\"\"},\"colorscale\":[[0.0,\"#0d0887\"],[0.1111111111111111,\"#46039f\"],[0.2222222222222222,\"#7201a8\"],[0.3333333333333333,\"#9c179e\"],[0.4444444444444444,\"#bd3786\"],[0.5555555555555556,\"#d8576b\"],[0.6666666666666666,\"#ed7953\"],[0.7777777777777778,\"#fb9f3a\"],[0.8888888888888888,\"#fdca26\"],[1.0,\"#f0f921\"]],\"type\":\"heatmap\"}],\"heatmapgl\":[{\"colorbar\":{\"outlinewidth\":0,\"ticks\":\"\"},\"colorscale\":[[0.0,\"#0d0887\"],[0.1111111111111111,\"#46039f\"],[0.2222222222222222,\"#7201a8\"],[0.3333333333333333,\"#9c179e\"],[0.4444444444444444,\"#bd3786\"],[0.5555555555555556,\"#d8576b\"],[0.6666666666666666,\"#ed7953\"],[0.7777777777777778,\"#fb9f3a\"],[0.8888888888888888,\"#fdca26\"],[1.0,\"#f0f921\"]],\"type\":\"heatmapgl\"}],\"histogram\":[{\"marker\":{\"pattern\":{\"fillmode\":\"overlay\",\"size\":10,\"solidity\":0.2}},\"type\":\"histogram\"}],\"histogram2d\":[{\"colorbar\":{\"outlinewidth\":0,\"ticks\":\"\"},\"colorscale\":[[0.0,\"#0d0887\"],[0.1111111111111111,\"#46039f\"],[0.2222222222222222,\"#7201a8\"],[0.3333333333333333,\"#9c179e\"],[0.4444444444444444,\"#bd3786\"],[0.5555555555555556,\"#d8576b\"],[0.6666666666666666,\"#ed7953\"],[0.7777777777777778,\"#fb9f3a\"],[0.8888888888888888,\"#fdca26\"],[1.0,\"#f0f921\"]],\"type\":\"histogram2d\"}],\"histogram2dcontour\":[{\"colorbar\":{\"outlinewidth\":0,\"ticks\":\"\"},\"colorscale\":[[0.0,\"#0d0887\"],[0.1111111111111111,\"#46039f\"],[0.2222222222222222,\"#7201a8\"],[0.3333333333333333,\"#9c179e\"],[0.4444444444444444,\"#bd3786\"],[0.5555555555555556,\"#d8576b\"],[0.6666666666666666,\"#ed7953\"],[0.7777777777777778,\"#fb9f3a\"],[0.8888888888888888,\"#fdca26\"],[1.0,\"#f0f921\"]],\"type\":\"histogram2dcontour\"}],\"mesh3d\":[{\"colorbar\":{\"outlinewidth\":0,\"ticks\":\"\"},\"type\":\"mesh3d\"}],\"parcoords\":[{\"line\":{\"colorbar\":{\"outlinewidth\":0,\"ticks\":\"\"}},\"type\":\"parcoords\"}],\"pie\":[{\"automargin\":true,\"type\":\"pie\"}],\"scatter\":[{\"marker\":{\"colorbar\":{\"outlinewidth\":0,\"ticks\":\"\"}},\"type\":\"scatter\"}],\"scatter3d\":[{\"line\":{\"colorbar\":{\"outlinewidth\":0,\"ticks\":\"\"}},\"marker\":{\"colorbar\":{\"outlinewidth\":0,\"ticks\":\"\"}},\"type\":\"scatter3d\"}],\"scattercarpet\":[{\"marker\":{\"colorbar\":{\"outlinewidth\":0,\"ticks\":\"\"}},\"type\":\"scattercarpet\"}],\"scattergeo\":[{\"marker\":{\"colorbar\":{\"outlinewidth\":0,\"ticks\":\"\"}},\"type\":\"scattergeo\"}],\"scattergl\":[{\"marker\":{\"colorbar\":{\"outlinewidth\":0,\"ticks\":\"\"}},\"type\":\"scattergl\"}],\"scattermapbox\":[{\"marker\":{\"colorbar\":{\"outlinewidth\":0,\"ticks\":\"\"}},\"type\":\"scattermapbox\"}],\"scatterpolar\":[{\"marker\":{\"colorbar\":{\"outlinewidth\":0,\"ticks\":\"\"}},\"type\":\"scatterpolar\"}],\"scatterpolargl\":[{\"marker\":{\"colorbar\":{\"outlinewidth\":0,\"ticks\":\"\"}},\"type\":\"scatterpolargl\"}],\"scatterternary\":[{\"marker\":{\"colorbar\":{\"outlinewidth\":0,\"ticks\":\"\"}},\"type\":\"scatterternary\"}],\"surface\":[{\"colorbar\":{\"outlinewidth\":0,\"ticks\":\"\"},\"colorscale\":[[0.0,\"#0d0887\"],[0.1111111111111111,\"#46039f\"],[0.2222222222222222,\"#7201a8\"],[0.3333333333333333,\"#9c179e\"],[0.4444444444444444,\"#bd3786\"],[0.5555555555555556,\"#d8576b\"],[0.6666666666666666,\"#ed7953\"],[0.7777777777777778,\"#fb9f3a\"],[0.8888888888888888,\"#fdca26\"],[1.0,\"#f0f921\"]],\"type\":\"surface\"}],\"table\":[{\"cells\":{\"fill\":{\"color\":\"#EBF0F8\"},\"line\":{\"color\":\"white\"}},\"header\":{\"fill\":{\"color\":\"#C8D4E3\"},\"line\":{\"color\":\"white\"}},\"type\":\"table\"}]},\"layout\":{\"annotationdefaults\":{\"arrowcolor\":\"#2a3f5f\",\"arrowhead\":0,\"arrowwidth\":1},\"autotypenumbers\":\"strict\",\"coloraxis\":{\"colorbar\":{\"outlinewidth\":0,\"ticks\":\"\"}},\"colorscale\":{\"diverging\":[[0,\"#8e0152\"],[0.1,\"#c51b7d\"],[0.2,\"#de77ae\"],[0.3,\"#f1b6da\"],[0.4,\"#fde0ef\"],[0.5,\"#f7f7f7\"],[0.6,\"#e6f5d0\"],[0.7,\"#b8e186\"],[0.8,\"#7fbc41\"],[0.9,\"#4d9221\"],[1,\"#276419\"]],\"sequential\":[[0.0,\"#0d0887\"],[0.1111111111111111,\"#46039f\"],[0.2222222222222222,\"#7201a8\"],[0.3333333333333333,\"#9c179e\"],[0.4444444444444444,\"#bd3786\"],[0.5555555555555556,\"#d8576b\"],[0.6666666666666666,\"#ed7953\"],[0.7777777777777778,\"#fb9f3a\"],[0.8888888888888888,\"#fdca26\"],[1.0,\"#f0f921\"]],\"sequentialminus\":[[0.0,\"#0d0887\"],[0.1111111111111111,\"#46039f\"],[0.2222222222222222,\"#7201a8\"],[0.3333333333333333,\"#9c179e\"],[0.4444444444444444,\"#bd3786\"],[0.5555555555555556,\"#d8576b\"],[0.6666666666666666,\"#ed7953\"],[0.7777777777777778,\"#fb9f3a\"],[0.8888888888888888,\"#fdca26\"],[1.0,\"#f0f921\"]]},\"colorway\":[\"#636efa\",\"#EF553B\",\"#00cc96\",\"#ab63fa\",\"#FFA15A\",\"#19d3f3\",\"#FF6692\",\"#B6E880\",\"#FF97FF\",\"#FECB52\"],\"font\":{\"color\":\"#8C8C8C\"},\"geo\":{\"bgcolor\":\"white\",\"lakecolor\":\"white\",\"landcolor\":\"white\",\"showlakes\":true,\"showland\":true,\"subunitcolor\":\"#C8D4E3\"},\"hoverlabel\":{\"align\":\"left\"},\"hovermode\":\"closest\",\"mapbox\":{\"style\":\"light\"},\"paper_bgcolor\":\"white\",\"plot_bgcolor\":\"white\",\"polar\":{\"angularaxis\":{\"gridcolor\":\"#EBF0F8\",\"linecolor\":\"#EBF0F8\",\"ticks\":\"\"},\"bgcolor\":\"white\",\"radialaxis\":{\"gridcolor\":\"#EBF0F8\",\"linecolor\":\"#EBF0F8\",\"ticks\":\"\"}},\"scene\":{\"xaxis\":{\"backgroundcolor\":\"white\",\"gridcolor\":\"#DFE8F3\",\"gridwidth\":2,\"linecolor\":\"#EBF0F8\",\"showbackground\":true,\"ticks\":\"\",\"zerolinecolor\":\"#EBF0F8\"},\"yaxis\":{\"backgroundcolor\":\"white\",\"gridcolor\":\"#DFE8F3\",\"gridwidth\":2,\"linecolor\":\"#EBF0F8\",\"showbackground\":true,\"ticks\":\"\",\"zerolinecolor\":\"#EBF0F8\"},\"zaxis\":{\"backgroundcolor\":\"white\",\"gridcolor\":\"#DFE8F3\",\"gridwidth\":2,\"linecolor\":\"#EBF0F8\",\"showbackground\":true,\"ticks\":\"\",\"zerolinecolor\":\"#EBF0F8\"}},\"shapedefaults\":{\"line\":{\"color\":\"#2a3f5f\"}},\"ternary\":{\"aaxis\":{\"gridcolor\":\"#DFE8F3\",\"linecolor\":\"#A2B1C6\",\"ticks\":\"\"},\"baxis\":{\"gridcolor\":\"#DFE8F3\",\"linecolor\":\"#A2B1C6\",\"ticks\":\"\"},\"bgcolor\":\"white\",\"caxis\":{\"gridcolor\":\"#DFE8F3\",\"linecolor\":\"#A2B1C6\",\"ticks\":\"\"}},\"title\":{\"x\":0.05},\"xaxis\":{\"automargin\":true,\"gridcolor\":\"#EBF0F8\",\"linecolor\":\"#EBF0F8\",\"ticks\":\"\",\"title\":{\"standoff\":15},\"zerolinecolor\":\"#EBF0F8\",\"zerolinewidth\":2},\"yaxis\":{\"automargin\":true,\"gridcolor\":\"#EBF0F8\",\"linecolor\":\"#EBF0F8\",\"ticks\":\"\",\"title\":{\"standoff\":15},\"zerolinecolor\":\"#EBF0F8\",\"zerolinewidth\":2},\"margin\":{\"l\":20,\"r\":20},\"legend\":{\"yanchor\":\"top\",\"y\":-0.2,\"xanchor\":\"left\",\"x\":0.0,\"orientation\":\"h\"}}},\"xaxis\":{\"anchor\":\"y\",\"domain\":[0.0,1.0],\"title\":{\"text\":\"False positive rate\"}},\"yaxis\":{\"anchor\":\"x\",\"domain\":[0.0,1.0],\"title\":{\"text\":\"True positive rate\"}},\"legend\":{\"title\":{\"text\":\"Estimator_AUC\"},\"tracegroupgap\":0},\"title\":{\"text\":\"ROC curve with cross-validated predictions\"},\"shapes\":[{\"line\":{\"dash\":\"dash\"},\"type\":\"line\",\"x0\":0,\"x1\":1,\"xref\":\"x\",\"y0\":0,\"y1\":1,\"yref\":\"y\"}]},                        {\"responsive\": true}                    ).then(function(){\n",
       "                            \n",
       "var gd = document.getElementById('796a86ce-28f7-48b7-b8ad-88d905165c6c');\n",
       "var x = new MutationObserver(function (mutations, observer) {{\n",
       "        var display = window.getComputedStyle(gd).display;\n",
       "        if (!display || display === 'none') {{\n",
       "            console.log([gd, 'removed!']);\n",
       "            Plotly.purge(gd);\n",
       "            observer.disconnect();\n",
       "        }}\n",
       "}});\n",
       "\n",
       "// Listen for the removal of the full notebook cells\n",
       "var notebookContainer = gd.closest('#notebook-container');\n",
       "if (notebookContainer) {{\n",
       "    x.observe(notebookContainer, {childList: true});\n",
       "}}\n",
       "\n",
       "// Listen for the clearing of the current output cell\n",
       "var outputEl = gd.closest('.output');\n",
       "if (outputEl) {{\n",
       "    x.observe(outputEl, {childList: true});\n",
       "}}\n",
       "\n",
       "                        })                };                });            </script>        </div>"
      ]
     },
     "metadata": {},
     "output_type": "display_data"
    }
   ],
   "source": [
    "candidates = [\"XGBClassifier\", \"HistGradientBoostingClassifier\",\"KNeighborsClassifier\",\n",
    "              \"LogisticRegression\", \"RandomForestClassifier\",\"DecisionTreeClassifier\"]\n",
    "pnd.predict_proba(estimator_names=candidates)\n",
    "pnd.plot.roc_curve(estimator_names=candidates)"
   ]
  },
  {
   "cell_type": "code",
   "execution_count": 34,
   "id": "ccd88edf",
   "metadata": {},
   "outputs": [
    {
     "data": {
      "application/vnd.plotly.v1+json": {
       "config": {
        "plotlyServerURL": "https://plot.ly"
       },
       "data": [
        {
         "alignmentgroup": "True",
         "hovertemplate": "Importance=%{x}<br>Feature=%{y}<extra></extra>",
         "legendgroup": "",
         "marker": {
          "color": "rgb(127, 60, 141)",
          "pattern": {
           "shape": ""
          }
         },
         "name": "",
         "offsetgroup": "",
         "orientation": "h",
         "showlegend": false,
         "textposition": "auto",
         "type": "bar",
         "x": [
          0.016205533596838018,
          0.008794466403162105,
          0.13211462450592895,
          0.004841897233201653,
          0.0026679841897234045,
          0.003853754940711518,
          0.0008893280632411682,
          0.00039525691699608955,
          0.0070158102766798795,
          0.002173913043478326,
          0.02905138339920953,
          0.0027667984189723716,
          0.02401185770750992,
          0.0006916996047430901,
          -0.000988142292490024,
          0.02974308300395262,
          0.03577075098814233,
          0.0025691699604743377,
          7.771561172376095e-17,
          -9.881422924895578e-05,
          -0.00019762845849793375
         ],
         "xaxis": "x",
         "y": [
          "Residence_type_Rural",
          "Residence_type_Urban",
          "age",
          "avg_glucose_level",
          "bmi",
          "ever_married_No",
          "ever_married_Yes",
          "gender_Female",
          "gender_Male",
          "heart_disease_0",
          "heart_disease_1",
          "hypertension_0",
          "hypertension_1",
          "smoking_status_Unknown",
          "smoking_status_formerly smoked",
          "smoking_status_never smoked",
          "smoking_status_smokes",
          "work_type_Govt_job",
          "work_type_Private",
          "work_type_Self-employed",
          "work_type_children"
         ],
         "yaxis": "y"
        }
       ],
       "layout": {
        "barmode": "relative",
        "legend": {
         "tracegroupgap": 0
        },
        "template": {
         "data": {
          "bar": [
           {
            "error_x": {
             "color": "#2a3f5f"
            },
            "error_y": {
             "color": "#2a3f5f"
            },
            "marker": {
             "line": {
              "color": "white",
              "width": 0.5
             },
             "pattern": {
              "fillmode": "overlay",
              "size": 10,
              "solidity": 0.2
             }
            },
            "type": "bar"
           }
          ],
          "barpolar": [
           {
            "marker": {
             "line": {
              "color": "white",
              "width": 0.5
             },
             "pattern": {
              "fillmode": "overlay",
              "size": 10,
              "solidity": 0.2
             }
            },
            "type": "barpolar"
           }
          ],
          "carpet": [
           {
            "aaxis": {
             "endlinecolor": "#2a3f5f",
             "gridcolor": "#C8D4E3",
             "linecolor": "#C8D4E3",
             "minorgridcolor": "#C8D4E3",
             "startlinecolor": "#2a3f5f"
            },
            "baxis": {
             "endlinecolor": "#2a3f5f",
             "gridcolor": "#C8D4E3",
             "linecolor": "#C8D4E3",
             "minorgridcolor": "#C8D4E3",
             "startlinecolor": "#2a3f5f"
            },
            "type": "carpet"
           }
          ],
          "choropleth": [
           {
            "colorbar": {
             "outlinewidth": 0,
             "ticks": ""
            },
            "type": "choropleth"
           }
          ],
          "contour": [
           {
            "colorbar": {
             "outlinewidth": 0,
             "ticks": ""
            },
            "colorscale": [
             [
              0,
              "#0d0887"
             ],
             [
              0.1111111111111111,
              "#46039f"
             ],
             [
              0.2222222222222222,
              "#7201a8"
             ],
             [
              0.3333333333333333,
              "#9c179e"
             ],
             [
              0.4444444444444444,
              "#bd3786"
             ],
             [
              0.5555555555555556,
              "#d8576b"
             ],
             [
              0.6666666666666666,
              "#ed7953"
             ],
             [
              0.7777777777777778,
              "#fb9f3a"
             ],
             [
              0.8888888888888888,
              "#fdca26"
             ],
             [
              1,
              "#f0f921"
             ]
            ],
            "type": "contour"
           }
          ],
          "contourcarpet": [
           {
            "colorbar": {
             "outlinewidth": 0,
             "ticks": ""
            },
            "type": "contourcarpet"
           }
          ],
          "heatmap": [
           {
            "colorbar": {
             "outlinewidth": 0,
             "ticks": ""
            },
            "colorscale": [
             [
              0,
              "#0d0887"
             ],
             [
              0.1111111111111111,
              "#46039f"
             ],
             [
              0.2222222222222222,
              "#7201a8"
             ],
             [
              0.3333333333333333,
              "#9c179e"
             ],
             [
              0.4444444444444444,
              "#bd3786"
             ],
             [
              0.5555555555555556,
              "#d8576b"
             ],
             [
              0.6666666666666666,
              "#ed7953"
             ],
             [
              0.7777777777777778,
              "#fb9f3a"
             ],
             [
              0.8888888888888888,
              "#fdca26"
             ],
             [
              1,
              "#f0f921"
             ]
            ],
            "type": "heatmap"
           }
          ],
          "heatmapgl": [
           {
            "colorbar": {
             "outlinewidth": 0,
             "ticks": ""
            },
            "colorscale": [
             [
              0,
              "#0d0887"
             ],
             [
              0.1111111111111111,
              "#46039f"
             ],
             [
              0.2222222222222222,
              "#7201a8"
             ],
             [
              0.3333333333333333,
              "#9c179e"
             ],
             [
              0.4444444444444444,
              "#bd3786"
             ],
             [
              0.5555555555555556,
              "#d8576b"
             ],
             [
              0.6666666666666666,
              "#ed7953"
             ],
             [
              0.7777777777777778,
              "#fb9f3a"
             ],
             [
              0.8888888888888888,
              "#fdca26"
             ],
             [
              1,
              "#f0f921"
             ]
            ],
            "type": "heatmapgl"
           }
          ],
          "histogram": [
           {
            "marker": {
             "pattern": {
              "fillmode": "overlay",
              "size": 10,
              "solidity": 0.2
             }
            },
            "type": "histogram"
           }
          ],
          "histogram2d": [
           {
            "colorbar": {
             "outlinewidth": 0,
             "ticks": ""
            },
            "colorscale": [
             [
              0,
              "#0d0887"
             ],
             [
              0.1111111111111111,
              "#46039f"
             ],
             [
              0.2222222222222222,
              "#7201a8"
             ],
             [
              0.3333333333333333,
              "#9c179e"
             ],
             [
              0.4444444444444444,
              "#bd3786"
             ],
             [
              0.5555555555555556,
              "#d8576b"
             ],
             [
              0.6666666666666666,
              "#ed7953"
             ],
             [
              0.7777777777777778,
              "#fb9f3a"
             ],
             [
              0.8888888888888888,
              "#fdca26"
             ],
             [
              1,
              "#f0f921"
             ]
            ],
            "type": "histogram2d"
           }
          ],
          "histogram2dcontour": [
           {
            "colorbar": {
             "outlinewidth": 0,
             "ticks": ""
            },
            "colorscale": [
             [
              0,
              "#0d0887"
             ],
             [
              0.1111111111111111,
              "#46039f"
             ],
             [
              0.2222222222222222,
              "#7201a8"
             ],
             [
              0.3333333333333333,
              "#9c179e"
             ],
             [
              0.4444444444444444,
              "#bd3786"
             ],
             [
              0.5555555555555556,
              "#d8576b"
             ],
             [
              0.6666666666666666,
              "#ed7953"
             ],
             [
              0.7777777777777778,
              "#fb9f3a"
             ],
             [
              0.8888888888888888,
              "#fdca26"
             ],
             [
              1,
              "#f0f921"
             ]
            ],
            "type": "histogram2dcontour"
           }
          ],
          "mesh3d": [
           {
            "colorbar": {
             "outlinewidth": 0,
             "ticks": ""
            },
            "type": "mesh3d"
           }
          ],
          "parcoords": [
           {
            "line": {
             "colorbar": {
              "outlinewidth": 0,
              "ticks": ""
             }
            },
            "type": "parcoords"
           }
          ],
          "pie": [
           {
            "automargin": true,
            "type": "pie"
           }
          ],
          "scatter": [
           {
            "marker": {
             "colorbar": {
              "outlinewidth": 0,
              "ticks": ""
             }
            },
            "type": "scatter"
           }
          ],
          "scatter3d": [
           {
            "line": {
             "colorbar": {
              "outlinewidth": 0,
              "ticks": ""
             }
            },
            "marker": {
             "colorbar": {
              "outlinewidth": 0,
              "ticks": ""
             }
            },
            "type": "scatter3d"
           }
          ],
          "scattercarpet": [
           {
            "marker": {
             "colorbar": {
              "outlinewidth": 0,
              "ticks": ""
             }
            },
            "type": "scattercarpet"
           }
          ],
          "scattergeo": [
           {
            "marker": {
             "colorbar": {
              "outlinewidth": 0,
              "ticks": ""
             }
            },
            "type": "scattergeo"
           }
          ],
          "scattergl": [
           {
            "marker": {
             "colorbar": {
              "outlinewidth": 0,
              "ticks": ""
             }
            },
            "type": "scattergl"
           }
          ],
          "scattermapbox": [
           {
            "marker": {
             "colorbar": {
              "outlinewidth": 0,
              "ticks": ""
             }
            },
            "type": "scattermapbox"
           }
          ],
          "scatterpolar": [
           {
            "marker": {
             "colorbar": {
              "outlinewidth": 0,
              "ticks": ""
             }
            },
            "type": "scatterpolar"
           }
          ],
          "scatterpolargl": [
           {
            "marker": {
             "colorbar": {
              "outlinewidth": 0,
              "ticks": ""
             }
            },
            "type": "scatterpolargl"
           }
          ],
          "scatterternary": [
           {
            "marker": {
             "colorbar": {
              "outlinewidth": 0,
              "ticks": ""
             }
            },
            "type": "scatterternary"
           }
          ],
          "surface": [
           {
            "colorbar": {
             "outlinewidth": 0,
             "ticks": ""
            },
            "colorscale": [
             [
              0,
              "#0d0887"
             ],
             [
              0.1111111111111111,
              "#46039f"
             ],
             [
              0.2222222222222222,
              "#7201a8"
             ],
             [
              0.3333333333333333,
              "#9c179e"
             ],
             [
              0.4444444444444444,
              "#bd3786"
             ],
             [
              0.5555555555555556,
              "#d8576b"
             ],
             [
              0.6666666666666666,
              "#ed7953"
             ],
             [
              0.7777777777777778,
              "#fb9f3a"
             ],
             [
              0.8888888888888888,
              "#fdca26"
             ],
             [
              1,
              "#f0f921"
             ]
            ],
            "type": "surface"
           }
          ],
          "table": [
           {
            "cells": {
             "fill": {
              "color": "#EBF0F8"
             },
             "line": {
              "color": "white"
             }
            },
            "header": {
             "fill": {
              "color": "#C8D4E3"
             },
             "line": {
              "color": "white"
             }
            },
            "type": "table"
           }
          ]
         },
         "layout": {
          "annotationdefaults": {
           "arrowcolor": "#2a3f5f",
           "arrowhead": 0,
           "arrowwidth": 1
          },
          "autotypenumbers": "strict",
          "coloraxis": {
           "colorbar": {
            "outlinewidth": 0,
            "ticks": ""
           }
          },
          "colorscale": {
           "diverging": [
            [
             0,
             "#8e0152"
            ],
            [
             0.1,
             "#c51b7d"
            ],
            [
             0.2,
             "#de77ae"
            ],
            [
             0.3,
             "#f1b6da"
            ],
            [
             0.4,
             "#fde0ef"
            ],
            [
             0.5,
             "#f7f7f7"
            ],
            [
             0.6,
             "#e6f5d0"
            ],
            [
             0.7,
             "#b8e186"
            ],
            [
             0.8,
             "#7fbc41"
            ],
            [
             0.9,
             "#4d9221"
            ],
            [
             1,
             "#276419"
            ]
           ],
           "sequential": [
            [
             0,
             "#0d0887"
            ],
            [
             0.1111111111111111,
             "#46039f"
            ],
            [
             0.2222222222222222,
             "#7201a8"
            ],
            [
             0.3333333333333333,
             "#9c179e"
            ],
            [
             0.4444444444444444,
             "#bd3786"
            ],
            [
             0.5555555555555556,
             "#d8576b"
            ],
            [
             0.6666666666666666,
             "#ed7953"
            ],
            [
             0.7777777777777778,
             "#fb9f3a"
            ],
            [
             0.8888888888888888,
             "#fdca26"
            ],
            [
             1,
             "#f0f921"
            ]
           ],
           "sequentialminus": [
            [
             0,
             "#0d0887"
            ],
            [
             0.1111111111111111,
             "#46039f"
            ],
            [
             0.2222222222222222,
             "#7201a8"
            ],
            [
             0.3333333333333333,
             "#9c179e"
            ],
            [
             0.4444444444444444,
             "#bd3786"
            ],
            [
             0.5555555555555556,
             "#d8576b"
            ],
            [
             0.6666666666666666,
             "#ed7953"
            ],
            [
             0.7777777777777778,
             "#fb9f3a"
            ],
            [
             0.8888888888888888,
             "#fdca26"
            ],
            [
             1,
             "#f0f921"
            ]
           ]
          },
          "colorway": [
           "#636efa",
           "#EF553B",
           "#00cc96",
           "#ab63fa",
           "#FFA15A",
           "#19d3f3",
           "#FF6692",
           "#B6E880",
           "#FF97FF",
           "#FECB52"
          ],
          "font": {
           "color": "#8C8C8C"
          },
          "geo": {
           "bgcolor": "white",
           "lakecolor": "white",
           "landcolor": "white",
           "showlakes": true,
           "showland": true,
           "subunitcolor": "#C8D4E3"
          },
          "hoverlabel": {
           "align": "left"
          },
          "hovermode": "closest",
          "legend": {
           "orientation": "h",
           "x": 0,
           "xanchor": "left",
           "y": -0.2,
           "yanchor": "top"
          },
          "mapbox": {
           "style": "light"
          },
          "margin": {
           "l": 20,
           "r": 20
          },
          "paper_bgcolor": "white",
          "plot_bgcolor": "white",
          "polar": {
           "angularaxis": {
            "gridcolor": "#EBF0F8",
            "linecolor": "#EBF0F8",
            "ticks": ""
           },
           "bgcolor": "white",
           "radialaxis": {
            "gridcolor": "#EBF0F8",
            "linecolor": "#EBF0F8",
            "ticks": ""
           }
          },
          "scene": {
           "xaxis": {
            "backgroundcolor": "white",
            "gridcolor": "#DFE8F3",
            "gridwidth": 2,
            "linecolor": "#EBF0F8",
            "showbackground": true,
            "ticks": "",
            "zerolinecolor": "#EBF0F8"
           },
           "yaxis": {
            "backgroundcolor": "white",
            "gridcolor": "#DFE8F3",
            "gridwidth": 2,
            "linecolor": "#EBF0F8",
            "showbackground": true,
            "ticks": "",
            "zerolinecolor": "#EBF0F8"
           },
           "zaxis": {
            "backgroundcolor": "white",
            "gridcolor": "#DFE8F3",
            "gridwidth": 2,
            "linecolor": "#EBF0F8",
            "showbackground": true,
            "ticks": "",
            "zerolinecolor": "#EBF0F8"
           }
          },
          "shapedefaults": {
           "line": {
            "color": "#2a3f5f"
           }
          },
          "ternary": {
           "aaxis": {
            "gridcolor": "#DFE8F3",
            "linecolor": "#A2B1C6",
            "ticks": ""
           },
           "baxis": {
            "gridcolor": "#DFE8F3",
            "linecolor": "#A2B1C6",
            "ticks": ""
           },
           "bgcolor": "white",
           "caxis": {
            "gridcolor": "#DFE8F3",
            "linecolor": "#A2B1C6",
            "ticks": ""
           }
          },
          "title": {
           "x": 0.05
          },
          "xaxis": {
           "automargin": true,
           "gridcolor": "#EBF0F8",
           "linecolor": "#EBF0F8",
           "ticks": "",
           "title": {
            "standoff": 15
           },
           "zerolinecolor": "#EBF0F8",
           "zerolinewidth": 2
          },
          "yaxis": {
           "automargin": true,
           "gridcolor": "#EBF0F8",
           "linecolor": "#EBF0F8",
           "ticks": "",
           "title": {
            "standoff": 15
           },
           "zerolinecolor": "#EBF0F8",
           "zerolinewidth": 2
          }
         }
        },
        "title": {
         "text": "Permutation importances (RandomForestClassifier, roc_auc, 10 repeats)"
        },
        "xaxis": {
         "anchor": "y",
         "domain": [
          0,
          1
         ],
         "title": {
          "text": "Importance"
         }
        },
        "yaxis": {
         "anchor": "x",
         "categoryorder": "total ascending",
         "domain": [
          0,
          1
         ],
         "title": {
          "text": "Feature"
         }
        }
       }
      },
      "text/html": [
       "<div>                            <div id=\"ab909b62-1af4-4373-9da8-7ff3c0830091\" class=\"plotly-graph-div\" style=\"height:525px; width:100%;\"></div>            <script type=\"text/javascript\">                require([\"plotly\"], function(Plotly) {                    window.PLOTLYENV=window.PLOTLYENV || {};                                    if (document.getElementById(\"ab909b62-1af4-4373-9da8-7ff3c0830091\")) {                    Plotly.newPlot(                        \"ab909b62-1af4-4373-9da8-7ff3c0830091\",                        [{\"alignmentgroup\":\"True\",\"hovertemplate\":\"Importance=%{x}<br>Feature=%{y}<extra></extra>\",\"legendgroup\":\"\",\"marker\":{\"color\":\"rgb(127, 60, 141)\",\"pattern\":{\"shape\":\"\"}},\"name\":\"\",\"offsetgroup\":\"\",\"orientation\":\"h\",\"showlegend\":false,\"textposition\":\"auto\",\"x\":[0.016205533596838018,0.008794466403162105,0.13211462450592895,0.004841897233201653,0.0026679841897234045,0.003853754940711518,0.0008893280632411682,0.00039525691699608955,0.0070158102766798795,0.002173913043478326,0.02905138339920953,0.0027667984189723716,0.02401185770750992,0.0006916996047430901,-0.000988142292490024,0.02974308300395262,0.03577075098814233,0.0025691699604743377,7.771561172376095e-17,-0.00009881422924895578,-0.00019762845849793375],\"xaxis\":\"x\",\"y\":[\"Residence_type_Rural\",\"Residence_type_Urban\",\"age\",\"avg_glucose_level\",\"bmi\",\"ever_married_No\",\"ever_married_Yes\",\"gender_Female\",\"gender_Male\",\"heart_disease_0\",\"heart_disease_1\",\"hypertension_0\",\"hypertension_1\",\"smoking_status_Unknown\",\"smoking_status_formerly smoked\",\"smoking_status_never smoked\",\"smoking_status_smokes\",\"work_type_Govt_job\",\"work_type_Private\",\"work_type_Self-employed\",\"work_type_children\"],\"yaxis\":\"y\",\"type\":\"bar\"}],                        {\"template\":{\"data\":{\"bar\":[{\"error_x\":{\"color\":\"#2a3f5f\"},\"error_y\":{\"color\":\"#2a3f5f\"},\"marker\":{\"line\":{\"color\":\"white\",\"width\":0.5},\"pattern\":{\"fillmode\":\"overlay\",\"size\":10,\"solidity\":0.2}},\"type\":\"bar\"}],\"barpolar\":[{\"marker\":{\"line\":{\"color\":\"white\",\"width\":0.5},\"pattern\":{\"fillmode\":\"overlay\",\"size\":10,\"solidity\":0.2}},\"type\":\"barpolar\"}],\"carpet\":[{\"aaxis\":{\"endlinecolor\":\"#2a3f5f\",\"gridcolor\":\"#C8D4E3\",\"linecolor\":\"#C8D4E3\",\"minorgridcolor\":\"#C8D4E3\",\"startlinecolor\":\"#2a3f5f\"},\"baxis\":{\"endlinecolor\":\"#2a3f5f\",\"gridcolor\":\"#C8D4E3\",\"linecolor\":\"#C8D4E3\",\"minorgridcolor\":\"#C8D4E3\",\"startlinecolor\":\"#2a3f5f\"},\"type\":\"carpet\"}],\"choropleth\":[{\"colorbar\":{\"outlinewidth\":0,\"ticks\":\"\"},\"type\":\"choropleth\"}],\"contour\":[{\"colorbar\":{\"outlinewidth\":0,\"ticks\":\"\"},\"colorscale\":[[0.0,\"#0d0887\"],[0.1111111111111111,\"#46039f\"],[0.2222222222222222,\"#7201a8\"],[0.3333333333333333,\"#9c179e\"],[0.4444444444444444,\"#bd3786\"],[0.5555555555555556,\"#d8576b\"],[0.6666666666666666,\"#ed7953\"],[0.7777777777777778,\"#fb9f3a\"],[0.8888888888888888,\"#fdca26\"],[1.0,\"#f0f921\"]],\"type\":\"contour\"}],\"contourcarpet\":[{\"colorbar\":{\"outlinewidth\":0,\"ticks\":\"\"},\"type\":\"contourcarpet\"}],\"heatmap\":[{\"colorbar\":{\"outlinewidth\":0,\"ticks\":\"\"},\"colorscale\":[[0.0,\"#0d0887\"],[0.1111111111111111,\"#46039f\"],[0.2222222222222222,\"#7201a8\"],[0.3333333333333333,\"#9c179e\"],[0.4444444444444444,\"#bd3786\"],[0.5555555555555556,\"#d8576b\"],[0.6666666666666666,\"#ed7953\"],[0.7777777777777778,\"#fb9f3a\"],[0.8888888888888888,\"#fdca26\"],[1.0,\"#f0f921\"]],\"type\":\"heatmap\"}],\"heatmapgl\":[{\"colorbar\":{\"outlinewidth\":0,\"ticks\":\"\"},\"colorscale\":[[0.0,\"#0d0887\"],[0.1111111111111111,\"#46039f\"],[0.2222222222222222,\"#7201a8\"],[0.3333333333333333,\"#9c179e\"],[0.4444444444444444,\"#bd3786\"],[0.5555555555555556,\"#d8576b\"],[0.6666666666666666,\"#ed7953\"],[0.7777777777777778,\"#fb9f3a\"],[0.8888888888888888,\"#fdca26\"],[1.0,\"#f0f921\"]],\"type\":\"heatmapgl\"}],\"histogram\":[{\"marker\":{\"pattern\":{\"fillmode\":\"overlay\",\"size\":10,\"solidity\":0.2}},\"type\":\"histogram\"}],\"histogram2d\":[{\"colorbar\":{\"outlinewidth\":0,\"ticks\":\"\"},\"colorscale\":[[0.0,\"#0d0887\"],[0.1111111111111111,\"#46039f\"],[0.2222222222222222,\"#7201a8\"],[0.3333333333333333,\"#9c179e\"],[0.4444444444444444,\"#bd3786\"],[0.5555555555555556,\"#d8576b\"],[0.6666666666666666,\"#ed7953\"],[0.7777777777777778,\"#fb9f3a\"],[0.8888888888888888,\"#fdca26\"],[1.0,\"#f0f921\"]],\"type\":\"histogram2d\"}],\"histogram2dcontour\":[{\"colorbar\":{\"outlinewidth\":0,\"ticks\":\"\"},\"colorscale\":[[0.0,\"#0d0887\"],[0.1111111111111111,\"#46039f\"],[0.2222222222222222,\"#7201a8\"],[0.3333333333333333,\"#9c179e\"],[0.4444444444444444,\"#bd3786\"],[0.5555555555555556,\"#d8576b\"],[0.6666666666666666,\"#ed7953\"],[0.7777777777777778,\"#fb9f3a\"],[0.8888888888888888,\"#fdca26\"],[1.0,\"#f0f921\"]],\"type\":\"histogram2dcontour\"}],\"mesh3d\":[{\"colorbar\":{\"outlinewidth\":0,\"ticks\":\"\"},\"type\":\"mesh3d\"}],\"parcoords\":[{\"line\":{\"colorbar\":{\"outlinewidth\":0,\"ticks\":\"\"}},\"type\":\"parcoords\"}],\"pie\":[{\"automargin\":true,\"type\":\"pie\"}],\"scatter\":[{\"marker\":{\"colorbar\":{\"outlinewidth\":0,\"ticks\":\"\"}},\"type\":\"scatter\"}],\"scatter3d\":[{\"line\":{\"colorbar\":{\"outlinewidth\":0,\"ticks\":\"\"}},\"marker\":{\"colorbar\":{\"outlinewidth\":0,\"ticks\":\"\"}},\"type\":\"scatter3d\"}],\"scattercarpet\":[{\"marker\":{\"colorbar\":{\"outlinewidth\":0,\"ticks\":\"\"}},\"type\":\"scattercarpet\"}],\"scattergeo\":[{\"marker\":{\"colorbar\":{\"outlinewidth\":0,\"ticks\":\"\"}},\"type\":\"scattergeo\"}],\"scattergl\":[{\"marker\":{\"colorbar\":{\"outlinewidth\":0,\"ticks\":\"\"}},\"type\":\"scattergl\"}],\"scattermapbox\":[{\"marker\":{\"colorbar\":{\"outlinewidth\":0,\"ticks\":\"\"}},\"type\":\"scattermapbox\"}],\"scatterpolar\":[{\"marker\":{\"colorbar\":{\"outlinewidth\":0,\"ticks\":\"\"}},\"type\":\"scatterpolar\"}],\"scatterpolargl\":[{\"marker\":{\"colorbar\":{\"outlinewidth\":0,\"ticks\":\"\"}},\"type\":\"scatterpolargl\"}],\"scatterternary\":[{\"marker\":{\"colorbar\":{\"outlinewidth\":0,\"ticks\":\"\"}},\"type\":\"scatterternary\"}],\"surface\":[{\"colorbar\":{\"outlinewidth\":0,\"ticks\":\"\"},\"colorscale\":[[0.0,\"#0d0887\"],[0.1111111111111111,\"#46039f\"],[0.2222222222222222,\"#7201a8\"],[0.3333333333333333,\"#9c179e\"],[0.4444444444444444,\"#bd3786\"],[0.5555555555555556,\"#d8576b\"],[0.6666666666666666,\"#ed7953\"],[0.7777777777777778,\"#fb9f3a\"],[0.8888888888888888,\"#fdca26\"],[1.0,\"#f0f921\"]],\"type\":\"surface\"}],\"table\":[{\"cells\":{\"fill\":{\"color\":\"#EBF0F8\"},\"line\":{\"color\":\"white\"}},\"header\":{\"fill\":{\"color\":\"#C8D4E3\"},\"line\":{\"color\":\"white\"}},\"type\":\"table\"}]},\"layout\":{\"annotationdefaults\":{\"arrowcolor\":\"#2a3f5f\",\"arrowhead\":0,\"arrowwidth\":1},\"autotypenumbers\":\"strict\",\"coloraxis\":{\"colorbar\":{\"outlinewidth\":0,\"ticks\":\"\"}},\"colorscale\":{\"diverging\":[[0,\"#8e0152\"],[0.1,\"#c51b7d\"],[0.2,\"#de77ae\"],[0.3,\"#f1b6da\"],[0.4,\"#fde0ef\"],[0.5,\"#f7f7f7\"],[0.6,\"#e6f5d0\"],[0.7,\"#b8e186\"],[0.8,\"#7fbc41\"],[0.9,\"#4d9221\"],[1,\"#276419\"]],\"sequential\":[[0.0,\"#0d0887\"],[0.1111111111111111,\"#46039f\"],[0.2222222222222222,\"#7201a8\"],[0.3333333333333333,\"#9c179e\"],[0.4444444444444444,\"#bd3786\"],[0.5555555555555556,\"#d8576b\"],[0.6666666666666666,\"#ed7953\"],[0.7777777777777778,\"#fb9f3a\"],[0.8888888888888888,\"#fdca26\"],[1.0,\"#f0f921\"]],\"sequentialminus\":[[0.0,\"#0d0887\"],[0.1111111111111111,\"#46039f\"],[0.2222222222222222,\"#7201a8\"],[0.3333333333333333,\"#9c179e\"],[0.4444444444444444,\"#bd3786\"],[0.5555555555555556,\"#d8576b\"],[0.6666666666666666,\"#ed7953\"],[0.7777777777777778,\"#fb9f3a\"],[0.8888888888888888,\"#fdca26\"],[1.0,\"#f0f921\"]]},\"colorway\":[\"#636efa\",\"#EF553B\",\"#00cc96\",\"#ab63fa\",\"#FFA15A\",\"#19d3f3\",\"#FF6692\",\"#B6E880\",\"#FF97FF\",\"#FECB52\"],\"font\":{\"color\":\"#8C8C8C\"},\"geo\":{\"bgcolor\":\"white\",\"lakecolor\":\"white\",\"landcolor\":\"white\",\"showlakes\":true,\"showland\":true,\"subunitcolor\":\"#C8D4E3\"},\"hoverlabel\":{\"align\":\"left\"},\"hovermode\":\"closest\",\"mapbox\":{\"style\":\"light\"},\"paper_bgcolor\":\"white\",\"plot_bgcolor\":\"white\",\"polar\":{\"angularaxis\":{\"gridcolor\":\"#EBF0F8\",\"linecolor\":\"#EBF0F8\",\"ticks\":\"\"},\"bgcolor\":\"white\",\"radialaxis\":{\"gridcolor\":\"#EBF0F8\",\"linecolor\":\"#EBF0F8\",\"ticks\":\"\"}},\"scene\":{\"xaxis\":{\"backgroundcolor\":\"white\",\"gridcolor\":\"#DFE8F3\",\"gridwidth\":2,\"linecolor\":\"#EBF0F8\",\"showbackground\":true,\"ticks\":\"\",\"zerolinecolor\":\"#EBF0F8\"},\"yaxis\":{\"backgroundcolor\":\"white\",\"gridcolor\":\"#DFE8F3\",\"gridwidth\":2,\"linecolor\":\"#EBF0F8\",\"showbackground\":true,\"ticks\":\"\",\"zerolinecolor\":\"#EBF0F8\"},\"zaxis\":{\"backgroundcolor\":\"white\",\"gridcolor\":\"#DFE8F3\",\"gridwidth\":2,\"linecolor\":\"#EBF0F8\",\"showbackground\":true,\"ticks\":\"\",\"zerolinecolor\":\"#EBF0F8\"}},\"shapedefaults\":{\"line\":{\"color\":\"#2a3f5f\"}},\"ternary\":{\"aaxis\":{\"gridcolor\":\"#DFE8F3\",\"linecolor\":\"#A2B1C6\",\"ticks\":\"\"},\"baxis\":{\"gridcolor\":\"#DFE8F3\",\"linecolor\":\"#A2B1C6\",\"ticks\":\"\"},\"bgcolor\":\"white\",\"caxis\":{\"gridcolor\":\"#DFE8F3\",\"linecolor\":\"#A2B1C6\",\"ticks\":\"\"}},\"title\":{\"x\":0.05},\"xaxis\":{\"automargin\":true,\"gridcolor\":\"#EBF0F8\",\"linecolor\":\"#EBF0F8\",\"ticks\":\"\",\"title\":{\"standoff\":15},\"zerolinecolor\":\"#EBF0F8\",\"zerolinewidth\":2},\"yaxis\":{\"automargin\":true,\"gridcolor\":\"#EBF0F8\",\"linecolor\":\"#EBF0F8\",\"ticks\":\"\",\"title\":{\"standoff\":15},\"zerolinecolor\":\"#EBF0F8\",\"zerolinewidth\":2},\"margin\":{\"l\":20,\"r\":20},\"legend\":{\"yanchor\":\"top\",\"y\":-0.2,\"xanchor\":\"left\",\"x\":0.0,\"orientation\":\"h\"}}},\"xaxis\":{\"anchor\":\"y\",\"domain\":[0.0,1.0],\"title\":{\"text\":\"Importance\"}},\"yaxis\":{\"anchor\":\"x\",\"domain\":[0.0,1.0],\"title\":{\"text\":\"Feature\"},\"categoryorder\":\"total ascending\"},\"legend\":{\"tracegroupgap\":0},\"title\":{\"text\":\"Permutation importances (RandomForestClassifier, roc_auc, 10 repeats)\"},\"barmode\":\"relative\"},                        {\"responsive\": true}                    ).then(function(){\n",
       "                            \n",
       "var gd = document.getElementById('ab909b62-1af4-4373-9da8-7ff3c0830091');\n",
       "var x = new MutationObserver(function (mutations, observer) {{\n",
       "        var display = window.getComputedStyle(gd).display;\n",
       "        if (!display || display === 'none') {{\n",
       "            console.log([gd, 'removed!']);\n",
       "            Plotly.purge(gd);\n",
       "            observer.disconnect();\n",
       "        }}\n",
       "}});\n",
       "\n",
       "// Listen for the removal of the full notebook cells\n",
       "var notebookContainer = gd.closest('#notebook-container');\n",
       "if (notebookContainer) {{\n",
       "    x.observe(notebookContainer, {childList: true});\n",
       "}}\n",
       "\n",
       "// Listen for the clearing of the current output cell\n",
       "var outputEl = gd.closest('.output');\n",
       "if (outputEl) {{\n",
       "    x.observe(outputEl, {childList: true});\n",
       "}}\n",
       "\n",
       "                        })                };                });            </script>        </div>"
      ]
     },
     "metadata": {},
     "output_type": "display_data"
    }
   ],
   "source": [
    "# Feature importance -  RF\n",
    "pnd.plot.permutation_importance(estimator_name=\"RandomForestClassifier\")"
   ]
  },
  {
   "cell_type": "code",
   "execution_count": 38,
   "id": "02d22659",
   "metadata": {},
   "outputs": [
    {
     "data": {
      "application/vnd.plotly.v1+json": {
       "config": {
        "plotlyServerURL": "https://plot.ly"
       },
       "data": [
        {
         "alignmentgroup": "True",
         "boxpoints": "all",
         "fillcolor": "rgba(255,255,255,0)",
         "hoveron": "points",
         "hovertemplate": "train_f1=%{x}<br>Model=%{y}<extra></extra>",
         "legendgroup": "",
         "line": {
          "color": "rgba(255,255,255,0)"
         },
         "marker": {
          "color": "rgb(127, 60, 141)"
         },
         "name": "",
         "offsetgroup": "",
         "orientation": "v",
         "pointpos": 0,
         "showlegend": false,
         "type": "box",
         "x": [
          1.0180221976940669,
          1.033273201875514,
          1.043033518260191,
          1.0808070466760005,
          1.1336234112308603,
          1.1784938769669182,
          1.1866643713777472,
          1.2284903134091512
         ],
         "x0": " ",
         "xaxis": "x",
         "y": [
          "GaussianNB",
          "LinearSVC",
          "LogisticRegression",
          "KNeighbors",
          "RandomForest",
          "HistGradientBoosting",
          "XGB",
          "DecisionTree"
         ],
         "y0": " ",
         "yaxis": "y"
        }
       ],
       "layout": {
        "boxmode": "group",
        "legend": {
         "tracegroupgap": 0
        },
        "template": {
         "data": {
          "bar": [
           {
            "error_x": {
             "color": "#2a3f5f"
            },
            "error_y": {
             "color": "#2a3f5f"
            },
            "marker": {
             "line": {
              "color": "white",
              "width": 0.5
             },
             "pattern": {
              "fillmode": "overlay",
              "size": 10,
              "solidity": 0.2
             }
            },
            "type": "bar"
           }
          ],
          "barpolar": [
           {
            "marker": {
             "line": {
              "color": "white",
              "width": 0.5
             },
             "pattern": {
              "fillmode": "overlay",
              "size": 10,
              "solidity": 0.2
             }
            },
            "type": "barpolar"
           }
          ],
          "carpet": [
           {
            "aaxis": {
             "endlinecolor": "#2a3f5f",
             "gridcolor": "#C8D4E3",
             "linecolor": "#C8D4E3",
             "minorgridcolor": "#C8D4E3",
             "startlinecolor": "#2a3f5f"
            },
            "baxis": {
             "endlinecolor": "#2a3f5f",
             "gridcolor": "#C8D4E3",
             "linecolor": "#C8D4E3",
             "minorgridcolor": "#C8D4E3",
             "startlinecolor": "#2a3f5f"
            },
            "type": "carpet"
           }
          ],
          "choropleth": [
           {
            "colorbar": {
             "outlinewidth": 0,
             "ticks": ""
            },
            "type": "choropleth"
           }
          ],
          "contour": [
           {
            "colorbar": {
             "outlinewidth": 0,
             "ticks": ""
            },
            "colorscale": [
             [
              0,
              "#0d0887"
             ],
             [
              0.1111111111111111,
              "#46039f"
             ],
             [
              0.2222222222222222,
              "#7201a8"
             ],
             [
              0.3333333333333333,
              "#9c179e"
             ],
             [
              0.4444444444444444,
              "#bd3786"
             ],
             [
              0.5555555555555556,
              "#d8576b"
             ],
             [
              0.6666666666666666,
              "#ed7953"
             ],
             [
              0.7777777777777778,
              "#fb9f3a"
             ],
             [
              0.8888888888888888,
              "#fdca26"
             ],
             [
              1,
              "#f0f921"
             ]
            ],
            "type": "contour"
           }
          ],
          "contourcarpet": [
           {
            "colorbar": {
             "outlinewidth": 0,
             "ticks": ""
            },
            "type": "contourcarpet"
           }
          ],
          "heatmap": [
           {
            "colorbar": {
             "outlinewidth": 0,
             "ticks": ""
            },
            "colorscale": [
             [
              0,
              "#0d0887"
             ],
             [
              0.1111111111111111,
              "#46039f"
             ],
             [
              0.2222222222222222,
              "#7201a8"
             ],
             [
              0.3333333333333333,
              "#9c179e"
             ],
             [
              0.4444444444444444,
              "#bd3786"
             ],
             [
              0.5555555555555556,
              "#d8576b"
             ],
             [
              0.6666666666666666,
              "#ed7953"
             ],
             [
              0.7777777777777778,
              "#fb9f3a"
             ],
             [
              0.8888888888888888,
              "#fdca26"
             ],
             [
              1,
              "#f0f921"
             ]
            ],
            "type": "heatmap"
           }
          ],
          "heatmapgl": [
           {
            "colorbar": {
             "outlinewidth": 0,
             "ticks": ""
            },
            "colorscale": [
             [
              0,
              "#0d0887"
             ],
             [
              0.1111111111111111,
              "#46039f"
             ],
             [
              0.2222222222222222,
              "#7201a8"
             ],
             [
              0.3333333333333333,
              "#9c179e"
             ],
             [
              0.4444444444444444,
              "#bd3786"
             ],
             [
              0.5555555555555556,
              "#d8576b"
             ],
             [
              0.6666666666666666,
              "#ed7953"
             ],
             [
              0.7777777777777778,
              "#fb9f3a"
             ],
             [
              0.8888888888888888,
              "#fdca26"
             ],
             [
              1,
              "#f0f921"
             ]
            ],
            "type": "heatmapgl"
           }
          ],
          "histogram": [
           {
            "marker": {
             "pattern": {
              "fillmode": "overlay",
              "size": 10,
              "solidity": 0.2
             }
            },
            "type": "histogram"
           }
          ],
          "histogram2d": [
           {
            "colorbar": {
             "outlinewidth": 0,
             "ticks": ""
            },
            "colorscale": [
             [
              0,
              "#0d0887"
             ],
             [
              0.1111111111111111,
              "#46039f"
             ],
             [
              0.2222222222222222,
              "#7201a8"
             ],
             [
              0.3333333333333333,
              "#9c179e"
             ],
             [
              0.4444444444444444,
              "#bd3786"
             ],
             [
              0.5555555555555556,
              "#d8576b"
             ],
             [
              0.6666666666666666,
              "#ed7953"
             ],
             [
              0.7777777777777778,
              "#fb9f3a"
             ],
             [
              0.8888888888888888,
              "#fdca26"
             ],
             [
              1,
              "#f0f921"
             ]
            ],
            "type": "histogram2d"
           }
          ],
          "histogram2dcontour": [
           {
            "colorbar": {
             "outlinewidth": 0,
             "ticks": ""
            },
            "colorscale": [
             [
              0,
              "#0d0887"
             ],
             [
              0.1111111111111111,
              "#46039f"
             ],
             [
              0.2222222222222222,
              "#7201a8"
             ],
             [
              0.3333333333333333,
              "#9c179e"
             ],
             [
              0.4444444444444444,
              "#bd3786"
             ],
             [
              0.5555555555555556,
              "#d8576b"
             ],
             [
              0.6666666666666666,
              "#ed7953"
             ],
             [
              0.7777777777777778,
              "#fb9f3a"
             ],
             [
              0.8888888888888888,
              "#fdca26"
             ],
             [
              1,
              "#f0f921"
             ]
            ],
            "type": "histogram2dcontour"
           }
          ],
          "mesh3d": [
           {
            "colorbar": {
             "outlinewidth": 0,
             "ticks": ""
            },
            "type": "mesh3d"
           }
          ],
          "parcoords": [
           {
            "line": {
             "colorbar": {
              "outlinewidth": 0,
              "ticks": ""
             }
            },
            "type": "parcoords"
           }
          ],
          "pie": [
           {
            "automargin": true,
            "type": "pie"
           }
          ],
          "scatter": [
           {
            "marker": {
             "colorbar": {
              "outlinewidth": 0,
              "ticks": ""
             }
            },
            "type": "scatter"
           }
          ],
          "scatter3d": [
           {
            "line": {
             "colorbar": {
              "outlinewidth": 0,
              "ticks": ""
             }
            },
            "marker": {
             "colorbar": {
              "outlinewidth": 0,
              "ticks": ""
             }
            },
            "type": "scatter3d"
           }
          ],
          "scattercarpet": [
           {
            "marker": {
             "colorbar": {
              "outlinewidth": 0,
              "ticks": ""
             }
            },
            "type": "scattercarpet"
           }
          ],
          "scattergeo": [
           {
            "marker": {
             "colorbar": {
              "outlinewidth": 0,
              "ticks": ""
             }
            },
            "type": "scattergeo"
           }
          ],
          "scattergl": [
           {
            "marker": {
             "colorbar": {
              "outlinewidth": 0,
              "ticks": ""
             }
            },
            "type": "scattergl"
           }
          ],
          "scattermapbox": [
           {
            "marker": {
             "colorbar": {
              "outlinewidth": 0,
              "ticks": ""
             }
            },
            "type": "scattermapbox"
           }
          ],
          "scatterpolar": [
           {
            "marker": {
             "colorbar": {
              "outlinewidth": 0,
              "ticks": ""
             }
            },
            "type": "scatterpolar"
           }
          ],
          "scatterpolargl": [
           {
            "marker": {
             "colorbar": {
              "outlinewidth": 0,
              "ticks": ""
             }
            },
            "type": "scatterpolargl"
           }
          ],
          "scatterternary": [
           {
            "marker": {
             "colorbar": {
              "outlinewidth": 0,
              "ticks": ""
             }
            },
            "type": "scatterternary"
           }
          ],
          "surface": [
           {
            "colorbar": {
             "outlinewidth": 0,
             "ticks": ""
            },
            "colorscale": [
             [
              0,
              "#0d0887"
             ],
             [
              0.1111111111111111,
              "#46039f"
             ],
             [
              0.2222222222222222,
              "#7201a8"
             ],
             [
              0.3333333333333333,
              "#9c179e"
             ],
             [
              0.4444444444444444,
              "#bd3786"
             ],
             [
              0.5555555555555556,
              "#d8576b"
             ],
             [
              0.6666666666666666,
              "#ed7953"
             ],
             [
              0.7777777777777778,
              "#fb9f3a"
             ],
             [
              0.8888888888888888,
              "#fdca26"
             ],
             [
              1,
              "#f0f921"
             ]
            ],
            "type": "surface"
           }
          ],
          "table": [
           {
            "cells": {
             "fill": {
              "color": "#EBF0F8"
             },
             "line": {
              "color": "white"
             }
            },
            "header": {
             "fill": {
              "color": "#C8D4E3"
             },
             "line": {
              "color": "white"
             }
            },
            "type": "table"
           }
          ]
         },
         "layout": {
          "annotationdefaults": {
           "arrowcolor": "#2a3f5f",
           "arrowhead": 0,
           "arrowwidth": 1
          },
          "autotypenumbers": "strict",
          "coloraxis": {
           "colorbar": {
            "outlinewidth": 0,
            "ticks": ""
           }
          },
          "colorscale": {
           "diverging": [
            [
             0,
             "#8e0152"
            ],
            [
             0.1,
             "#c51b7d"
            ],
            [
             0.2,
             "#de77ae"
            ],
            [
             0.3,
             "#f1b6da"
            ],
            [
             0.4,
             "#fde0ef"
            ],
            [
             0.5,
             "#f7f7f7"
            ],
            [
             0.6,
             "#e6f5d0"
            ],
            [
             0.7,
             "#b8e186"
            ],
            [
             0.8,
             "#7fbc41"
            ],
            [
             0.9,
             "#4d9221"
            ],
            [
             1,
             "#276419"
            ]
           ],
           "sequential": [
            [
             0,
             "#0d0887"
            ],
            [
             0.1111111111111111,
             "#46039f"
            ],
            [
             0.2222222222222222,
             "#7201a8"
            ],
            [
             0.3333333333333333,
             "#9c179e"
            ],
            [
             0.4444444444444444,
             "#bd3786"
            ],
            [
             0.5555555555555556,
             "#d8576b"
            ],
            [
             0.6666666666666666,
             "#ed7953"
            ],
            [
             0.7777777777777778,
             "#fb9f3a"
            ],
            [
             0.8888888888888888,
             "#fdca26"
            ],
            [
             1,
             "#f0f921"
            ]
           ],
           "sequentialminus": [
            [
             0,
             "#0d0887"
            ],
            [
             0.1111111111111111,
             "#46039f"
            ],
            [
             0.2222222222222222,
             "#7201a8"
            ],
            [
             0.3333333333333333,
             "#9c179e"
            ],
            [
             0.4444444444444444,
             "#bd3786"
            ],
            [
             0.5555555555555556,
             "#d8576b"
            ],
            [
             0.6666666666666666,
             "#ed7953"
            ],
            [
             0.7777777777777778,
             "#fb9f3a"
            ],
            [
             0.8888888888888888,
             "#fdca26"
            ],
            [
             1,
             "#f0f921"
            ]
           ]
          },
          "colorway": [
           "#636efa",
           "#EF553B",
           "#00cc96",
           "#ab63fa",
           "#FFA15A",
           "#19d3f3",
           "#FF6692",
           "#B6E880",
           "#FF97FF",
           "#FECB52"
          ],
          "font": {
           "color": "#8C8C8C"
          },
          "geo": {
           "bgcolor": "white",
           "lakecolor": "white",
           "landcolor": "white",
           "showlakes": true,
           "showland": true,
           "subunitcolor": "#C8D4E3"
          },
          "hoverlabel": {
           "align": "left"
          },
          "hovermode": "closest",
          "legend": {
           "orientation": "h",
           "x": 0,
           "xanchor": "left",
           "y": -0.2,
           "yanchor": "top"
          },
          "mapbox": {
           "style": "light"
          },
          "margin": {
           "l": 20,
           "r": 20
          },
          "paper_bgcolor": "white",
          "plot_bgcolor": "white",
          "polar": {
           "angularaxis": {
            "gridcolor": "#EBF0F8",
            "linecolor": "#EBF0F8",
            "ticks": ""
           },
           "bgcolor": "white",
           "radialaxis": {
            "gridcolor": "#EBF0F8",
            "linecolor": "#EBF0F8",
            "ticks": ""
           }
          },
          "scene": {
           "xaxis": {
            "backgroundcolor": "white",
            "gridcolor": "#DFE8F3",
            "gridwidth": 2,
            "linecolor": "#EBF0F8",
            "showbackground": true,
            "ticks": "",
            "zerolinecolor": "#EBF0F8"
           },
           "yaxis": {
            "backgroundcolor": "white",
            "gridcolor": "#DFE8F3",
            "gridwidth": 2,
            "linecolor": "#EBF0F8",
            "showbackground": true,
            "ticks": "",
            "zerolinecolor": "#EBF0F8"
           },
           "zaxis": {
            "backgroundcolor": "white",
            "gridcolor": "#DFE8F3",
            "gridwidth": 2,
            "linecolor": "#EBF0F8",
            "showbackground": true,
            "ticks": "",
            "zerolinecolor": "#EBF0F8"
           }
          },
          "shapedefaults": {
           "line": {
            "color": "#2a3f5f"
           }
          },
          "ternary": {
           "aaxis": {
            "gridcolor": "#DFE8F3",
            "linecolor": "#A2B1C6",
            "ticks": ""
           },
           "baxis": {
            "gridcolor": "#DFE8F3",
            "linecolor": "#A2B1C6",
            "ticks": ""
           },
           "bgcolor": "white",
           "caxis": {
            "gridcolor": "#DFE8F3",
            "linecolor": "#A2B1C6",
            "ticks": ""
           }
          },
          "title": {
           "x": 0.05
          },
          "xaxis": {
           "automargin": true,
           "gridcolor": "#EBF0F8",
           "linecolor": "#EBF0F8",
           "ticks": "",
           "title": {
            "standoff": 15
           },
           "zerolinecolor": "#EBF0F8",
           "zerolinewidth": 2
          },
          "yaxis": {
           "automargin": true,
           "gridcolor": "#EBF0F8",
           "linecolor": "#EBF0F8",
           "ticks": "",
           "title": {
            "standoff": 15
           },
           "zerolinecolor": "#EBF0F8",
           "zerolinewidth": 2
          }
         }
        },
        "title": {
         "text": "f1 overfitness"
        },
        "xaxis": {
         "anchor": "y",
         "domain": [
          0,
          1
         ],
         "title": {
          "text": "Train / test ratio"
         }
        },
        "yaxis": {
         "anchor": "x",
         "domain": [
          0,
          1
         ],
         "title": {
          "text": ""
         }
        }
       }
      },
      "text/html": [
       "<div>                            <div id=\"5b4d861e-94d6-43ef-810e-b404c0ea73ea\" class=\"plotly-graph-div\" style=\"height:525px; width:100%;\"></div>            <script type=\"text/javascript\">                require([\"plotly\"], function(Plotly) {                    window.PLOTLYENV=window.PLOTLYENV || {};                                    if (document.getElementById(\"5b4d861e-94d6-43ef-810e-b404c0ea73ea\")) {                    Plotly.newPlot(                        \"5b4d861e-94d6-43ef-810e-b404c0ea73ea\",                        [{\"alignmentgroup\":\"True\",\"boxpoints\":\"all\",\"fillcolor\":\"rgba(255,255,255,0)\",\"hoveron\":\"points\",\"hovertemplate\":\"train_f1=%{x}<br>Model=%{y}<extra></extra>\",\"legendgroup\":\"\",\"line\":{\"color\":\"rgba(255,255,255,0)\"},\"marker\":{\"color\":\"rgb(127, 60, 141)\"},\"name\":\"\",\"offsetgroup\":\"\",\"orientation\":\"v\",\"pointpos\":0,\"showlegend\":false,\"x\":[1.0180221976940669,1.033273201875514,1.043033518260191,1.0808070466760005,1.1336234112308603,1.1784938769669182,1.1866643713777472,1.2284903134091512],\"x0\":\" \",\"xaxis\":\"x\",\"y\":[\"GaussianNB\",\"LinearSVC\",\"LogisticRegression\",\"KNeighbors\",\"RandomForest\",\"HistGradientBoosting\",\"XGB\",\"DecisionTree\"],\"y0\":\" \",\"yaxis\":\"y\",\"type\":\"box\"}],                        {\"template\":{\"data\":{\"bar\":[{\"error_x\":{\"color\":\"#2a3f5f\"},\"error_y\":{\"color\":\"#2a3f5f\"},\"marker\":{\"line\":{\"color\":\"white\",\"width\":0.5},\"pattern\":{\"fillmode\":\"overlay\",\"size\":10,\"solidity\":0.2}},\"type\":\"bar\"}],\"barpolar\":[{\"marker\":{\"line\":{\"color\":\"white\",\"width\":0.5},\"pattern\":{\"fillmode\":\"overlay\",\"size\":10,\"solidity\":0.2}},\"type\":\"barpolar\"}],\"carpet\":[{\"aaxis\":{\"endlinecolor\":\"#2a3f5f\",\"gridcolor\":\"#C8D4E3\",\"linecolor\":\"#C8D4E3\",\"minorgridcolor\":\"#C8D4E3\",\"startlinecolor\":\"#2a3f5f\"},\"baxis\":{\"endlinecolor\":\"#2a3f5f\",\"gridcolor\":\"#C8D4E3\",\"linecolor\":\"#C8D4E3\",\"minorgridcolor\":\"#C8D4E3\",\"startlinecolor\":\"#2a3f5f\"},\"type\":\"carpet\"}],\"choropleth\":[{\"colorbar\":{\"outlinewidth\":0,\"ticks\":\"\"},\"type\":\"choropleth\"}],\"contour\":[{\"colorbar\":{\"outlinewidth\":0,\"ticks\":\"\"},\"colorscale\":[[0.0,\"#0d0887\"],[0.1111111111111111,\"#46039f\"],[0.2222222222222222,\"#7201a8\"],[0.3333333333333333,\"#9c179e\"],[0.4444444444444444,\"#bd3786\"],[0.5555555555555556,\"#d8576b\"],[0.6666666666666666,\"#ed7953\"],[0.7777777777777778,\"#fb9f3a\"],[0.8888888888888888,\"#fdca26\"],[1.0,\"#f0f921\"]],\"type\":\"contour\"}],\"contourcarpet\":[{\"colorbar\":{\"outlinewidth\":0,\"ticks\":\"\"},\"type\":\"contourcarpet\"}],\"heatmap\":[{\"colorbar\":{\"outlinewidth\":0,\"ticks\":\"\"},\"colorscale\":[[0.0,\"#0d0887\"],[0.1111111111111111,\"#46039f\"],[0.2222222222222222,\"#7201a8\"],[0.3333333333333333,\"#9c179e\"],[0.4444444444444444,\"#bd3786\"],[0.5555555555555556,\"#d8576b\"],[0.6666666666666666,\"#ed7953\"],[0.7777777777777778,\"#fb9f3a\"],[0.8888888888888888,\"#fdca26\"],[1.0,\"#f0f921\"]],\"type\":\"heatmap\"}],\"heatmapgl\":[{\"colorbar\":{\"outlinewidth\":0,\"ticks\":\"\"},\"colorscale\":[[0.0,\"#0d0887\"],[0.1111111111111111,\"#46039f\"],[0.2222222222222222,\"#7201a8\"],[0.3333333333333333,\"#9c179e\"],[0.4444444444444444,\"#bd3786\"],[0.5555555555555556,\"#d8576b\"],[0.6666666666666666,\"#ed7953\"],[0.7777777777777778,\"#fb9f3a\"],[0.8888888888888888,\"#fdca26\"],[1.0,\"#f0f921\"]],\"type\":\"heatmapgl\"}],\"histogram\":[{\"marker\":{\"pattern\":{\"fillmode\":\"overlay\",\"size\":10,\"solidity\":0.2}},\"type\":\"histogram\"}],\"histogram2d\":[{\"colorbar\":{\"outlinewidth\":0,\"ticks\":\"\"},\"colorscale\":[[0.0,\"#0d0887\"],[0.1111111111111111,\"#46039f\"],[0.2222222222222222,\"#7201a8\"],[0.3333333333333333,\"#9c179e\"],[0.4444444444444444,\"#bd3786\"],[0.5555555555555556,\"#d8576b\"],[0.6666666666666666,\"#ed7953\"],[0.7777777777777778,\"#fb9f3a\"],[0.8888888888888888,\"#fdca26\"],[1.0,\"#f0f921\"]],\"type\":\"histogram2d\"}],\"histogram2dcontour\":[{\"colorbar\":{\"outlinewidth\":0,\"ticks\":\"\"},\"colorscale\":[[0.0,\"#0d0887\"],[0.1111111111111111,\"#46039f\"],[0.2222222222222222,\"#7201a8\"],[0.3333333333333333,\"#9c179e\"],[0.4444444444444444,\"#bd3786\"],[0.5555555555555556,\"#d8576b\"],[0.6666666666666666,\"#ed7953\"],[0.7777777777777778,\"#fb9f3a\"],[0.8888888888888888,\"#fdca26\"],[1.0,\"#f0f921\"]],\"type\":\"histogram2dcontour\"}],\"mesh3d\":[{\"colorbar\":{\"outlinewidth\":0,\"ticks\":\"\"},\"type\":\"mesh3d\"}],\"parcoords\":[{\"line\":{\"colorbar\":{\"outlinewidth\":0,\"ticks\":\"\"}},\"type\":\"parcoords\"}],\"pie\":[{\"automargin\":true,\"type\":\"pie\"}],\"scatter\":[{\"marker\":{\"colorbar\":{\"outlinewidth\":0,\"ticks\":\"\"}},\"type\":\"scatter\"}],\"scatter3d\":[{\"line\":{\"colorbar\":{\"outlinewidth\":0,\"ticks\":\"\"}},\"marker\":{\"colorbar\":{\"outlinewidth\":0,\"ticks\":\"\"}},\"type\":\"scatter3d\"}],\"scattercarpet\":[{\"marker\":{\"colorbar\":{\"outlinewidth\":0,\"ticks\":\"\"}},\"type\":\"scattercarpet\"}],\"scattergeo\":[{\"marker\":{\"colorbar\":{\"outlinewidth\":0,\"ticks\":\"\"}},\"type\":\"scattergeo\"}],\"scattergl\":[{\"marker\":{\"colorbar\":{\"outlinewidth\":0,\"ticks\":\"\"}},\"type\":\"scattergl\"}],\"scattermapbox\":[{\"marker\":{\"colorbar\":{\"outlinewidth\":0,\"ticks\":\"\"}},\"type\":\"scattermapbox\"}],\"scatterpolar\":[{\"marker\":{\"colorbar\":{\"outlinewidth\":0,\"ticks\":\"\"}},\"type\":\"scatterpolar\"}],\"scatterpolargl\":[{\"marker\":{\"colorbar\":{\"outlinewidth\":0,\"ticks\":\"\"}},\"type\":\"scatterpolargl\"}],\"scatterternary\":[{\"marker\":{\"colorbar\":{\"outlinewidth\":0,\"ticks\":\"\"}},\"type\":\"scatterternary\"}],\"surface\":[{\"colorbar\":{\"outlinewidth\":0,\"ticks\":\"\"},\"colorscale\":[[0.0,\"#0d0887\"],[0.1111111111111111,\"#46039f\"],[0.2222222222222222,\"#7201a8\"],[0.3333333333333333,\"#9c179e\"],[0.4444444444444444,\"#bd3786\"],[0.5555555555555556,\"#d8576b\"],[0.6666666666666666,\"#ed7953\"],[0.7777777777777778,\"#fb9f3a\"],[0.8888888888888888,\"#fdca26\"],[1.0,\"#f0f921\"]],\"type\":\"surface\"}],\"table\":[{\"cells\":{\"fill\":{\"color\":\"#EBF0F8\"},\"line\":{\"color\":\"white\"}},\"header\":{\"fill\":{\"color\":\"#C8D4E3\"},\"line\":{\"color\":\"white\"}},\"type\":\"table\"}]},\"layout\":{\"annotationdefaults\":{\"arrowcolor\":\"#2a3f5f\",\"arrowhead\":0,\"arrowwidth\":1},\"autotypenumbers\":\"strict\",\"coloraxis\":{\"colorbar\":{\"outlinewidth\":0,\"ticks\":\"\"}},\"colorscale\":{\"diverging\":[[0,\"#8e0152\"],[0.1,\"#c51b7d\"],[0.2,\"#de77ae\"],[0.3,\"#f1b6da\"],[0.4,\"#fde0ef\"],[0.5,\"#f7f7f7\"],[0.6,\"#e6f5d0\"],[0.7,\"#b8e186\"],[0.8,\"#7fbc41\"],[0.9,\"#4d9221\"],[1,\"#276419\"]],\"sequential\":[[0.0,\"#0d0887\"],[0.1111111111111111,\"#46039f\"],[0.2222222222222222,\"#7201a8\"],[0.3333333333333333,\"#9c179e\"],[0.4444444444444444,\"#bd3786\"],[0.5555555555555556,\"#d8576b\"],[0.6666666666666666,\"#ed7953\"],[0.7777777777777778,\"#fb9f3a\"],[0.8888888888888888,\"#fdca26\"],[1.0,\"#f0f921\"]],\"sequentialminus\":[[0.0,\"#0d0887\"],[0.1111111111111111,\"#46039f\"],[0.2222222222222222,\"#7201a8\"],[0.3333333333333333,\"#9c179e\"],[0.4444444444444444,\"#bd3786\"],[0.5555555555555556,\"#d8576b\"],[0.6666666666666666,\"#ed7953\"],[0.7777777777777778,\"#fb9f3a\"],[0.8888888888888888,\"#fdca26\"],[1.0,\"#f0f921\"]]},\"colorway\":[\"#636efa\",\"#EF553B\",\"#00cc96\",\"#ab63fa\",\"#FFA15A\",\"#19d3f3\",\"#FF6692\",\"#B6E880\",\"#FF97FF\",\"#FECB52\"],\"font\":{\"color\":\"#8C8C8C\"},\"geo\":{\"bgcolor\":\"white\",\"lakecolor\":\"white\",\"landcolor\":\"white\",\"showlakes\":true,\"showland\":true,\"subunitcolor\":\"#C8D4E3\"},\"hoverlabel\":{\"align\":\"left\"},\"hovermode\":\"closest\",\"mapbox\":{\"style\":\"light\"},\"paper_bgcolor\":\"white\",\"plot_bgcolor\":\"white\",\"polar\":{\"angularaxis\":{\"gridcolor\":\"#EBF0F8\",\"linecolor\":\"#EBF0F8\",\"ticks\":\"\"},\"bgcolor\":\"white\",\"radialaxis\":{\"gridcolor\":\"#EBF0F8\",\"linecolor\":\"#EBF0F8\",\"ticks\":\"\"}},\"scene\":{\"xaxis\":{\"backgroundcolor\":\"white\",\"gridcolor\":\"#DFE8F3\",\"gridwidth\":2,\"linecolor\":\"#EBF0F8\",\"showbackground\":true,\"ticks\":\"\",\"zerolinecolor\":\"#EBF0F8\"},\"yaxis\":{\"backgroundcolor\":\"white\",\"gridcolor\":\"#DFE8F3\",\"gridwidth\":2,\"linecolor\":\"#EBF0F8\",\"showbackground\":true,\"ticks\":\"\",\"zerolinecolor\":\"#EBF0F8\"},\"zaxis\":{\"backgroundcolor\":\"white\",\"gridcolor\":\"#DFE8F3\",\"gridwidth\":2,\"linecolor\":\"#EBF0F8\",\"showbackground\":true,\"ticks\":\"\",\"zerolinecolor\":\"#EBF0F8\"}},\"shapedefaults\":{\"line\":{\"color\":\"#2a3f5f\"}},\"ternary\":{\"aaxis\":{\"gridcolor\":\"#DFE8F3\",\"linecolor\":\"#A2B1C6\",\"ticks\":\"\"},\"baxis\":{\"gridcolor\":\"#DFE8F3\",\"linecolor\":\"#A2B1C6\",\"ticks\":\"\"},\"bgcolor\":\"white\",\"caxis\":{\"gridcolor\":\"#DFE8F3\",\"linecolor\":\"#A2B1C6\",\"ticks\":\"\"}},\"title\":{\"x\":0.05},\"xaxis\":{\"automargin\":true,\"gridcolor\":\"#EBF0F8\",\"linecolor\":\"#EBF0F8\",\"ticks\":\"\",\"title\":{\"standoff\":15},\"zerolinecolor\":\"#EBF0F8\",\"zerolinewidth\":2},\"yaxis\":{\"automargin\":true,\"gridcolor\":\"#EBF0F8\",\"linecolor\":\"#EBF0F8\",\"ticks\":\"\",\"title\":{\"standoff\":15},\"zerolinecolor\":\"#EBF0F8\",\"zerolinewidth\":2},\"margin\":{\"l\":20,\"r\":20},\"legend\":{\"yanchor\":\"top\",\"y\":-0.2,\"xanchor\":\"left\",\"x\":0.0,\"orientation\":\"h\"}}},\"xaxis\":{\"anchor\":\"y\",\"domain\":[0.0,1.0],\"title\":{\"text\":\"Train / test ratio\"}},\"yaxis\":{\"anchor\":\"x\",\"domain\":[0.0,1.0],\"title\":{\"text\":\"\"}},\"legend\":{\"tracegroupgap\":0},\"title\":{\"text\":\"f1 overfitness\"},\"boxmode\":\"group\"},                        {\"responsive\": true}                    ).then(function(){\n",
       "                            \n",
       "var gd = document.getElementById('5b4d861e-94d6-43ef-810e-b404c0ea73ea');\n",
       "var x = new MutationObserver(function (mutations, observer) {{\n",
       "        var display = window.getComputedStyle(gd).display;\n",
       "        if (!display || display === 'none') {{\n",
       "            console.log([gd, 'removed!']);\n",
       "            Plotly.purge(gd);\n",
       "            observer.disconnect();\n",
       "        }}\n",
       "}});\n",
       "\n",
       "// Listen for the removal of the full notebook cells\n",
       "var notebookContainer = gd.closest('#notebook-container');\n",
       "if (notebookContainer) {{\n",
       "    x.observe(notebookContainer, {childList: true});\n",
       "}}\n",
       "\n",
       "// Listen for the clearing of the current output cell\n",
       "var outputEl = gd.closest('.output');\n",
       "if (outputEl) {{\n",
       "    x.observe(outputEl, {childList: true});\n",
       "}}\n",
       "\n",
       "                        })                };                });            </script>        </div>"
      ]
     },
     "metadata": {},
     "output_type": "display_data"
    }
   ],
   "source": [
    "# show a measure of how much each estimator is overfitting when comparing test and train scores.\n",
    "\n",
    "pnd.plot.overfitness(metric=\"f1\")"
   ]
  },
  {
   "cell_type": "code",
   "execution_count": 44,
   "id": "4026bdeb",
   "metadata": {},
   "outputs": [
    {
     "data": {
      "application/vnd.plotly.v1+json": {
       "config": {
        "plotlyServerURL": "https://plot.ly"
       },
       "data": [
        {
         "hovertemplate": "Class=1<br>Feature: age=%{x}<br>Target=%{y}<extra></extra>",
         "legendgroup": "1",
         "line": {
          "color": "rgb(127, 60, 141)",
          "dash": "solid"
         },
         "marker": {
          "symbol": "circle"
         },
         "mode": "lines",
         "name": "1",
         "orientation": "v",
         "showlegend": true,
         "type": "scatter",
         "x": [
          169,
          230.33333333333334,
          291.6666666666667,
          353,
          414.33333333333337,
          475.6666666666667,
          537,
          598.3333333333334,
          659.6666666666667,
          721,
          782.3333333333334,
          843.6666666666667,
          905,
          966.3333333333334,
          1027.6666666666667,
          1089,
          1150.3333333333335,
          1211.6666666666667,
          1273,
          1334.3333333333335,
          1395.6666666666667,
          1457,
          1518.3333333333335,
          1579.6666666666667,
          1641,
          1702.3333333333335,
          1763.6666666666667,
          1825,
          1886.3333333333335,
          1947.6666666666667,
          2009,
          2070.3333333333335,
          2131.666666666667,
          2193,
          2254.3333333333335,
          2315.666666666667,
          2377,
          2438.3333333333335,
          2499.666666666667,
          2561,
          2622.3333333333335,
          2683.666666666667,
          2745,
          2806.3333333333335,
          2867.666666666667,
          2929,
          2990.3333333333335,
          3051.666666666667,
          3113,
          3174.3333333333335,
          3235.666666666667,
          3297,
          3358.3333333333335,
          3419.666666666667,
          3481,
          3542.3333333333335,
          3603.666666666667,
          3665,
          3726.3333333333335,
          3787.666666666667,
          3849,
          3910.3333333333335,
          3971.666666666667,
          4033,
          4094.3333333333335,
          4155.666666666667,
          4217,
          4278.333333333334,
          4339.666666666667,
          4401,
          4462.333333333334,
          4523.666666666667,
          4585,
          4646.333333333334,
          4707.666666666667,
          4769,
          4830.333333333334,
          4891.666666666667,
          4953,
          5014.333333333334,
          5075.666666666667,
          5137,
          5198.333333333334,
          5259.666666666667,
          5321,
          5382.333333333334,
          5443.666666666667,
          5505,
          5566.333333333334,
          5627.666666666667,
          5689,
          5750.333333333334,
          5811.666666666667,
          5873,
          5934.333333333334,
          5995.666666666667,
          6057,
          6118.333333333334,
          6179.666666666667,
          6241
         ],
         "xaxis": "x",
         "y": [
          0.25315555555555563,
          0.25315555555555563,
          0.25315555555555563,
          0.25315555555555563,
          0.25315555555555563,
          0.25315555555555563,
          0.25315555555555563,
          0.25328888888888895,
          0.2541777777777777,
          0.2604444444444444,
          0.26280000000000003,
          0.26280000000000003,
          0.2595555555555555,
          0.2578666666666666,
          0.2523555555555555,
          0.24991111111111097,
          0.24991111111111097,
          0.24991111111111097,
          0.24991111111111097,
          0.24991111111111097,
          0.24991111111111097,
          0.24991111111111097,
          0.2515999999999999,
          0.2544444444444444,
          0.2544444444444444,
          0.2555111111111111,
          0.25715555555555547,
          0.2708888888888888,
          0.27631111111111123,
          0.2958666666666668,
          0.3003111111111111,
          0.30804444444444445,
          0.3115999999999999,
          0.3105333333333333,
          0.3092444444444444,
          0.3194222222222224,
          0.3245777777777779,
          0.33111111111111113,
          0.3325777777777779,
          0.35977777777777764,
          0.3629777777777776,
          0.37306666666666655,
          0.44520000000000026,
          0.44231111111111143,
          0.4644444444444444,
          0.4706666666666666,
          0.5026222222222221,
          0.511866666666667,
          0.5249333333333336,
          0.5415999999999995,
          0.5595555555555555,
          0.5784000000000002,
          0.5826666666666668,
          0.5833777777777777,
          0.5801777777777775,
          0.5782222222222222,
          0.5776888888888888,
          0.5784444444444442,
          0.5807555555555556,
          0.5852000000000003,
          0.5881777777777778,
          0.5866666666666668,
          0.5861333333333334,
          0.5899555555555559,
          0.5885777777777782,
          0.5888888888888892,
          0.5867111111111109,
          0.5833777777777774,
          0.5832444444444441,
          0.5820444444444443,
          0.5752000000000006,
          0.5764888888888896,
          0.5686222222222225,
          0.5680444444444449,
          0.5672444444444448,
          0.5664444444444444,
          0.5640444444444448,
          0.5632444444444448,
          0.564177777777778,
          0.5639555555555557,
          0.5634222222222222,
          0.5674666666666663,
          0.5706666666666668,
          0.5770222222222224,
          0.5786666666666668,
          0.5946222222222219,
          0.5993333333333328,
          0.6046222222222217,
          0.6112444444444439,
          0.6112444444444439,
          0.611911111111111,
          0.6122666666666665,
          0.613111111111111,
          0.6128444444444445,
          0.6179999999999999,
          0.6179999999999999,
          0.6219555555555554,
          0.624666666666666,
          0.6199555555555556,
          0.6187111111111111
         ],
         "yaxis": "y"
        }
       ],
       "layout": {
        "legend": {
         "title": {
          "text": "Class"
         },
         "tracegroupgap": 0
        },
        "template": {
         "data": {
          "bar": [
           {
            "error_x": {
             "color": "#2a3f5f"
            },
            "error_y": {
             "color": "#2a3f5f"
            },
            "marker": {
             "line": {
              "color": "white",
              "width": 0.5
             },
             "pattern": {
              "fillmode": "overlay",
              "size": 10,
              "solidity": 0.2
             }
            },
            "type": "bar"
           }
          ],
          "barpolar": [
           {
            "marker": {
             "line": {
              "color": "white",
              "width": 0.5
             },
             "pattern": {
              "fillmode": "overlay",
              "size": 10,
              "solidity": 0.2
             }
            },
            "type": "barpolar"
           }
          ],
          "carpet": [
           {
            "aaxis": {
             "endlinecolor": "#2a3f5f",
             "gridcolor": "#C8D4E3",
             "linecolor": "#C8D4E3",
             "minorgridcolor": "#C8D4E3",
             "startlinecolor": "#2a3f5f"
            },
            "baxis": {
             "endlinecolor": "#2a3f5f",
             "gridcolor": "#C8D4E3",
             "linecolor": "#C8D4E3",
             "minorgridcolor": "#C8D4E3",
             "startlinecolor": "#2a3f5f"
            },
            "type": "carpet"
           }
          ],
          "choropleth": [
           {
            "colorbar": {
             "outlinewidth": 0,
             "ticks": ""
            },
            "type": "choropleth"
           }
          ],
          "contour": [
           {
            "colorbar": {
             "outlinewidth": 0,
             "ticks": ""
            },
            "colorscale": [
             [
              0,
              "#0d0887"
             ],
             [
              0.1111111111111111,
              "#46039f"
             ],
             [
              0.2222222222222222,
              "#7201a8"
             ],
             [
              0.3333333333333333,
              "#9c179e"
             ],
             [
              0.4444444444444444,
              "#bd3786"
             ],
             [
              0.5555555555555556,
              "#d8576b"
             ],
             [
              0.6666666666666666,
              "#ed7953"
             ],
             [
              0.7777777777777778,
              "#fb9f3a"
             ],
             [
              0.8888888888888888,
              "#fdca26"
             ],
             [
              1,
              "#f0f921"
             ]
            ],
            "type": "contour"
           }
          ],
          "contourcarpet": [
           {
            "colorbar": {
             "outlinewidth": 0,
             "ticks": ""
            },
            "type": "contourcarpet"
           }
          ],
          "heatmap": [
           {
            "colorbar": {
             "outlinewidth": 0,
             "ticks": ""
            },
            "colorscale": [
             [
              0,
              "#0d0887"
             ],
             [
              0.1111111111111111,
              "#46039f"
             ],
             [
              0.2222222222222222,
              "#7201a8"
             ],
             [
              0.3333333333333333,
              "#9c179e"
             ],
             [
              0.4444444444444444,
              "#bd3786"
             ],
             [
              0.5555555555555556,
              "#d8576b"
             ],
             [
              0.6666666666666666,
              "#ed7953"
             ],
             [
              0.7777777777777778,
              "#fb9f3a"
             ],
             [
              0.8888888888888888,
              "#fdca26"
             ],
             [
              1,
              "#f0f921"
             ]
            ],
            "type": "heatmap"
           }
          ],
          "heatmapgl": [
           {
            "colorbar": {
             "outlinewidth": 0,
             "ticks": ""
            },
            "colorscale": [
             [
              0,
              "#0d0887"
             ],
             [
              0.1111111111111111,
              "#46039f"
             ],
             [
              0.2222222222222222,
              "#7201a8"
             ],
             [
              0.3333333333333333,
              "#9c179e"
             ],
             [
              0.4444444444444444,
              "#bd3786"
             ],
             [
              0.5555555555555556,
              "#d8576b"
             ],
             [
              0.6666666666666666,
              "#ed7953"
             ],
             [
              0.7777777777777778,
              "#fb9f3a"
             ],
             [
              0.8888888888888888,
              "#fdca26"
             ],
             [
              1,
              "#f0f921"
             ]
            ],
            "type": "heatmapgl"
           }
          ],
          "histogram": [
           {
            "marker": {
             "pattern": {
              "fillmode": "overlay",
              "size": 10,
              "solidity": 0.2
             }
            },
            "type": "histogram"
           }
          ],
          "histogram2d": [
           {
            "colorbar": {
             "outlinewidth": 0,
             "ticks": ""
            },
            "colorscale": [
             [
              0,
              "#0d0887"
             ],
             [
              0.1111111111111111,
              "#46039f"
             ],
             [
              0.2222222222222222,
              "#7201a8"
             ],
             [
              0.3333333333333333,
              "#9c179e"
             ],
             [
              0.4444444444444444,
              "#bd3786"
             ],
             [
              0.5555555555555556,
              "#d8576b"
             ],
             [
              0.6666666666666666,
              "#ed7953"
             ],
             [
              0.7777777777777778,
              "#fb9f3a"
             ],
             [
              0.8888888888888888,
              "#fdca26"
             ],
             [
              1,
              "#f0f921"
             ]
            ],
            "type": "histogram2d"
           }
          ],
          "histogram2dcontour": [
           {
            "colorbar": {
             "outlinewidth": 0,
             "ticks": ""
            },
            "colorscale": [
             [
              0,
              "#0d0887"
             ],
             [
              0.1111111111111111,
              "#46039f"
             ],
             [
              0.2222222222222222,
              "#7201a8"
             ],
             [
              0.3333333333333333,
              "#9c179e"
             ],
             [
              0.4444444444444444,
              "#bd3786"
             ],
             [
              0.5555555555555556,
              "#d8576b"
             ],
             [
              0.6666666666666666,
              "#ed7953"
             ],
             [
              0.7777777777777778,
              "#fb9f3a"
             ],
             [
              0.8888888888888888,
              "#fdca26"
             ],
             [
              1,
              "#f0f921"
             ]
            ],
            "type": "histogram2dcontour"
           }
          ],
          "mesh3d": [
           {
            "colorbar": {
             "outlinewidth": 0,
             "ticks": ""
            },
            "type": "mesh3d"
           }
          ],
          "parcoords": [
           {
            "line": {
             "colorbar": {
              "outlinewidth": 0,
              "ticks": ""
             }
            },
            "type": "parcoords"
           }
          ],
          "pie": [
           {
            "automargin": true,
            "type": "pie"
           }
          ],
          "scatter": [
           {
            "marker": {
             "colorbar": {
              "outlinewidth": 0,
              "ticks": ""
             }
            },
            "type": "scatter"
           }
          ],
          "scatter3d": [
           {
            "line": {
             "colorbar": {
              "outlinewidth": 0,
              "ticks": ""
             }
            },
            "marker": {
             "colorbar": {
              "outlinewidth": 0,
              "ticks": ""
             }
            },
            "type": "scatter3d"
           }
          ],
          "scattercarpet": [
           {
            "marker": {
             "colorbar": {
              "outlinewidth": 0,
              "ticks": ""
             }
            },
            "type": "scattercarpet"
           }
          ],
          "scattergeo": [
           {
            "marker": {
             "colorbar": {
              "outlinewidth": 0,
              "ticks": ""
             }
            },
            "type": "scattergeo"
           }
          ],
          "scattergl": [
           {
            "marker": {
             "colorbar": {
              "outlinewidth": 0,
              "ticks": ""
             }
            },
            "type": "scattergl"
           }
          ],
          "scattermapbox": [
           {
            "marker": {
             "colorbar": {
              "outlinewidth": 0,
              "ticks": ""
             }
            },
            "type": "scattermapbox"
           }
          ],
          "scatterpolar": [
           {
            "marker": {
             "colorbar": {
              "outlinewidth": 0,
              "ticks": ""
             }
            },
            "type": "scatterpolar"
           }
          ],
          "scatterpolargl": [
           {
            "marker": {
             "colorbar": {
              "outlinewidth": 0,
              "ticks": ""
             }
            },
            "type": "scatterpolargl"
           }
          ],
          "scatterternary": [
           {
            "marker": {
             "colorbar": {
              "outlinewidth": 0,
              "ticks": ""
             }
            },
            "type": "scatterternary"
           }
          ],
          "surface": [
           {
            "colorbar": {
             "outlinewidth": 0,
             "ticks": ""
            },
            "colorscale": [
             [
              0,
              "#0d0887"
             ],
             [
              0.1111111111111111,
              "#46039f"
             ],
             [
              0.2222222222222222,
              "#7201a8"
             ],
             [
              0.3333333333333333,
              "#9c179e"
             ],
             [
              0.4444444444444444,
              "#bd3786"
             ],
             [
              0.5555555555555556,
              "#d8576b"
             ],
             [
              0.6666666666666666,
              "#ed7953"
             ],
             [
              0.7777777777777778,
              "#fb9f3a"
             ],
             [
              0.8888888888888888,
              "#fdca26"
             ],
             [
              1,
              "#f0f921"
             ]
            ],
            "type": "surface"
           }
          ],
          "table": [
           {
            "cells": {
             "fill": {
              "color": "#EBF0F8"
             },
             "line": {
              "color": "white"
             }
            },
            "header": {
             "fill": {
              "color": "#C8D4E3"
             },
             "line": {
              "color": "white"
             }
            },
            "type": "table"
           }
          ]
         },
         "layout": {
          "annotationdefaults": {
           "arrowcolor": "#2a3f5f",
           "arrowhead": 0,
           "arrowwidth": 1
          },
          "autotypenumbers": "strict",
          "coloraxis": {
           "colorbar": {
            "outlinewidth": 0,
            "ticks": ""
           }
          },
          "colorscale": {
           "diverging": [
            [
             0,
             "#8e0152"
            ],
            [
             0.1,
             "#c51b7d"
            ],
            [
             0.2,
             "#de77ae"
            ],
            [
             0.3,
             "#f1b6da"
            ],
            [
             0.4,
             "#fde0ef"
            ],
            [
             0.5,
             "#f7f7f7"
            ],
            [
             0.6,
             "#e6f5d0"
            ],
            [
             0.7,
             "#b8e186"
            ],
            [
             0.8,
             "#7fbc41"
            ],
            [
             0.9,
             "#4d9221"
            ],
            [
             1,
             "#276419"
            ]
           ],
           "sequential": [
            [
             0,
             "#0d0887"
            ],
            [
             0.1111111111111111,
             "#46039f"
            ],
            [
             0.2222222222222222,
             "#7201a8"
            ],
            [
             0.3333333333333333,
             "#9c179e"
            ],
            [
             0.4444444444444444,
             "#bd3786"
            ],
            [
             0.5555555555555556,
             "#d8576b"
            ],
            [
             0.6666666666666666,
             "#ed7953"
            ],
            [
             0.7777777777777778,
             "#fb9f3a"
            ],
            [
             0.8888888888888888,
             "#fdca26"
            ],
            [
             1,
             "#f0f921"
            ]
           ],
           "sequentialminus": [
            [
             0,
             "#0d0887"
            ],
            [
             0.1111111111111111,
             "#46039f"
            ],
            [
             0.2222222222222222,
             "#7201a8"
            ],
            [
             0.3333333333333333,
             "#9c179e"
            ],
            [
             0.4444444444444444,
             "#bd3786"
            ],
            [
             0.5555555555555556,
             "#d8576b"
            ],
            [
             0.6666666666666666,
             "#ed7953"
            ],
            [
             0.7777777777777778,
             "#fb9f3a"
            ],
            [
             0.8888888888888888,
             "#fdca26"
            ],
            [
             1,
             "#f0f921"
            ]
           ]
          },
          "colorway": [
           "#636efa",
           "#EF553B",
           "#00cc96",
           "#ab63fa",
           "#FFA15A",
           "#19d3f3",
           "#FF6692",
           "#B6E880",
           "#FF97FF",
           "#FECB52"
          ],
          "font": {
           "color": "#8C8C8C"
          },
          "geo": {
           "bgcolor": "white",
           "lakecolor": "white",
           "landcolor": "white",
           "showlakes": true,
           "showland": true,
           "subunitcolor": "#C8D4E3"
          },
          "hoverlabel": {
           "align": "left"
          },
          "hovermode": "closest",
          "legend": {
           "orientation": "h",
           "x": 0,
           "xanchor": "left",
           "y": -0.2,
           "yanchor": "top"
          },
          "mapbox": {
           "style": "light"
          },
          "margin": {
           "l": 20,
           "r": 20
          },
          "paper_bgcolor": "white",
          "plot_bgcolor": "white",
          "polar": {
           "angularaxis": {
            "gridcolor": "#EBF0F8",
            "linecolor": "#EBF0F8",
            "ticks": ""
           },
           "bgcolor": "white",
           "radialaxis": {
            "gridcolor": "#EBF0F8",
            "linecolor": "#EBF0F8",
            "ticks": ""
           }
          },
          "scene": {
           "xaxis": {
            "backgroundcolor": "white",
            "gridcolor": "#DFE8F3",
            "gridwidth": 2,
            "linecolor": "#EBF0F8",
            "showbackground": true,
            "ticks": "",
            "zerolinecolor": "#EBF0F8"
           },
           "yaxis": {
            "backgroundcolor": "white",
            "gridcolor": "#DFE8F3",
            "gridwidth": 2,
            "linecolor": "#EBF0F8",
            "showbackground": true,
            "ticks": "",
            "zerolinecolor": "#EBF0F8"
           },
           "zaxis": {
            "backgroundcolor": "white",
            "gridcolor": "#DFE8F3",
            "gridwidth": 2,
            "linecolor": "#EBF0F8",
            "showbackground": true,
            "ticks": "",
            "zerolinecolor": "#EBF0F8"
           }
          },
          "shapedefaults": {
           "line": {
            "color": "#2a3f5f"
           }
          },
          "ternary": {
           "aaxis": {
            "gridcolor": "#DFE8F3",
            "linecolor": "#A2B1C6",
            "ticks": ""
           },
           "baxis": {
            "gridcolor": "#DFE8F3",
            "linecolor": "#A2B1C6",
            "ticks": ""
           },
           "bgcolor": "white",
           "caxis": {
            "gridcolor": "#DFE8F3",
            "linecolor": "#A2B1C6",
            "ticks": ""
           }
          },
          "title": {
           "x": 0.05
          },
          "xaxis": {
           "automargin": true,
           "gridcolor": "#EBF0F8",
           "linecolor": "#EBF0F8",
           "ticks": "",
           "title": {
            "standoff": 15
           },
           "zerolinecolor": "#EBF0F8",
           "zerolinewidth": 2
          },
          "yaxis": {
           "automargin": true,
           "gridcolor": "#EBF0F8",
           "linecolor": "#EBF0F8",
           "ticks": "",
           "title": {
            "standoff": 15
           },
           "zerolinecolor": "#EBF0F8",
           "zerolinewidth": 2
          }
         }
        },
        "title": {
         "text": "Average partial dependence between feature 'age' and target"
        },
        "xaxis": {
         "anchor": "y",
         "domain": [
          0,
          1
         ],
         "title": {
          "text": "Feature: age"
         }
        },
        "yaxis": {
         "anchor": "x",
         "domain": [
          0,
          1
         ],
         "title": {
          "text": "Target"
         }
        }
       }
      },
      "text/html": [
       "<div>                            <div id=\"87a205c0-a0dc-4dc6-8551-24ac57837776\" class=\"plotly-graph-div\" style=\"height:525px; width:100%;\"></div>            <script type=\"text/javascript\">                require([\"plotly\"], function(Plotly) {                    window.PLOTLYENV=window.PLOTLYENV || {};                                    if (document.getElementById(\"87a205c0-a0dc-4dc6-8551-24ac57837776\")) {                    Plotly.newPlot(                        \"87a205c0-a0dc-4dc6-8551-24ac57837776\",                        [{\"hovertemplate\":\"Class=1<br>Feature: age=%{x}<br>Target=%{y}<extra></extra>\",\"legendgroup\":\"1\",\"line\":{\"color\":\"rgb(127, 60, 141)\",\"dash\":\"solid\"},\"marker\":{\"symbol\":\"circle\"},\"mode\":\"lines\",\"name\":\"1\",\"orientation\":\"v\",\"showlegend\":true,\"x\":[169.0,230.33333333333334,291.6666666666667,353.0,414.33333333333337,475.6666666666667,537.0,598.3333333333334,659.6666666666667,721.0,782.3333333333334,843.6666666666667,905.0,966.3333333333334,1027.6666666666667,1089.0,1150.3333333333335,1211.6666666666667,1273.0,1334.3333333333335,1395.6666666666667,1457.0,1518.3333333333335,1579.6666666666667,1641.0,1702.3333333333335,1763.6666666666667,1825.0,1886.3333333333335,1947.6666666666667,2009.0,2070.3333333333335,2131.666666666667,2193.0,2254.3333333333335,2315.666666666667,2377.0,2438.3333333333335,2499.666666666667,2561.0,2622.3333333333335,2683.666666666667,2745.0,2806.3333333333335,2867.666666666667,2929.0,2990.3333333333335,3051.666666666667,3113.0,3174.3333333333335,3235.666666666667,3297.0,3358.3333333333335,3419.666666666667,3481.0,3542.3333333333335,3603.666666666667,3665.0,3726.3333333333335,3787.666666666667,3849.0,3910.3333333333335,3971.666666666667,4033.0,4094.3333333333335,4155.666666666667,4217.0,4278.333333333334,4339.666666666667,4401.0,4462.333333333334,4523.666666666667,4585.0,4646.333333333334,4707.666666666667,4769.0,4830.333333333334,4891.666666666667,4953.0,5014.333333333334,5075.666666666667,5137.0,5198.333333333334,5259.666666666667,5321.0,5382.333333333334,5443.666666666667,5505.0,5566.333333333334,5627.666666666667,5689.0,5750.333333333334,5811.666666666667,5873.0,5934.333333333334,5995.666666666667,6057.0,6118.333333333334,6179.666666666667,6241.0],\"xaxis\":\"x\",\"y\":[0.25315555555555563,0.25315555555555563,0.25315555555555563,0.25315555555555563,0.25315555555555563,0.25315555555555563,0.25315555555555563,0.25328888888888895,0.2541777777777777,0.2604444444444444,0.26280000000000003,0.26280000000000003,0.2595555555555555,0.2578666666666666,0.2523555555555555,0.24991111111111097,0.24991111111111097,0.24991111111111097,0.24991111111111097,0.24991111111111097,0.24991111111111097,0.24991111111111097,0.2515999999999999,0.2544444444444444,0.2544444444444444,0.2555111111111111,0.25715555555555547,0.2708888888888888,0.27631111111111123,0.2958666666666668,0.3003111111111111,0.30804444444444445,0.3115999999999999,0.3105333333333333,0.3092444444444444,0.3194222222222224,0.3245777777777779,0.33111111111111113,0.3325777777777779,0.35977777777777764,0.3629777777777776,0.37306666666666655,0.44520000000000026,0.44231111111111143,0.4644444444444444,0.4706666666666666,0.5026222222222221,0.511866666666667,0.5249333333333336,0.5415999999999995,0.5595555555555555,0.5784000000000002,0.5826666666666668,0.5833777777777777,0.5801777777777775,0.5782222222222222,0.5776888888888888,0.5784444444444442,0.5807555555555556,0.5852000000000003,0.5881777777777778,0.5866666666666668,0.5861333333333334,0.5899555555555559,0.5885777777777782,0.5888888888888892,0.5867111111111109,0.5833777777777774,0.5832444444444441,0.5820444444444443,0.5752000000000006,0.5764888888888896,0.5686222222222225,0.5680444444444449,0.5672444444444448,0.5664444444444444,0.5640444444444448,0.5632444444444448,0.564177777777778,0.5639555555555557,0.5634222222222222,0.5674666666666663,0.5706666666666668,0.5770222222222224,0.5786666666666668,0.5946222222222219,0.5993333333333328,0.6046222222222217,0.6112444444444439,0.6112444444444439,0.611911111111111,0.6122666666666665,0.613111111111111,0.6128444444444445,0.6179999999999999,0.6179999999999999,0.6219555555555554,0.624666666666666,0.6199555555555556,0.6187111111111111],\"yaxis\":\"y\",\"type\":\"scatter\"}],                        {\"template\":{\"data\":{\"bar\":[{\"error_x\":{\"color\":\"#2a3f5f\"},\"error_y\":{\"color\":\"#2a3f5f\"},\"marker\":{\"line\":{\"color\":\"white\",\"width\":0.5},\"pattern\":{\"fillmode\":\"overlay\",\"size\":10,\"solidity\":0.2}},\"type\":\"bar\"}],\"barpolar\":[{\"marker\":{\"line\":{\"color\":\"white\",\"width\":0.5},\"pattern\":{\"fillmode\":\"overlay\",\"size\":10,\"solidity\":0.2}},\"type\":\"barpolar\"}],\"carpet\":[{\"aaxis\":{\"endlinecolor\":\"#2a3f5f\",\"gridcolor\":\"#C8D4E3\",\"linecolor\":\"#C8D4E3\",\"minorgridcolor\":\"#C8D4E3\",\"startlinecolor\":\"#2a3f5f\"},\"baxis\":{\"endlinecolor\":\"#2a3f5f\",\"gridcolor\":\"#C8D4E3\",\"linecolor\":\"#C8D4E3\",\"minorgridcolor\":\"#C8D4E3\",\"startlinecolor\":\"#2a3f5f\"},\"type\":\"carpet\"}],\"choropleth\":[{\"colorbar\":{\"outlinewidth\":0,\"ticks\":\"\"},\"type\":\"choropleth\"}],\"contour\":[{\"colorbar\":{\"outlinewidth\":0,\"ticks\":\"\"},\"colorscale\":[[0.0,\"#0d0887\"],[0.1111111111111111,\"#46039f\"],[0.2222222222222222,\"#7201a8\"],[0.3333333333333333,\"#9c179e\"],[0.4444444444444444,\"#bd3786\"],[0.5555555555555556,\"#d8576b\"],[0.6666666666666666,\"#ed7953\"],[0.7777777777777778,\"#fb9f3a\"],[0.8888888888888888,\"#fdca26\"],[1.0,\"#f0f921\"]],\"type\":\"contour\"}],\"contourcarpet\":[{\"colorbar\":{\"outlinewidth\":0,\"ticks\":\"\"},\"type\":\"contourcarpet\"}],\"heatmap\":[{\"colorbar\":{\"outlinewidth\":0,\"ticks\":\"\"},\"colorscale\":[[0.0,\"#0d0887\"],[0.1111111111111111,\"#46039f\"],[0.2222222222222222,\"#7201a8\"],[0.3333333333333333,\"#9c179e\"],[0.4444444444444444,\"#bd3786\"],[0.5555555555555556,\"#d8576b\"],[0.6666666666666666,\"#ed7953\"],[0.7777777777777778,\"#fb9f3a\"],[0.8888888888888888,\"#fdca26\"],[1.0,\"#f0f921\"]],\"type\":\"heatmap\"}],\"heatmapgl\":[{\"colorbar\":{\"outlinewidth\":0,\"ticks\":\"\"},\"colorscale\":[[0.0,\"#0d0887\"],[0.1111111111111111,\"#46039f\"],[0.2222222222222222,\"#7201a8\"],[0.3333333333333333,\"#9c179e\"],[0.4444444444444444,\"#bd3786\"],[0.5555555555555556,\"#d8576b\"],[0.6666666666666666,\"#ed7953\"],[0.7777777777777778,\"#fb9f3a\"],[0.8888888888888888,\"#fdca26\"],[1.0,\"#f0f921\"]],\"type\":\"heatmapgl\"}],\"histogram\":[{\"marker\":{\"pattern\":{\"fillmode\":\"overlay\",\"size\":10,\"solidity\":0.2}},\"type\":\"histogram\"}],\"histogram2d\":[{\"colorbar\":{\"outlinewidth\":0,\"ticks\":\"\"},\"colorscale\":[[0.0,\"#0d0887\"],[0.1111111111111111,\"#46039f\"],[0.2222222222222222,\"#7201a8\"],[0.3333333333333333,\"#9c179e\"],[0.4444444444444444,\"#bd3786\"],[0.5555555555555556,\"#d8576b\"],[0.6666666666666666,\"#ed7953\"],[0.7777777777777778,\"#fb9f3a\"],[0.8888888888888888,\"#fdca26\"],[1.0,\"#f0f921\"]],\"type\":\"histogram2d\"}],\"histogram2dcontour\":[{\"colorbar\":{\"outlinewidth\":0,\"ticks\":\"\"},\"colorscale\":[[0.0,\"#0d0887\"],[0.1111111111111111,\"#46039f\"],[0.2222222222222222,\"#7201a8\"],[0.3333333333333333,\"#9c179e\"],[0.4444444444444444,\"#bd3786\"],[0.5555555555555556,\"#d8576b\"],[0.6666666666666666,\"#ed7953\"],[0.7777777777777778,\"#fb9f3a\"],[0.8888888888888888,\"#fdca26\"],[1.0,\"#f0f921\"]],\"type\":\"histogram2dcontour\"}],\"mesh3d\":[{\"colorbar\":{\"outlinewidth\":0,\"ticks\":\"\"},\"type\":\"mesh3d\"}],\"parcoords\":[{\"line\":{\"colorbar\":{\"outlinewidth\":0,\"ticks\":\"\"}},\"type\":\"parcoords\"}],\"pie\":[{\"automargin\":true,\"type\":\"pie\"}],\"scatter\":[{\"marker\":{\"colorbar\":{\"outlinewidth\":0,\"ticks\":\"\"}},\"type\":\"scatter\"}],\"scatter3d\":[{\"line\":{\"colorbar\":{\"outlinewidth\":0,\"ticks\":\"\"}},\"marker\":{\"colorbar\":{\"outlinewidth\":0,\"ticks\":\"\"}},\"type\":\"scatter3d\"}],\"scattercarpet\":[{\"marker\":{\"colorbar\":{\"outlinewidth\":0,\"ticks\":\"\"}},\"type\":\"scattercarpet\"}],\"scattergeo\":[{\"marker\":{\"colorbar\":{\"outlinewidth\":0,\"ticks\":\"\"}},\"type\":\"scattergeo\"}],\"scattergl\":[{\"marker\":{\"colorbar\":{\"outlinewidth\":0,\"ticks\":\"\"}},\"type\":\"scattergl\"}],\"scattermapbox\":[{\"marker\":{\"colorbar\":{\"outlinewidth\":0,\"ticks\":\"\"}},\"type\":\"scattermapbox\"}],\"scatterpolar\":[{\"marker\":{\"colorbar\":{\"outlinewidth\":0,\"ticks\":\"\"}},\"type\":\"scatterpolar\"}],\"scatterpolargl\":[{\"marker\":{\"colorbar\":{\"outlinewidth\":0,\"ticks\":\"\"}},\"type\":\"scatterpolargl\"}],\"scatterternary\":[{\"marker\":{\"colorbar\":{\"outlinewidth\":0,\"ticks\":\"\"}},\"type\":\"scatterternary\"}],\"surface\":[{\"colorbar\":{\"outlinewidth\":0,\"ticks\":\"\"},\"colorscale\":[[0.0,\"#0d0887\"],[0.1111111111111111,\"#46039f\"],[0.2222222222222222,\"#7201a8\"],[0.3333333333333333,\"#9c179e\"],[0.4444444444444444,\"#bd3786\"],[0.5555555555555556,\"#d8576b\"],[0.6666666666666666,\"#ed7953\"],[0.7777777777777778,\"#fb9f3a\"],[0.8888888888888888,\"#fdca26\"],[1.0,\"#f0f921\"]],\"type\":\"surface\"}],\"table\":[{\"cells\":{\"fill\":{\"color\":\"#EBF0F8\"},\"line\":{\"color\":\"white\"}},\"header\":{\"fill\":{\"color\":\"#C8D4E3\"},\"line\":{\"color\":\"white\"}},\"type\":\"table\"}]},\"layout\":{\"annotationdefaults\":{\"arrowcolor\":\"#2a3f5f\",\"arrowhead\":0,\"arrowwidth\":1},\"autotypenumbers\":\"strict\",\"coloraxis\":{\"colorbar\":{\"outlinewidth\":0,\"ticks\":\"\"}},\"colorscale\":{\"diverging\":[[0,\"#8e0152\"],[0.1,\"#c51b7d\"],[0.2,\"#de77ae\"],[0.3,\"#f1b6da\"],[0.4,\"#fde0ef\"],[0.5,\"#f7f7f7\"],[0.6,\"#e6f5d0\"],[0.7,\"#b8e186\"],[0.8,\"#7fbc41\"],[0.9,\"#4d9221\"],[1,\"#276419\"]],\"sequential\":[[0.0,\"#0d0887\"],[0.1111111111111111,\"#46039f\"],[0.2222222222222222,\"#7201a8\"],[0.3333333333333333,\"#9c179e\"],[0.4444444444444444,\"#bd3786\"],[0.5555555555555556,\"#d8576b\"],[0.6666666666666666,\"#ed7953\"],[0.7777777777777778,\"#fb9f3a\"],[0.8888888888888888,\"#fdca26\"],[1.0,\"#f0f921\"]],\"sequentialminus\":[[0.0,\"#0d0887\"],[0.1111111111111111,\"#46039f\"],[0.2222222222222222,\"#7201a8\"],[0.3333333333333333,\"#9c179e\"],[0.4444444444444444,\"#bd3786\"],[0.5555555555555556,\"#d8576b\"],[0.6666666666666666,\"#ed7953\"],[0.7777777777777778,\"#fb9f3a\"],[0.8888888888888888,\"#fdca26\"],[1.0,\"#f0f921\"]]},\"colorway\":[\"#636efa\",\"#EF553B\",\"#00cc96\",\"#ab63fa\",\"#FFA15A\",\"#19d3f3\",\"#FF6692\",\"#B6E880\",\"#FF97FF\",\"#FECB52\"],\"font\":{\"color\":\"#8C8C8C\"},\"geo\":{\"bgcolor\":\"white\",\"lakecolor\":\"white\",\"landcolor\":\"white\",\"showlakes\":true,\"showland\":true,\"subunitcolor\":\"#C8D4E3\"},\"hoverlabel\":{\"align\":\"left\"},\"hovermode\":\"closest\",\"mapbox\":{\"style\":\"light\"},\"paper_bgcolor\":\"white\",\"plot_bgcolor\":\"white\",\"polar\":{\"angularaxis\":{\"gridcolor\":\"#EBF0F8\",\"linecolor\":\"#EBF0F8\",\"ticks\":\"\"},\"bgcolor\":\"white\",\"radialaxis\":{\"gridcolor\":\"#EBF0F8\",\"linecolor\":\"#EBF0F8\",\"ticks\":\"\"}},\"scene\":{\"xaxis\":{\"backgroundcolor\":\"white\",\"gridcolor\":\"#DFE8F3\",\"gridwidth\":2,\"linecolor\":\"#EBF0F8\",\"showbackground\":true,\"ticks\":\"\",\"zerolinecolor\":\"#EBF0F8\"},\"yaxis\":{\"backgroundcolor\":\"white\",\"gridcolor\":\"#DFE8F3\",\"gridwidth\":2,\"linecolor\":\"#EBF0F8\",\"showbackground\":true,\"ticks\":\"\",\"zerolinecolor\":\"#EBF0F8\"},\"zaxis\":{\"backgroundcolor\":\"white\",\"gridcolor\":\"#DFE8F3\",\"gridwidth\":2,\"linecolor\":\"#EBF0F8\",\"showbackground\":true,\"ticks\":\"\",\"zerolinecolor\":\"#EBF0F8\"}},\"shapedefaults\":{\"line\":{\"color\":\"#2a3f5f\"}},\"ternary\":{\"aaxis\":{\"gridcolor\":\"#DFE8F3\",\"linecolor\":\"#A2B1C6\",\"ticks\":\"\"},\"baxis\":{\"gridcolor\":\"#DFE8F3\",\"linecolor\":\"#A2B1C6\",\"ticks\":\"\"},\"bgcolor\":\"white\",\"caxis\":{\"gridcolor\":\"#DFE8F3\",\"linecolor\":\"#A2B1C6\",\"ticks\":\"\"}},\"title\":{\"x\":0.05},\"xaxis\":{\"automargin\":true,\"gridcolor\":\"#EBF0F8\",\"linecolor\":\"#EBF0F8\",\"ticks\":\"\",\"title\":{\"standoff\":15},\"zerolinecolor\":\"#EBF0F8\",\"zerolinewidth\":2},\"yaxis\":{\"automargin\":true,\"gridcolor\":\"#EBF0F8\",\"linecolor\":\"#EBF0F8\",\"ticks\":\"\",\"title\":{\"standoff\":15},\"zerolinecolor\":\"#EBF0F8\",\"zerolinewidth\":2},\"margin\":{\"l\":20,\"r\":20},\"legend\":{\"yanchor\":\"top\",\"y\":-0.2,\"xanchor\":\"left\",\"x\":0.0,\"orientation\":\"h\"}}},\"xaxis\":{\"anchor\":\"y\",\"domain\":[0.0,1.0],\"title\":{\"text\":\"Feature: age\"}},\"yaxis\":{\"anchor\":\"x\",\"domain\":[0.0,1.0],\"title\":{\"text\":\"Target\"}},\"legend\":{\"title\":{\"text\":\"Class\"},\"tracegroupgap\":0},\"title\":{\"text\":\"Average partial dependence between feature 'age' and target\"}},                        {\"responsive\": true}                    ).then(function(){\n",
       "                            \n",
       "var gd = document.getElementById('87a205c0-a0dc-4dc6-8551-24ac57837776');\n",
       "var x = new MutationObserver(function (mutations, observer) {{\n",
       "        var display = window.getComputedStyle(gd).display;\n",
       "        if (!display || display === 'none') {{\n",
       "            console.log([gd, 'removed!']);\n",
       "            Plotly.purge(gd);\n",
       "            observer.disconnect();\n",
       "        }}\n",
       "}});\n",
       "\n",
       "// Listen for the removal of the full notebook cells\n",
       "var notebookContainer = gd.closest('#notebook-container');\n",
       "if (notebookContainer) {{\n",
       "    x.observe(notebookContainer, {childList: true});\n",
       "}}\n",
       "\n",
       "// Listen for the clearing of the current output cell\n",
       "var outputEl = gd.closest('.output');\n",
       "if (outputEl) {{\n",
       "    x.observe(outputEl, {childList: true});\n",
       "}}\n",
       "\n",
       "                        })                };                });            </script>        </div>"
      ]
     },
     "metadata": {},
     "output_type": "display_data"
    }
   ],
   "source": [
    "# show the average feature partial dependence for a given feature.\n",
    "# this plot shows how the average predicted probability of having a stroke changes as age increases\n",
    "# In this case the probability of having a strnke increases as a person gets older\n",
    "pnd.plot.partial_dependence(estimator_name=\"RandomForestClassifier\",\n",
    "                            feature=\"age\")"
   ]
  },
  {
   "cell_type": "code",
   "execution_count": null,
   "id": "6674891e",
   "metadata": {},
   "outputs": [],
   "source": []
  }
 ],
 "metadata": {
  "kernelspec": {
   "display_name": "Python 3 (ipykernel)",
   "language": "python",
   "name": "python3"
  },
  "language_info": {
   "codemirror_mode": {
    "name": "ipython",
    "version": 3
   },
   "file_extension": ".py",
   "mimetype": "text/x-python",
   "name": "python",
   "nbconvert_exporter": "python",
   "pygments_lexer": "ipython3",
   "version": "3.9.12"
  }
 },
 "nbformat": 4,
 "nbformat_minor": 5
}
