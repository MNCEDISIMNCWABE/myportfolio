{
 "cells": [
  {
   "cell_type": "code",
   "execution_count": 1,
   "metadata": {
    "collapsed": true
   },
   "outputs": [
    {
     "name": "stdout",
     "output_type": "stream",
     "text": [
      "Collecting sas7bdat\n",
      "  Downloading sas7bdat-2.2.3.tar.gz (16 kB)\n",
      "Requirement already satisfied: six>=1.8.0 in c:\\users\\mncedisi.mncwabe\\anaconda3\\lib\\site-packages (from sas7bdat) (1.14.0)\n",
      "Building wheels for collected packages: sas7bdat\n",
      "  Building wheel for sas7bdat (setup.py): started\n",
      "  Building wheel for sas7bdat (setup.py): finished with status 'done'\n",
      "  Created wheel for sas7bdat: filename=sas7bdat-2.2.3-py3-none-any.whl size=16301 sha256=4906f10ba463ac28db6f5e9f63f4a27d5c9635d5f73fe80d71dbd7724fa1cf72\n",
      "  Stored in directory: c:\\users\\mncedisi.mncwabe\\appdata\\local\\pip\\cache\\wheels\\69\\dd\\ca\\1fd7bf96640d87457056b763e015e20d8e566041bd3273d966\n",
      "Successfully built sas7bdat\n",
      "Installing collected packages: sas7bdat\n",
      "Successfully installed sas7bdat-2.2.3\n"
     ]
    }
   ],
   "source": [
    "!pip install sas7bdat"
   ]
  },
  {
   "cell_type": "code",
   "execution_count": 18,
   "metadata": {
    "collapsed": true
   },
   "outputs": [
    {
     "name": "stdout",
     "output_type": "stream",
     "text": [
      "Collecting sas7bdat_converter\n",
      "  Downloading sas7bdat_converter-0.4.0-py3-none-any.whl (9.8 kB)\n",
      "Requirement already satisfied: XlsxWriter>=1.2.6 in c:\\users\\mncedisi.mncwabe\\anaconda3\\lib\\site-packages (from sas7bdat_converter) (1.2.7)\n",
      "Requirement already satisfied: pandas>=0.25.3 in c:\\users\\mncedisi.mncwabe\\anaconda3\\lib\\site-packages (from sas7bdat_converter) (1.0.1)\n",
      "Requirement already satisfied: numpy>=1.13.3 in c:\\users\\mncedisi.mncwabe\\anaconda3\\lib\\site-packages (from pandas>=0.25.3->sas7bdat_converter) (1.18.1)\n",
      "Requirement already satisfied: python-dateutil>=2.6.1 in c:\\users\\mncedisi.mncwabe\\anaconda3\\lib\\site-packages (from pandas>=0.25.3->sas7bdat_converter) (2.8.1)\n",
      "Requirement already satisfied: pytz>=2017.2 in c:\\users\\mncedisi.mncwabe\\anaconda3\\lib\\site-packages (from pandas>=0.25.3->sas7bdat_converter) (2019.3)\n",
      "Requirement already satisfied: six>=1.5 in c:\\users\\mncedisi.mncwabe\\anaconda3\\lib\\site-packages (from python-dateutil>=2.6.1->pandas>=0.25.3->sas7bdat_converter) (1.14.0)\n",
      "Installing collected packages: sas7bdat-converter\n",
      "Successfully installed sas7bdat-converter-0.4.0\n"
     ]
    }
   ],
   "source": [
    "!pip install sas7bdat_converter"
   ]
  },
  {
   "cell_type": "code",
   "execution_count": 1,
   "metadata": {},
   "outputs": [],
   "source": [
    "from sas7bdat_converter.converter import batch_to_excel\n",
    "\n",
    "file_dicts = [\n",
    "  {\n",
    "    'sas7bdat_file':'C:/Users/mncedisi.mncwabe/Downloads/phila.sas7bdat',\n",
    "    'export_file': 'C:/Users/mncedisi.mncwabe/Downloads/phila.xlsx',\n",
    "  },\n",
    "  {\n",
    "    'sas7bdat_file': 'C:/Users/mncedisi.mncwabe/Downloads/phila.sas7bdat',\n",
    "    'export_file': 'C:/Users/mncedisi.mncwabe/Downloads/phila.xlsx',\n",
    "  },\n",
    "]\n",
    "batch_to_excel(file_dicts)"
   ]
  },
  {
   "cell_type": "code",
   "execution_count": null,
   "metadata": {},
   "outputs": [],
   "source": []
  }
 ],
 "metadata": {
  "kernelspec": {
   "display_name": "Python 3",
   "language": "python",
   "name": "python3"
  },
  "language_info": {
   "codemirror_mode": {
    "name": "ipython",
    "version": 3
   },
   "file_extension": ".py",
   "mimetype": "text/x-python",
   "name": "python",
   "nbconvert_exporter": "python",
   "pygments_lexer": "ipython3",
   "version": "3.7.6"
  }
 },
 "nbformat": 4,
 "nbformat_minor": 4
}
