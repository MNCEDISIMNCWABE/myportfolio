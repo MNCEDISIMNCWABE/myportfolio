{
 "cells": [
  {
   "cell_type": "code",
   "execution_count": 100,
   "metadata": {},
   "outputs": [],
   "source": [
    "# for analysis and data processing\n",
    "import pandas as pd\n",
    "import numpy as np\n",
    "import matplotlib.pyplot as plt\n",
    "# for modelling\n",
    "import os\n",
    "import tensorflow as tf\n",
    "from tensorflow.keras.preprocessing.image import ImageDataGenerator\n",
    "from tensorflow.keras import layers, models\n",
    "from tensorflow.keras.callbacks import ProgbarLogger\n",
    "from tensorflow.keras.metrics import AUC\n",
    "from tensorflow.keras.optimizers import Adam\n",
    "from tensorflow.keras.callbacks import EarlyStopping\n",
    "from sklearn.linear_model import LogisticRegression\n",
    "from sklearn.ensemble import RandomForestClassifier\n",
    "from sklearn.metrics import roc_auc_score\n",
    "from sklearn.preprocessing import StandardScaler\n",
    "from sklearn.metrics import roc_auc_score, accuracy_score\n",
    "import joblib\n",
    "import warnings\n",
    "warnings.filterwarnings(\"ignore\")"
   ]
  },
  {
   "cell_type": "code",
   "execution_count": 92,
   "metadata": {},
   "outputs": [],
   "source": [
    "def read_data(path_to_csv_file):\n",
    "    '''\n",
    "    Reads csv files from specified paths\n",
    "\n",
    "    Parameters:\n",
    "            path to csv file locations\n",
    "    Returns:\n",
    "            dataframes of imported csv files\n",
    "    '''\n",
    "    # Read CSV files\n",
    "    df = pd.read_csv(path_to_csv_file)\n",
    "    \n",
    "    return df\n",
    "\n",
    "train_df = read_data('/Users/mncedisimncwabe/Downloads/Potholes Detection/train_ids_labels.csv')\n",
    "test_df = read_data('/Users/mncedisimncwabe/Downloads/Potholes Detection/test_ids_only.csv')"
   ]
  },
  {
   "cell_type": "code",
   "execution_count": 93,
   "metadata": {},
   "outputs": [],
   "source": [
    "def preprocess_labels_and_ids(df):\n",
    "    df['Label'] = df['Label'].astype(str)\n",
    "    df['Image_ID'] = df['Image_ID'] + '.JPG'\n",
    "    return df"
   ]
  },
  {
   "cell_type": "code",
   "execution_count": 94,
   "metadata": {},
   "outputs": [],
   "source": [
    "def create_generators(train_df, image_dir, target_size=(32, 32), batch_size=5):\n",
    "    train_datagen = ImageDataGenerator(rescale=1./255, validation_split=0.2)\n",
    "    \n",
    "    train_generator = train_datagen.flow_from_dataframe(\n",
    "        dataframe=train_df,\n",
    "        directory=image_dir,\n",
    "        x_col=\"Image_ID\",\n",
    "        y_col=\"Label\",\n",
    "        target_size=target_size,\n",
    "        batch_size=batch_size,\n",
    "        class_mode='binary',\n",
    "        subset='training',\n",
    "        shuffle=False\n",
    "    )\n",
    "    \n",
    "    validation_generator = train_datagen.flow_from_dataframe(\n",
    "        dataframe=train_df,\n",
    "        directory=image_dir,\n",
    "        x_col=\"Image_ID\",\n",
    "        y_col=\"Label\",\n",
    "        target_size=target_size,\n",
    "        batch_size=batch_size,\n",
    "        class_mode='binary',\n",
    "        subset='validation',\n",
    "        shuffle=False\n",
    "    )\n",
    "    \n",
    "    return train_generator, validation_generator"
   ]
  },
  {
   "cell_type": "code",
   "execution_count": 95,
   "metadata": {},
   "outputs": [],
   "source": [
    "def preprocess_images(generator):\n",
    "    images = []\n",
    "    labels = []\n",
    "    for _ in range(len(generator)):\n",
    "        batch_images, batch_labels = next(generator)\n",
    "        flattened_images = batch_images.reshape(batch_images.shape[0], -1)\n",
    "        images.append(flattened_images)\n",
    "        labels.append(batch_labels)\n",
    "    return np.vstack(images), np.hstack(labels)\n",
    "\n",
    "def standardize_data(X_train, X_val):\n",
    "    scaler = StandardScaler()\n",
    "    X_train = scaler.fit_transform(X_train)\n",
    "    X_val = scaler.transform(X_val)\n",
    "    return X_train, X_val"
   ]
  },
  {
   "cell_type": "code",
   "execution_count": 96,
   "metadata": {},
   "outputs": [],
   "source": [
    "def train_random_forest(X_train, y_train):\n",
    "    rf = RandomForestClassifier(n_estimators=150,\n",
    "                                    max_depth=16,\n",
    "                                    criterion='gini',\n",
    "                                    class_weight='balanced',\n",
    "                                    min_samples_split=10,\n",
    "                                    max_leaf_nodes=20,\n",
    "                                    max_features=0.5,\n",
    "                                    bootstrap=True\n",
    "                                    )\n",
    "    rf.fit(X_train, y_train)\n",
    "    return rf\n",
    "\n",
    "def evaluate_model(log_reg, X_train, y_train, X_val, y_val):\n",
    "    y_train_pred = log_reg.predict_proba(X_train)[:, 1]\n",
    "    y_val_pred = log_reg.predict_proba(X_val)[:, 1]\n",
    "    \n",
    "    train_auc = roc_auc_score(y_train, y_train_pred)\n",
    "    val_auc = roc_auc_score(y_val, y_val_pred)\n",
    "    \n",
    "    train_accuracy = accuracy_score(y_train, (y_train_pred > 0.5).astype(int))\n",
    "    val_accuracy = accuracy_score(y_val, (y_val_pred > 0.5).astype(int))\n",
    "    \n",
    "    return train_auc, val_auc, train_accuracy, val_accuracy"
   ]
  },
  {
   "cell_type": "code",
   "execution_count": 97,
   "metadata": {},
   "outputs": [],
   "source": [
    "def plot_metrics(train_accuracy, val_accuracy, train_auc, val_auc):\n",
    "    epochs = range(1, 3)\n",
    "    \n",
    "    plt.figure(figsize=(12, 5))\n",
    "    \n",
    "    plt.subplot(1, 2, 1)\n",
    "    plt.plot(epochs, [train_accuracy] * len(epochs), label='Train Accuracy')\n",
    "    plt.plot(epochs, [val_accuracy] * len(epochs), label='Validation Accuracy')\n",
    "    plt.title('Train and Validation Accuracy')\n",
    "    plt.xlabel('Epochs')\n",
    "    plt.ylabel('Accuracy')\n",
    "    plt.legend()\n",
    "    \n",
    "    plt.subplot(1, 2, 2)\n",
    "    plt.plot(epochs, [train_auc] * len(epochs), label='Train AUC')\n",
    "    plt.plot(epochs, [val_auc] * len(epochs), label='Validation AUC')\n",
    "    plt.title('Train and Validation AUC')\n",
    "    plt.xlabel('Epochs')\n",
    "    plt.ylabel('AUC')\n",
    "    plt.legend()\n",
    "    \n",
    "    plt.tight_layout()\n",
    "    plt.show()"
   ]
  },
  {
   "cell_type": "code",
   "execution_count": 98,
   "metadata": {},
   "outputs": [],
   "source": [
    "def predict_on_test_data(test_df, image_dir, model, target_size=(32, 32), batch_size=5):\n",
    "    # Preprocess the test_df\n",
    "    test_df['Image_ID'] = test_df['Image_ID'] + '.JPG'\n",
    "    \n",
    "    # Create test data generator\n",
    "    test_datagen = ImageDataGenerator(rescale=1./255)\n",
    "    test_generator = test_datagen.flow_from_dataframe(\n",
    "        dataframe=test_df,\n",
    "        directory=image_dir,\n",
    "        x_col=\"Image_ID\",\n",
    "        y_col=None,  # No labels for the test set\n",
    "        target_size=target_size,\n",
    "        batch_size=batch_size,\n",
    "        class_mode=None,\n",
    "        shuffle=False  # Ensure that the order is preserved\n",
    "    )\n",
    "    \n",
    "    # Preprocess test data\n",
    "    X_test = []\n",
    "    for _ in range(len(test_generator)):\n",
    "        batch_images = next(test_generator)\n",
    "        flattened_images = batch_images.reshape(batch_images.shape[0], -1)\n",
    "        X_test.append(flattened_images)\n",
    "    \n",
    "    X_test = np.vstack(X_test)\n",
    "    \n",
    "    # Standardize test data using the same scaler as training data\n",
    "    scaler = StandardScaler()\n",
    "    X_test = scaler.fit_transform(X_test)  # Note: Fit and transform the scaler using the test data\n",
    "    \n",
    "    # Predict using the trained model\n",
    "    y_test_pred = model.predict_proba(X_test)[:, 1]\n",
    "    \n",
    "    # Create a submission DataFrame\n",
    "    submission_df = pd.DataFrame({'Image_ID': test_df['Image_ID'], 'Label': y_test_pred})\n",
    "    \n",
    "    # Remove the '.JPG' extension from the Image_ID\n",
    "    submission_df['Image_ID'] = submission_df['Image_ID'].str.replace('.JPG', '', regex=False)\n",
    "    \n",
    "    return submission_df"
   ]
  },
  {
   "cell_type": "code",
   "execution_count": 99,
   "metadata": {},
   "outputs": [
    {
     "name": "stdout",
     "output_type": "stream",
     "text": [
      "Found 3221 validated image filenames belonging to 2 classes.\n",
      "Found 805 validated image filenames belonging to 2 classes.\n",
      "Training AUC: 0.9886\n",
      "Validation AUC: 0.9663\n",
      "Training Accuracy: 0.9469\n",
      "Validation Accuracy: 0.8957\n"
     ]
    },
    {
     "data": {
      "image/png": "[encoded data removed]",
      "text/plain": [
       "<Figure size 1200x500 with 2 Axes>"
      ]
     },
     "metadata": {},
     "output_type": "display_data"
    },
    {
     "name": "stdout",
     "output_type": "stream",
     "text": [
      "Found 1650 validated image filenames.\n",
      "Submission file saved: submission.csv\n"
     ]
    }
   ],
   "source": [
    "def run_pipeline_and_predict(train_df, test_df, image_dir, output_file):\n",
    "    # Preprocess labels and image IDs for training data\n",
    "    train_df = preprocess_labels_and_ids(train_df)\n",
    "    \n",
    "    # Create data generators\n",
    "    train_generator, validation_generator = create_generators(train_df, image_dir)\n",
    "    \n",
    "    # Preprocess training and validation data\n",
    "    X_train, y_train = preprocess_images(train_generator)\n",
    "    X_val, y_val = preprocess_images(validation_generator)\n",
    "    \n",
    "    # Standardize data\n",
    "    X_train, X_val = standardize_data(X_train, X_val)\n",
    "    \n",
    "    # Train random forest model\n",
    "    model = train_random_forest(X_train, y_train)\n",
    "    \n",
    "    # Evaluate the model\n",
    "    train_auc, val_auc, train_accuracy, val_accuracy = evaluate_model(model, X_train, y_train, X_val, y_val)\n",
    "    \n",
    "    # Print results\n",
    "    print(f\"Training AUC: {train_auc:.4f}\")\n",
    "    print(f\"Validation AUC: {val_auc:.4f}\")\n",
    "    print(f\"Training Accuracy: {train_accuracy:.4f}\")\n",
    "    print(f\"Validation Accuracy: {val_accuracy:.4f}\")\n",
    "    \n",
    "    # Plot metrics\n",
    "    plot_metrics(train_accuracy, val_accuracy, train_auc, val_auc)\n",
    "    \n",
    "    # Generate predictions on the test set\n",
    "    submission_df = predict_on_test_data(test_df, image_dir, model)\n",
    "    \n",
    "    # Save predictions to a CSV file\n",
    "    submission_df.to_csv(output_file, index=False)\n",
    "    print(f\"Submission file saved: {output_file}\")\n",
    "\n",
    "image_dir = '/Users/mncedisimncwabe/Downloads/Potholes Detection/all_data'\n",
    "output_file = 'submission.csv'\n",
    "run_pipeline_and_predict(train_df, test_df, image_dir, output_file)"
   ]
  },
  {
   "cell_type": "code",
   "execution_count": null,
   "metadata": {},
   "outputs": [],
   "source": []
  },
  {
   "cell_type": "code",
   "execution_count": null,
   "metadata": {},
   "outputs": [],
   "source": []
  },
  {
   "cell_type": "code",
   "execution_count": null,
   "metadata": {},
   "outputs": [],
   "source": []
  },
  {
   "cell_type": "code",
   "execution_count": null,
   "metadata": {},
   "outputs": [],
   "source": []
  },
  {
   "cell_type": "code",
   "execution_count": null,
   "metadata": {},
   "outputs": [],
   "source": []
  }
 ],
 "metadata": {
  "kernelspec": {
   "display_name": "Python 3",
   "language": "python",
   "name": "python3"
  },
  "language_info": {
   "codemirror_mode": {
    "name": "ipython",
    "version": 3
   },
   "file_extension": ".py",
   "mimetype": "text/x-python",
   "name": "python",
   "nbconvert_exporter": "python",
   "pygments_lexer": "ipython3",
   "version": "3.11.6"
  }
 },
 "nbformat": 4,
 "nbformat_minor": 2
}
