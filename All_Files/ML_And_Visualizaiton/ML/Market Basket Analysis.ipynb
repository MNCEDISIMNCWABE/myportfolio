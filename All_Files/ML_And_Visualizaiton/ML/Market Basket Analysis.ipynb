{
 "cells": [
  {
   "cell_type": "code",
   "execution_count": 51,
   "metadata": {},
   "outputs": [
    {
     "name": "stdout",
     "output_type": "stream",
     "text": [
      "Collecting apyori\n",
      "  Downloading apyori-1.1.2.tar.gz (8.6 kB)\n",
      "Building wheels for collected packages: apyori\n",
      "  Building wheel for apyori (setup.py): started\n",
      "  Building wheel for apyori (setup.py): finished with status 'done'\n",
      "  Created wheel for apyori: filename=apyori-1.1.2-py3-none-any.whl size=5979 sha256=d8c4b8a9ef9a6c9e3c6a4e7396166d1ef17750cf695cee44bc08ec2c608900bb\n",
      "  Stored in directory: c:\\users\\mncedisi.mncwabe\\appdata\\local\\pip\\cache\\wheels\\cb\\f6\\e1\\57973c631d27efd1a2f375bd6a83b2a616c4021f24aab84080\n",
      "Successfully built apyori\n",
      "Installing collected packages: apyori\n",
      "Successfully installed apyori-1.1.2\n"
     ]
    }
   ],
   "source": [
    "import pandas as pd\n",
    "import numpy as np\n",
    "import seaborn as sns\n",
    "import matplotlib.pyplot as plt\n",
    "import datetime as dt\n",
    "\n",
    "import warnings \n",
    "warnings.filterwarnings(\"ignore\")\n",
    "\n",
    "!pip install apyori\n",
    "from apyori import apriori"
   ]
  },
  {
   "cell_type": "code",
   "execution_count": 12,
   "metadata": {},
   "outputs": [],
   "source": [
    "data = pd.read_csv(\"C:/Users/mncedisi.mncwabe/Videos/Practice/Market Basket Analysis/Groceries_dataset.csv\")"
   ]
  },
  {
   "cell_type": "code",
   "execution_count": 6,
   "metadata": {},
   "outputs": [
    {
     "data": {
      "text/html": [
       "<div>\n",
       "<style scoped>\n",
       "    .dataframe tbody tr th:only-of-type {\n",
       "        vertical-align: middle;\n",
       "    }\n",
       "\n",
       "    .dataframe tbody tr th {\n",
       "        vertical-align: top;\n",
       "    }\n",
       "\n",
       "    .dataframe thead th {\n",
       "        text-align: right;\n",
       "    }\n",
       "</style>\n",
       "<table border=\"1\" class=\"dataframe\">\n",
       "  <thead>\n",
       "    <tr style=\"text-align: right;\">\n",
       "      <th></th>\n",
       "      <th>Member_number</th>\n",
       "      <th>Date</th>\n",
       "      <th>itemDescription</th>\n",
       "    </tr>\n",
       "  </thead>\n",
       "  <tbody>\n",
       "    <tr>\n",
       "      <th>0</th>\n",
       "      <td>1808</td>\n",
       "      <td>21-07-2015</td>\n",
       "      <td>tropical fruit</td>\n",
       "    </tr>\n",
       "    <tr>\n",
       "      <th>1</th>\n",
       "      <td>2552</td>\n",
       "      <td>05-01-2015</td>\n",
       "      <td>whole milk</td>\n",
       "    </tr>\n",
       "    <tr>\n",
       "      <th>2</th>\n",
       "      <td>2300</td>\n",
       "      <td>19-09-2015</td>\n",
       "      <td>pip fruit</td>\n",
       "    </tr>\n",
       "    <tr>\n",
       "      <th>3</th>\n",
       "      <td>1187</td>\n",
       "      <td>12-12-2015</td>\n",
       "      <td>other vegetables</td>\n",
       "    </tr>\n",
       "    <tr>\n",
       "      <th>4</th>\n",
       "      <td>3037</td>\n",
       "      <td>01-02-2015</td>\n",
       "      <td>whole milk</td>\n",
       "    </tr>\n",
       "  </tbody>\n",
       "</table>\n",
       "</div>"
      ],
      "text/plain": [
       "   Member_number        Date   itemDescription\n",
       "0           1808  21-07-2015    tropical fruit\n",
       "1           2552  05-01-2015        whole milk\n",
       "2           2300  19-09-2015         pip fruit\n",
       "3           1187  12-12-2015  other vegetables\n",
       "4           3037  01-02-2015        whole milk"
      ]
     },
     "execution_count": 6,
     "metadata": {},
     "output_type": "execute_result"
    }
   ],
   "source": [
    "data.head()"
   ]
  },
  {
   "cell_type": "code",
   "execution_count": 7,
   "metadata": {},
   "outputs": [
    {
     "data": {
      "text/plain": [
       "(38765, 3)"
      ]
     },
     "execution_count": 7,
     "metadata": {},
     "output_type": "execute_result"
    }
   ],
   "source": [
    "data.shape"
   ]
  },
  {
   "cell_type": "code",
   "execution_count": 8,
   "metadata": {},
   "outputs": [
    {
     "data": {
      "text/plain": [
       "Member_number      0.0\n",
       "Date               0.0\n",
       "itemDescription    0.0\n",
       "dtype: float64"
      ]
     },
     "execution_count": 8,
     "metadata": {},
     "output_type": "execute_result"
    }
   ],
   "source": [
    "data.isnull().sum()/len(data)*100"
   ]
  },
  {
   "cell_type": "code",
   "execution_count": 9,
   "metadata": {},
   "outputs": [
    {
     "name": "stdout",
     "output_type": "stream",
     "text": [
      "<class 'pandas.core.frame.DataFrame'>\n",
      "RangeIndex: 38765 entries, 0 to 38764\n",
      "Data columns (total 3 columns):\n",
      " #   Column           Non-Null Count  Dtype \n",
      "---  ------           --------------  ----- \n",
      " 0   Member_number    38765 non-null  int64 \n",
      " 1   Date             38765 non-null  object\n",
      " 2   itemDescription  38765 non-null  object\n",
      "dtypes: int64(1), object(2)\n",
      "memory usage: 908.7+ KB\n"
     ]
    }
   ],
   "source": [
    "data.info()"
   ]
  },
  {
   "cell_type": "code",
   "execution_count": 13,
   "metadata": {},
   "outputs": [],
   "source": [
    "data['Date'] = pd.to_datetime(data['Date'])"
   ]
  },
  {
   "cell_type": "code",
   "execution_count": 26,
   "metadata": {},
   "outputs": [],
   "source": [
    "data['Weekday'] = data['Date'].dt.day_name()\n",
    "data['Month'] = data['Date'].dt.month_name()\n",
    "data['Year'] = data['Date'].dt.year\n",
    "data['Day'] = data['Date'].dt.day"
   ]
  },
  {
   "cell_type": "code",
   "execution_count": 21,
   "metadata": {},
   "outputs": [
    {
     "data": {
      "text/html": [
       "<div>\n",
       "<style scoped>\n",
       "    .dataframe tbody tr th:only-of-type {\n",
       "        vertical-align: middle;\n",
       "    }\n",
       "\n",
       "    .dataframe tbody tr th {\n",
       "        vertical-align: top;\n",
       "    }\n",
       "\n",
       "    .dataframe thead th {\n",
       "        text-align: right;\n",
       "    }\n",
       "</style>\n",
       "<table border=\"1\" class=\"dataframe\">\n",
       "  <thead>\n",
       "    <tr style=\"text-align: right;\">\n",
       "      <th></th>\n",
       "      <th>Member_number</th>\n",
       "      <th>Date</th>\n",
       "      <th>itemDescription</th>\n",
       "      <th>Day_of_Week</th>\n",
       "      <th>Month</th>\n",
       "      <th>Year</th>\n",
       "      <th>Day</th>\n",
       "    </tr>\n",
       "  </thead>\n",
       "  <tbody>\n",
       "    <tr>\n",
       "      <th>0</th>\n",
       "      <td>1808</td>\n",
       "      <td>2015-07-21</td>\n",
       "      <td>tropical fruit</td>\n",
       "      <td>Tuesday</td>\n",
       "      <td>July</td>\n",
       "      <td>2015</td>\n",
       "      <td>21</td>\n",
       "    </tr>\n",
       "    <tr>\n",
       "      <th>1</th>\n",
       "      <td>2552</td>\n",
       "      <td>2015-05-01</td>\n",
       "      <td>whole milk</td>\n",
       "      <td>Friday</td>\n",
       "      <td>May</td>\n",
       "      <td>2015</td>\n",
       "      <td>1</td>\n",
       "    </tr>\n",
       "    <tr>\n",
       "      <th>2</th>\n",
       "      <td>2300</td>\n",
       "      <td>2015-09-19</td>\n",
       "      <td>pip fruit</td>\n",
       "      <td>Saturday</td>\n",
       "      <td>September</td>\n",
       "      <td>2015</td>\n",
       "      <td>19</td>\n",
       "    </tr>\n",
       "    <tr>\n",
       "      <th>3</th>\n",
       "      <td>1187</td>\n",
       "      <td>2015-12-12</td>\n",
       "      <td>other vegetables</td>\n",
       "      <td>Saturday</td>\n",
       "      <td>December</td>\n",
       "      <td>2015</td>\n",
       "      <td>12</td>\n",
       "    </tr>\n",
       "    <tr>\n",
       "      <th>4</th>\n",
       "      <td>3037</td>\n",
       "      <td>2015-01-02</td>\n",
       "      <td>whole milk</td>\n",
       "      <td>Friday</td>\n",
       "      <td>January</td>\n",
       "      <td>2015</td>\n",
       "      <td>2</td>\n",
       "    </tr>\n",
       "  </tbody>\n",
       "</table>\n",
       "</div>"
      ],
      "text/plain": [
       "   Member_number       Date   itemDescription Day_of_Week      Month  Year  \\\n",
       "0           1808 2015-07-21    tropical fruit     Tuesday       July  2015   \n",
       "1           2552 2015-05-01        whole milk      Friday        May  2015   \n",
       "2           2300 2015-09-19         pip fruit    Saturday  September  2015   \n",
       "3           1187 2015-12-12  other vegetables    Saturday   December  2015   \n",
       "4           3037 2015-01-02        whole milk      Friday    January  2015   \n",
       "\n",
       "   Day  \n",
       "0   21  \n",
       "1    1  \n",
       "2   19  \n",
       "3   12  \n",
       "4    2  "
      ]
     },
     "execution_count": 21,
     "metadata": {},
     "output_type": "execute_result"
    }
   ],
   "source": [
    "data.head()"
   ]
  },
  {
   "cell_type": "code",
   "execution_count": 25,
   "metadata": {},
   "outputs": [
    {
     "data": {
      "image/png": "[encoded data removed]",
      "text/plain": [
       "<Figure size 720x432 with 1 Axes>"
      ]
     },
     "metadata": {
      "needs_background": "light"
     },
     "output_type": "display_data"
    }
   ],
   "source": [
    "data.groupby('Month')['Member_number'].count().sort_values(ascending=True).plot(kind='barh',figsize=(10,6))\n",
    "plt.title(\"Month wise sales\")\n",
    "plt.xlabel(\"Sales\");"
   ]
  },
  {
   "cell_type": "code",
   "execution_count": 27,
   "metadata": {},
   "outputs": [
    {
     "data": {
      "image/png": "[encoded data removed]",
      "text/plain": [
       "<Figure size 720x432 with 1 Axes>"
      ]
     },
     "metadata": {
      "needs_background": "light"
     },
     "output_type": "display_data"
    }
   ],
   "source": [
    "data.groupby('Weekday')['Member_number'].count().sort_values(ascending=True).plot(kind='barh',figsize=(10,6))\n",
    "plt.title(\"Weekday wise sales\")\n",
    "plt.xlabel(\"Sales\");"
   ]
  },
  {
   "cell_type": "code",
   "execution_count": 46,
   "metadata": {},
   "outputs": [
    {
     "data": {
      "image/png": "[encoded data removed]",
      "text/plain": [
       "<Figure size 720x432 with 1 Axes>"
      ]
     },
     "metadata": {},
     "output_type": "display_data"
    }
   ],
   "source": [
    "data_v2 = data.groupby('itemDescription')['Member_number'].count().sort_values(ascending=False)\n",
    "data_v2.head(10).plot(kind='pie',figsize=(10,6))\n",
    "plt.title(\"Top 10 purchased items\")\n",
    "plt.xlabel(\"Sales\");"
   ]
  },
  {
   "cell_type": "code",
   "execution_count": 44,
   "metadata": {},
   "outputs": [
    {
     "data": {
      "image/png": "[encoded data removed]",
      "text/plain": [
       "<Figure size 720x432 with 1 Axes>"
      ]
     },
     "metadata": {
      "needs_background": "light"
     },
     "output_type": "display_data"
    }
   ],
   "source": [
    "data.groupby('Year')[Member_number'].count().sort_values(ascending=True).plot(kind='bar',figsize=(10,6))\n",
    "plt.title(\"Year wise sales\")\n",
    "plt.xlabel(\"Sales\");"
   ]
  },
  {
   "cell_type": "code",
   "execution_count": 45,
   "metadata": {},
   "outputs": [
    {
     "data": {
      "image/png": "[encoded data removed]",
      "text/plain": [
       "<Figure size 720x432 with 1 Axes>"
      ]
     },
     "metadata": {
      "needs_background": "light"
     },
     "output_type": "display_data"
    }
   ],
   "source": [
    "plt.figure(figsize=(10,6))\n",
    "\n",
    "day = data.groupby(['Day'])['Member_number'].count()\n",
    "plot = [x for x, df in data.groupby('Day')]\n",
    "\n",
    "plt.plot(plot, day)\n",
    "plt.xlabel(\"Day of the month\")\n",
    "plt.ylabel(\"Sales\")\n",
    "plt.title(\"Sales by day of the month\");"
   ]
  },
  {
   "cell_type": "markdown",
   "metadata": {},
   "source": [
    "### Apriori \n",
    "\n",
    "https://www.kaggle.com/nataliadelarosa/grocery-mba?scriptVersionId=67540366&cellId=33"
   ]
  },
  {
   "cell_type": "code",
   "execution_count": 50,
   "metadata": {},
   "outputs": [
    {
     "data": {
      "text/plain": [
       "[['whole milk', 'pastry', 'salty snack'],\n",
       " ['sausage', 'whole milk', 'semi-finished bread', 'yogurt'],\n",
       " ['soda', 'pickled vegetables'],\n",
       " ['canned beer', 'misc. beverages'],\n",
       " ['sausage', 'hygiene articles'],\n",
       " ['sausage', 'whole milk', 'rolls/buns'],\n",
       " ['whole milk', 'soda'],\n",
       " ['frankfurter', 'soda', 'whipped/sour cream'],\n",
       " ['frankfurter', 'curd'],\n",
       " ['beef', 'white bread']]"
      ]
     },
     "execution_count": 50,
     "metadata": {},
     "output_type": "execute_result"
    }
   ],
   "source": [
    "# In order to apply the Apriori algorithm, a new dataframe \"a basket\"\n",
    "# is created that contains a list of items each member purchased on each day\n",
    "\n",
    "basket_df = data.groupby(['Member_number','Date'],as_index=True)['itemDescription'].apply(lambda x: list(x))\n",
    "transactions = basket_df.values.tolist()\n",
    "\n",
    "transactions[:10]"
   ]
  },
  {
   "cell_type": "code",
   "execution_count": null,
   "metadata": {},
   "outputs": [],
   "source": [
    "# Since there are many association rules that are possible the Apriori algorithm is used to placed constraints \n",
    "# so that the most interesting rules are selected \n",
    "\n",
    "Support represents the popularity of an item in the itemset. \n",
    "Setting the support to a minimum value creates a threshold that identifies significant item pairs.\n",
    "\n",
    "Confidence signifies the likelihood of item Y being purchased when item X is purchased. \n",
    "The confidence value can be misleading if both items are popular. \n",
    "It could be that X and Y appear together frequently because of their individual popularity and \n",
    "not necessarily an association between them. Lift considers the popularity of item Y \n",
    "when determining the likelihood of it being purchased in the same transaction as item X. \n",
    "\n",
    "A lift value greater than one can be indicative of a pattern between the items\n"
   ]
  },
  {
   "cell_type": "code",
   "execution_count": 53,
   "metadata": {},
   "outputs": [
    {
     "name": "stdout",
     "output_type": "stream",
     "text": [
      "104\n"
     ]
    }
   ],
   "source": [
    "# Using the apriori function to create the association rules.\n",
    "\n",
    "association_rules = apriori(transactions, min_support=0.0003, min_lift=2, min_confidence=0.05, min_length=2)\n",
    "association_results = list(association_rules)\n",
    "\n",
    "# Using the association rules yiels 104 rules that meet the qualifications.\n",
    "print(len(association_results))"
   ]
  },
  {
   "cell_type": "code",
   "execution_count": 54,
   "metadata": {},
   "outputs": [],
   "source": [
    "results = []\n",
    "for item in association_results:\n",
    "    itemset = item[0]                 # store first value of the item\n",
    "    items = [x for x in itemset]\n",
    "\n",
    "    value0 = str(items[0])\n",
    "    value1 = str(items[1])\n",
    "    value3 = str(item[1])[:7]\n",
    "    value4 = str(item[2][0][2])[:7]\n",
    "    value5 = str(item[2][0][3])[:7]\n",
    "\n",
    "    rows = (value0, value1, value3, value4, value5)\n",
    "    results.append(rows)\n",
    "    columns = ['item_x', 'item_y', 'support', 'confidence', 'lift']\n",
    "\n",
    "    associations_df = pd.DataFrame(results, columns=columns)\n",
    "    associations_df.head(5)"
   ]
  },
  {
   "cell_type": "code",
   "execution_count": null,
   "metadata": {},
   "outputs": [],
   "source": [
    "# The results of applying Apriori to the dataset indicate that the items whole milk, \n",
    "# and sausage have the highest support values and the lift is approximately 2.18. \n",
    "# It can be assumed that yogurt and sausage are common breakfast items in the \n",
    "# US and that is why they are purchased together frequently."
   ]
  },
  {
   "cell_type": "code",
   "execution_count": 55,
   "metadata": {},
   "outputs": [
    {
     "data": {
      "text/html": [
       "<div>\n",
       "<style scoped>\n",
       "    .dataframe tbody tr th:only-of-type {\n",
       "        vertical-align: middle;\n",
       "    }\n",
       "\n",
       "    .dataframe tbody tr th {\n",
       "        vertical-align: top;\n",
       "    }\n",
       "\n",
       "    .dataframe thead th {\n",
       "        text-align: right;\n",
       "    }\n",
       "</style>\n",
       "<table border=\"1\" class=\"dataframe\">\n",
       "  <thead>\n",
       "    <tr style=\"text-align: right;\">\n",
       "      <th></th>\n",
       "      <th>item_x</th>\n",
       "      <th>item_y</th>\n",
       "      <th>support</th>\n",
       "      <th>confidence</th>\n",
       "      <th>lift</th>\n",
       "    </tr>\n",
       "  </thead>\n",
       "  <tbody>\n",
       "    <tr>\n",
       "      <th>101</th>\n",
       "      <td>whole milk</td>\n",
       "      <td>yogurt</td>\n",
       "      <td>0.00147</td>\n",
       "      <td>0.13173</td>\n",
       "      <td>2.18291</td>\n",
       "    </tr>\n",
       "    <tr>\n",
       "      <th>2</th>\n",
       "      <td>whole milk</td>\n",
       "      <td>brandy</td>\n",
       "      <td>0.00086</td>\n",
       "      <td>0.34210</td>\n",
       "      <td>2.16628</td>\n",
       "    </tr>\n",
       "    <tr>\n",
       "      <th>27</th>\n",
       "      <td>tropical fruit</td>\n",
       "      <td>sweet spreads</td>\n",
       "      <td>0.00073</td>\n",
       "      <td>0.16176</td>\n",
       "      <td>2.38706</td>\n",
       "    </tr>\n",
       "    <tr>\n",
       "      <th>13</th>\n",
       "      <td>soft cheese</td>\n",
       "      <td>hamburger meat</td>\n",
       "      <td>0.00060</td>\n",
       "      <td>0.06000</td>\n",
       "      <td>2.74550</td>\n",
       "    </tr>\n",
       "    <tr>\n",
       "      <th>96</th>\n",
       "      <td>whole milk</td>\n",
       "      <td>pork</td>\n",
       "      <td>0.00060</td>\n",
       "      <td>0.39130</td>\n",
       "      <td>2.47781</td>\n",
       "    </tr>\n",
       "    <tr>\n",
       "      <th>99</th>\n",
       "      <td>whipped/sour cream</td>\n",
       "      <td>yogurt</td>\n",
       "      <td>0.00060</td>\n",
       "      <td>0.20454</td>\n",
       "      <td>2.38180</td>\n",
       "    </tr>\n",
       "    <tr>\n",
       "      <th>25</th>\n",
       "      <td>soda</td>\n",
       "      <td>spices</td>\n",
       "      <td>0.00060</td>\n",
       "      <td>0.225</td>\n",
       "      <td>2.31705</td>\n",
       "    </tr>\n",
       "    <tr>\n",
       "      <th>11</th>\n",
       "      <td>ham</td>\n",
       "      <td>pickled vegetables</td>\n",
       "      <td>0.00053</td>\n",
       "      <td>0.05970</td>\n",
       "      <td>3.48950</td>\n",
       "    </tr>\n",
       "    <tr>\n",
       "      <th>20</th>\n",
       "      <td>pip fruit</td>\n",
       "      <td>sweet spreads</td>\n",
       "      <td>0.00053</td>\n",
       "      <td>0.11764</td>\n",
       "      <td>2.39830</td>\n",
       "    </tr>\n",
       "    <tr>\n",
       "      <th>9</th>\n",
       "      <td>mustard</td>\n",
       "      <td>frankfurter</td>\n",
       "      <td>0.00053</td>\n",
       "      <td>0.08695</td>\n",
       "      <td>2.30288</td>\n",
       "    </tr>\n",
       "    <tr>\n",
       "      <th>87</th>\n",
       "      <td>other vegetables</td>\n",
       "      <td>shopping bags</td>\n",
       "      <td>0.00053</td>\n",
       "      <td>0.27586</td>\n",
       "      <td>2.25929</td>\n",
       "    </tr>\n",
       "    <tr>\n",
       "      <th>93</th>\n",
       "      <td>pastry</td>\n",
       "      <td>soda</td>\n",
       "      <td>0.00053</td>\n",
       "      <td>0.13114</td>\n",
       "      <td>2.17315</td>\n",
       "    </tr>\n",
       "    <tr>\n",
       "      <th>66</th>\n",
       "      <td>curd</td>\n",
       "      <td>yogurt</td>\n",
       "      <td>0.00046</td>\n",
       "      <td>0.20588</td>\n",
       "      <td>3.41153</td>\n",
       "    </tr>\n",
       "    <tr>\n",
       "      <th>12</th>\n",
       "      <td>pasta</td>\n",
       "      <td>hamburger meat</td>\n",
       "      <td>0.00046</td>\n",
       "      <td>0.05785</td>\n",
       "      <td>2.64718</td>\n",
       "    </tr>\n",
       "    <tr>\n",
       "      <th>56</th>\n",
       "      <td>citrus fruit</td>\n",
       "      <td>other vegetables</td>\n",
       "      <td>0.00046</td>\n",
       "      <td>0.09722</td>\n",
       "      <td>2.62114</td>\n",
       "    </tr>\n",
       "    <tr>\n",
       "      <th>0</th>\n",
       "      <td>artif. sweetener</td>\n",
       "      <td>soda</td>\n",
       "      <td>0.00046</td>\n",
       "      <td>0.24137</td>\n",
       "      <td>2.48572</td>\n",
       "    </tr>\n",
       "    <tr>\n",
       "      <th>86</th>\n",
       "      <td>whole milk</td>\n",
       "      <td>onions</td>\n",
       "      <td>0.00046</td>\n",
       "      <td>0.36842</td>\n",
       "      <td>2.33291</td>\n",
       "    </tr>\n",
       "    <tr>\n",
       "      <th>92</th>\n",
       "      <td>other vegetables</td>\n",
       "      <td>whole milk</td>\n",
       "      <td>0.00046</td>\n",
       "      <td>0.36842</td>\n",
       "      <td>2.33291</td>\n",
       "    </tr>\n",
       "    <tr>\n",
       "      <th>94</th>\n",
       "      <td>pastry</td>\n",
       "      <td>yogurt</td>\n",
       "      <td>0.00046</td>\n",
       "      <td>0.12962</td>\n",
       "      <td>2.14800</td>\n",
       "    </tr>\n",
       "    <tr>\n",
       "      <th>29</th>\n",
       "      <td>beef</td>\n",
       "      <td>whipped/sour cream</td>\n",
       "      <td>0.00046</td>\n",
       "      <td>0.33333</td>\n",
       "      <td>2.11073</td>\n",
       "    </tr>\n",
       "  </tbody>\n",
       "</table>\n",
       "</div>"
      ],
      "text/plain": [
       "                 item_x              item_y  support confidence     lift\n",
       "101          whole milk              yogurt  0.00147    0.13173  2.18291\n",
       "2            whole milk              brandy  0.00086    0.34210  2.16628\n",
       "27       tropical fruit       sweet spreads  0.00073    0.16176  2.38706\n",
       "13          soft cheese      hamburger meat  0.00060    0.06000  2.74550\n",
       "96           whole milk                pork  0.00060    0.39130  2.47781\n",
       "99   whipped/sour cream              yogurt  0.00060    0.20454  2.38180\n",
       "25                 soda              spices  0.00060      0.225  2.31705\n",
       "11                  ham  pickled vegetables  0.00053    0.05970  3.48950\n",
       "20            pip fruit       sweet spreads  0.00053    0.11764  2.39830\n",
       "9               mustard         frankfurter  0.00053    0.08695  2.30288\n",
       "87     other vegetables       shopping bags  0.00053    0.27586  2.25929\n",
       "93               pastry                soda  0.00053    0.13114  2.17315\n",
       "66                 curd              yogurt  0.00046    0.20588  3.41153\n",
       "12                pasta      hamburger meat  0.00046    0.05785  2.64718\n",
       "56         citrus fruit    other vegetables  0.00046    0.09722  2.62114\n",
       "0      artif. sweetener                soda  0.00046    0.24137  2.48572\n",
       "86           whole milk              onions  0.00046    0.36842  2.33291\n",
       "92     other vegetables          whole milk  0.00046    0.36842  2.33291\n",
       "94               pastry              yogurt  0.00046    0.12962  2.14800\n",
       "29                 beef  whipped/sour cream  0.00046    0.33333  2.11073"
      ]
     },
     "execution_count": 55,
     "metadata": {},
     "output_type": "execute_result"
    }
   ],
   "source": [
    "associations_df = associations_df.sort_values(by=['support', 'lift'],\n",
    "                            ascending=[False, False]).head(100)\n",
    "associations_df.head(20)"
   ]
  },
  {
   "cell_type": "code",
   "execution_count": 58,
   "metadata": {},
   "outputs": [
    {
     "data": {
      "text/html": [
       "<div>\n",
       "<style scoped>\n",
       "    .dataframe tbody tr th:only-of-type {\n",
       "        vertical-align: middle;\n",
       "    }\n",
       "\n",
       "    .dataframe tbody tr th {\n",
       "        vertical-align: top;\n",
       "    }\n",
       "\n",
       "    .dataframe thead th {\n",
       "        text-align: right;\n",
       "    }\n",
       "</style>\n",
       "<table border=\"1\" class=\"dataframe\">\n",
       "  <thead>\n",
       "    <tr style=\"text-align: right;\">\n",
       "      <th></th>\n",
       "      <th>item_x</th>\n",
       "      <th>item_y</th>\n",
       "      <th>support</th>\n",
       "      <th>confidence</th>\n",
       "      <th>lift</th>\n",
       "    </tr>\n",
       "  </thead>\n",
       "  <tbody>\n",
       "    <tr>\n",
       "      <th>101</th>\n",
       "      <td>whole milk</td>\n",
       "      <td>yogurt</td>\n",
       "      <td>0.00147</td>\n",
       "      <td>0.13173</td>\n",
       "      <td>2.18291</td>\n",
       "    </tr>\n",
       "  </tbody>\n",
       "</table>\n",
       "</div>"
      ],
      "text/plain": [
       "         item_x  item_y  support confidence     lift\n",
       "101  whole milk  yogurt  0.00147    0.13173  2.18291"
      ]
     },
     "execution_count": 58,
     "metadata": {},
     "output_type": "execute_result"
    }
   ],
   "source": [
    "# Max support value. -  suggesting that these items are often bought together\n",
    "associations_df.sort_values(by='support',ascending=False).head(1)"
   ]
  },
  {
   "cell_type": "code",
   "execution_count": 57,
   "metadata": {},
   "outputs": [
    {
     "data": {
      "text/html": [
       "<div>\n",
       "<style scoped>\n",
       "    .dataframe tbody tr th:only-of-type {\n",
       "        vertical-align: middle;\n",
       "    }\n",
       "\n",
       "    .dataframe tbody tr th {\n",
       "        vertical-align: top;\n",
       "    }\n",
       "\n",
       "    .dataframe thead th {\n",
       "        text-align: right;\n",
       "    }\n",
       "</style>\n",
       "<table border=\"1\" class=\"dataframe\">\n",
       "  <thead>\n",
       "    <tr style=\"text-align: right;\">\n",
       "      <th></th>\n",
       "      <th>item_x</th>\n",
       "      <th>item_y</th>\n",
       "      <th>support</th>\n",
       "      <th>confidence</th>\n",
       "      <th>lift</th>\n",
       "    </tr>\n",
       "  </thead>\n",
       "  <tbody>\n",
       "    <tr>\n",
       "      <th>63</th>\n",
       "      <td>curd</td>\n",
       "      <td>fruit/vegetable juice</td>\n",
       "      <td>0.00033</td>\n",
       "      <td>0.5</td>\n",
       "      <td>8.28516</td>\n",
       "    </tr>\n",
       "  </tbody>\n",
       "</table>\n",
       "</div>"
      ],
      "text/plain": [
       "   item_x                 item_y  support confidence     lift\n",
       "63   curd  fruit/vegetable juice  0.00033        0.5  8.28516"
      ]
     },
     "execution_count": 57,
     "metadata": {},
     "output_type": "execute_result"
    }
   ],
   "source": [
    "# Max lift value. \n",
    "associations_df.sort_values(by='lift',ascending=False).head(1)"
   ]
  },
  {
   "cell_type": "code",
   "execution_count": null,
   "metadata": {},
   "outputs": [],
   "source": [
    "# The itemset of fruit/vegetable juice and sausage have the highest lift value of 8.29 \n",
    "# and a relatively high confidence value of 50%. However, the support value is low suggesting that they \n",
    "# are not purchased as frequently as other items in the dataset."
   ]
  },
  {
   "cell_type": "code",
   "execution_count": null,
   "metadata": {},
   "outputs": [],
   "source": []
  }
 ],
 "metadata": {
  "kernelspec": {
   "display_name": "Python 3",
   "language": "python",
   "name": "python3"
  },
  "language_info": {
   "codemirror_mode": {
    "name": "ipython",
    "version": 3
   },
   "file_extension": ".py",
   "mimetype": "text/x-python",
   "name": "python",
   "nbconvert_exporter": "python",
   "pygments_lexer": "ipython3",
   "version": "3.7.6"
  }
 },
 "nbformat": 4,
 "nbformat_minor": 4
}
