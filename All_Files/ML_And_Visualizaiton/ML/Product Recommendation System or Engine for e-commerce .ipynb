{
 "cells": [
  {
   "cell_type": "markdown",
   "metadata": {},
   "source": [
    "# Product Recommendation System for e-commerce businesses"
   ]
  },
  {
   "cell_type": "markdown",
   "metadata": {},
   "source": [
    "A well developed recommendation system will help businesses improve their shopper's \n",
    "experience on website and result in better customer acquisition and retention.\n",
    "\n",
    "The recommendation system designed below is based on the journey of a new customer from the \n",
    "time he/she lands on the business’s website for the first time to when he/she makes repeat purchases.\n",
    "\n",
    "#### The recommendation system is designed in 3 parts based on the business context:\n",
    "\n",
    "Recommendation system part I: Product pupularity based system targetted at new customers\n",
    "\n",
    "Recommendation system part II: Model-based collaborative filtering system based on customer's\n",
    "purchase history and ratings provided by other users who bought items similar items\n",
    "\n",
    "When a new customer without any previous purchase history visits the e-commerce website for the first time, he/she is recommended the most popular products sold on the company's website. Once, he/she makes a purchase, the recommendation system updates and recommends other products based on the purchase history and ratings provided by other users on the website. The latter part is done using collaborative filtering techniques."
   ]
  },
  {
   "cell_type": "markdown",
   "metadata": {},
   "source": [
    "## Recommendation System - Part I\n",
    "\n",
    "Product popularity based recommendation system targeted at new customers\n",
    "Popularity based are a great strategy to target the new customers with the most popular products sold on a business's \n",
    "website and is very useful to cold start a recommendation engine.\n",
    "\n",
    "Dataset  : Amazon product review dataset - This is a dataset ( spanning May 1996 - July 2014) related to over 2 Million customer reviews and ratings of Beauty related products sold on their website.\n",
    "\n",
    "It contains\n",
    "\n",
    "  - the unique UserId (Customer Identification),\n",
    "  - the product ASIN (Amazon's unique product identification code for each product),\n",
    "  - Ratings (ranging from 1-5 based on customer satisfaction) and\n",
    "  - the Timestamp of the rating (in UNIX time)"
   ]
  },
  {
   "cell_type": "code",
   "execution_count": 46,
   "metadata": {},
   "outputs": [],
   "source": [
    "import pandas as pd\n",
    "import numpy as np\n",
    "import datetime as dt\n",
    "import matplotlib.pyplot as plt\n",
    "\n",
    "import sklearn\n",
    "from sklearn.decomposition import TruncatedSVD     # This transformer performs linear dimensionality\n",
    "                                                  # reduction by means of truncated singular value"
   ]
  },
  {
   "cell_type": "code",
   "execution_count": 3,
   "metadata": {},
   "outputs": [],
   "source": [
    "data = pd.read_csv(\"C:/Users/mncedisi.mncwabe/Videos/Practice/Recommender system/ratings_Beauty.csv\")"
   ]
  },
  {
   "cell_type": "code",
   "execution_count": 4,
   "metadata": {},
   "outputs": [
    {
     "data": {
      "text/html": [
       "<div>\n",
       "<style scoped>\n",
       "    .dataframe tbody tr th:only-of-type {\n",
       "        vertical-align: middle;\n",
       "    }\n",
       "\n",
       "    .dataframe tbody tr th {\n",
       "        vertical-align: top;\n",
       "    }\n",
       "\n",
       "    .dataframe thead th {\n",
       "        text-align: right;\n",
       "    }\n",
       "</style>\n",
       "<table border=\"1\" class=\"dataframe\">\n",
       "  <thead>\n",
       "    <tr style=\"text-align: right;\">\n",
       "      <th></th>\n",
       "      <th>UserId</th>\n",
       "      <th>ProductId</th>\n",
       "      <th>Rating</th>\n",
       "      <th>Timestamp</th>\n",
       "    </tr>\n",
       "  </thead>\n",
       "  <tbody>\n",
       "    <tr>\n",
       "      <th>0</th>\n",
       "      <td>A39HTATAQ9V7YF</td>\n",
       "      <td>0205616461</td>\n",
       "      <td>5.0</td>\n",
       "      <td>1369699200</td>\n",
       "    </tr>\n",
       "    <tr>\n",
       "      <th>1</th>\n",
       "      <td>A3JM6GV9MNOF9X</td>\n",
       "      <td>0558925278</td>\n",
       "      <td>3.0</td>\n",
       "      <td>1355443200</td>\n",
       "    </tr>\n",
       "    <tr>\n",
       "      <th>2</th>\n",
       "      <td>A1Z513UWSAAO0F</td>\n",
       "      <td>0558925278</td>\n",
       "      <td>5.0</td>\n",
       "      <td>1404691200</td>\n",
       "    </tr>\n",
       "    <tr>\n",
       "      <th>3</th>\n",
       "      <td>A1WMRR494NWEWV</td>\n",
       "      <td>0733001998</td>\n",
       "      <td>4.0</td>\n",
       "      <td>1382572800</td>\n",
       "    </tr>\n",
       "    <tr>\n",
       "      <th>4</th>\n",
       "      <td>A3IAAVS479H7M7</td>\n",
       "      <td>0737104473</td>\n",
       "      <td>1.0</td>\n",
       "      <td>1274227200</td>\n",
       "    </tr>\n",
       "  </tbody>\n",
       "</table>\n",
       "</div>"
      ],
      "text/plain": [
       "           UserId   ProductId  Rating   Timestamp\n",
       "0  A39HTATAQ9V7YF  0205616461     5.0  1369699200\n",
       "1  A3JM6GV9MNOF9X  0558925278     3.0  1355443200\n",
       "2  A1Z513UWSAAO0F  0558925278     5.0  1404691200\n",
       "3  A1WMRR494NWEWV  0733001998     4.0  1382572800\n",
       "4  A3IAAVS479H7M7  0737104473     1.0  1274227200"
      ]
     },
     "execution_count": 4,
     "metadata": {},
     "output_type": "execute_result"
    }
   ],
   "source": [
    "data.head()"
   ]
  },
  {
   "cell_type": "code",
   "execution_count": 6,
   "metadata": {},
   "outputs": [
    {
     "data": {
      "text/plain": [
       "(2023070, 4)"
      ]
     },
     "execution_count": 6,
     "metadata": {},
     "output_type": "execute_result"
    }
   ],
   "source": [
    "data.shape"
   ]
  },
  {
   "cell_type": "code",
   "execution_count": 7,
   "metadata": {},
   "outputs": [
    {
     "name": "stdout",
     "output_type": "stream",
     "text": [
      "<class 'pandas.core.frame.DataFrame'>\n",
      "RangeIndex: 2023070 entries, 0 to 2023069\n",
      "Data columns (total 4 columns):\n",
      " #   Column     Dtype  \n",
      "---  ------     -----  \n",
      " 0   UserId     object \n",
      " 1   ProductId  object \n",
      " 2   Rating     float64\n",
      " 3   Timestamp  int64  \n",
      "dtypes: float64(1), int64(1), object(2)\n",
      "memory usage: 61.7+ MB\n"
     ]
    }
   ],
   "source": [
    "data.info()"
   ]
  },
  {
   "cell_type": "code",
   "execution_count": 8,
   "metadata": {},
   "outputs": [
    {
     "data": {
      "text/plain": [
       "UserId       0.0\n",
       "ProductId    0.0\n",
       "Rating       0.0\n",
       "Timestamp    0.0\n",
       "dtype: float64"
      ]
     },
     "execution_count": 8,
     "metadata": {},
     "output_type": "execute_result"
    }
   ],
   "source": [
    "data.isnull().sum()/len(data)*100"
   ]
  },
  {
   "cell_type": "code",
   "execution_count": 12,
   "metadata": {},
   "outputs": [
    {
     "data": {
      "text/html": [
       "<div>\n",
       "<style scoped>\n",
       "    .dataframe tbody tr th:only-of-type {\n",
       "        vertical-align: middle;\n",
       "    }\n",
       "\n",
       "    .dataframe tbody tr th {\n",
       "        vertical-align: top;\n",
       "    }\n",
       "\n",
       "    .dataframe thead th {\n",
       "        text-align: right;\n",
       "    }\n",
       "</style>\n",
       "<table border=\"1\" class=\"dataframe\">\n",
       "  <thead>\n",
       "    <tr style=\"text-align: right;\">\n",
       "      <th></th>\n",
       "      <th>Rating</th>\n",
       "    </tr>\n",
       "    <tr>\n",
       "      <th>ProductId</th>\n",
       "      <th></th>\n",
       "    </tr>\n",
       "  </thead>\n",
       "  <tbody>\n",
       "    <tr>\n",
       "      <th>B001MA0QY2</th>\n",
       "      <td>7533</td>\n",
       "    </tr>\n",
       "    <tr>\n",
       "      <th>B0009V1YR8</th>\n",
       "      <td>2869</td>\n",
       "    </tr>\n",
       "    <tr>\n",
       "      <th>B0043OYFKU</th>\n",
       "      <td>2477</td>\n",
       "    </tr>\n",
       "    <tr>\n",
       "      <th>B0000YUXI0</th>\n",
       "      <td>2143</td>\n",
       "    </tr>\n",
       "    <tr>\n",
       "      <th>B003V265QW</th>\n",
       "      <td>2088</td>\n",
       "    </tr>\n",
       "    <tr>\n",
       "      <th>B000ZMBSPE</th>\n",
       "      <td>2041</td>\n",
       "    </tr>\n",
       "    <tr>\n",
       "      <th>B003BQ6QXK</th>\n",
       "      <td>1918</td>\n",
       "    </tr>\n",
       "    <tr>\n",
       "      <th>B004OHQR1Q</th>\n",
       "      <td>1885</td>\n",
       "    </tr>\n",
       "    <tr>\n",
       "      <th>B00121UVU0</th>\n",
       "      <td>1838</td>\n",
       "    </tr>\n",
       "    <tr>\n",
       "      <th>B000FS05VG</th>\n",
       "      <td>1589</td>\n",
       "    </tr>\n",
       "  </tbody>\n",
       "</table>\n",
       "</div>"
      ],
      "text/plain": [
       "            Rating\n",
       "ProductId         \n",
       "B001MA0QY2    7533\n",
       "B0009V1YR8    2869\n",
       "B0043OYFKU    2477\n",
       "B0000YUXI0    2143\n",
       "B003V265QW    2088\n",
       "B000ZMBSPE    2041\n",
       "B003BQ6QXK    1918\n",
       "B004OHQR1Q    1885\n",
       "B00121UVU0    1838\n",
       "B000FS05VG    1589"
      ]
     },
     "execution_count": 12,
     "metadata": {},
     "output_type": "execute_result"
    }
   ],
   "source": [
    "# dataframe for most popular products\n",
    "popular_products = pd.DataFrame(data.groupby('ProductId')['Rating'].count())\n",
    "most_popular = popular_products.sort_values('Rating',ascending=False)\n",
    "most_popular.head(10)"
   ]
  },
  {
   "cell_type": "code",
   "execution_count": 18,
   "metadata": {},
   "outputs": [
    {
     "data": {
      "image/png": "[encoded data removed]",
      "text/plain": [
       "<Figure size 1080x576 with 1 Axes>"
      ]
     },
     "metadata": {
      "needs_background": "light"
     },
     "output_type": "display_data"
    }
   ],
   "source": [
    "# plot the 30 most popular products\n",
    "most_popular.head(30).plot(kind='bar',figsize=(15,8));"
   ]
  },
  {
   "cell_type": "markdown",
   "metadata": {},
   "source": [
    "##### Insights:\n",
    "    the above graph shows the most popular products (arranged in descending order) sold by the business on their website\n",
    "    For eaxmple, ProductID #B001MA0QY2 has sales of over 7000, the next most popular ProductID #B0009V1YR8 has sales \n",
    "    of 3000, etc.\n",
    "    \n",
    "    \n",
    " Part I, Recommendation engine based on targeting the new customers with the most popular products sold on a business's website is done.\n",
    " \n",
    " Now we move to Part II, the recommendation engine based on customer's purchase history"
   ]
  },
  {
   "cell_type": "markdown",
   "metadata": {},
   "source": [
    "### Recommendation System - Part II\n",
    "\n",
    "##### Model-based collaborative filtering system\n",
    "\n",
    "- Recommend items to users/customers based on purchase history and similarity of ratings provided by other users who bought items similar to that of a particular customer\n",
    "- A model based collaborative filtering technique is chosen here as it helps in predicting products for a particular user by identifying patterns based on preferences from multiple user data"
   ]
  },
  {
   "cell_type": "markdown",
   "metadata": {},
   "source": [
    "###### Utility Matrix based on products sold and user reviews\n",
    "\n",
    "Utility Matrix : A Utlity matrix consists of all possible user-item preferences (ratings) details represented as a matrix. The utility matrix is sparce/scarce/scattered as none of the users would buy all the items in the list, hence, most of the values are unknown.\n",
    "In most cases, the cells in the matrix are empty, as users only rate a few items. It’s highly unlikely for every user to rate or react to every item available. A matrix with mostly empty cells is called sparse, and the opposite to that (a mostly filled matrix) is called dense.\n",
    "\n",
    "The data used in a recommendation system is divided in two categories: the Users and the Items. These rating values are collected in a matrix called utility matrix, in which each row i represents the list of rated items for user i while each column j lists all the users who have rated item j."
   ]
  },
  {
   "cell_type": "code",
   "execution_count": 19,
   "metadata": {},
   "outputs": [],
   "source": [
    "# Take subset\n",
    "amazon_ratings = data.head(10000)"
   ]
  },
  {
   "cell_type": "code",
   "execution_count": 23,
   "metadata": {},
   "outputs": [
    {
     "data": {
      "text/html": [
       "<div>\n",
       "<style scoped>\n",
       "    .dataframe tbody tr th:only-of-type {\n",
       "        vertical-align: middle;\n",
       "    }\n",
       "\n",
       "    .dataframe tbody tr th {\n",
       "        vertical-align: top;\n",
       "    }\n",
       "\n",
       "    .dataframe thead th {\n",
       "        text-align: right;\n",
       "    }\n",
       "</style>\n",
       "<table border=\"1\" class=\"dataframe\">\n",
       "  <thead>\n",
       "    <tr style=\"text-align: right;\">\n",
       "      <th>ProductId</th>\n",
       "      <th>0205616461</th>\n",
       "      <th>0558925278</th>\n",
       "      <th>0733001998</th>\n",
       "      <th>0737104473</th>\n",
       "      <th>0762451459</th>\n",
       "      <th>1304139212</th>\n",
       "      <th>1304139220</th>\n",
       "      <th>130414089X</th>\n",
       "      <th>130414643X</th>\n",
       "      <th>1304146537</th>\n",
       "      <th>...</th>\n",
       "      <th>B000052YPE</th>\n",
       "      <th>B000052YPF</th>\n",
       "      <th>B000052YPG</th>\n",
       "      <th>B000052YPH</th>\n",
       "      <th>B000052YPM</th>\n",
       "      <th>B000052YPU</th>\n",
       "      <th>B000052YPV</th>\n",
       "      <th>B000052YPY</th>\n",
       "      <th>B000052YQ0</th>\n",
       "      <th>B000052YQ2</th>\n",
       "    </tr>\n",
       "    <tr>\n",
       "      <th>UserId</th>\n",
       "      <th></th>\n",
       "      <th></th>\n",
       "      <th></th>\n",
       "      <th></th>\n",
       "      <th></th>\n",
       "      <th></th>\n",
       "      <th></th>\n",
       "      <th></th>\n",
       "      <th></th>\n",
       "      <th></th>\n",
       "      <th></th>\n",
       "      <th></th>\n",
       "      <th></th>\n",
       "      <th></th>\n",
       "      <th></th>\n",
       "      <th></th>\n",
       "      <th></th>\n",
       "      <th></th>\n",
       "      <th></th>\n",
       "      <th></th>\n",
       "      <th></th>\n",
       "    </tr>\n",
       "  </thead>\n",
       "  <tbody>\n",
       "    <tr>\n",
       "      <th>A00205921JHJK5X9LNP42</th>\n",
       "      <td>0</td>\n",
       "      <td>0</td>\n",
       "      <td>0</td>\n",
       "      <td>0</td>\n",
       "      <td>0</td>\n",
       "      <td>0</td>\n",
       "      <td>0</td>\n",
       "      <td>0</td>\n",
       "      <td>0</td>\n",
       "      <td>0</td>\n",
       "      <td>...</td>\n",
       "      <td>0</td>\n",
       "      <td>0</td>\n",
       "      <td>0</td>\n",
       "      <td>0</td>\n",
       "      <td>0</td>\n",
       "      <td>0</td>\n",
       "      <td>0</td>\n",
       "      <td>0</td>\n",
       "      <td>0</td>\n",
       "      <td>0</td>\n",
       "    </tr>\n",
       "    <tr>\n",
       "      <th>A024581134CV80ZBLIZTZ</th>\n",
       "      <td>0</td>\n",
       "      <td>0</td>\n",
       "      <td>0</td>\n",
       "      <td>0</td>\n",
       "      <td>0</td>\n",
       "      <td>0</td>\n",
       "      <td>0</td>\n",
       "      <td>0</td>\n",
       "      <td>0</td>\n",
       "      <td>0</td>\n",
       "      <td>...</td>\n",
       "      <td>0</td>\n",
       "      <td>0</td>\n",
       "      <td>0</td>\n",
       "      <td>0</td>\n",
       "      <td>0</td>\n",
       "      <td>0</td>\n",
       "      <td>0</td>\n",
       "      <td>0</td>\n",
       "      <td>0</td>\n",
       "      <td>0</td>\n",
       "    </tr>\n",
       "    <tr>\n",
       "      <th>A03056581JJIOL5FSKJY7</th>\n",
       "      <td>0</td>\n",
       "      <td>0</td>\n",
       "      <td>0</td>\n",
       "      <td>0</td>\n",
       "      <td>0</td>\n",
       "      <td>0</td>\n",
       "      <td>0</td>\n",
       "      <td>0</td>\n",
       "      <td>0</td>\n",
       "      <td>0</td>\n",
       "      <td>...</td>\n",
       "      <td>0</td>\n",
       "      <td>0</td>\n",
       "      <td>0</td>\n",
       "      <td>0</td>\n",
       "      <td>0</td>\n",
       "      <td>0</td>\n",
       "      <td>0</td>\n",
       "      <td>0</td>\n",
       "      <td>0</td>\n",
       "      <td>0</td>\n",
       "    </tr>\n",
       "    <tr>\n",
       "      <th>A03099101ZRK4K607JVHH</th>\n",
       "      <td>0</td>\n",
       "      <td>0</td>\n",
       "      <td>0</td>\n",
       "      <td>0</td>\n",
       "      <td>0</td>\n",
       "      <td>0</td>\n",
       "      <td>0</td>\n",
       "      <td>0</td>\n",
       "      <td>0</td>\n",
       "      <td>0</td>\n",
       "      <td>...</td>\n",
       "      <td>0</td>\n",
       "      <td>0</td>\n",
       "      <td>0</td>\n",
       "      <td>0</td>\n",
       "      <td>0</td>\n",
       "      <td>0</td>\n",
       "      <td>0</td>\n",
       "      <td>0</td>\n",
       "      <td>0</td>\n",
       "      <td>0</td>\n",
       "    </tr>\n",
       "    <tr>\n",
       "      <th>A0505229A7NSH3FRXRR4</th>\n",
       "      <td>0</td>\n",
       "      <td>0</td>\n",
       "      <td>0</td>\n",
       "      <td>0</td>\n",
       "      <td>0</td>\n",
       "      <td>0</td>\n",
       "      <td>0</td>\n",
       "      <td>0</td>\n",
       "      <td>0</td>\n",
       "      <td>0</td>\n",
       "      <td>...</td>\n",
       "      <td>0</td>\n",
       "      <td>0</td>\n",
       "      <td>0</td>\n",
       "      <td>0</td>\n",
       "      <td>0</td>\n",
       "      <td>0</td>\n",
       "      <td>0</td>\n",
       "      <td>0</td>\n",
       "      <td>0</td>\n",
       "      <td>0</td>\n",
       "    </tr>\n",
       "  </tbody>\n",
       "</table>\n",
       "<p>5 rows × 886 columns</p>\n",
       "</div>"
      ],
      "text/plain": [
       "ProductId              0205616461  0558925278  0733001998  0737104473  \\\n",
       "UserId                                                                  \n",
       "A00205921JHJK5X9LNP42           0           0           0           0   \n",
       "A024581134CV80ZBLIZTZ           0           0           0           0   \n",
       "A03056581JJIOL5FSKJY7           0           0           0           0   \n",
       "A03099101ZRK4K607JVHH           0           0           0           0   \n",
       "A0505229A7NSH3FRXRR4            0           0           0           0   \n",
       "\n",
       "ProductId              0762451459  1304139212  1304139220  130414089X  \\\n",
       "UserId                                                                  \n",
       "A00205921JHJK5X9LNP42           0           0           0           0   \n",
       "A024581134CV80ZBLIZTZ           0           0           0           0   \n",
       "A03056581JJIOL5FSKJY7           0           0           0           0   \n",
       "A03099101ZRK4K607JVHH           0           0           0           0   \n",
       "A0505229A7NSH3FRXRR4            0           0           0           0   \n",
       "\n",
       "ProductId              130414643X  1304146537  ...  B000052YPE  B000052YPF  \\\n",
       "UserId                                         ...                           \n",
       "A00205921JHJK5X9LNP42           0           0  ...           0           0   \n",
       "A024581134CV80ZBLIZTZ           0           0  ...           0           0   \n",
       "A03056581JJIOL5FSKJY7           0           0  ...           0           0   \n",
       "A03099101ZRK4K607JVHH           0           0  ...           0           0   \n",
       "A0505229A7NSH3FRXRR4            0           0  ...           0           0   \n",
       "\n",
       "ProductId              B000052YPG  B000052YPH  B000052YPM  B000052YPU  \\\n",
       "UserId                                                                  \n",
       "A00205921JHJK5X9LNP42           0           0           0           0   \n",
       "A024581134CV80ZBLIZTZ           0           0           0           0   \n",
       "A03056581JJIOL5FSKJY7           0           0           0           0   \n",
       "A03099101ZRK4K607JVHH           0           0           0           0   \n",
       "A0505229A7NSH3FRXRR4            0           0           0           0   \n",
       "\n",
       "ProductId              B000052YPV  B000052YPY  B000052YQ0  B000052YQ2  \n",
       "UserId                                                                 \n",
       "A00205921JHJK5X9LNP42           0           0           0           0  \n",
       "A024581134CV80ZBLIZTZ           0           0           0           0  \n",
       "A03056581JJIOL5FSKJY7           0           0           0           0  \n",
       "A03099101ZRK4K607JVHH           0           0           0           0  \n",
       "A0505229A7NSH3FRXRR4            0           0           0           0  \n",
       "\n",
       "[5 rows x 886 columns]"
      ]
     },
     "execution_count": 23,
     "metadata": {},
     "output_type": "execute_result"
    }
   ],
   "source": [
    "ratings_utility_matrix = amazon_ratings.pivot_table(values='Rating',index='UserId',columns='ProductId',fill_value=0)\n",
    "ratings_utility_matrix.head()"
   ]
  },
  {
   "cell_type": "code",
   "execution_count": null,
   "metadata": {},
   "outputs": [],
   "source": [
    "# As expected, the utility matrix obtained above is sparce, the unknown values are filled with 0."
   ]
  },
  {
   "cell_type": "code",
   "execution_count": 24,
   "metadata": {},
   "outputs": [
    {
     "data": {
      "text/plain": [
       "(9697, 886)"
      ]
     },
     "execution_count": 24,
     "metadata": {},
     "output_type": "execute_result"
    }
   ],
   "source": [
    "ratings_utility_matrix.shape"
   ]
  },
  {
   "cell_type": "code",
   "execution_count": 25,
   "metadata": {},
   "outputs": [
    {
     "data": {
      "text/html": [
       "<div>\n",
       "<style scoped>\n",
       "    .dataframe tbody tr th:only-of-type {\n",
       "        vertical-align: middle;\n",
       "    }\n",
       "\n",
       "    .dataframe tbody tr th {\n",
       "        vertical-align: top;\n",
       "    }\n",
       "\n",
       "    .dataframe thead th {\n",
       "        text-align: right;\n",
       "    }\n",
       "</style>\n",
       "<table border=\"1\" class=\"dataframe\">\n",
       "  <thead>\n",
       "    <tr style=\"text-align: right;\">\n",
       "      <th>UserId</th>\n",
       "      <th>A00205921JHJK5X9LNP42</th>\n",
       "      <th>A024581134CV80ZBLIZTZ</th>\n",
       "      <th>A03056581JJIOL5FSKJY7</th>\n",
       "      <th>A03099101ZRK4K607JVHH</th>\n",
       "      <th>A0505229A7NSH3FRXRR4</th>\n",
       "      <th>A05492663T95KW63BR75K</th>\n",
       "      <th>A059547920Q3LZVFHLPI3</th>\n",
       "      <th>A07410232KYRFR25CIUGJ</th>\n",
       "      <th>A082796624UNM47DSAI6K</th>\n",
       "      <th>A0864963DOAY7LXGS5I6</th>\n",
       "      <th>...</th>\n",
       "      <th>AZW1HXXYAC15B</th>\n",
       "      <th>AZWRTJPN7NXT</th>\n",
       "      <th>AZWTXHXZXFAYP</th>\n",
       "      <th>AZYQEFB9Y5N22</th>\n",
       "      <th>AZZHB6U54UDYW</th>\n",
       "      <th>AZZHJZP4GQPPZ</th>\n",
       "      <th>AZZNK89PXD006</th>\n",
       "      <th>AZZOFVMQC0BJG</th>\n",
       "      <th>AZZQXL8VDCFTV</th>\n",
       "      <th>AZZTJQ7CQZUD8</th>\n",
       "    </tr>\n",
       "    <tr>\n",
       "      <th>ProductId</th>\n",
       "      <th></th>\n",
       "      <th></th>\n",
       "      <th></th>\n",
       "      <th></th>\n",
       "      <th></th>\n",
       "      <th></th>\n",
       "      <th></th>\n",
       "      <th></th>\n",
       "      <th></th>\n",
       "      <th></th>\n",
       "      <th></th>\n",
       "      <th></th>\n",
       "      <th></th>\n",
       "      <th></th>\n",
       "      <th></th>\n",
       "      <th></th>\n",
       "      <th></th>\n",
       "      <th></th>\n",
       "      <th></th>\n",
       "      <th></th>\n",
       "      <th></th>\n",
       "    </tr>\n",
       "  </thead>\n",
       "  <tbody>\n",
       "    <tr>\n",
       "      <th>0205616461</th>\n",
       "      <td>0</td>\n",
       "      <td>0</td>\n",
       "      <td>0</td>\n",
       "      <td>0</td>\n",
       "      <td>0</td>\n",
       "      <td>0</td>\n",
       "      <td>0</td>\n",
       "      <td>0</td>\n",
       "      <td>0</td>\n",
       "      <td>0</td>\n",
       "      <td>...</td>\n",
       "      <td>0</td>\n",
       "      <td>0</td>\n",
       "      <td>0</td>\n",
       "      <td>0</td>\n",
       "      <td>0</td>\n",
       "      <td>0</td>\n",
       "      <td>0</td>\n",
       "      <td>0</td>\n",
       "      <td>0</td>\n",
       "      <td>0</td>\n",
       "    </tr>\n",
       "    <tr>\n",
       "      <th>0558925278</th>\n",
       "      <td>0</td>\n",
       "      <td>0</td>\n",
       "      <td>0</td>\n",
       "      <td>0</td>\n",
       "      <td>0</td>\n",
       "      <td>0</td>\n",
       "      <td>0</td>\n",
       "      <td>0</td>\n",
       "      <td>0</td>\n",
       "      <td>0</td>\n",
       "      <td>...</td>\n",
       "      <td>0</td>\n",
       "      <td>0</td>\n",
       "      <td>0</td>\n",
       "      <td>0</td>\n",
       "      <td>0</td>\n",
       "      <td>0</td>\n",
       "      <td>0</td>\n",
       "      <td>0</td>\n",
       "      <td>0</td>\n",
       "      <td>0</td>\n",
       "    </tr>\n",
       "    <tr>\n",
       "      <th>0733001998</th>\n",
       "      <td>0</td>\n",
       "      <td>0</td>\n",
       "      <td>0</td>\n",
       "      <td>0</td>\n",
       "      <td>0</td>\n",
       "      <td>0</td>\n",
       "      <td>0</td>\n",
       "      <td>0</td>\n",
       "      <td>0</td>\n",
       "      <td>0</td>\n",
       "      <td>...</td>\n",
       "      <td>0</td>\n",
       "      <td>0</td>\n",
       "      <td>0</td>\n",
       "      <td>0</td>\n",
       "      <td>0</td>\n",
       "      <td>0</td>\n",
       "      <td>0</td>\n",
       "      <td>0</td>\n",
       "      <td>0</td>\n",
       "      <td>0</td>\n",
       "    </tr>\n",
       "    <tr>\n",
       "      <th>0737104473</th>\n",
       "      <td>0</td>\n",
       "      <td>0</td>\n",
       "      <td>0</td>\n",
       "      <td>0</td>\n",
       "      <td>0</td>\n",
       "      <td>0</td>\n",
       "      <td>0</td>\n",
       "      <td>0</td>\n",
       "      <td>0</td>\n",
       "      <td>0</td>\n",
       "      <td>...</td>\n",
       "      <td>0</td>\n",
       "      <td>0</td>\n",
       "      <td>0</td>\n",
       "      <td>0</td>\n",
       "      <td>0</td>\n",
       "      <td>0</td>\n",
       "      <td>0</td>\n",
       "      <td>0</td>\n",
       "      <td>0</td>\n",
       "      <td>0</td>\n",
       "    </tr>\n",
       "    <tr>\n",
       "      <th>0762451459</th>\n",
       "      <td>0</td>\n",
       "      <td>0</td>\n",
       "      <td>0</td>\n",
       "      <td>0</td>\n",
       "      <td>0</td>\n",
       "      <td>0</td>\n",
       "      <td>0</td>\n",
       "      <td>0</td>\n",
       "      <td>0</td>\n",
       "      <td>0</td>\n",
       "      <td>...</td>\n",
       "      <td>0</td>\n",
       "      <td>0</td>\n",
       "      <td>0</td>\n",
       "      <td>0</td>\n",
       "      <td>0</td>\n",
       "      <td>0</td>\n",
       "      <td>0</td>\n",
       "      <td>0</td>\n",
       "      <td>0</td>\n",
       "      <td>0</td>\n",
       "    </tr>\n",
       "  </tbody>\n",
       "</table>\n",
       "<p>5 rows × 9697 columns</p>\n",
       "</div>"
      ],
      "text/plain": [
       "UserId      A00205921JHJK5X9LNP42  A024581134CV80ZBLIZTZ  \\\n",
       "ProductId                                                  \n",
       "0205616461                      0                      0   \n",
       "0558925278                      0                      0   \n",
       "0733001998                      0                      0   \n",
       "0737104473                      0                      0   \n",
       "0762451459                      0                      0   \n",
       "\n",
       "UserId      A03056581JJIOL5FSKJY7  A03099101ZRK4K607JVHH  \\\n",
       "ProductId                                                  \n",
       "0205616461                      0                      0   \n",
       "0558925278                      0                      0   \n",
       "0733001998                      0                      0   \n",
       "0737104473                      0                      0   \n",
       "0762451459                      0                      0   \n",
       "\n",
       "UserId      A0505229A7NSH3FRXRR4  A05492663T95KW63BR75K  \\\n",
       "ProductId                                                 \n",
       "0205616461                     0                      0   \n",
       "0558925278                     0                      0   \n",
       "0733001998                     0                      0   \n",
       "0737104473                     0                      0   \n",
       "0762451459                     0                      0   \n",
       "\n",
       "UserId      A059547920Q3LZVFHLPI3  A07410232KYRFR25CIUGJ  \\\n",
       "ProductId                                                  \n",
       "0205616461                      0                      0   \n",
       "0558925278                      0                      0   \n",
       "0733001998                      0                      0   \n",
       "0737104473                      0                      0   \n",
       "0762451459                      0                      0   \n",
       "\n",
       "UserId      A082796624UNM47DSAI6K  A0864963DOAY7LXGS5I6  ...  AZW1HXXYAC15B  \\\n",
       "ProductId                                                ...                  \n",
       "0205616461                      0                     0  ...              0   \n",
       "0558925278                      0                     0  ...              0   \n",
       "0733001998                      0                     0  ...              0   \n",
       "0737104473                      0                     0  ...              0   \n",
       "0762451459                      0                     0  ...              0   \n",
       "\n",
       "UserId      AZWRTJPN7NXT  AZWTXHXZXFAYP  AZYQEFB9Y5N22  AZZHB6U54UDYW  \\\n",
       "ProductId                                                               \n",
       "0205616461             0              0              0              0   \n",
       "0558925278             0              0              0              0   \n",
       "0733001998             0              0              0              0   \n",
       "0737104473             0              0              0              0   \n",
       "0762451459             0              0              0              0   \n",
       "\n",
       "UserId      AZZHJZP4GQPPZ  AZZNK89PXD006  AZZOFVMQC0BJG  AZZQXL8VDCFTV  \\\n",
       "ProductId                                                                \n",
       "0205616461              0              0              0              0   \n",
       "0558925278              0              0              0              0   \n",
       "0733001998              0              0              0              0   \n",
       "0737104473              0              0              0              0   \n",
       "0762451459              0              0              0              0   \n",
       "\n",
       "UserId      AZZTJQ7CQZUD8  \n",
       "ProductId                  \n",
       "0205616461              0  \n",
       "0558925278              0  \n",
       "0733001998              0  \n",
       "0737104473              0  \n",
       "0762451459              0  \n",
       "\n",
       "[5 rows x 9697 columns]"
      ]
     },
     "execution_count": 25,
     "metadata": {},
     "output_type": "execute_result"
    }
   ],
   "source": [
    "# Transpose the matrix\n",
    "ratings_utility_matrix = ratings_utility_matrix.T\n",
    "ratings_utility_matrix.head()"
   ]
  },
  {
   "cell_type": "code",
   "execution_count": 27,
   "metadata": {},
   "outputs": [],
   "source": [
    "# Decomposing the matrix\n",
    "# Matrix decomposition is matrix factorization which separates a matrix into two other matrices that are typically much easier \n",
    "# to solve than the original matrix. Not only does this make the problem easy to solve,\n",
    "# but it reduces the amount of time required by a computer to calculate the answe\n",
    "\n",
    "SVD =  TruncatedSVD(n_components=10)\n",
    "decomposed_matrix = SVD.fit_transform(ratings_utility_matrix)"
   ]
  },
  {
   "cell_type": "code",
   "execution_count": 30,
   "metadata": {},
   "outputs": [
    {
     "data": {
      "text/plain": [
       "(886, 10)"
      ]
     },
     "execution_count": 30,
     "metadata": {},
     "output_type": "execute_result"
    }
   ],
   "source": [
    "decomposed_matrix.shape"
   ]
  },
  {
   "cell_type": "code",
   "execution_count": 32,
   "metadata": {},
   "outputs": [
    {
     "data": {
      "text/plain": [
       "array([[ 1.        , -0.77176758, -0.80482662, ...,  0.26139057,\n",
       "        -0.75332335, -0.39022307],\n",
       "       [-0.77176758,  1.        ,  0.9189048 , ..., -0.28961745,\n",
       "         0.52644166, -0.02408144],\n",
       "       [-0.80482662,  0.9189048 ,  1.        , ..., -0.27688205,\n",
       "         0.71728404,  0.27721019],\n",
       "       ...,\n",
       "       [ 0.26139057, -0.28961745, -0.27688205, ...,  1.        ,\n",
       "        -0.19280491, -0.0897717 ],\n",
       "       [-0.75332335,  0.52644166,  0.71728404, ..., -0.19280491,\n",
       "         1.        ,  0.7848098 ],\n",
       "       [-0.39022307, -0.02408144,  0.27721019, ..., -0.0897717 ,\n",
       "         0.7848098 ,  1.        ]])"
      ]
     },
     "execution_count": 32,
     "metadata": {},
     "output_type": "execute_result"
    }
   ],
   "source": [
    "# Correlation Matrix\n",
    "\n",
    "correlation_matrix = np.corrcoef(decomposed_matrix)\n",
    "correlation_matrix"
   ]
  },
  {
   "cell_type": "code",
   "execution_count": 33,
   "metadata": {},
   "outputs": [
    {
     "data": {
      "text/plain": [
       "(886, 886)"
      ]
     },
     "execution_count": 33,
     "metadata": {},
     "output_type": "execute_result"
    }
   ],
   "source": [
    "correlation_matrix.shape"
   ]
  },
  {
   "cell_type": "code",
   "execution_count": 36,
   "metadata": {},
   "outputs": [
    {
     "data": {
      "text/plain": [
       "'6117036094'"
      ]
     },
     "execution_count": 36,
     "metadata": {},
     "output_type": "execute_result"
    }
   ],
   "source": [
    "# Isolating Product ID #6117036094 from the Correlation Matrix\n",
    "\n",
    "# Assuming the customer buys Product ID #6117036094 (randomly chosen)\n",
    "\n",
    "ratings_utility_matrix.index[99]"
   ]
  },
  {
   "cell_type": "code",
   "execution_count": 37,
   "metadata": {},
   "outputs": [
    {
     "data": {
      "text/plain": [
       "99"
      ]
     },
     "execution_count": 37,
     "metadata": {},
     "output_type": "execute_result"
    }
   ],
   "source": [
    "# Index # of product ID purchased by customer\n",
    "\n",
    "i = '6117036094'\n",
    "product_names = list(ratings_utility_matrix.index)\n",
    "product_ID = product_names.index(i)\n",
    "product_ID"
   ]
  },
  {
   "cell_type": "code",
   "execution_count": 38,
   "metadata": {},
   "outputs": [
    {
     "data": {
      "text/plain": [
       "(886,)"
      ]
     },
     "execution_count": 38,
     "metadata": {},
     "output_type": "execute_result"
    }
   ],
   "source": [
    "# Correlation of all items with the item purchased (which is '6117036094') by this customer based on \n",
    "# items rated by other customers who bought the same product\n",
    "\n",
    "correlation_product_ID = correlation_matrix[product_ID]\n",
    "correlation_product_ID.shape"
   ]
  },
  {
   "cell_type": "code",
   "execution_count": 39,
   "metadata": {},
   "outputs": [
    {
     "data": {
      "text/plain": [
       "array([-0.87005108,  0.86440828,  0.95875374,  0.14139229, -0.0955867 ,\n",
       "        0.44345051,  0.46912213, -0.96428447,  0.44327161, -0.94899143,\n",
       "        0.46912213, -0.94884773,  0.46992096,  0.45529531,  0.44345051,\n",
       "        0.46912213,  0.46912213,  0.93529832,  0.46992054,  0.98245113,\n",
       "       -0.94753196, -0.99539984,  0.46658803, -0.94882042, -0.94763424,\n",
       "        0.24569946,  0.23764837, -0.02636002, -0.94882042,  0.24198231,\n",
       "        0.25400033,  0.44347852,  0.418176  ,  0.24613037, -0.94885775,\n",
       "        0.44345051,  0.24613037,  0.99750961,  0.44307789,  0.00596797,\n",
       "        0.00488158,  0.24569946,  0.44180032,  0.44345051,  0.44345051,\n",
       "        0.44345051, -0.94882042,  0.44345051,  0.44331199,  0.00596797,\n",
       "       -0.85531668, -0.9375941 ,  0.92728282,  0.98441522, -0.31459817,\n",
       "        0.32957783, -0.48471889, -0.87384342,  0.9902482 , -0.95937902,\n",
       "       -0.8515448 , -0.94988265,  0.72266532,  0.97276866,  0.97395995,\n",
       "       -0.91849266,  0.02597714,  0.92706641, -0.18765864, -0.95870324,\n",
       "       -0.64280932, -0.97710181, -0.95876702, -0.92262874, -0.57107799,\n",
       "       -0.22596081, -0.35995442,  0.94277067,  0.99167599,  0.35853302,\n",
       "       -0.97692147,  0.77296917,  0.70965517, -0.99530859, -0.98448685,\n",
       "       -0.92846774,  0.74311847, -0.91263437, -0.68156391,  0.7516772 ,\n",
       "       -0.89031619,  0.0234339 ,  0.71330695, -0.14604545, -0.70937271,\n",
       "        0.76919544,  0.77899429,  0.77700848,  0.22204448,  1.        ,\n",
       "       -0.42588514,  0.80906738,  0.9930149 , -0.91389522, -0.89849444,\n",
       "        0.51942915, -0.31495795,  0.97841218,  0.94793112, -0.76140426,\n",
       "        0.88088145, -0.97123228, -0.96809988,  0.98599926,  0.05295494,\n",
       "        0.98069455, -0.96212791, -0.14256493, -0.98162095,  0.93591242,\n",
       "       -0.72257343, -0.94656701,  0.46120843,  0.98480089, -0.85722792,\n",
       "       -0.95725539, -0.12283924,  0.94687769, -0.90650322,  0.98658228,\n",
       "        0.02432193,  0.42152486, -0.96897116, -0.95233457, -0.98039268,\n",
       "        0.97677936,  0.86382977, -0.96183069,  0.91610748, -0.59984033,\n",
       "       -0.8782847 ,  0.50337994, -0.99799303,  0.97676801, -0.98947223,\n",
       "       -0.96244889,  0.99575557,  0.71256492,  0.4717761 , -0.95714684,\n",
       "        0.4693756 ,  0.29452682, -0.84788312, -0.86797588,  0.60670841,\n",
       "       -0.84621441,  0.44022688, -0.99071332,  0.96745789,  0.94335139,\n",
       "       -0.97281842, -0.27177237, -0.67572534,  0.94057343,  0.94364239,\n",
       "        0.55131367,  0.94513378, -0.13752739,  0.92522885,  0.69635977,\n",
       "        0.94326501, -0.73228958, -0.94272179,  0.79684577, -0.82681244,\n",
       "       -0.97371338, -0.99135874, -0.98049651,  0.88347925,  0.63363177,\n",
       "       -0.94332194,  0.96691537,  0.24869735, -0.98045028,  0.9803815 ,\n",
       "        0.98417174, -0.78366123,  0.8199518 ,  0.96636543,  0.31280977,\n",
       "        0.64950554, -0.34110902,  0.9681586 ,  0.91754001,  0.93578439,\n",
       "       -0.09445244,  0.94482074, -0.89152598,  0.95109628, -0.26774031,\n",
       "       -0.88212723,  0.9803815 , -0.02816723, -0.64669957,  0.94803797,\n",
       "        0.92024151,  0.94930748,  0.98990273,  0.10396248, -0.95374477,\n",
       "        0.42173094, -0.96906562,  0.97733094, -0.98173454,  0.95160261,\n",
       "       -0.4082833 , -0.89487154,  0.9347902 , -0.8899667 , -0.95591615,\n",
       "       -0.98877085,  0.95044915,  0.93584251,  0.47222841, -0.81249241,\n",
       "        0.4327467 , -0.82245476,  0.99010643, -0.99444145, -0.32666741,\n",
       "       -0.97623088, -0.98790348, -0.82678673, -0.95060719, -0.94040783,\n",
       "        0.97283347,  0.96934389, -0.81420012,  0.96858308,  0.91564933,\n",
       "       -0.69337133,  0.78365421,  0.92939298,  0.62426026, -0.94626763,\n",
       "        0.93171804,  0.91775982, -0.98651618, -0.87540554, -0.0300313 ,\n",
       "        0.42974641,  0.82456951, -0.94530345,  0.80633591,  0.95055287,\n",
       "        0.93008909, -0.92940675, -0.96313344,  0.91698895,  0.98844718,\n",
       "       -0.95332898,  0.99492094, -0.46561869, -0.08449277,  0.63939975,\n",
       "       -0.98511814,  0.9840928 , -0.85745905,  0.05262924,  0.97986129,\n",
       "       -0.89000433, -0.81398055,  0.97382576, -0.98962134, -0.96050335,\n",
       "        0.74485553,  0.94664266,  0.99303274, -0.9343563 ,  0.80231952,\n",
       "        0.97505288, -0.95911651,  0.13103956,  0.99372299, -0.90139669,\n",
       "       -0.91575852,  0.96997267, -0.93995156, -0.90899519,  0.99425533,\n",
       "        0.76433079, -0.87534085,  0.96311213,  0.98948257,  0.96904328,\n",
       "       -0.98524987,  0.92888387, -0.98568685,  0.97252113, -0.99693555,\n",
       "        0.93855717,  0.76464718,  0.38104143, -0.96554224,  0.81634078,\n",
       "        0.81236673, -0.96215331, -0.05132055,  0.94611498, -0.98223639,\n",
       "        0.88366292,  0.70865877, -0.98477409,  0.42857108, -0.20568208,\n",
       "        0.81220169, -0.97418697, -0.6360661 ,  0.35756511, -0.92055923,\n",
       "       -0.95401164,  0.7887726 , -0.98456755, -0.10170826,  0.9234742 ,\n",
       "        0.94343573,  0.98872403,  0.82542901, -0.61118571, -0.98429189,\n",
       "        0.93490621,  0.80219818,  0.49563274, -0.72853223,  0.98732286,\n",
       "       -0.93113514,  0.10696876, -0.83615997, -0.98202444, -0.81550655,\n",
       "       -0.96081002, -0.99312483, -0.96885815,  0.22501848, -0.58503331,\n",
       "        0.5004687 , -0.98336385,  0.65936349,  0.89999868, -0.69675211,\n",
       "        0.95641519,  0.8659333 ,  0.92595263,  0.87631475, -0.89035728,\n",
       "       -0.97176303,  0.8887788 , -0.6419417 ,  0.95148566, -0.9717325 ,\n",
       "        0.85093407, -0.96643537,  0.62723885, -0.89406127,  0.98709911,\n",
       "        0.82526958, -0.81618811,  0.90197782, -0.76138603, -0.99638656,\n",
       "        0.37504801, -0.94375094, -0.97903555, -0.98825621,  0.90112073,\n",
       "        0.97611233, -0.79113082,  0.91378959, -0.86735084, -0.58230126,\n",
       "        0.64834621,  0.97685173, -0.32675715, -0.43108732,  0.56744268,\n",
       "        0.53264414, -0.8496853 ,  0.93305002,  0.95755535,  0.98529897,\n",
       "        0.97451005, -0.9718253 ,  0.98844533,  0.40871067,  0.9840928 ,\n",
       "        0.85395834,  0.98715191, -0.96049917,  0.77124787, -0.80152179,\n",
       "        0.61966176,  0.87847858,  0.95830282, -0.96833219,  0.54347656,\n",
       "        0.03658874, -0.8089526 , -0.96874268, -0.8478915 ,  0.95072413,\n",
       "       -0.97671676,  0.92543656, -0.97763337,  0.98277797, -0.99151967,\n",
       "       -0.97763337,  0.94860841,  0.92028268,  0.92880858,  0.49635619,\n",
       "        0.55850311,  0.98276488, -0.98657306,  0.98614951, -0.96825641,\n",
       "        0.94901823, -0.97314694, -0.98158444,  0.46170701, -0.94401394,\n",
       "       -0.9479798 , -0.99360906, -0.97174216,  0.97112148,  0.39543034,\n",
       "       -0.97019733,  0.94128669,  0.91979811, -0.51093553, -0.97571557,\n",
       "        0.34884509,  0.82188793,  0.89827932,  0.47908963, -0.80501847,\n",
       "       -0.86427609, -0.94597489,  0.25882158, -0.87370573,  0.52040038,\n",
       "       -0.87105656,  0.78482922, -0.83650923,  0.97244541, -0.91318976,\n",
       "       -0.94418885, -0.97167995, -0.84326107,  0.8982766 , -0.97585276,\n",
       "       -0.98745589, -0.50689481,  0.98236145,  0.8681274 , -0.94821889,\n",
       "        0.45015457, -0.97657497, -0.98247375, -0.69319568,  0.84868281,\n",
       "        0.86756539, -0.79259904, -0.82740449, -0.93613492, -0.77744186,\n",
       "        0.46704255, -0.52423043,  0.6662471 , -0.93127227, -0.98326546,\n",
       "       -0.97600597,  0.94816558,  0.9796808 ,  0.15237395, -0.39182831,\n",
       "       -0.94187123, -0.91283034,  0.99166508, -0.68145973,  0.97375962,\n",
       "        0.84734786, -0.61164264, -0.95317793, -0.01100118, -0.99671534,\n",
       "        0.47501916, -0.93557983, -0.81901615,  0.97923858, -0.68195977,\n",
       "        0.6904637 ,  0.9112893 ,  0.86927762,  0.98002932,  0.68521196,\n",
       "        0.9740573 ,  0.97398709,  0.91956757, -0.63497519, -0.90502627,\n",
       "        0.99425497,  0.52838924, -0.93647035,  0.88171351,  0.56981422,\n",
       "       -0.33485006, -0.9164024 , -0.93598709, -0.986282  ,  0.97884975,\n",
       "        0.98589113,  0.96512874, -0.98059278, -0.9714632 , -0.98950683,\n",
       "        0.86813817, -0.97774154, -0.9912141 ,  0.89810996, -0.99107045,\n",
       "        0.58868088,  0.97609969, -0.71428188,  0.8027266 ,  0.89750315,\n",
       "       -0.21055523,  0.92715248, -0.96201931, -0.97597297, -0.88046665,\n",
       "       -0.98331697,  0.70027261, -0.95455645, -0.98111383, -0.40146227,\n",
       "        0.96543256,  0.97187311, -0.11735153, -0.97705899,  0.96878889,\n",
       "       -0.95696738, -0.93790088,  0.82487552,  0.95572727, -0.96622396,\n",
       "        0.96777185,  0.84539773, -0.93221723,  0.7193814 ,  0.89773481,\n",
       "       -0.97687145, -0.91712817, -0.97872941, -0.94479727,  0.98408261,\n",
       "        0.98524771,  0.96500415,  0.97908442, -0.88984577, -0.98964281,\n",
       "       -0.93741639, -0.28778287,  0.94987108,  0.08825481, -0.67759174,\n",
       "        0.96372674, -0.91308209,  0.0661427 ,  0.98525886, -0.99233448,\n",
       "       -0.84803376,  0.95492101, -0.99179163,  0.98414389, -0.98895347,\n",
       "        0.97700087,  0.99369804,  0.25086463,  0.95857813, -0.95387281,\n",
       "        0.84940006,  0.98772148, -0.99218717,  0.98989313, -0.95784254,\n",
       "       -0.86527281,  0.80949609,  0.91052451,  0.75942607,  0.93351699,\n",
       "        0.93164922,  0.90130451, -0.09330915,  0.96526662, -0.78005558,\n",
       "       -0.62782926,  0.97469632,  0.63082017,  0.916592  ,  0.49438865,\n",
       "        0.03334873,  0.90452874, -0.56065634, -0.89037489, -0.95615221,\n",
       "        0.92976833, -0.96207011, -0.82454745,  0.92745611, -0.98514007,\n",
       "        0.94658764,  0.97665715, -0.85470674, -0.96730715,  0.55735921,\n",
       "       -0.61946447, -0.98459261,  0.99134216,  0.22914402,  0.89887348,\n",
       "        0.97843612, -0.94581766,  0.95358474, -0.98562874, -0.96660712,\n",
       "        0.91348596, -0.65632065, -0.95959818, -0.9531924 , -0.9819982 ,\n",
       "        0.96136287, -0.96712085,  0.78442985,  0.78464403,  0.53350381,\n",
       "        0.91403949, -0.6842214 ,  0.95813874,  0.23193611,  0.08226379,\n",
       "        0.45639359,  0.95999149,  0.70177011, -0.75963612, -0.06772416,\n",
       "        0.60192985,  0.71386545,  0.94554032,  0.90610545,  0.93761154,\n",
       "        0.97080057, -0.02301618, -0.23572238, -0.97465548, -0.98044272,\n",
       "        0.95410057,  0.94554028, -0.86458991,  0.98419401, -0.44368636,\n",
       "       -0.9589098 , -0.98887139, -0.17526906, -0.26722014,  0.75378799,\n",
       "        0.84490269,  0.98184692, -0.98295054,  0.51898704,  0.89137351,\n",
       "        0.53815441, -0.11535068, -0.97465548,  0.96714633, -0.89780861,\n",
       "       -0.97710138, -0.97234116,  0.93233744, -0.71183023, -0.95353212,\n",
       "       -0.98850965, -0.97480034, -0.93952614, -0.95219064,  0.9348399 ,\n",
       "       -0.93822669, -0.83857453,  0.94355343, -0.02022628,  0.95751999,\n",
       "       -0.33321361, -0.7307096 , -0.68750874, -0.98985039, -0.11881246,\n",
       "       -0.69062754,  0.97395347, -0.95977002,  0.53276324, -0.98256435,\n",
       "        0.92344626,  0.7628679 ,  0.60881956, -0.99293343, -0.91365759,\n",
       "        0.96997182, -0.86414662,  0.94095358,  0.97780684, -0.12327047,\n",
       "        0.70854607, -0.8995558 ,  0.19874109,  0.86889033,  0.98040448,\n",
       "       -0.97390313, -0.8648481 , -0.92076372,  0.94688078,  0.05941158,\n",
       "       -0.09445244,  0.0043424 ,  0.41300316, -0.29812848,  0.66338267,\n",
       "        0.98676027,  0.95845716, -0.96217031,  0.77059393,  0.72041097,\n",
       "        0.96889396,  0.9732254 , -0.78842041,  0.98867509,  0.94853104,\n",
       "        0.95224636,  0.0284029 ,  0.86261016,  0.97500677,  0.97500679,\n",
       "       -0.73222088,  0.50236069, -0.9652788 ,  0.98265881,  0.02831622,\n",
       "        0.92651483,  0.03294787,  0.97476259,  0.95511502,  0.96313407,\n",
       "       -0.88559385, -0.57602369,  0.87695659,  0.15360242, -0.34066481,\n",
       "        0.98296962,  0.97965926,  0.60913607,  0.91765016,  0.95123404,\n",
       "        0.5821629 , -0.12287096,  0.87687663,  0.96633835,  0.00730477,\n",
       "       -0.88272947, -0.13421606, -0.50012225, -0.30194762, -0.94713448,\n",
       "        0.96641576,  0.90285728,  0.92680675,  0.30272808, -0.91808295,\n",
       "       -0.89205297, -0.83609632, -0.98812252,  0.90679526,  0.94062056,\n",
       "        0.36746254,  0.96735307,  0.99575468,  0.42557418, -0.89051546,\n",
       "       -0.90057541, -0.26492425, -0.53531211, -0.94480355, -0.8924934 ,\n",
       "       -0.3108659 , -0.04169971, -0.02409095, -0.51679303, -0.30033749,\n",
       "       -0.01616557, -0.01455016,  0.97153407, -0.31650587, -0.91332889,\n",
       "        0.89335981, -0.91764691, -0.6925769 ,  0.72311394, -0.96355944,\n",
       "       -0.90501619, -0.25829799, -0.23559966,  0.9479832 ,  0.90692374,\n",
       "        0.19161957, -0.23381024, -0.6491241 , -0.55942531,  0.06585427,\n",
       "       -0.62540903, -0.63996997,  0.68399142, -0.78075243,  0.99444447,\n",
       "       -0.27765784,  0.93494584,  0.86805043,  0.94125083, -0.20863684,\n",
       "        0.5498827 ,  0.95165453, -0.97280793, -0.99486572, -0.98310463,\n",
       "       -0.68016057,  0.59772816, -0.19690139, -0.16801659,  0.51051344,\n",
       "       -0.43983048, -0.17907507, -0.88835965, -0.62150425, -0.98015368,\n",
       "       -0.94598846,  0.00811942, -0.1685836 , -0.96986128,  0.96350241,\n",
       "        0.94024809,  0.97668256,  0.69992779, -0.02515008, -0.93987008,\n",
       "       -0.89560968, -0.30035681, -0.30040102,  0.46332597, -0.87369051,\n",
       "       -0.29779145, -0.61321992, -0.89727775, -0.5817486 ,  0.96747312,\n",
       "       -0.75486496, -0.50555725, -0.9087932 , -0.11858963,  0.96888375,\n",
       "        0.2388739 , -0.97637574, -0.03551817, -0.97405334, -0.99089314,\n",
       "        0.99442247,  0.41874654, -0.75160641, -0.31931289,  0.78096899,\n",
       "        0.41191218])"
      ]
     },
     "execution_count": 39,
     "metadata": {},
     "output_type": "execute_result"
    }
   ],
   "source": [
    "# These are correlations of all the other products with the product ('6117036094')\n",
    "# that we assumed the customer has purchased\n",
    "\n",
    "correlation_product_ID"
   ]
  },
  {
   "cell_type": "code",
   "execution_count": 44,
   "metadata": {},
   "outputs": [
    {
     "data": {
      "text/plain": [
       "['0733001998',\n",
       " '1304196070',\n",
       " '1304351475',\n",
       " '1304622622',\n",
       " '1451646526',\n",
       " '1457982633',\n",
       " '1987958179',\n",
       " '3292000971',\n",
       " '3423470476',\n",
       " '4057362843']"
      ]
     },
     "execution_count": 44,
     "metadata": {},
     "output_type": "execute_result"
    }
   ],
   "source": [
    "# Recommending top 10 highly correlated products (with more than 0.90 correlation with the purchased product '6117036094')\n",
    "# in sequence (the above matrix correlation_product_ID)\n",
    "\n",
    "Recommend = list(ratings_utility_matrix.index[correlation_product_ID > 0.90])\n",
    "\n",
    "# Removes the item already bought by the customer\n",
    "Recommend.remove(i) \n",
    "\n",
    "Recommend[0:10]"
   ]
  },
  {
   "cell_type": "code",
   "execution_count": null,
   "metadata": {},
   "outputs": [],
   "source": [
    "# The above are the Top 10 items/products that are similar to the product already bought by the customer\n",
    "# Here are the top 10 products to be displayed by the recommendation system to the above customer based on the \n",
    "# purchase history of other customers in the website."
   ]
  },
  {
   "cell_type": "code",
   "execution_count": null,
   "metadata": {},
   "outputs": [],
   "source": []
  },
  {
   "cell_type": "markdown",
   "metadata": {},
   "source": [
    "### Recommendation System - Part III\n",
    "\n",
    "- For a business without any user-item purchase history, a search engine based recommendation system can be designed for users. \n",
    "- The product recommendations can be based on textual clustering analysis given in product description.\n",
    "\n",
    "Dataset : Home Depot's dataset with product dataset."
   ]
  },
  {
   "cell_type": "code",
   "execution_count": 47,
   "metadata": {},
   "outputs": [],
   "source": [
    "# Importing libraries\n",
    "\n",
    "from sklearn.feature_extraction.text import TfidfVectorizer, CountVectorizer\n",
    "from sklearn.neighbors import NearestNeighbors\n",
    "from sklearn.cluster import KMeans\n",
    "from sklearn.metrics import adjusted_rand_score"
   ]
  },
  {
   "cell_type": "markdown",
   "metadata": {},
   "source": [
    "##### Item to item based recommendation system based on product description\n",
    "\n",
    "Applicable when business is setting up its e-commerce website for the first time"
   ]
  },
  {
   "cell_type": "code",
   "execution_count": 48,
   "metadata": {},
   "outputs": [],
   "source": [
    "product_desc = pd.read_csv(\"C:/Users/mncedisi.mncwabe/Videos/Practice/Recommender system/product_descriptions.csv\")"
   ]
  },
  {
   "cell_type": "code",
   "execution_count": 49,
   "metadata": {},
   "outputs": [
    {
     "data": {
      "text/html": [
       "<div>\n",
       "<style scoped>\n",
       "    .dataframe tbody tr th:only-of-type {\n",
       "        vertical-align: middle;\n",
       "    }\n",
       "\n",
       "    .dataframe tbody tr th {\n",
       "        vertical-align: top;\n",
       "    }\n",
       "\n",
       "    .dataframe thead th {\n",
       "        text-align: right;\n",
       "    }\n",
       "</style>\n",
       "<table border=\"1\" class=\"dataframe\">\n",
       "  <thead>\n",
       "    <tr style=\"text-align: right;\">\n",
       "      <th></th>\n",
       "      <th>product_uid</th>\n",
       "      <th>product_description</th>\n",
       "    </tr>\n",
       "  </thead>\n",
       "  <tbody>\n",
       "    <tr>\n",
       "      <th>0</th>\n",
       "      <td>100001</td>\n",
       "      <td>Not only do angles make joints stronger, they ...</td>\n",
       "    </tr>\n",
       "    <tr>\n",
       "      <th>1</th>\n",
       "      <td>100002</td>\n",
       "      <td>BEHR Premium Textured DECKOVER is an innovativ...</td>\n",
       "    </tr>\n",
       "    <tr>\n",
       "      <th>2</th>\n",
       "      <td>100003</td>\n",
       "      <td>Classic architecture meets contemporary design...</td>\n",
       "    </tr>\n",
       "    <tr>\n",
       "      <th>3</th>\n",
       "      <td>100004</td>\n",
       "      <td>The Grape Solar 265-Watt Polycrystalline PV So...</td>\n",
       "    </tr>\n",
       "    <tr>\n",
       "      <th>4</th>\n",
       "      <td>100005</td>\n",
       "      <td>Update your bathroom with the Delta Vero Singl...</td>\n",
       "    </tr>\n",
       "  </tbody>\n",
       "</table>\n",
       "</div>"
      ],
      "text/plain": [
       "   product_uid                                product_description\n",
       "0       100001  Not only do angles make joints stronger, they ...\n",
       "1       100002  BEHR Premium Textured DECKOVER is an innovativ...\n",
       "2       100003  Classic architecture meets contemporary design...\n",
       "3       100004  The Grape Solar 265-Watt Polycrystalline PV So...\n",
       "4       100005  Update your bathroom with the Delta Vero Singl..."
      ]
     },
     "execution_count": 49,
     "metadata": {},
     "output_type": "execute_result"
    }
   ],
   "source": [
    "product_desc.head()"
   ]
  },
  {
   "cell_type": "code",
   "execution_count": 50,
   "metadata": {},
   "outputs": [
    {
     "data": {
      "text/plain": [
       "(124428, 2)"
      ]
     },
     "execution_count": 50,
     "metadata": {},
     "output_type": "execute_result"
    }
   ],
   "source": [
    "product_desc.shape"
   ]
  },
  {
   "cell_type": "code",
   "execution_count": 51,
   "metadata": {},
   "outputs": [
    {
     "data": {
      "text/plain": [
       "product_uid            0.0\n",
       "product_description    0.0\n",
       "dtype: float64"
      ]
     },
     "execution_count": 51,
     "metadata": {},
     "output_type": "execute_result"
    }
   ],
   "source": [
    "product_desc.isnull().sum()/len(product_desc)*100"
   ]
  },
  {
   "cell_type": "code",
   "execution_count": null,
   "metadata": {},
   "outputs": [],
   "source": []
  }
 ],
 "metadata": {
  "kernelspec": {
   "display_name": "Python 3",
   "language": "python",
   "name": "python3"
  },
  "language_info": {
   "codemirror_mode": {
    "name": "ipython",
    "version": 3
   },
   "file_extension": ".py",
   "mimetype": "text/x-python",
   "name": "python",
   "nbconvert_exporter": "python",
   "pygments_lexer": "ipython3",
   "version": "3.7.6"
  }
 },
 "nbformat": 4,
 "nbformat_minor": 4
}
