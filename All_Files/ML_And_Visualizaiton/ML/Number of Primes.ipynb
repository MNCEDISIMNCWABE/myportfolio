{
 "cells": [
  {
   "cell_type": "code",
   "execution_count": 1,
   "id": "a75f861f",
   "metadata": {},
   "outputs": [
    {
     "name": "stdout",
     "output_type": "stream",
     "text": [
      "\n",
      "n: 15\n",
      "number of groups: 3\n",
      "[[13, 2], [11, 3], [7, 5]]\n",
      "done in 0:00:00\n",
      "\n",
      "n: 20\n",
      "number of groups: 4\n",
      "[[19], [17, 3], [13, 7], [11, 5, 2]]\n",
      "done in 0:00:00\n",
      "\n",
      "n: 100\n",
      "number of groups: 11\n",
      "[[97, 3], [89, 11], [83, 17], [79, 19, 2], [73, 23], [71, 29], [67, 31], [61, 37], [59, 41], [53, 47], [43, 13, 7, 5]]\n",
      "done in 0:00:00\n",
      "\n",
      "n: 300\n",
      "number of groups: 28\n",
      "[[293, 7], [283, 17], [281, 19], [277, 23], [271, 29], [269, 31], [263, 37], [257, 43], [251, 47, 2], [241, 59], [239, 61], [233, 67], [229, 71], [227, 73], [223, 53, 13, 11], [211, 89], [199, 101], [197, 103], [193, 107], [191, 109], [181, 113, 5], [179, 97, 3], [173, 127], [167, 131], [163, 137], [157, 139], [151, 149], [83, 79, 41]]\n",
      "done in 0:00:00.000996\n"
     ]
    }
   ],
   "source": [
    "import enum\n",
    "from matplotlib.pyplot import get\n",
    "import numpy as np \n",
    "\n",
    "from numpy import random\n",
    "from datetime import datetime as dt\n",
    "\n",
    "def is_prime(n):\n",
    "    for i in range(2, n):\n",
    "        if n % i == 0:\n",
    "            return False\n",
    "\n",
    "    return True\n",
    "\n",
    "def get_primes(n):\n",
    "    primes = [2]\n",
    "\n",
    "    for i in range(3, n, 2):\n",
    "        if is_prime(i):\n",
    "            primes.append(i)\n",
    "\n",
    "    return primes\n",
    "\n",
    "def group_vals(primes, n):\n",
    "    groups = [[primes.pop()]]\n",
    "    \n",
    "    for val in reversed(primes):\n",
    "\n",
    "        for g in groups:\n",
    "            if sum(g + [val]) <= n:\n",
    "                g.append(val)\n",
    "                break\n",
    "        else:\n",
    "            groups.append([val])\n",
    "\n",
    "        primes = [p for p in primes if p != val]      \n",
    "    \n",
    "    return groups\n",
    "\n",
    "def get_groups(n):\n",
    "    start = dt.now()\n",
    "    primes = get_primes(n)\n",
    "    groups = group_vals(primes, n)\n",
    "    print(f'''\n",
    "n: {n}\n",
    "number of groups: {len(groups)}\n",
    "{groups}''')\n",
    "    print(f'done in {dt.now() - start}')\n",
    "\n",
    "if __name__ == '__main__':\n",
    "    vals = [15, 20, 100, 300]\n",
    "\n",
    "    for v in vals:\n",
    "        get_groups(v)"
   ]
  },
  {
   "cell_type": "code",
   "execution_count": null,
   "id": "fe9787da",
   "metadata": {},
   "outputs": [],
   "source": []
  }
 ],
 "metadata": {
  "kernelspec": {
   "display_name": "Python 3 (ipykernel)",
   "language": "python",
   "name": "python3"
  },
  "language_info": {
   "codemirror_mode": {
    "name": "ipython",
    "version": 3
   },
   "file_extension": ".py",
   "mimetype": "text/x-python",
   "name": "python",
   "nbconvert_exporter": "python",
   "pygments_lexer": "ipython3",
   "version": "3.9.12"
  }
 },
 "nbformat": 4,
 "nbformat_minor": 5
}
