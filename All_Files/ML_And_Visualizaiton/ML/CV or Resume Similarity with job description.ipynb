{
 "cells": [
  {
   "cell_type": "code",
   "execution_count": 6,
   "id": "6c02b21b",
   "metadata": {},
   "outputs": [],
   "source": [
    "import textract\n",
    "import PyPDF2\n",
    "import docx2txt\n",
    "import docx\n",
    "\n",
    "from os import listdir\n",
    "from os.path import isfile, join\n",
    "from io import StringIO\n",
    "import pandas as pd\n",
    "from collections import Counter\n",
    "import en_core_web_sm\n",
    "nlp = en_core_web_sm.load()\n",
    "from spacy.matcher import PhraseMatcher\n",
    "from spacy.pipeline import EntityRuler\n",
    "from spacy import displacy\n",
    "import jsonlines"
   ]
  },
  {
   "cell_type": "code",
   "execution_count": 40,
   "id": "954961d0",
   "metadata": {},
   "outputs": [],
   "source": [
    "# store resume and job description in a variable\n",
    "resume = docx2txt.process('C:/Users/mncedisi.mncwabe/Documents/My Documents/My Documents/resume/Mncedisi_Mncwabe_CV.docx')\n",
    "\n",
    "job_description = docx2txt.process('C:/Users/mncedisi.mncwabe/Documents/My Documents/My Documents/resume/job_description.docx')"
   ]
  },
  {
   "cell_type": "code",
   "execution_count": 41,
   "id": "56d359a8",
   "metadata": {},
   "outputs": [],
   "source": [
    "#vectors to compare (resume and job description)\n",
    "text = [resume, job_description]"
   ]
  },
  {
   "cell_type": "code",
   "execution_count": 42,
   "id": "a7b58531",
   "metadata": {},
   "outputs": [],
   "source": [
    "from sklearn.feature_extraction.text import CountVectorizer\n",
    "cv = CountVectorizer()\n",
    "count_matrix = cv.fit_transform(text)"
   ]
  },
  {
   "cell_type": "code",
   "execution_count": 43,
   "id": "bcc290bf",
   "metadata": {},
   "outputs": [
    {
     "name": "stdout",
     "output_type": "stream",
     "text": [
      "\n",
      "Similarity Scores\n",
      "[[1.         0.74901043]\n",
      " [0.74901043 1.        ]]\n"
     ]
    }
   ],
   "source": [
    "from sklearn.metrics.pairwise import cosine_similarity\n",
    "\n",
    "# get similarity scores of the resume to the job descrition\n",
    "  # below means the resume is 74% similar to the job description\n",
    "print(\"\\nSimilarity Scores\")\n",
    "print(cosine_similarity(count_matrix))"
   ]
  },
  {
   "cell_type": "code",
   "execution_count": 44,
   "id": "706b4bdd",
   "metadata": {},
   "outputs": [
    {
     "name": "stdout",
     "output_type": "stream",
     "text": [
      "Your resume matches about 74.9% of the job description.\n"
     ]
    }
   ],
   "source": [
    "match_percentage = round(cosine_similarity(count_matrix)[0][1]*100,2)\n",
    "print(\"Your resume matches about \" + str(match_percentage)+ \"% of the job description.\")"
   ]
  },
  {
   "cell_type": "code",
   "execution_count": 45,
   "id": "cc50768e",
   "metadata": {},
   "outputs": [
    {
     "data": {
      "text/html": [
       "<div>\n",
       "<style scoped>\n",
       "    .dataframe tbody tr th:only-of-type {\n",
       "        vertical-align: middle;\n",
       "    }\n",
       "\n",
       "    .dataframe tbody tr th {\n",
       "        vertical-align: top;\n",
       "    }\n",
       "\n",
       "    .dataframe thead th {\n",
       "        text-align: right;\n",
       "    }\n",
       "</style>\n",
       "<table border=\"1\" class=\"dataframe\">\n",
       "  <thead>\n",
       "    <tr style=\"text-align: right;\">\n",
       "      <th></th>\n",
       "      <th>00</th>\n",
       "      <th>071</th>\n",
       "      <th>15</th>\n",
       "      <th>200</th>\n",
       "      <th>2016</th>\n",
       "      <th>2017</th>\n",
       "      <th>2018</th>\n",
       "      <th>2019</th>\n",
       "      <th>2020</th>\n",
       "      <th>2021</th>\n",
       "      <th>...</th>\n",
       "      <th>workflows</th>\n",
       "      <th>working</th>\n",
       "      <th>would</th>\n",
       "      <th>wrangling</th>\n",
       "      <th>writing</th>\n",
       "      <th>year</th>\n",
       "      <th>years</th>\n",
       "      <th>you</th>\n",
       "      <th>young</th>\n",
       "      <th>your</th>\n",
       "    </tr>\n",
       "  </thead>\n",
       "  <tbody>\n",
       "    <tr>\n",
       "      <th>resume</th>\n",
       "      <td>0</td>\n",
       "      <td>1</td>\n",
       "      <td>0</td>\n",
       "      <td>1</td>\n",
       "      <td>1</td>\n",
       "      <td>1</td>\n",
       "      <td>1</td>\n",
       "      <td>3</td>\n",
       "      <td>3</td>\n",
       "      <td>2</td>\n",
       "      <td>...</td>\n",
       "      <td>1</td>\n",
       "      <td>0</td>\n",
       "      <td>0</td>\n",
       "      <td>0</td>\n",
       "      <td>0</td>\n",
       "      <td>2</td>\n",
       "      <td>0</td>\n",
       "      <td>0</td>\n",
       "      <td>1</td>\n",
       "      <td>0</td>\n",
       "    </tr>\n",
       "    <tr>\n",
       "      <th>job_description</th>\n",
       "      <td>1</td>\n",
       "      <td>0</td>\n",
       "      <td>1</td>\n",
       "      <td>1</td>\n",
       "      <td>0</td>\n",
       "      <td>0</td>\n",
       "      <td>1</td>\n",
       "      <td>0</td>\n",
       "      <td>0</td>\n",
       "      <td>0</td>\n",
       "      <td>...</td>\n",
       "      <td>0</td>\n",
       "      <td>6</td>\n",
       "      <td>1</td>\n",
       "      <td>1</td>\n",
       "      <td>1</td>\n",
       "      <td>3</td>\n",
       "      <td>1</td>\n",
       "      <td>11</td>\n",
       "      <td>0</td>\n",
       "      <td>4</td>\n",
       "    </tr>\n",
       "  </tbody>\n",
       "</table>\n",
       "<p>2 rows × 762 columns</p>\n",
       "</div>"
      ],
      "text/plain": [
       "                 00  071  15  200  2016  2017  2018  2019  2020  2021  ...  \\\n",
       "resume            0    1   0    1     1     1     1     3     3     2  ...   \n",
       "job_description   1    0   1    1     0     0     1     0     0     0  ...   \n",
       "\n",
       "                 workflows  working  would  wrangling  writing  year  years  \\\n",
       "resume                   1        0      0          0        0     2      0   \n",
       "job_description          0        6      1          1        1     3      1   \n",
       "\n",
       "                 you  young  your  \n",
       "resume             0      1     0  \n",
       "job_description   11      0     4  \n",
       "\n",
       "[2 rows x 762 columns]"
      ]
     },
     "execution_count": 45,
     "metadata": {},
     "output_type": "execute_result"
    }
   ],
   "source": [
    "# OPTIONAL: Convert Sparse Matrix to Pandas Dataframe to see the word frequencies.\n",
    "doc_term_matrix = count_matrix.todense()\n",
    "df = pd.DataFrame(doc_term_matrix, columns=cv.get_feature_names(), index=['resume', 'job_description'])\n",
    "df.head()"
   ]
  },
  {
   "cell_type": "code",
   "execution_count": null,
   "id": "30acdf68",
   "metadata": {},
   "outputs": [],
   "source": []
  }
 ],
 "metadata": {
  "kernelspec": {
   "display_name": "Python 3 (ipykernel)",
   "language": "python",
   "name": "python3"
  },
  "language_info": {
   "codemirror_mode": {
    "name": "ipython",
    "version": 3
   },
   "file_extension": ".py",
   "mimetype": "text/x-python",
   "name": "python",
   "nbconvert_exporter": "python",
   "pygments_lexer": "ipython3",
   "version": "3.9.12"
  }
 },
 "nbformat": 4,
 "nbformat_minor": 5
}
