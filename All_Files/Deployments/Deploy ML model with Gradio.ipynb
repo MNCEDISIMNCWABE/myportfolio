{
 "cells": [
  {
   "cell_type": "code",
   "execution_count": 27,
   "id": "0d90e770",
   "metadata": {},
   "outputs": [],
   "source": [
    "#Imports\n",
    "import numpy as np\n",
    "import pandas as pd\n",
    "import matplotlib.pyplot as plt\n",
    "from matplotlib.ticker import PercentFormatter\n",
    "import seaborn as sns\n",
    "import datetime as dt\n",
    "import pickle\n",
    "import gradio as gr\n",
    "import time\n",
    "from datetime import date, timedelta\n",
    "from sklearn.preprocessing import StandardScaler\n",
    "from tqdm import tqdm\n",
    "%matplotlib inline\n",
    "\n",
    "from google.oauth2.service_account import Credentials\n",
    "import logging\n",
    "\n",
    "from oauth2client.service_account import ServiceAccountCredentials\n",
    "\n",
    "logging.basicConfig(format='%(asctime)s : %(levelname)s : %(message)s', level=logging.ERROR)\n",
    "import warnings\n",
    "warnings.filterwarnings(\"ignore\",category=DeprecationWarning)\n",
    "warnings.simplefilter(action='ignore', category=FutureWarning)\n",
    "warnings.filterwarnings(\"ignore\")\n",
    "\n",
    "import sqlalchemy as db\n",
    "from sqlalchemy import create_engine\n",
    "import mysql.connector\n",
    "import psycopg2\n",
    "\n",
    "from powerbiclient import Report, models\n",
    "from powerbiclient.authentication import MasterUserAuthentication\n",
    "from powerbiclient.authentication import ServicePrincipalAuthentication\n",
    "from powerbiclient.authentication import DeviceCodeLoginAuthentication\n",
    "from powerbiclient.authentication import InteractiveLoginAuthentication\n",
    "from io import StringIO\n",
    "import ipywidgets\n",
    "from ipywidgets import interact\n",
    "import requests"
   ]
  },
  {
   "cell_type": "code",
   "execution_count": 13,
   "id": "d910550e",
   "metadata": {},
   "outputs": [
    {
     "data": {
      "text/html": [
       "<div>\n",
       "<style scoped>\n",
       "    .dataframe tbody tr th:only-of-type {\n",
       "        vertical-align: middle;\n",
       "    }\n",
       "\n",
       "    .dataframe tbody tr th {\n",
       "        vertical-align: top;\n",
       "    }\n",
       "\n",
       "    .dataframe thead th {\n",
       "        text-align: right;\n",
       "    }\n",
       "</style>\n",
       "<table border=\"1\" class=\"dataframe\">\n",
       "  <thead>\n",
       "    <tr style=\"text-align: right;\">\n",
       "      <th></th>\n",
       "      <th>Age</th>\n",
       "      <th>Income</th>\n",
       "      <th>Expense</th>\n",
       "    </tr>\n",
       "  </thead>\n",
       "  <tbody>\n",
       "    <tr>\n",
       "      <th>0</th>\n",
       "      <td>25</td>\n",
       "      <td>40000.0</td>\n",
       "      <td>20000</td>\n",
       "    </tr>\n",
       "    <tr>\n",
       "      <th>1</th>\n",
       "      <td>26</td>\n",
       "      <td>35000.0</td>\n",
       "      <td>18000</td>\n",
       "    </tr>\n",
       "    <tr>\n",
       "      <th>2</th>\n",
       "      <td>27</td>\n",
       "      <td>90000.0</td>\n",
       "      <td>60000</td>\n",
       "    </tr>\n",
       "    <tr>\n",
       "      <th>3</th>\n",
       "      <td>32</td>\n",
       "      <td>70000.0</td>\n",
       "      <td>28000</td>\n",
       "    </tr>\n",
       "    <tr>\n",
       "      <th>4</th>\n",
       "      <td>31</td>\n",
       "      <td>75000.0</td>\n",
       "      <td>32000</td>\n",
       "    </tr>\n",
       "  </tbody>\n",
       "</table>\n",
       "</div>"
      ],
      "text/plain": [
       "   Age   Income  Expense\n",
       "0   25  40000.0    20000\n",
       "1   26  35000.0    18000\n",
       "2   27  90000.0    60000\n",
       "3   32  70000.0    28000\n",
       "4   31  75000.0    32000"
      ]
     },
     "execution_count": 13,
     "metadata": {},
     "output_type": "execute_result"
    }
   ],
   "source": [
    "MyData = pd.read_csv('C:/Users/leemn/Downloads/deploy/Income_Expense_Data.csv')\n",
    "MyData.head()"
   ]
  },
  {
   "cell_type": "code",
   "execution_count": 14,
   "id": "a6186910",
   "metadata": {},
   "outputs": [],
   "source": [
    "MyData[\"Income\"].fillna((MyData[\"Income\"].median()), inplace = True)"
   ]
  },
  {
   "cell_type": "code",
   "execution_count": 15,
   "id": "f1db2614",
   "metadata": {},
   "outputs": [],
   "source": [
    "Age_col_df = pd.DataFrame(MyData['Age'])\n",
    "Age_median = Age_col_df.median()\n",
    "\n",
    "#getting IQR of Age column\n",
    "Q3 = Age_col_df.quantile(q=0.75)\n",
    "Q1 = Age_col_df.quantile(q=0.25)\n",
    "IQR = Q3-Q1\n",
    "\n",
    "#Deriving boundaries of Outliers\n",
    "IQR_LL = int(Q1 - 1.5*IQR)\n",
    "IQR_UL = int(Q3 + 1.5*IQR)\n",
    "\n",
    "#Finding and treating outliers - both lower and upper end\n",
    "MyData.loc[MyData['Age']>IQR_UL , 'Age'] = int(Age_col_df.quantile(q=0.99))\n",
    "MyData.loc[MyData['Age']<IQR_LL , 'Age'] = int(Age_col_df.quantile(q=0.01))"
   ]
  },
  {
   "cell_type": "code",
   "execution_count": 16,
   "id": "ce91cc8c",
   "metadata": {},
   "outputs": [
    {
     "data": {
      "text/plain": [
       "<matplotlib.collections.PathCollection at 0x2ad51a94ca0>"
      ]
     },
     "execution_count": 16,
     "metadata": {},
     "output_type": "execute_result"
    },
    {
     "data": {
      "image/png": "[encoded data removed]",
      "text/plain": [
       "<Figure size 432x288 with 1 Axes>"
      ]
     },
     "metadata": {
      "needs_background": "light"
     },
     "output_type": "display_data"
    }
   ],
   "source": [
    "x = MyData[\"Income\"]\n",
    "y=  MyData[\"Expense\"]\n",
    "\n",
    "\n",
    "plt.scatter(x, y, label=\"Income Expense\")"
   ]
  },
  {
   "cell_type": "code",
   "execution_count": 17,
   "id": "6da70197",
   "metadata": {},
   "outputs": [
    {
     "data": {
      "text/plain": [
       "<AxesSubplot:>"
      ]
     },
     "execution_count": 17,
     "metadata": {},
     "output_type": "execute_result"
    },
    {
     "data": {
      "image/png": "[encoded data removed]",
      "text/plain": [
       "<Figure size 576x288 with 2 Axes>"
      ]
     },
     "metadata": {
      "needs_background": "light"
     },
     "output_type": "display_data"
    }
   ],
   "source": [
    "#check correltion matrix - to check the strength of variation bwtween two variables\n",
    "correlation_matrix= MyData.corr().round(2)\n",
    "f, ax = plt.subplots(figsize =(8, 4)) \n",
    "import seaborn as sns\n",
    "sns.heatmap(data=correlation_matrix, annot=True)"
   ]
  },
  {
   "cell_type": "code",
   "execution_count": 18,
   "id": "599dc404",
   "metadata": {},
   "outputs": [
    {
     "data": {
      "text/plain": [
       "array([[0.        , 0.09090909, 0.18367347],\n",
       "       [0.01098901, 0.        , 0.14285714],\n",
       "       [0.02197802, 1.        , 1.        ],\n",
       "       [0.07692308, 0.63636364, 0.34693878],\n",
       "       [0.06593407, 0.72727273, 0.42857143],\n",
       "       [0.05494505, 0.65454545, 0.3877551 ],\n",
       "       [0.24175824, 0.63636364, 0.28571429],\n",
       "       [1.        , 0.74545455, 0.3877551 ],\n",
       "       [0.26373626, 0.38181818, 0.10204082],\n",
       "       [0.32967033, 0.58181818, 0.18367347],\n",
       "       [0.31868132, 0.81818182, 0.26530612],\n",
       "       [0.34065934, 0.92727273, 0.28571429],\n",
       "       [0.38461538, 0.38181818, 0.08163265],\n",
       "       [0.40659341, 0.14545455, 0.        ]])"
      ]
     },
     "execution_count": 18,
     "metadata": {},
     "output_type": "execute_result"
    }
   ],
   "source": [
    "################feature engineering#######################\n",
    "#Normalization/scaling of data - understanding scaling\n",
    "from sklearn.preprocessing import MinMaxScaler\n",
    "scaler = MinMaxScaler()\n",
    "scaled_data = scaler.fit_transform(MyData)\n",
    "scaled_data"
   ]
  },
  {
   "cell_type": "code",
   "execution_count": 19,
   "id": "dad71f40",
   "metadata": {},
   "outputs": [],
   "source": [
    "#converting data back to pandas dataframe\n",
    "MyData_scaled = pd.DataFrame(scaled_data)\n",
    "MyData_scaled.columns = [\"Age\",\"Income\",\"Expense\"]"
   ]
  },
  {
   "cell_type": "code",
   "execution_count": 20,
   "id": "ba19b45e",
   "metadata": {},
   "outputs": [],
   "source": [
    "#Separating features and response\n",
    "features = [\"Income\",\"Age\"]\n",
    "response = [\"Expense\"]\n",
    "X = MyData_scaled[features]\n",
    "y = MyData_scaled[response]"
   ]
  },
  {
   "cell_type": "code",
   "execution_count": 21,
   "id": "e7689ed1",
   "metadata": {},
   "outputs": [],
   "source": [
    "#Importing neccesary packages\n",
    "from sklearn.linear_model import LinearRegression\n",
    "from sklearn import metrics\n",
    "from sklearn.model_selection import train_test_split"
   ]
  },
  {
   "cell_type": "code",
   "execution_count": 22,
   "id": "40072161",
   "metadata": {},
   "outputs": [],
   "source": [
    "#Dividing data in test and train\n",
    "\n",
    "X_train, X_test, y_train, y_test = train_test_split(X, y, test_size=0.2, random_state=0)"
   ]
  },
  {
   "cell_type": "code",
   "execution_count": 23,
   "id": "d5925175",
   "metadata": {},
   "outputs": [
    {
     "name": "stdout",
     "output_type": "stream",
     "text": [
      "67.82333705931673 %\n"
     ]
    }
   ],
   "source": [
    "#Fitting lineaar regression model\n",
    "model = LinearRegression()\n",
    "model.fit(X_train, y_train)\n",
    "accuracy = model.score(X_test,y_test)\n",
    "print(accuracy*100,'%')"
   ]
  },
  {
   "cell_type": "code",
   "execution_count": 24,
   "id": "fe3915d2",
   "metadata": {},
   "outputs": [],
   "source": [
    "#Dumping the model object\n",
    "import pickle\n",
    "pickle.dump(model, open('expense_pred.pkl','wb'))"
   ]
  },
  {
   "cell_type": "code",
   "execution_count": 25,
   "id": "47fabab5",
   "metadata": {},
   "outputs": [
    {
     "name": "stdout",
     "output_type": "stream",
     "text": [
      "[[17711.51531007]]\n"
     ]
    }
   ],
   "source": [
    "#Reloading the model object\n",
    "expense_pred = pickle.load(open('expense_pred.pkl','rb'))\n",
    "print(model.predict([[30000, 24]]))"
   ]
  },
  {
   "cell_type": "markdown",
   "id": "6d2dae52",
   "metadata": {},
   "source": [
    "## Deploy model using Gradio"
   ]
  },
  {
   "cell_type": "code",
   "execution_count": 31,
   "id": "8b72d61c",
   "metadata": {},
   "outputs": [
    {
     "name": "stdout",
     "output_type": "stream",
     "text": [
      "Running on local URL:  http://127.0.0.1:7869/\n",
      "\n",
      "To create a public link, set `share=True` in `launch()`.\n"
     ]
    },
    {
     "data": {
      "text/html": [
       "<div><iframe src=\"http://127.0.0.1:7869/\" width=\"900\" height=\"500\" allow=\"autoplay; camera; microphone;\" frameborder=\"0\" allowfullscreen></iframe></div>"
      ],
      "text/plain": [
       "<IPython.core.display.HTML object>"
      ]
     },
     "metadata": {},
     "output_type": "display_data"
    },
    {
     "data": {
      "text/plain": [
       "(<gradio.routes.App at 0x2ad52043df0>, 'http://127.0.0.1:7869/', None)"
      ]
     },
     "execution_count": 31,
     "metadata": {},
     "output_type": "execute_result"
    }
   ],
   "source": [
    "def predict_expense(income, age):\n",
    "    \"\"\"\n",
    "    Predict someone's expense based on age and income.\n",
    "    This function uses a pickled scikitlearn model to predict the expense.\n",
    "    The output is a predicted expense.\n",
    "    \"\"\"\n",
    "    # Load the model\n",
    "    expense_pred = pickle.load(open(\"expense_pred.pkl\", \"rb\"))\n",
    "    # Predict the expense\n",
    "    expense = expense_pred.predict([[income, age]])\n",
    "    # Return the expense\n",
    "    return expense\n",
    "\n",
    "\n",
    "app = gr.Interface(\n",
    "    predict_expense,\n",
    "    inputs=[\n",
    "        gr.Number(value=2000, label=\"Income\"),\n",
    "        gr.Number(value=21, label=\"Age\"),\n",
    "    ],\n",
    "    outputs=[gr.Text(label=\"Expense\")],\n",
    ")\n",
    "\n",
    "app.launch()\n",
    "#app.launch(share=True) - to share it publicly - public for 72hours"
   ]
  },
  {
   "cell_type": "code",
   "execution_count": null,
   "id": "86f74e2b",
   "metadata": {},
   "outputs": [],
   "source": []
  }
 ],
 "metadata": {
  "kernelspec": {
   "display_name": "Python 3 (ipykernel)",
   "language": "python",
   "name": "python3"
  },
  "language_info": {
   "codemirror_mode": {
    "name": "ipython",
    "version": 3
   },
   "file_extension": ".py",
   "mimetype": "text/x-python",
   "name": "python",
   "nbconvert_exporter": "python",
   "pygments_lexer": "ipython3",
   "version": "3.9.12"
  }
 },
 "nbformat": 4,
 "nbformat_minor": 5
}
