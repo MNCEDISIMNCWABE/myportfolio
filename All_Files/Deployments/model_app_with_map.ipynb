{
 "cells": [
  {
   "cell_type": "code",
   "execution_count": null,
   "id": "498601f0",
   "metadata": {},
   "outputs": [],
   "source": [
    "import streamlit as st\n",
    "import pandas as pd\n",
    "import folium\n",
    "from streamlit_folium import st_folium\n",
    "from model_with_map import cluster_data\n",
    "\n",
    "# Add a title to the app\n",
    "st.title(\"Route Planning App\")\n",
    "\n",
    "# Create a file uploader component in Streamlit\n",
    "file = st.file_uploader(\"Upload a CSV file with order addresses or geocoordinates\")\n",
    "\n",
    "# Accept user input for n_clusters and max_weight\n",
    "n_clusters = st.slider(\"Number of clusters\", min_value=1, max_value=10000, value=50)\n",
    "max_weight = st.slider(\"Maximum stops per cluster\", min_value=1, max_value=10000, value=28)\n",
    "\n",
    "# If a file is uploaded, cluster the data and display the results\n",
    "if file is not None:\n",
    "    # Call the cluster_data function with the user input arguments\n",
    "    data, m = cluster_data(file, n_clusters, max_weight)\n",
    "    \n",
    "    # Display the data with the cluster labels\n",
    "    st.write(\"Clustered Data:\")\n",
    "    st.write(data)\n",
    "    \n",
    "    # Display the folium map\n",
    "    st.write(\"Cluster Map:\")\n",
    "    st_folium(m, width = 1000)\n",
    "else:\n",
    "    st.write(\"Please upload a file to begin clustering.\")"
   ]
  }
 ],
 "metadata": {
  "kernelspec": {
   "display_name": "Python 3 (ipykernel)",
   "language": "python",
   "name": "python3"
  },
  "language_info": {
   "codemirror_mode": {
    "name": "ipython",
    "version": 3
   },
   "file_extension": ".py",
   "mimetype": "text/x-python",
   "name": "python",
   "nbconvert_exporter": "python",
   "pygments_lexer": "ipython3",
   "version": "3.9.12"
  }
 },
 "nbformat": 4,
 "nbformat_minor": 5
}
