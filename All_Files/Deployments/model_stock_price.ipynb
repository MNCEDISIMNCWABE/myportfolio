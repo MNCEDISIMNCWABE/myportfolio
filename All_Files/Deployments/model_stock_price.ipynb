{
 "cells": [
  {
   "cell_type": "code",
   "execution_count": 3,
   "id": "6ef79dfc",
   "metadata": {},
   "outputs": [],
   "source": [
    "import pandas as pd\n",
    "import numpy as np\n",
    "from datetime import datetime\n",
    "import yfinance as yf\n",
    "from prophet import Prophet\n",
    "import plotly\n",
    "from prophet.plot import plot_plotly\n",
    "import plotly.graph_objs as go\n",
    "import matplotlib.pyplot as plt\n",
    "\n",
    "def get_model(ticker):\n",
    "    # Use yf.Ticker to get historical data\n",
    "    ticker_obj = yf.Ticker(ticker)\n",
    "    data = ticker_obj.history(period='max', interval='1d')[['Close']]\n",
    "    data = data.rename(columns={'Close': 'y'})\n",
    "    data.columns = ['y']\n",
    "    data['ds'] = data.index\n",
    "    data['y'] = data['y']/100\n",
    "\n",
    "    # Convert timezone-aware column to timezone-naive column\n",
    "    data['ds'] = data['ds'].dt.tz_localize(None)\n",
    "\n",
    "    # Fit a Prophet model to the data\n",
    "    model = Prophet(interval_width=0.95,\n",
    "                    changepoint_prior_scale=0.5,\n",
    "                    seasonality_prior_scale=0.01\n",
    "                    #seasonality_mode='additive'\n",
    "                    )\n",
    "    model.fit(data)\n",
    "\n",
    "    return model\n",
    "\n",
    "\n",
    "def run_prophet(model, start_date, end_date):\n",
    "    # Make future dataframe for prediction date range\n",
    "    future = model.make_future_dataframe(periods=(end_date - start_date).days + 1, include_history=False)\n",
    "\n",
    "    # Make prediction\n",
    "    forecast = model.predict(future)\n",
    "\n",
    "    # Filter prediction for selected date range\n",
    "    forecast = forecast[(forecast['ds'] >= pd.to_datetime(start_date)) & (forecast['ds'] <= pd.to_datetime(end_date))]\n",
    "\n",
    "    # Merge with original data to get the actual values\n",
    "    data = model.history[['ds', 'y']]\n",
    "    data = data[(data['ds'] >= pd.to_datetime(start_date)) & (data['ds'] <= pd.to_datetime(end_date))]\n",
    "    forecast = pd.merge(forecast, data, on='ds', how='left')\n",
    "    \n",
    "    return forecast[['ds', 'yhat', 'yhat_lower', 'yhat_upper']]"
   ]
  }
 ],
 "metadata": {
  "kernelspec": {
   "display_name": "Python 3 (ipykernel)",
   "language": "python",
   "name": "python3"
  },
  "language_info": {
   "codemirror_mode": {
    "name": "ipython",
    "version": 3
   },
   "file_extension": ".py",
   "mimetype": "text/x-python",
   "name": "python",
   "nbconvert_exporter": "python",
   "pygments_lexer": "ipython3",
   "version": "3.9.12"
  }
 },
 "nbformat": 4,
 "nbformat_minor": 5
}
