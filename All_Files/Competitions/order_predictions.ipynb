{
 "cells": [
  {
   "cell_type": "markdown",
   "metadata": {},
   "source": [
    "### Rohlik Orders Forecasting Challenge\n",
    "#### Use historical data to predict customer orders\n",
    "\n",
    "\n",
    "### Overview\n",
    "Rohlik Group, a leading European e-grocery innovator, is revolutionising the food retail industry. We operate across 11 warehouses in Czech Republic, Germany, Austria, Hungary, and Romania.\n",
    "Our challenge focuses on predicting the number of orders (grocery deliveries) at selected warehouses for the next 60 days."
   ]
  },
  {
   "cell_type": "code",
   "execution_count": 27,
   "metadata": {},
   "outputs": [],
   "source": [
    "# for analysis and data processing\n",
    "import pandas as pd\n",
    "import numpy as np\n",
    "import seaborn as sns\n",
    "import ppscore as pps\n",
    "import datetime as dt\n",
    "from datetime import date\n",
    "import matplotlib.pyplot as plt\n",
    "from IPython.display import display\n",
    "from sklearn.preprocessing import StandardScaler\n",
    "# for modelling\n",
    "from sklearn import metrics\n",
    "from sklearn.metrics import confusion_matrix, precision_score,classification_report, ConfusionMatrixDisplay\n",
    "from sklearn.model_selection import train_test_split, GridSearchCV, cross_val_score, StratifiedKFold, StratifiedShuffleSplit\n",
    "#from xgboost import XGBRegressor\n",
    "from sklearn.metrics import mean_absolute_percentage_error\n",
    "from sklearn.model_selection import train_test_split\n",
    "from sklearn.ensemble import RandomForestRegressor\n",
    "from sklearn.metrics import mean_squared_error\n",
    "from sklearn.metrics import mean_absolute_percentage_error\n",
    "from catboost import CatBoostRegressor\n",
    "from sklearn.preprocessing import LabelEncoder, OneHotEncoder, MinMaxScaler, StandardScaler\n",
    "from sklearn.pipeline import make_pipeline\n",
    "from sklearn.model_selection import cross_val_score, KFold, GridSearchCV, train_test_split\n",
    "import plotly.express as px\n",
    "import math\n",
    "import warnings\n",
    "warnings.filterwarnings(\"ignore\")"
   ]
  },
  {
   "cell_type": "code",
   "execution_count": 8,
   "metadata": {},
   "outputs": [],
   "source": [
    "def read_data(path_to_csv_file):\n",
    "    '''\n",
    "    Reads csv files from specified paths\n",
    "\n",
    "    Parameters:\n",
    "            path to csv file locations\n",
    "    Returns:\n",
    "            dataframes of imported csv files\n",
    "    '''\n",
    "    # Read CSV files\n",
    "    df = pd.read_csv(path_to_csv_file)\n",
    "    \n",
    "    return df\n",
    "\n",
    "# call the function to import train data - update with relevant paths\n",
    "df_train = read_data('/Users/mncedisimncwabe/Downloads/rohlik-orders-forecasting-challenge/train.csv')\n",
    "df_test = read_data('/Users/mncedisimncwabe/Downloads/rohlik-orders-forecasting-challenge/test.csv')\n",
    "train_calendar = read_data('/Users/mncedisimncwabe/Downloads/rohlik-orders-forecasting-challenge/train_calendar.csv')\n",
    "test_calendar = read_data('/Users/mncedisimncwabe/Downloads/rohlik-orders-forecasting-challenge/test_calendar.csv')\n"
   ]
  },
  {
   "cell_type": "code",
   "execution_count": 9,
   "metadata": {},
   "outputs": [],
   "source": [
    "df_train['set'] = 'train'\n",
    "df_test['set'] = 'test'\n",
    "df = pd.concat([df_train, df_test])"
   ]
  },
  {
   "cell_type": "code",
   "execution_count": 10,
   "metadata": {},
   "outputs": [],
   "source": [
    "df[\"date\"] = pd.to_datetime(df[\"date\"])\n",
    "df[\"day\"] = df[\"date\"].dt.strftime(\"%A\")\n",
    "df[\"month\"] = df[\"date\"].dt.month\n",
    "df[\"year\"] = df[\"date\"].dt.year\n",
    "df[\"is_weekend\"] = \"No\"\n",
    "df.loc[(df[\"day\"] == \"Saturday\"), \"is_weekend\"] = \"Yes\"\n",
    "df.loc[(df[\"day\"] == \"Sunday\"), \"is_weekend\"] = \"Yes\"\n",
    "df[\"time_since\"] = (df[\"date\"]-df[\"date\"].min()).dt.days\n",
    "df['cum_time_since'] = df['time_since'].cumsum()\n",
    "df['week_of_year'] = df[\"date\"].apply(lambda x: x.weekofyear)\n",
    "df['quarter'] = df[\"date\"].apply(lambda x: x.quarter)\n",
    "df[\"month\"] = df[\"month\"].astype(str)\n",
    "df[\"week_of_year\"] = df[\"week_of_year\"].astype(int)\n",
    "df[\"quarter\"] = df[\"quarter\"].astype(str)\n",
    "df[\"month_start\"] = df[\"date\"].dt.is_month_start.astype(int)\n",
    "df[\"month_end\"] = df[\"date\"].dt.is_month_end.astype(int)"
   ]
  },
  {
   "cell_type": "code",
   "execution_count": 11,
   "metadata": {},
   "outputs": [],
   "source": [
    "def add_season(num):\n",
    "    if num in [3 ,4, 5]:\n",
    "        return \"Spring\"\n",
    "    elif num in [6, 7, 8]:\n",
    "        return \"Summer\"\n",
    "    elif num in [9, 10, 11]:\n",
    "        return \"Fall\"\n",
    "    else:\n",
    "        return \"winter\"\n",
    "    \n",
    "df[\"season\"] = df[\"month\"].apply(add_season)"
   ]
  },
  {
   "cell_type": "code",
   "execution_count": 12,
   "metadata": {},
   "outputs": [],
   "source": [
    "## fill missing value in holiday name with no holiday \n",
    "df['holiday_name'] = df['holiday_name'].fillna('no_holiday')"
   ]
  },
  {
   "cell_type": "code",
   "execution_count": 13,
   "metadata": {},
   "outputs": [],
   "source": [
    "## Fill in the missing values ​​in snow feature with the average value of the month to which the value belongs.\n",
    "snow_dict = df.groupby('month')['snow'].mean()\n",
    "\n",
    "def fill_missing_snow(row):\n",
    "    if pd.isna(row['snow']):\n",
    "        return snow_dict[row['month']]\n",
    "    else:\n",
    "        return row['snow']\n",
    "        \n",
    "df['snow'] = df.apply(fill_missing_snow, axis=1)"
   ]
  },
  {
   "cell_type": "code",
   "execution_count": 14,
   "metadata": {},
   "outputs": [],
   "source": [
    "## Fill in the missing values ​​in precipitation feature with the average value of the month to which the value belongs.\n",
    "\n",
    "precipitation_dict = df.groupby('month')['precipitation'].mean()\n",
    "\n",
    "def fill_missing_precipitation(row):\n",
    "    if pd.isna(row['precipitation']):\n",
    "        return precipitation_dict[row['month']]\n",
    "    else:\n",
    "        return row['precipitation']\n",
    "        \n",
    "df['precipitation'] = df.apply(fill_missing_precipitation, axis=1)"
   ]
  },
  {
   "cell_type": "code",
   "execution_count": 15,
   "metadata": {},
   "outputs": [],
   "source": [
    "## note: i try use this feature by do shifting but i dont get good score with this way\n",
    "cols_to_lags = [col for col in df.columns if df[col].isnull().sum()>0]\n",
    "cols_to_lags.remove('orders')\n",
    "df.drop(cols_to_lags, axis=1, inplace=True)"
   ]
  },
  {
   "cell_type": "code",
   "execution_count": 16,
   "metadata": {},
   "outputs": [],
   "source": [
    "df.reset_index(inplace=True, drop=True)"
   ]
  },
  {
   "cell_type": "code",
   "execution_count": 17,
   "metadata": {},
   "outputs": [
    {
     "data": {
      "text/html": [
       "<div>\n",
       "<style scoped>\n",
       "    .dataframe tbody tr th:only-of-type {\n",
       "        vertical-align: middle;\n",
       "    }\n",
       "\n",
       "    .dataframe tbody tr th {\n",
       "        vertical-align: top;\n",
       "    }\n",
       "\n",
       "    .dataframe thead th {\n",
       "        text-align: right;\n",
       "    }\n",
       "</style>\n",
       "<table border=\"1\" class=\"dataframe\">\n",
       "  <thead>\n",
       "    <tr style=\"text-align: right;\">\n",
       "      <th></th>\n",
       "      <th>warehouse</th>\n",
       "      <th>date</th>\n",
       "      <th>orders</th>\n",
       "      <th>holiday_name</th>\n",
       "      <th>holiday</th>\n",
       "      <th>shops_closed</th>\n",
       "      <th>winter_school_holidays</th>\n",
       "      <th>school_holidays</th>\n",
       "      <th>precipitation</th>\n",
       "      <th>snow</th>\n",
       "      <th>...</th>\n",
       "      <th>month</th>\n",
       "      <th>year</th>\n",
       "      <th>is_weekend</th>\n",
       "      <th>time_since</th>\n",
       "      <th>cum_time_since</th>\n",
       "      <th>week_of_year</th>\n",
       "      <th>quarter</th>\n",
       "      <th>month_start</th>\n",
       "      <th>month_end</th>\n",
       "      <th>season</th>\n",
       "    </tr>\n",
       "  </thead>\n",
       "  <tbody>\n",
       "    <tr>\n",
       "      <th>0</th>\n",
       "      <td>Prague_1</td>\n",
       "      <td>2020-12-05</td>\n",
       "      <td>6895.0</td>\n",
       "      <td>no_holiday</td>\n",
       "      <td>0</td>\n",
       "      <td>0</td>\n",
       "      <td>0</td>\n",
       "      <td>0</td>\n",
       "      <td>0.0</td>\n",
       "      <td>0.0</td>\n",
       "      <td>...</td>\n",
       "      <td>12</td>\n",
       "      <td>2020</td>\n",
       "      <td>Yes</td>\n",
       "      <td>0</td>\n",
       "      <td>0</td>\n",
       "      <td>49</td>\n",
       "      <td>4</td>\n",
       "      <td>0</td>\n",
       "      <td>0</td>\n",
       "      <td>winter</td>\n",
       "    </tr>\n",
       "    <tr>\n",
       "      <th>1</th>\n",
       "      <td>Prague_1</td>\n",
       "      <td>2020-12-06</td>\n",
       "      <td>6584.0</td>\n",
       "      <td>no_holiday</td>\n",
       "      <td>0</td>\n",
       "      <td>0</td>\n",
       "      <td>0</td>\n",
       "      <td>0</td>\n",
       "      <td>0.0</td>\n",
       "      <td>0.0</td>\n",
       "      <td>...</td>\n",
       "      <td>12</td>\n",
       "      <td>2020</td>\n",
       "      <td>Yes</td>\n",
       "      <td>1</td>\n",
       "      <td>1</td>\n",
       "      <td>49</td>\n",
       "      <td>4</td>\n",
       "      <td>0</td>\n",
       "      <td>0</td>\n",
       "      <td>winter</td>\n",
       "    </tr>\n",
       "    <tr>\n",
       "      <th>2</th>\n",
       "      <td>Prague_1</td>\n",
       "      <td>2020-12-07</td>\n",
       "      <td>7030.0</td>\n",
       "      <td>no_holiday</td>\n",
       "      <td>0</td>\n",
       "      <td>0</td>\n",
       "      <td>0</td>\n",
       "      <td>0</td>\n",
       "      <td>0.0</td>\n",
       "      <td>0.0</td>\n",
       "      <td>...</td>\n",
       "      <td>12</td>\n",
       "      <td>2020</td>\n",
       "      <td>No</td>\n",
       "      <td>2</td>\n",
       "      <td>3</td>\n",
       "      <td>50</td>\n",
       "      <td>4</td>\n",
       "      <td>0</td>\n",
       "      <td>0</td>\n",
       "      <td>winter</td>\n",
       "    </tr>\n",
       "    <tr>\n",
       "      <th>3</th>\n",
       "      <td>Prague_1</td>\n",
       "      <td>2020-12-08</td>\n",
       "      <td>6550.0</td>\n",
       "      <td>no_holiday</td>\n",
       "      <td>0</td>\n",
       "      <td>0</td>\n",
       "      <td>0</td>\n",
       "      <td>0</td>\n",
       "      <td>0.8</td>\n",
       "      <td>0.0</td>\n",
       "      <td>...</td>\n",
       "      <td>12</td>\n",
       "      <td>2020</td>\n",
       "      <td>No</td>\n",
       "      <td>3</td>\n",
       "      <td>6</td>\n",
       "      <td>50</td>\n",
       "      <td>4</td>\n",
       "      <td>0</td>\n",
       "      <td>0</td>\n",
       "      <td>winter</td>\n",
       "    </tr>\n",
       "    <tr>\n",
       "      <th>4</th>\n",
       "      <td>Prague_1</td>\n",
       "      <td>2020-12-09</td>\n",
       "      <td>6910.0</td>\n",
       "      <td>no_holiday</td>\n",
       "      <td>0</td>\n",
       "      <td>0</td>\n",
       "      <td>0</td>\n",
       "      <td>0</td>\n",
       "      <td>0.5</td>\n",
       "      <td>0.0</td>\n",
       "      <td>...</td>\n",
       "      <td>12</td>\n",
       "      <td>2020</td>\n",
       "      <td>No</td>\n",
       "      <td>4</td>\n",
       "      <td>10</td>\n",
       "      <td>50</td>\n",
       "      <td>4</td>\n",
       "      <td>0</td>\n",
       "      <td>0</td>\n",
       "      <td>winter</td>\n",
       "    </tr>\n",
       "  </tbody>\n",
       "</table>\n",
       "<p>5 rows × 23 columns</p>\n",
       "</div>"
      ],
      "text/plain": [
       "  warehouse       date  orders holiday_name  holiday  shops_closed  \\\n",
       "0  Prague_1 2020-12-05  6895.0   no_holiday        0             0   \n",
       "1  Prague_1 2020-12-06  6584.0   no_holiday        0             0   \n",
       "2  Prague_1 2020-12-07  7030.0   no_holiday        0             0   \n",
       "3  Prague_1 2020-12-08  6550.0   no_holiday        0             0   \n",
       "4  Prague_1 2020-12-09  6910.0   no_holiday        0             0   \n",
       "\n",
       "   winter_school_holidays  school_holidays  precipitation  snow  ... month  \\\n",
       "0                       0                0            0.0   0.0  ...    12   \n",
       "1                       0                0            0.0   0.0  ...    12   \n",
       "2                       0                0            0.0   0.0  ...    12   \n",
       "3                       0                0            0.8   0.0  ...    12   \n",
       "4                       0                0            0.5   0.0  ...    12   \n",
       "\n",
       "   year is_weekend time_since  cum_time_since week_of_year  quarter  \\\n",
       "0  2020        Yes          0               0           49        4   \n",
       "1  2020        Yes          1               1           49        4   \n",
       "2  2020         No          2               3           50        4   \n",
       "3  2020         No          3               6           50        4   \n",
       "4  2020         No          4              10           50        4   \n",
       "\n",
       "   month_start  month_end  season  \n",
       "0            0          0  winter  \n",
       "1            0          0  winter  \n",
       "2            0          0  winter  \n",
       "3            0          0  winter  \n",
       "4            0          0  winter  \n",
       "\n",
       "[5 rows x 23 columns]"
      ]
     },
     "execution_count": 17,
     "metadata": {},
     "output_type": "execute_result"
    }
   ],
   "source": [
    "df.head()"
   ]
  },
  {
   "cell_type": "code",
   "execution_count": 18,
   "metadata": {},
   "outputs": [],
   "source": [
    "df_new = df.copy()"
   ]
  },
  {
   "cell_type": "code",
   "execution_count": 19,
   "metadata": {},
   "outputs": [],
   "source": [
    "one_hot_cols = ['holiday_name', 'is_weekend', 'day', 'year', 'season', 'quarter'] \n",
    "\n",
    "encoded = pd.get_dummies(df_new[one_hot_cols], drop_first=True)\n",
    "df_new = pd.concat([df_new, encoded], axis=1)\n",
    "df_new.drop(columns=one_hot_cols, inplace=True) "
   ]
  },
  {
   "cell_type": "code",
   "execution_count": 20,
   "metadata": {},
   "outputs": [],
   "source": [
    "df_new.drop('month', axis=1, inplace=True) # delete the month give us a better score "
   ]
  },
  {
   "cell_type": "code",
   "execution_count": 22,
   "metadata": {},
   "outputs": [
    {
     "name": "stdout",
     "output_type": "stream",
     "text": [
      "Prague_1: 0.04382982401522946\n",
      "Brno_1: 0.03862986803796035\n",
      "Prague_2: 0.037411500910134524\n",
      "Prague_3: 0.04339211230981668\n",
      "Munich_1: 0.1075922698511162\n",
      "Frankfurt_1: 0.044378538356116166\n",
      "Budapest_1: 0.023429042460005253\n"
     ]
    }
   ],
   "source": [
    "submission = pd.DataFrame({'id': [], 'orders':[], 'warehouse':[],'date':[]})\n",
    "models = {}\n",
    "MAPE_scores = {}\n",
    "\n",
    "for warehouse in df['warehouse'].unique():\n",
    "    train = df_new[(df_new['set']=='train') & (df_new['warehouse']==warehouse) & (df_new['date']<='2024-01-15')]\n",
    "    val = df_new[(df_new['set']=='train') & (df_new['warehouse']==warehouse) & (df_new['date']>'2024-01-15')]\n",
    "    test = df_new[(df_new['set']=='test') & (df_new['warehouse']==warehouse)]\n",
    "    # split data to X and Y\n",
    "    X_train = train.drop(['orders', 'set', 'id', 'warehouse', 'date'], axis=1)\n",
    "    y_train = train['orders']\n",
    "    X_val = val.drop(['orders', 'set', 'id', 'warehouse', 'date'], axis=1)\n",
    "    y_val = val['orders']\n",
    "    X_test = test.drop(['orders', 'set', 'id', 'warehouse', 'date'], axis=1)\n",
    "    \n",
    "    # fit model\n",
    "    model = CatBoostRegressor(verbose=0)\n",
    "    #model = XGBRegressor()\n",
    "    model.fit(X_train, y_train)\n",
    "    # predict y_val_pre \n",
    "    y_val_pre = model.predict(X_val)\n",
    "\n",
    "    # save and print score\n",
    "    MAPE_scores[warehouse]= mean_absolute_percentage_error(y_val , y_val_pre)\n",
    "    print(f'{warehouse}: {MAPE_scores[warehouse]}')\n",
    "\n",
    "    # fit model with all train data\n",
    "    train_full = df_new[(df_new['set']=='train') & (df_new['warehouse']==warehouse)]\n",
    "    X_full_train = train_full.drop(['orders', 'set', 'id', 'warehouse', 'date'], axis=1)\n",
    "    y_full_train = train_full['orders']\n",
    "    model.fit(X_full_train, y_full_train)\n",
    "    \n",
    "    # predict y_test for submission\n",
    "    preds = model.predict(X_test)\n",
    "    sub = pd.DataFrame({'id': test['id'].values, 'orders':preds, 'warehouse': warehouse, 'date':test['date'].values})\n",
    "    submission = pd.concat([submission, sub])\n",
    "    models[warehouse] = model\n"
   ]
  },
  {
   "cell_type": "code",
   "execution_count": 23,
   "metadata": {},
   "outputs": [
    {
     "name": "stdout",
     "output_type": "stream",
     "text": [
      "\n",
      "the mean of score is 0.04838045084862552\n"
     ]
    }
   ],
   "source": [
    "# public submission score is 0.0468\n",
    "print(f'\\nthe mean of score is {np.mean(np.array(list(MAPE_scores.values())))}')"
   ]
  },
  {
   "cell_type": "code",
   "execution_count": 24,
   "metadata": {},
   "outputs": [
    {
     "data": {
      "text/html": [
       "<div>\n",
       "<style scoped>\n",
       "    .dataframe tbody tr th:only-of-type {\n",
       "        vertical-align: middle;\n",
       "    }\n",
       "\n",
       "    .dataframe tbody tr th {\n",
       "        vertical-align: top;\n",
       "    }\n",
       "\n",
       "    .dataframe thead th {\n",
       "        text-align: right;\n",
       "    }\n",
       "</style>\n",
       "<table border=\"1\" class=\"dataframe\">\n",
       "  <thead>\n",
       "    <tr style=\"text-align: right;\">\n",
       "      <th></th>\n",
       "      <th>id</th>\n",
       "      <th>orders</th>\n",
       "      <th>warehouse</th>\n",
       "      <th>date</th>\n",
       "    </tr>\n",
       "  </thead>\n",
       "  <tbody>\n",
       "    <tr>\n",
       "      <th>0</th>\n",
       "      <td>Prague_1_2024-03-16</td>\n",
       "      <td>10735.828485</td>\n",
       "      <td>Prague_1</td>\n",
       "      <td>2024-03-16</td>\n",
       "    </tr>\n",
       "    <tr>\n",
       "      <th>1</th>\n",
       "      <td>Prague_1_2024-03-17</td>\n",
       "      <td>10626.529895</td>\n",
       "      <td>Prague_1</td>\n",
       "      <td>2024-03-17</td>\n",
       "    </tr>\n",
       "    <tr>\n",
       "      <th>2</th>\n",
       "      <td>Prague_1_2024-03-18</td>\n",
       "      <td>10156.709556</td>\n",
       "      <td>Prague_1</td>\n",
       "      <td>2024-03-18</td>\n",
       "    </tr>\n",
       "    <tr>\n",
       "      <th>3</th>\n",
       "      <td>Prague_1_2024-03-19</td>\n",
       "      <td>9921.026605</td>\n",
       "      <td>Prague_1</td>\n",
       "      <td>2024-03-19</td>\n",
       "    </tr>\n",
       "    <tr>\n",
       "      <th>4</th>\n",
       "      <td>Prague_1_2024-03-20</td>\n",
       "      <td>9872.255836</td>\n",
       "      <td>Prague_1</td>\n",
       "      <td>2024-03-20</td>\n",
       "    </tr>\n",
       "  </tbody>\n",
       "</table>\n",
       "</div>"
      ],
      "text/plain": [
       "                    id        orders warehouse       date\n",
       "0  Prague_1_2024-03-16  10735.828485  Prague_1 2024-03-16\n",
       "1  Prague_1_2024-03-17  10626.529895  Prague_1 2024-03-17\n",
       "2  Prague_1_2024-03-18  10156.709556  Prague_1 2024-03-18\n",
       "3  Prague_1_2024-03-19   9921.026605  Prague_1 2024-03-19\n",
       "4  Prague_1_2024-03-20   9872.255836  Prague_1 2024-03-20"
      ]
     },
     "execution_count": 24,
     "metadata": {},
     "output_type": "execute_result"
    }
   ],
   "source": [
    "submission.head()"
   ]
  },
  {
   "cell_type": "code",
   "execution_count": 25,
   "metadata": {},
   "outputs": [
    {
     "data": {
      "text/plain": [
       "(397, 4)"
      ]
     },
     "execution_count": 25,
     "metadata": {},
     "output_type": "execute_result"
    }
   ],
   "source": [
    "submission.shape"
   ]
  },
  {
   "cell_type": "code",
   "execution_count": 26,
   "metadata": {},
   "outputs": [],
   "source": [
    "submission.reset_index(drop=True, inplace=True)\n",
    "submission[['id', 'orders']].to_csv('/Users/mncedisimncwabe/Downloads/order_predictions.csv',index=False)"
   ]
  },
  {
   "cell_type": "code",
   "execution_count": null,
   "metadata": {},
   "outputs": [],
   "source": []
  },
  {
   "cell_type": "code",
   "execution_count": null,
   "metadata": {},
   "outputs": [],
   "source": []
  },
  {
   "cell_type": "code",
   "execution_count": null,
   "metadata": {},
   "outputs": [],
   "source": []
  },
  {
   "cell_type": "code",
   "execution_count": null,
   "metadata": {},
   "outputs": [],
   "source": []
  },
  {
   "cell_type": "code",
   "execution_count": null,
   "metadata": {},
   "outputs": [],
   "source": []
  },
  {
   "cell_type": "code",
   "execution_count": null,
   "metadata": {},
   "outputs": [],
   "source": []
  },
  {
   "cell_type": "code",
   "execution_count": null,
   "metadata": {},
   "outputs": [],
   "source": []
  },
  {
   "cell_type": "code",
   "execution_count": null,
   "metadata": {},
   "outputs": [],
   "source": []
  },
  {
   "cell_type": "code",
   "execution_count": null,
   "metadata": {},
   "outputs": [],
   "source": []
  }
 ],
 "metadata": {
  "kernelspec": {
   "display_name": "Python 3",
   "language": "python",
   "name": "python3"
  },
  "language_info": {
   "codemirror_mode": {
    "name": "ipython",
    "version": 3
   },
   "file_extension": ".py",
   "mimetype": "text/x-python",
   "name": "python",
   "nbconvert_exporter": "python",
   "pygments_lexer": "ipython3",
   "version": "3.11.6"
  }
 },
 "nbformat": 4,
 "nbformat_minor": 2
}
