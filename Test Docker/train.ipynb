{
 "cells": [
  {
   "cell_type": "code",
   "execution_count": 2,
   "metadata": {},
   "outputs": [
    {
     "name": "stdout",
     "output_type": "stream",
     "text": [
      "Windows-10-10.0.22621-SP0\n",
      "Python 3.11.3 (tags/v3.11.3:f3909b8, Apr  4 2023, 23:49:59) [MSC v.1934 64 bit (AMD64)]\n",
      "NumPy 1.23.5\n",
      "SciPy 1.10.1\n"
     ]
    }
   ],
   "source": [
    "import platform; print(platform.platform())\n",
    "import sys; print(\"Python\", sys.version)\n",
    "import numpy; print(\"NumPy\", numpy.__version__)\n",
    "import scipy; print(\"SciPy\", scipy.__version__)\n",
    "\n",
    "import os\n",
    "import numpy as np\n",
    "from sklearn.discriminant_analysis import LinearDiscriminantAnalysis\n",
    "from sklearn.neural_network import MLPClassifier\n",
    "import pandas as pd\n",
    "from joblib import dump\n",
    "from sklearn import preprocessing"
   ]
  },
  {
   "cell_type": "code",
   "execution_count": 5,
   "metadata": {},
   "outputs": [
    {
     "name": "stdout",
     "output_type": "stream",
     "text": [
      "Shape of the training data\n",
      "(1300, 160)\n",
      "(1300,)\n"
     ]
    }
   ],
   "source": [
    "def train():\n",
    "\n",
    "    # Load directory paths for persisting model\n",
    "\n",
    "    #MODEL_DIR = os.environ[\"MODEL_DIR\"]\n",
    "    #MODEL_FILE_LDA = os.environ[\"MODEL_FILE_LDA\"]\n",
    "    #MODEL_FILE_NN = os.environ[\"MODEL_FILE_NN\"]\n",
    "    #MODEL_PATH_LDA = os.path.join(MODEL_DIR, MODEL_FILE_LDA)\n",
    "    #MODEL_PATH_NN = os.path.join(MODEL_DIR, MODEL_FILE_NN)\n",
    "      \n",
    "    # Load, read and normalize training data\n",
    "    training = \"C:/Users/leemn/Downloads/train.csv\"\n",
    "    data_train = pd.read_csv(training)\n",
    "        \n",
    "    y_train = data_train['# Letter'].values\n",
    "    X_train = data_train.drop(data_train.loc[:, 'Line':'# Letter'].columns, axis = 1)\n",
    "\n",
    "    print(\"Shape of the training data\")\n",
    "    print(X_train.shape)\n",
    "    print(y_train.shape)\n",
    "        \n",
    "    # Data normalization (0,1)\n",
    "    X_train = preprocessing.normalize(X_train, norm='l2')\n",
    "    \n",
    "    # Models training\n",
    "    \n",
    "    # Linear Discrimant Analysis (Default parameters)\n",
    "    clf_lda = LinearDiscriminantAnalysis()\n",
    "    clf_lda.fit(X_train, y_train)\n",
    "    \n",
    "    # Save model\n",
    "    from joblib import dump\n",
    "    dump(clf_lda, 'Inference_lda.joblib')\n",
    "        \n",
    "    # Neural Networks multi-layer perceptron (MLP) algorithm\n",
    "    clf_NN = MLPClassifier(solver='adam', activation='relu', alpha=0.0001, hidden_layer_sizes=(500,), random_state=0, max_iter=1000)\n",
    "    clf_NN.fit(X_train, y_train)\n",
    "       \n",
    "    # Secord model\n",
    "    from joblib import dump, load\n",
    "    dump(clf_NN, 'Inference_NN.joblib')\n",
    "        \n",
    "if __name__ == '__main__':\n",
    "    train()"
   ]
  },
  {
   "cell_type": "code",
   "execution_count": null,
   "metadata": {},
   "outputs": [],
   "source": []
  },
  {
   "cell_type": "code",
   "execution_count": null,
   "metadata": {},
   "outputs": [],
   "source": []
  }
 ],
 "metadata": {
  "kernelspec": {
   "display_name": "Python 3",
   "language": "python",
   "name": "python3"
  },
  "language_info": {
   "codemirror_mode": {
    "name": "ipython",
    "version": 3
   },
   "file_extension": ".py",
   "mimetype": "text/x-python",
   "name": "python",
   "nbconvert_exporter": "python",
   "pygments_lexer": "ipython3",
   "version": "3.11.3"
  }
 },
 "nbformat": 4,
 "nbformat_minor": 2
}
