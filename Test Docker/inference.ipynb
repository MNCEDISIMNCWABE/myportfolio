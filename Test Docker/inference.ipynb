{
 "cells": [
  {
   "cell_type": "code",
   "execution_count": 1,
   "metadata": {},
   "outputs": [
    {
     "name": "stdout",
     "output_type": "stream",
     "text": [
      "Windows-10-10.0.22621-SP0\n",
      "Python 3.11.3 (tags/v3.11.3:f3909b8, Apr  4 2023, 23:49:59) [MSC v.1934 64 bit (AMD64)]\n",
      "NumPy 1.23.5\n",
      "SciPy 1.10.1\n",
      "Shape of the test data\n",
      "(1300, 160)\n",
      "(1300,)\n",
      "Inference_lda.joblib\n",
      "LDA score and classification:\n",
      "0.6915384615384615\n",
      "[ 0  0  0 ... 25 25 25]\n",
      "NN score and classification:\n",
      "0.6615384615384615\n",
      "[ 0  0  0 ... 25 25 24]\n"
     ]
    }
   ],
   "source": [
    "\n",
    "import platform; print(platform.platform())\n",
    "import sys; print(\"Python\", sys.version)\n",
    "import numpy; print(\"NumPy\", numpy.__version__)\n",
    "import scipy; print(\"SciPy\", scipy.__version__)\n",
    "\n",
    "import os\n",
    "import numpy as np\n",
    "from sklearn.discriminant_analysis import LinearDiscriminantAnalysis\n",
    "from sklearn.neural_network import MLPClassifier\n",
    "import pandas as pd\n",
    "from joblib import load\n",
    "from sklearn import preprocessing\n",
    "\n",
    "\n",
    "\n",
    "def inference():\n",
    "\n",
    "    #MODEL_DIR = os.environ[\"MODEL_DIR\"]\n",
    "    #MODEL_FILE_LDA = os.environ[\"MODEL_FILE_LDA\"]\n",
    "    #MODEL_FILE_NN = os.environ[\"MODEL_FILE_NN\"]\n",
    "    #MODEL_PATH_LDA = os.path.join(MODEL_DIR, MODEL_FILE_LDA)\n",
    "    #MODEL_PATH_NN = os.path.join(MODEL_DIR, MODEL_FILE_NN)\n",
    "        \n",
    "    # Load, read and normalize training data\n",
    "    testing = \"C:/Users/leemn/Downloads/test.csv\"\n",
    "    data_test = pd.read_csv(testing)\n",
    "        \n",
    "    y_test = data_test['# Letter'].values\n",
    "    X_test = data_test.drop(data_test.loc[:, 'Line':'# Letter'].columns, axis = 1)\n",
    "   \n",
    "    print(\"Shape of the test data\")\n",
    "    print(X_test.shape)\n",
    "    print(y_test.shape)\n",
    "    \n",
    "    # Data normalization (0,1)\n",
    "    X_test = preprocessing.normalize(X_test, norm='l2')\n",
    "    \n",
    "    # Models training\n",
    "    \n",
    "    # Run model\n",
    "    print('Inference_lda.joblib')\n",
    "    clf_lda = load('Inference_lda.joblib')\n",
    "    print(\"LDA score and classification:\")\n",
    "    print(clf_lda.score(X_test, y_test))\n",
    "    print(clf_lda.predict(X_test))\n",
    "        \n",
    "    # Run model\n",
    "    clf_nn = load('Inference_NN.joblib')\n",
    "    print(\"NN score and classification:\")\n",
    "    print(clf_nn.score(X_test, y_test))\n",
    "    print(clf_nn.predict(X_test))\n",
    "    \n",
    "    \n",
    "if __name__ == '__main__':\n",
    "    inference()"
   ]
  },
  {
   "cell_type": "code",
   "execution_count": null,
   "metadata": {},
   "outputs": [],
   "source": []
  },
  {
   "cell_type": "code",
   "execution_count": null,
   "metadata": {},
   "outputs": [],
   "source": []
  }
 ],
 "metadata": {
  "kernelspec": {
   "display_name": "Python 3",
   "language": "python",
   "name": "python3"
  },
  "language_info": {
   "codemirror_mode": {
    "name": "ipython",
    "version": 3
   },
   "file_extension": ".py",
   "mimetype": "text/x-python",
   "name": "python",
   "nbconvert_exporter": "python",
   "pygments_lexer": "ipython3",
   "version": "3.11.3"
  }
 },
 "nbformat": 4,
 "nbformat_minor": 2
}
